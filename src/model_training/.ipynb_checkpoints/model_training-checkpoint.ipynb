{
 "cells": [
  {
   "cell_type": "code",
   "execution_count": 1,
   "metadata": {
    "id": "5iB8fV6iWeQs"
   },
   "outputs": [],
   "source": [
    "import pandas as pd\n",
    "import numpy as np\n",
    "import tensorflow as tf\n",
    "import matplotlib.pyplot as plt\n",
    "import os\n",
    "import re\n",
    "import glob\n",
    "import seaborn as sns\n",
    "from numpy import mean\n",
    "from numpy import std\n",
    "from scipy import stats\n",
    "from tensorflow import keras\n",
    "from tensorflow.keras import layers\n",
    "from keras.models import Sequential\n",
    "from keras.callbacks import History \n",
    "from keras.layers import Dense\n",
    "from keras.layers import Dropout\n",
    "from keras.layers import LSTM\n",
    "from keras.layers import ConvLSTM2D\n",
    "from keras.layers import Flatten\n",
    "from keras.optimizers import SGD\n",
    "from keras.utils.np_utils import to_categorical\n",
    "from sklearn import metrics\n",
    "from sklearn.metrics import classification_report"
   ]
  },
  {
   "cell_type": "markdown",
   "metadata": {
    "id": "1R0wTJdcZzA9"
   },
   "source": [
    "# Load Dataset\n",
    "\n",
    "Load Dataset, concatenate data and count Rows and Columns"
   ]
  },
  {
   "cell_type": "code",
   "execution_count": null,
   "metadata": {
    "colab": {
     "base_uri": "https://localhost:8080/"
    },
    "id": "uge8UaRLVvuT",
    "outputId": "47c9199f-9830-4afb-a45d-c51d6e413a8f"
   },
   "outputs": [
    {
     "name": "stdout",
     "output_type": "stream",
     "text": [
      "--2021-06-10 19:40:26--  https://github.com/cargilgar/Smart-Alarm-using-tinyML/raw/main/dataset/dataset-1-30.zip\n",
      "Resolving github.com (github.com)... 192.30.255.113\n",
      "Connecting to github.com (github.com)|192.30.255.113|:443... connected.\n",
      "HTTP request sent, awaiting response... 302 Found\n",
      "Location: https://raw.githubusercontent.com/cargilgar/Smart-Alarm-using-tinyML/main/dataset/dataset-1-30.zip [following]\n",
      "--2021-06-10 19:40:26--  https://raw.githubusercontent.com/cargilgar/Smart-Alarm-using-tinyML/main/dataset/dataset-1-30.zip\n",
      "Resolving raw.githubusercontent.com (raw.githubusercontent.com)... 185.199.108.133, 185.199.109.133, 185.199.110.133, ...\n",
      "Connecting to raw.githubusercontent.com (raw.githubusercontent.com)|185.199.108.133|:443... connected.\n",
      "HTTP request sent, awaiting response... 200 OK\n",
      "Length: 588851 (575K) [application/zip]\n",
      "Saving to: ‘dataset-1-30.zip’\n",
      "\n",
      "dataset-1-30.zip    100%[===================>] 575.05K  --.-KB/s    in 0.04s   \n",
      "\n",
      "2021-06-10 19:40:26 (13.9 MB/s) - ‘dataset-1-30.zip’ saved [588851/588851]\n",
      "\n",
      "Archive:  dataset-1-30.zip\n",
      "replace content/output/dataset_844359.csv? [y]es, [n]o, [A]ll, [N]one, [r]ename: "
     ]
    }
   ],
   "source": [
    "# Download dataset from Github and unzip\n",
    "!wget 'https://github.com/cargilgar/Smart-Alarm-using-tinyML/raw/main/dataset/dataset-1-60.zip'\n",
    "\n",
    "!unzip dataset-1-30.zip"
   ]
  },
  {
   "cell_type": "code",
   "execution_count": 3,
   "metadata": {
    "colab": {
     "base_uri": "https://localhost:8080/"
    },
    "id": "q_LRVocyimd2",
    "outputId": "15dd56e0-cbf4-47d3-819f-6350cf7f2514"
   },
   "outputs": [
    {
     "name": "stdout",
     "output_type": "stream",
     "text": [
      "Number of Rows: 51376\n",
      "Number of Columns: 6\n"
     ]
    }
   ],
   "source": [
    "#Create full dataframe with all subject csv's concatenated\n",
    "path = r'content/output/'\n",
    "all_files = glob.glob(path + \"/*.csv\")\n",
    "\n",
    "li = []\n",
    "\n",
    "for filename in all_files:\n",
    "    subject_csv = pd.read_csv(filename, index_col=None, header=0)\n",
    "    li.append(subject_csv)\n",
    "\n",
    "df = pd.concat(li, axis=0, ignore_index=True)\n",
    "\n",
    "for filename in all_files:\n",
    "    subject_csv = pd.read_csv(filename, index_col=None, header=0)\n",
    "    df.append(subject_csv)\n",
    "\n",
    "#Save big dataframe as CSV\n",
    "# df.to_csv('all_users_df.csv')\n",
    "\n",
    "#Rows and Columns\n",
    "total_rows=len(df.axes[0]) #===> Axes of 0 is for a row\n",
    "total_cols=len(df.axes[1]) #===> Axes of 1 is for a column\n",
    "print(\"Number of Rows: \", total_rows)\n",
    "print(\"Number of Columns: \", total_cols)\n",
    "\n",
    "df"
   ]
  },
  {
   "cell_type": "code",
   "execution_count": 4,
   "metadata": {
    "colab": {
     "base_uri": "https://localhost:8080/",
     "height": 422
    },
    "id": "bLWLWzEc_eMe",
    "outputId": "6a661ad7-17c4-43a2-f716-5ba122e8032d"
   },
   "outputs": [
    {
     "data": {
      "text/html": [
       "<div>\n",
       "<style scoped>\n",
       "    .dataframe tbody tr th:only-of-type {\n",
       "        vertical-align: middle;\n",
       "    }\n",
       "\n",
       "    .dataframe tbody tr th {\n",
       "        vertical-align: top;\n",
       "    }\n",
       "\n",
       "    .dataframe thead th {\n",
       "        text-align: right;\n",
       "    }\n",
       "</style>\n",
       "<table border=\"1\" class=\"dataframe\">\n",
       "  <thead>\n",
       "    <tr style=\"text-align: right;\">\n",
       "      <th></th>\n",
       "      <th>Unnamed: 0</th>\n",
       "      <th>Time</th>\n",
       "      <th>X</th>\n",
       "      <th>Y</th>\n",
       "      <th>Z</th>\n",
       "      <th>Heart Rate</th>\n",
       "      <th>Labels</th>\n",
       "    </tr>\n",
       "  </thead>\n",
       "  <tbody>\n",
       "    <tr>\n",
       "      <th>0</th>\n",
       "      <td>0</td>\n",
       "      <td>15.0</td>\n",
       "      <td>7.395462</td>\n",
       "      <td>0.310486</td>\n",
       "      <td>13.250366</td>\n",
       "      <td>66.750000</td>\n",
       "      <td>-1.0</td>\n",
       "    </tr>\n",
       "    <tr>\n",
       "      <th>1</th>\n",
       "      <td>1</td>\n",
       "      <td>30.0</td>\n",
       "      <td>7.376953</td>\n",
       "      <td>0.275452</td>\n",
       "      <td>13.241852</td>\n",
       "      <td>63.000000</td>\n",
       "      <td>-1.0</td>\n",
       "    </tr>\n",
       "    <tr>\n",
       "      <th>2</th>\n",
       "      <td>2</td>\n",
       "      <td>45.0</td>\n",
       "      <td>7.492523</td>\n",
       "      <td>0.646515</td>\n",
       "      <td>13.399384</td>\n",
       "      <td>63.000000</td>\n",
       "      <td>-1.0</td>\n",
       "    </tr>\n",
       "    <tr>\n",
       "      <th>3</th>\n",
       "      <td>3</td>\n",
       "      <td>60.0</td>\n",
       "      <td>7.318924</td>\n",
       "      <td>0.378845</td>\n",
       "      <td>13.247162</td>\n",
       "      <td>64.000000</td>\n",
       "      <td>-1.0</td>\n",
       "    </tr>\n",
       "    <tr>\n",
       "      <th>4</th>\n",
       "      <td>4</td>\n",
       "      <td>75.0</td>\n",
       "      <td>7.320190</td>\n",
       "      <td>0.373001</td>\n",
       "      <td>13.248993</td>\n",
       "      <td>65.000000</td>\n",
       "      <td>-1.0</td>\n",
       "    </tr>\n",
       "    <tr>\n",
       "      <th>...</th>\n",
       "      <td>...</td>\n",
       "      <td>...</td>\n",
       "      <td>...</td>\n",
       "      <td>...</td>\n",
       "      <td>...</td>\n",
       "      <td>...</td>\n",
       "      <td>...</td>\n",
       "    </tr>\n",
       "    <tr>\n",
       "      <th>51371</th>\n",
       "      <td>51371</td>\n",
       "      <td>28375.0</td>\n",
       "      <td>4.702072</td>\n",
       "      <td>5.938523</td>\n",
       "      <td>12.923141</td>\n",
       "      <td>73.333333</td>\n",
       "      <td>-1.0</td>\n",
       "    </tr>\n",
       "    <tr>\n",
       "      <th>51372</th>\n",
       "      <td>51372</td>\n",
       "      <td>28390.0</td>\n",
       "      <td>4.695236</td>\n",
       "      <td>5.939972</td>\n",
       "      <td>12.930450</td>\n",
       "      <td>76.500000</td>\n",
       "      <td>-1.0</td>\n",
       "    </tr>\n",
       "    <tr>\n",
       "      <th>51373</th>\n",
       "      <td>51373</td>\n",
       "      <td>28405.0</td>\n",
       "      <td>4.679672</td>\n",
       "      <td>5.922821</td>\n",
       "      <td>13.196655</td>\n",
       "      <td>74.500000</td>\n",
       "      <td>-1.0</td>\n",
       "    </tr>\n",
       "    <tr>\n",
       "      <th>51374</th>\n",
       "      <td>51374</td>\n",
       "      <td>28420.0</td>\n",
       "      <td>4.725830</td>\n",
       "      <td>5.355499</td>\n",
       "      <td>13.175827</td>\n",
       "      <td>80.000000</td>\n",
       "      <td>-1.0</td>\n",
       "    </tr>\n",
       "    <tr>\n",
       "      <th>51375</th>\n",
       "      <td>51375</td>\n",
       "      <td>28435.0</td>\n",
       "      <td>4.717789</td>\n",
       "      <td>5.323700</td>\n",
       "      <td>13.183716</td>\n",
       "      <td>75.333333</td>\n",
       "      <td>-1.0</td>\n",
       "    </tr>\n",
       "  </tbody>\n",
       "</table>\n",
       "<p>51376 rows × 7 columns</p>\n",
       "</div>"
      ],
      "text/plain": [
       "       Unnamed: 0     Time         X         Y          Z  Heart Rate  Labels\n",
       "0               0     15.0  7.395462  0.310486  13.250366   66.750000    -1.0\n",
       "1               1     30.0  7.376953  0.275452  13.241852   63.000000    -1.0\n",
       "2               2     45.0  7.492523  0.646515  13.399384   63.000000    -1.0\n",
       "3               3     60.0  7.318924  0.378845  13.247162   64.000000    -1.0\n",
       "4               4     75.0  7.320190  0.373001  13.248993   65.000000    -1.0\n",
       "...           ...      ...       ...       ...        ...         ...     ...\n",
       "51371       51371  28375.0  4.702072  5.938523  12.923141   73.333333    -1.0\n",
       "51372       51372  28390.0  4.695236  5.939972  12.930450   76.500000    -1.0\n",
       "51373       51373  28405.0  4.679672  5.922821  13.196655   74.500000    -1.0\n",
       "51374       51374  28420.0  4.725830  5.355499  13.175827   80.000000    -1.0\n",
       "51375       51375  28435.0  4.717789  5.323700  13.183716   75.333333    -1.0\n",
       "\n",
       "[51376 rows x 7 columns]"
      ]
     },
     "execution_count": 4,
     "metadata": {
      "tags": []
     },
     "output_type": "execute_result"
    }
   ],
   "source": [
    "# Read full dataframe CSV (without downloading data)\n",
    "# QUITAR COLUMNA UNNAMED:0\n",
    "df = pd.read_csv('all_users_df.csv')\n",
    "df"
   ]
  },
  {
   "cell_type": "markdown",
   "metadata": {
    "id": "00jGhBmxqSXE"
   },
   "source": [
    "# Labels\n",
    "Initial stages (0-5, wake = 0, N1 = 1, N2 = 2, N3 = 3, REM = 5)\n",
    "\n",
    "Relabeled stages (0-2, wake = 0, NREM = 1, REM = 2)"
   ]
  },
  {
   "cell_type": "code",
   "execution_count": 5,
   "metadata": {
    "id": "uw3S8hjGdj0T"
   },
   "outputs": [],
   "source": [
    "# Show labels\n",
    "# Same labels will be reused throughout the program\n",
    "\n",
    "df['Labels'] = df['Labels'].map({0:0,1:1,2:1,3:1,5:2,}, na_action=None)\n",
    "\n",
    "#Delete non-labeled Rows\n",
    "df.dropna(inplace=True)"
   ]
  },
  {
   "cell_type": "markdown",
   "metadata": {
    "id": "VwnxK53835FY"
   },
   "source": [
    "# Normalize Training Data\n",
    "Next, we need to normalize our features within our training data. Of course there are various ways on how to normalize. Please keep in mind that you use the same normalization algorithm later when feeding new data into your neural network. Otherwise your preditions will be off. On top of the normalization we will also apply rounding to the three features."
   ]
  },
  {
   "cell_type": "code",
   "execution_count": 6,
   "metadata": {
    "id": "bOd1dXMi2N4_"
   },
   "outputs": [],
   "source": [
    "# Normalize features for training data set (values between 0 and 1)***\n",
    "# Surpress warning for next 3 operation\n",
    "pd.options.mode.chained_assignment = None  # default='warn'\n",
    "df['X'] = df['X'] / df['X'].max()\n",
    "df['Y'] = df['Y'] / df['Y'].max()\n",
    "df['Z'] = df['Z'] / df['Z'].max()\n",
    "df['Heart Rate'] = df['Heart Rate'] / df['Heart Rate'].max()\n",
    "\n",
    "# Round numbers (4 decimals)\n",
    "df = df.round({'X': 4, 'Y': 4, 'Z': 4, 'Heart Rate': 4})"
   ]
  },
  {
   "cell_type": "markdown",
   "metadata": {
    "id": "oC7ObCbBZ_1-"
   },
   "source": [
    "# Split Dataset\n",
    "Train, Validation and Test\n",
    "\n",
    "Split the data\n",
    "We'll use a (70%, 20%, 10%) split for the training, validation, and test sets. Note the data is not being randomly shuffled before splitting. This is for two reasons.\n",
    "\n",
    "It ensures that chopping the data into windows of consecutive samples is still possible.\n",
    "It ensures that the validation/test results are more realistic, being evaluated on data collected after the model was trained.\n",
    "\n",
    "***ANOTHER SPLITING OPTION WOULD BE TO SEPARATE USERS (Crear nueva columna con nombre usuario?? O manejar cada CSV por separado??)***\n",
    "\n",
    "\n",
    "\n"
   ]
  },
  {
   "cell_type": "code",
   "execution_count": 7,
   "metadata": {
    "id": "DUcpsQLZaKOE"
   },
   "outputs": [],
   "source": [
    "column_indices = {name: i for i, name in enumerate(df.columns)}\n",
    "\n",
    "PERCENTAGE_TRAIN = 0.70\n",
    "PERCENTAGE_VALIDATION = 0.20\n",
    "\n",
    "n = len(df)\n",
    "train_df = df[0:int(n*PERCENTAGE_TRAIN)]\n",
    "val_df = df[int(n*PERCENTAGE_TRAIN):int(n*(PERCENTAGE_VALIDATION + PERCENTAGE_TRAIN))]\n",
    "test_df = df[int(n*(PERCENTAGE_VALIDATION + PERCENTAGE_TRAIN)):]"
   ]
  },
  {
   "cell_type": "markdown",
   "metadata": {
    "id": "aYGO3D4b7btV"
   },
   "source": [
    "# Reshape Data into Segments and Prepare for Keras\n",
    "The data contained in the dataframe is not ready yet to be fed into a neural network. Therefore we need to reshape it. Let’s create another function for this called “create_segments_and_labels”. This function will take in the dataframe and the label names."
   ]
  },
  {
   "cell_type": "code",
   "execution_count": 8,
   "metadata": {
    "id": "2jOMBw867eW2"
   },
   "outputs": [],
   "source": [
    "def create_segments_and_labels(dfs,labels):\n",
    "\n",
    "    labels = dfs[labels]\n",
    "    segments = dfs[['Z','Heart Rate']]\n",
    "    #segments = dfs[['X','Y','Z','Heart Rate']] #All features\n",
    "\n",
    "    return segments, labels"
   ]
  },
  {
   "cell_type": "code",
   "execution_count": 9,
   "metadata": {
    "id": "ODyG2FBGAGd6"
   },
   "outputs": [],
   "source": [
    "# x --> Features\n",
    "# y --> Labels\n",
    "   \n",
    "x_train, y_train = create_segments_and_labels(train_df,'Labels')\n",
    "x_val, y_val = create_segments_and_labels(val_df,'Labels')\n",
    "x_test, y_test = create_segments_and_labels(test_df,'Labels')\n"
   ]
  },
  {
   "cell_type": "markdown",
   "metadata": {
    "id": "TsfiKCAzFEI-"
   },
   "source": [
    "# LSTM Model"
   ]
  },
  {
   "cell_type": "code",
   "execution_count": 10,
   "metadata": {
    "id": "aM7SfZAwWkBy"
   },
   "outputs": [],
   "source": [
    "#Prepare data for LSTM Model\n",
    "x_train = np.expand_dims(x_train,-1) \n",
    "x_val = np.expand_dims(x_val,-1) \n",
    "x_test = np.expand_dims(x_test,-1) "
   ]
  },
  {
   "cell_type": "code",
   "execution_count": 11,
   "metadata": {
    "id": "M1AIR_CSDYNE"
   },
   "outputs": [],
   "source": [
    "#Prepare labels data \n",
    "#Needed to categorical_crossentropy loss function\n",
    "y_train = to_categorical(y_train)\n",
    "y_val = to_categorical(y_val)\n",
    "y_test = to_categorical(y_test)"
   ]
  },
  {
   "cell_type": "code",
   "execution_count": 12,
   "metadata": {
    "colab": {
     "base_uri": "https://localhost:8080/"
    },
    "id": "-7WQxsDJ7Oj4",
    "outputId": "06d7949f-809a-4d2f-e69e-c46aaad487e1"
   },
   "outputs": [
    {
     "name": "stdout",
     "output_type": "stream",
     "text": [
      "Model: \"sequential\"\n",
      "_________________________________________________________________\n",
      "Layer (type)                 Output Shape              Param #   \n",
      "=================================================================\n",
      "lstm (LSTM)                  (None, 180)               131040    \n",
      "_________________________________________________________________\n",
      "dropout (Dropout)            (None, 180)               0         \n",
      "_________________________________________________________________\n",
      "dense (Dense)                (None, 30)                5430      \n",
      "_________________________________________________________________\n",
      "dense_1 (Dense)              (None, 3)                 93        \n",
      "=================================================================\n",
      "Total params: 136,563\n",
      "Trainable params: 136,563\n",
      "Non-trainable params: 0\n",
      "_________________________________________________________________\n"
     ]
    }
   ],
   "source": [
    "#Create LSTM model\n",
    "n_timesteps = x_train.shape[1]\n",
    "n_features = x_train.shape[2]\n",
    "n_outputs = 3\n",
    "\n",
    "model = Sequential()\n",
    "model.add(LSTM(180, input_shape=(n_timesteps,n_features)))\n",
    "model.add(Dropout(0.5))\n",
    "model.add(Dense(30, activation='relu'))\n",
    "model.add(Dense(n_outputs, activation='softmax'))\n",
    "model.compile(loss='categorical_crossentropy', optimizer='adam', metrics=['accuracy'])\n",
    "model.summary()"
   ]
  },
  {
   "cell_type": "code",
   "execution_count": 13,
   "metadata": {
    "colab": {
     "base_uri": "https://localhost:8080/"
    },
    "id": "vnnAjtgc7OXO",
    "outputId": "946bc27c-79bc-4afd-a422-be8f0edad6a7"
   },
   "outputs": [
    {
     "name": "stdout",
     "output_type": "stream",
     "text": [
      "Epoch 1/150\n",
      "350/350 [==============================] - 24s 7ms/step - loss: 0.8687 - accuracy: 0.6856 - val_loss: 0.7409 - val_accuracy: 0.7209\n",
      "Epoch 2/150\n",
      "350/350 [==============================] - 2s 4ms/step - loss: 0.8120 - accuracy: 0.6923 - val_loss: 0.7377 - val_accuracy: 0.7209\n",
      "Epoch 3/150\n",
      "350/350 [==============================] - 2s 5ms/step - loss: 0.8131 - accuracy: 0.6899 - val_loss: 0.7456 - val_accuracy: 0.7209\n",
      "Epoch 4/150\n",
      "350/350 [==============================] - 2s 5ms/step - loss: 0.8166 - accuracy: 0.6866 - val_loss: 0.7499 - val_accuracy: 0.7209\n",
      "Epoch 5/150\n",
      "350/350 [==============================] - 2s 4ms/step - loss: 0.8164 - accuracy: 0.6857 - val_loss: 0.7360 - val_accuracy: 0.7209\n",
      "Epoch 6/150\n",
      "350/350 [==============================] - 2s 5ms/step - loss: 0.8134 - accuracy: 0.6883 - val_loss: 0.7470 - val_accuracy: 0.7209\n",
      "Epoch 7/150\n",
      "350/350 [==============================] - 2s 5ms/step - loss: 0.8140 - accuracy: 0.6871 - val_loss: 0.7451 - val_accuracy: 0.7209\n",
      "Epoch 8/150\n",
      "350/350 [==============================] - 2s 4ms/step - loss: 0.8057 - accuracy: 0.6914 - val_loss: 0.7429 - val_accuracy: 0.7209\n",
      "Epoch 9/150\n",
      "350/350 [==============================] - 2s 5ms/step - loss: 0.8050 - accuracy: 0.6902 - val_loss: 0.7525 - val_accuracy: 0.7209\n",
      "Epoch 10/150\n",
      "350/350 [==============================] - 2s 5ms/step - loss: 0.8103 - accuracy: 0.6873 - val_loss: 0.7437 - val_accuracy: 0.7209\n",
      "Epoch 11/150\n",
      "350/350 [==============================] - 2s 4ms/step - loss: 0.8080 - accuracy: 0.6909 - val_loss: 0.7460 - val_accuracy: 0.7209\n",
      "Epoch 12/150\n",
      "350/350 [==============================] - 2s 4ms/step - loss: 0.8009 - accuracy: 0.6932 - val_loss: 0.7487 - val_accuracy: 0.7209\n",
      "Epoch 13/150\n",
      "350/350 [==============================] - 2s 4ms/step - loss: 0.8060 - accuracy: 0.6891 - val_loss: 0.7721 - val_accuracy: 0.7200\n",
      "Epoch 14/150\n",
      "350/350 [==============================] - 2s 5ms/step - loss: 0.8048 - accuracy: 0.6879 - val_loss: 0.7628 - val_accuracy: 0.7197\n",
      "Epoch 15/150\n",
      "350/350 [==============================] - 2s 4ms/step - loss: 0.8102 - accuracy: 0.6857 - val_loss: 0.7622 - val_accuracy: 0.7196\n",
      "Epoch 16/150\n",
      "350/350 [==============================] - 2s 4ms/step - loss: 0.8036 - accuracy: 0.6887 - val_loss: 0.7505 - val_accuracy: 0.7192\n",
      "Epoch 17/150\n",
      "350/350 [==============================] - 2s 4ms/step - loss: 0.8010 - accuracy: 0.6909 - val_loss: 0.7796 - val_accuracy: 0.6919\n",
      "Epoch 18/150\n",
      "350/350 [==============================] - 2s 5ms/step - loss: 0.8039 - accuracy: 0.6890 - val_loss: 0.7638 - val_accuracy: 0.6968\n",
      "Epoch 19/150\n",
      "350/350 [==============================] - 2s 4ms/step - loss: 0.8047 - accuracy: 0.6878 - val_loss: 0.7652 - val_accuracy: 0.6950\n",
      "Epoch 20/150\n",
      "350/350 [==============================] - 2s 4ms/step - loss: 0.8027 - accuracy: 0.6886 - val_loss: 0.7706 - val_accuracy: 0.7046\n",
      "Epoch 21/150\n",
      "350/350 [==============================] - 2s 5ms/step - loss: 0.7991 - accuracy: 0.6896 - val_loss: 0.7728 - val_accuracy: 0.6950\n",
      "Epoch 22/150\n",
      "350/350 [==============================] - 2s 5ms/step - loss: 0.7983 - accuracy: 0.6894 - val_loss: 0.7727 - val_accuracy: 0.6973\n",
      "Epoch 23/150\n",
      "350/350 [==============================] - 2s 4ms/step - loss: 0.7988 - accuracy: 0.6890 - val_loss: 0.8140 - val_accuracy: 0.6856\n",
      "Epoch 24/150\n",
      "350/350 [==============================] - 2s 4ms/step - loss: 0.7970 - accuracy: 0.6903 - val_loss: 0.7517 - val_accuracy: 0.6983\n",
      "Epoch 25/150\n",
      "350/350 [==============================] - 2s 5ms/step - loss: 0.7905 - accuracy: 0.6924 - val_loss: 0.7654 - val_accuracy: 0.6995\n",
      "Epoch 26/150\n",
      "350/350 [==============================] - 2s 4ms/step - loss: 0.7928 - accuracy: 0.6936 - val_loss: 0.7940 - val_accuracy: 0.6869\n",
      "Epoch 27/150\n",
      "350/350 [==============================] - 2s 4ms/step - loss: 0.7902 - accuracy: 0.6921 - val_loss: 0.7685 - val_accuracy: 0.6984\n",
      "Epoch 28/150\n",
      "350/350 [==============================] - 2s 5ms/step - loss: 0.7923 - accuracy: 0.6910 - val_loss: 0.7936 - val_accuracy: 0.6828\n",
      "Epoch 29/150\n",
      "350/350 [==============================] - 2s 4ms/step - loss: 0.7914 - accuracy: 0.6908 - val_loss: 0.7692 - val_accuracy: 0.6926\n",
      "Epoch 30/150\n",
      "350/350 [==============================] - 2s 5ms/step - loss: 0.7947 - accuracy: 0.6903 - val_loss: 0.7671 - val_accuracy: 0.6903\n",
      "Epoch 31/150\n",
      "350/350 [==============================] - 2s 4ms/step - loss: 0.7796 - accuracy: 0.6992 - val_loss: 0.7889 - val_accuracy: 0.6865\n",
      "Epoch 32/150\n",
      "350/350 [==============================] - 2s 4ms/step - loss: 0.7957 - accuracy: 0.6890 - val_loss: 0.7582 - val_accuracy: 0.6909\n",
      "Epoch 33/150\n",
      "350/350 [==============================] - 2s 5ms/step - loss: 0.7848 - accuracy: 0.6957 - val_loss: 0.7836 - val_accuracy: 0.6868\n",
      "Epoch 34/150\n",
      "350/350 [==============================] - 2s 4ms/step - loss: 0.7906 - accuracy: 0.6923 - val_loss: 0.7511 - val_accuracy: 0.7125\n",
      "Epoch 35/150\n",
      "350/350 [==============================] - 2s 4ms/step - loss: 0.7957 - accuracy: 0.6876 - val_loss: 0.8084 - val_accuracy: 0.6822\n",
      "Epoch 36/150\n",
      "350/350 [==============================] - 2s 5ms/step - loss: 0.7869 - accuracy: 0.6934 - val_loss: 0.7798 - val_accuracy: 0.6851\n",
      "Epoch 37/150\n",
      "350/350 [==============================] - 2s 4ms/step - loss: 0.7887 - accuracy: 0.6919 - val_loss: 0.7902 - val_accuracy: 0.6853\n",
      "Epoch 38/150\n",
      "350/350 [==============================] - 2s 4ms/step - loss: 0.7877 - accuracy: 0.6916 - val_loss: 0.8011 - val_accuracy: 0.6813\n",
      "Epoch 39/150\n",
      "350/350 [==============================] - 2s 4ms/step - loss: 0.7870 - accuracy: 0.6931 - val_loss: 0.8007 - val_accuracy: 0.6844\n",
      "Epoch 40/150\n",
      "350/350 [==============================] - 2s 4ms/step - loss: 0.7889 - accuracy: 0.6952 - val_loss: 0.7667 - val_accuracy: 0.6888\n",
      "Epoch 41/150\n",
      "350/350 [==============================] - 2s 5ms/step - loss: 0.7909 - accuracy: 0.6910 - val_loss: 0.7771 - val_accuracy: 0.6874\n",
      "Epoch 42/150\n",
      "350/350 [==============================] - 2s 5ms/step - loss: 0.7919 - accuracy: 0.6906 - val_loss: 0.7667 - val_accuracy: 0.6932\n",
      "Epoch 43/150\n",
      "350/350 [==============================] - 2s 4ms/step - loss: 0.7857 - accuracy: 0.6935 - val_loss: 0.7890 - val_accuracy: 0.6871\n",
      "Epoch 44/150\n",
      "350/350 [==============================] - 2s 5ms/step - loss: 0.7806 - accuracy: 0.6966 - val_loss: 0.8043 - val_accuracy: 0.6867\n",
      "Epoch 45/150\n",
      "350/350 [==============================] - 2s 5ms/step - loss: 0.7882 - accuracy: 0.6910 - val_loss: 0.8189 - val_accuracy: 0.6806\n",
      "Epoch 46/150\n",
      "350/350 [==============================] - 2s 5ms/step - loss: 0.7853 - accuracy: 0.6938 - val_loss: 0.7959 - val_accuracy: 0.6852\n",
      "Epoch 47/150\n",
      "350/350 [==============================] - 2s 5ms/step - loss: 0.7818 - accuracy: 0.6950 - val_loss: 0.8019 - val_accuracy: 0.6819\n",
      "Epoch 48/150\n",
      "350/350 [==============================] - 2s 4ms/step - loss: 0.7882 - accuracy: 0.6909 - val_loss: 0.8077 - val_accuracy: 0.6857\n",
      "Epoch 49/150\n",
      "350/350 [==============================] - 2s 5ms/step - loss: 0.7866 - accuracy: 0.6907 - val_loss: 0.7992 - val_accuracy: 0.6852\n",
      "Epoch 50/150\n",
      "350/350 [==============================] - 2s 5ms/step - loss: 0.7741 - accuracy: 0.6982 - val_loss: 0.7768 - val_accuracy: 0.6883\n",
      "Epoch 51/150\n",
      "350/350 [==============================] - 2s 4ms/step - loss: 0.7823 - accuracy: 0.6959 - val_loss: 0.8060 - val_accuracy: 0.6861\n",
      "Epoch 52/150\n",
      "350/350 [==============================] - 2s 4ms/step - loss: 0.7867 - accuracy: 0.6902 - val_loss: 0.7834 - val_accuracy: 0.6887\n",
      "Epoch 53/150\n",
      "350/350 [==============================] - 2s 4ms/step - loss: 0.7867 - accuracy: 0.6937 - val_loss: 0.7783 - val_accuracy: 0.6959\n",
      "Epoch 54/150\n",
      "350/350 [==============================] - 2s 5ms/step - loss: 0.7873 - accuracy: 0.6926 - val_loss: 0.8081 - val_accuracy: 0.6837\n",
      "Epoch 55/150\n",
      "350/350 [==============================] - 2s 5ms/step - loss: 0.7934 - accuracy: 0.6878 - val_loss: 0.7748 - val_accuracy: 0.6856\n",
      "Epoch 56/150\n",
      "350/350 [==============================] - 2s 5ms/step - loss: 0.7836 - accuracy: 0.6931 - val_loss: 0.7951 - val_accuracy: 0.6858\n",
      "Epoch 57/150\n",
      "350/350 [==============================] - 2s 5ms/step - loss: 0.7811 - accuracy: 0.6949 - val_loss: 0.7789 - val_accuracy: 0.6884\n",
      "Epoch 58/150\n",
      "350/350 [==============================] - 2s 5ms/step - loss: 0.7799 - accuracy: 0.6944 - val_loss: 0.8049 - val_accuracy: 0.6846\n",
      "Epoch 59/150\n",
      "350/350 [==============================] - 2s 5ms/step - loss: 0.7807 - accuracy: 0.6948 - val_loss: 0.7795 - val_accuracy: 0.6866\n",
      "Epoch 60/150\n",
      "350/350 [==============================] - 2s 5ms/step - loss: 0.7820 - accuracy: 0.6940 - val_loss: 0.7836 - val_accuracy: 0.6885\n",
      "Epoch 61/150\n",
      "350/350 [==============================] - 2s 5ms/step - loss: 0.7796 - accuracy: 0.6955 - val_loss: 0.7714 - val_accuracy: 0.6932\n",
      "Epoch 62/150\n",
      "350/350 [==============================] - 2s 4ms/step - loss: 0.7740 - accuracy: 0.6996 - val_loss: 0.7713 - val_accuracy: 0.6936\n",
      "Epoch 63/150\n",
      "350/350 [==============================] - 2s 4ms/step - loss: 0.7826 - accuracy: 0.6947 - val_loss: 0.7835 - val_accuracy: 0.6888\n",
      "Epoch 64/150\n",
      "350/350 [==============================] - 2s 5ms/step - loss: 0.7837 - accuracy: 0.6934 - val_loss: 0.8266 - val_accuracy: 0.6774\n",
      "Epoch 65/150\n",
      "350/350 [==============================] - 2s 5ms/step - loss: 0.7816 - accuracy: 0.6953 - val_loss: 0.8167 - val_accuracy: 0.6801\n",
      "Epoch 66/150\n",
      "350/350 [==============================] - 2s 5ms/step - loss: 0.7835 - accuracy: 0.6920 - val_loss: 0.8146 - val_accuracy: 0.6800\n",
      "Epoch 67/150\n",
      "350/350 [==============================] - 2s 4ms/step - loss: 0.7788 - accuracy: 0.6942 - val_loss: 0.7839 - val_accuracy: 0.6844\n",
      "Epoch 68/150\n",
      "350/350 [==============================] - 2s 5ms/step - loss: 0.7827 - accuracy: 0.6944 - val_loss: 0.8265 - val_accuracy: 0.6807\n",
      "Epoch 69/150\n",
      "350/350 [==============================] - 2s 4ms/step - loss: 0.7787 - accuracy: 0.6948 - val_loss: 0.7932 - val_accuracy: 0.6825\n",
      "Epoch 70/150\n",
      "350/350 [==============================] - 2s 4ms/step - loss: 0.7833 - accuracy: 0.6910 - val_loss: 0.8015 - val_accuracy: 0.6858\n",
      "Epoch 71/150\n",
      "350/350 [==============================] - 2s 4ms/step - loss: 0.7784 - accuracy: 0.6965 - val_loss: 0.7840 - val_accuracy: 0.6856\n",
      "Epoch 72/150\n",
      "350/350 [==============================] - 2s 5ms/step - loss: 0.7807 - accuracy: 0.6962 - val_loss: 0.7925 - val_accuracy: 0.6845\n",
      "Epoch 73/150\n",
      "350/350 [==============================] - 2s 5ms/step - loss: 0.7860 - accuracy: 0.6904 - val_loss: 0.7862 - val_accuracy: 0.6848\n",
      "Epoch 74/150\n",
      "350/350 [==============================] - 2s 5ms/step - loss: 0.7847 - accuracy: 0.6918 - val_loss: 0.7781 - val_accuracy: 0.6938\n",
      "Epoch 75/150\n",
      "350/350 [==============================] - 2s 5ms/step - loss: 0.7798 - accuracy: 0.6929 - val_loss: 0.7910 - val_accuracy: 0.6855\n",
      "Epoch 76/150\n",
      "350/350 [==============================] - 2s 5ms/step - loss: 0.7803 - accuracy: 0.6925 - val_loss: 0.7992 - val_accuracy: 0.6743\n",
      "Epoch 77/150\n",
      "350/350 [==============================] - 2s 4ms/step - loss: 0.7771 - accuracy: 0.6941 - val_loss: 0.7839 - val_accuracy: 0.6880\n",
      "Epoch 78/150\n",
      "350/350 [==============================] - 2s 4ms/step - loss: 0.7784 - accuracy: 0.6973 - val_loss: 0.8041 - val_accuracy: 0.6764\n",
      "Epoch 79/150\n",
      "350/350 [==============================] - 2s 4ms/step - loss: 0.7844 - accuracy: 0.6917 - val_loss: 0.7812 - val_accuracy: 0.6873\n",
      "Epoch 80/150\n",
      "350/350 [==============================] - 2s 4ms/step - loss: 0.7765 - accuracy: 0.6956 - val_loss: 0.7966 - val_accuracy: 0.6747\n",
      "Epoch 81/150\n",
      "350/350 [==============================] - 2s 5ms/step - loss: 0.7778 - accuracy: 0.6947 - val_loss: 0.7984 - val_accuracy: 0.6733\n",
      "Epoch 82/150\n",
      "350/350 [==============================] - 2s 5ms/step - loss: 0.7792 - accuracy: 0.6934 - val_loss: 0.7786 - val_accuracy: 0.6950\n",
      "Epoch 83/150\n",
      "350/350 [==============================] - 2s 4ms/step - loss: 0.7835 - accuracy: 0.6924 - val_loss: 0.7838 - val_accuracy: 0.6930\n",
      "Epoch 84/150\n",
      "350/350 [==============================] - 2s 5ms/step - loss: 0.7777 - accuracy: 0.6962 - val_loss: 0.8061 - val_accuracy: 0.6687\n",
      "Epoch 85/150\n",
      "350/350 [==============================] - 2s 5ms/step - loss: 0.7844 - accuracy: 0.6924 - val_loss: 0.8249 - val_accuracy: 0.6775\n",
      "Epoch 86/150\n",
      "350/350 [==============================] - 2s 5ms/step - loss: 0.7795 - accuracy: 0.6939 - val_loss: 0.7888 - val_accuracy: 0.6929\n",
      "Epoch 87/150\n",
      "350/350 [==============================] - 2s 5ms/step - loss: 0.7839 - accuracy: 0.6910 - val_loss: 0.7996 - val_accuracy: 0.6852\n",
      "Epoch 88/150\n",
      "350/350 [==============================] - 2s 4ms/step - loss: 0.7836 - accuracy: 0.6899 - val_loss: 0.7935 - val_accuracy: 0.6779\n",
      "Epoch 89/150\n",
      "350/350 [==============================] - 2s 4ms/step - loss: 0.7749 - accuracy: 0.6949 - val_loss: 0.8081 - val_accuracy: 0.6717\n",
      "Epoch 90/150\n",
      "350/350 [==============================] - 2s 4ms/step - loss: 0.7771 - accuracy: 0.6947 - val_loss: 0.8158 - val_accuracy: 0.6815\n",
      "Epoch 91/150\n",
      "350/350 [==============================] - 2s 5ms/step - loss: 0.7790 - accuracy: 0.6920 - val_loss: 0.8170 - val_accuracy: 0.6645\n",
      "Epoch 92/150\n",
      "350/350 [==============================] - 2s 4ms/step - loss: 0.7796 - accuracy: 0.6944 - val_loss: 0.8074 - val_accuracy: 0.6751\n",
      "Epoch 93/150\n",
      "350/350 [==============================] - 2s 5ms/step - loss: 0.7778 - accuracy: 0.6977 - val_loss: 0.8247 - val_accuracy: 0.6782\n",
      "Epoch 94/150\n",
      "350/350 [==============================] - 2s 5ms/step - loss: 0.7779 - accuracy: 0.6945 - val_loss: 0.8017 - val_accuracy: 0.6719\n",
      "Epoch 95/150\n",
      "350/350 [==============================] - 2s 5ms/step - loss: 0.7804 - accuracy: 0.6918 - val_loss: 0.8305 - val_accuracy: 0.6780\n",
      "Epoch 96/150\n",
      "350/350 [==============================] - 2s 4ms/step - loss: 0.7812 - accuracy: 0.6942 - val_loss: 0.8074 - val_accuracy: 0.6629\n",
      "Epoch 97/150\n",
      "350/350 [==============================] - 2s 5ms/step - loss: 0.7762 - accuracy: 0.6952 - val_loss: 0.8101 - val_accuracy: 0.6620\n",
      "Epoch 98/150\n",
      "350/350 [==============================] - 2s 4ms/step - loss: 0.7764 - accuracy: 0.6956 - val_loss: 0.7639 - val_accuracy: 0.7107\n",
      "Epoch 99/150\n",
      "350/350 [==============================] - 2s 4ms/step - loss: 0.7844 - accuracy: 0.6933 - val_loss: 0.8003 - val_accuracy: 0.6803\n",
      "Epoch 100/150\n",
      "350/350 [==============================] - 2s 5ms/step - loss: 0.7768 - accuracy: 0.6950 - val_loss: 0.8033 - val_accuracy: 0.6780\n",
      "Epoch 101/150\n",
      "350/350 [==============================] - 2s 5ms/step - loss: 0.7690 - accuracy: 0.6994 - val_loss: 0.8079 - val_accuracy: 0.6726\n",
      "Epoch 102/150\n",
      "350/350 [==============================] - 2s 5ms/step - loss: 0.7832 - accuracy: 0.6910 - val_loss: 0.8259 - val_accuracy: 0.6581\n",
      "Epoch 103/150\n",
      "350/350 [==============================] - 2s 5ms/step - loss: 0.7760 - accuracy: 0.6947 - val_loss: 0.8057 - val_accuracy: 0.6642\n",
      "Epoch 104/150\n",
      "350/350 [==============================] - 2s 5ms/step - loss: 0.7787 - accuracy: 0.6941 - val_loss: 0.7928 - val_accuracy: 0.6823\n",
      "Epoch 105/150\n",
      "350/350 [==============================] - 2s 5ms/step - loss: 0.7753 - accuracy: 0.6937 - val_loss: 0.7890 - val_accuracy: 0.6862\n",
      "Epoch 106/150\n",
      "350/350 [==============================] - 2s 5ms/step - loss: 0.7753 - accuracy: 0.6948 - val_loss: 0.8098 - val_accuracy: 0.6670\n",
      "Epoch 107/150\n",
      "350/350 [==============================] - 2s 5ms/step - loss: 0.7787 - accuracy: 0.6943 - val_loss: 0.8130 - val_accuracy: 0.6598\n",
      "Epoch 108/150\n",
      "350/350 [==============================] - 2s 5ms/step - loss: 0.7793 - accuracy: 0.6932 - val_loss: 0.8302 - val_accuracy: 0.6594\n",
      "Epoch 109/150\n",
      "350/350 [==============================] - 2s 5ms/step - loss: 0.7789 - accuracy: 0.6946 - val_loss: 0.7956 - val_accuracy: 0.6749\n",
      "Epoch 110/150\n",
      "350/350 [==============================] - 2s 4ms/step - loss: 0.7799 - accuracy: 0.6943 - val_loss: 0.8043 - val_accuracy: 0.6654\n",
      "Epoch 111/150\n",
      "350/350 [==============================] - 2s 5ms/step - loss: 0.7765 - accuracy: 0.6942 - val_loss: 0.8025 - val_accuracy: 0.6673\n",
      "Epoch 112/150\n",
      "350/350 [==============================] - 2s 5ms/step - loss: 0.7779 - accuracy: 0.6959 - val_loss: 0.8022 - val_accuracy: 0.6814\n",
      "Epoch 113/150\n",
      "350/350 [==============================] - 2s 4ms/step - loss: 0.7769 - accuracy: 0.6958 - val_loss: 0.8118 - val_accuracy: 0.6601\n",
      "Epoch 114/150\n",
      "350/350 [==============================] - 2s 5ms/step - loss: 0.7782 - accuracy: 0.6944 - val_loss: 0.7838 - val_accuracy: 0.6665\n",
      "Epoch 115/150\n",
      "350/350 [==============================] - 2s 5ms/step - loss: 0.7760 - accuracy: 0.6951 - val_loss: 0.7938 - val_accuracy: 0.6669\n",
      "Epoch 116/150\n",
      "350/350 [==============================] - 2s 5ms/step - loss: 0.7770 - accuracy: 0.6946 - val_loss: 0.7993 - val_accuracy: 0.6664\n",
      "Epoch 117/150\n",
      "350/350 [==============================] - 2s 5ms/step - loss: 0.7798 - accuracy: 0.6933 - val_loss: 0.8202 - val_accuracy: 0.6574\n",
      "Epoch 118/150\n",
      "350/350 [==============================] - 2s 5ms/step - loss: 0.7797 - accuracy: 0.6914 - val_loss: 0.8147 - val_accuracy: 0.6546\n",
      "Epoch 119/150\n",
      "350/350 [==============================] - 2s 5ms/step - loss: 0.7769 - accuracy: 0.6958 - val_loss: 0.8007 - val_accuracy: 0.6665\n",
      "Epoch 120/150\n",
      "350/350 [==============================] - 2s 5ms/step - loss: 0.7693 - accuracy: 0.6997 - val_loss: 0.7991 - val_accuracy: 0.6613\n",
      "Epoch 121/150\n",
      "350/350 [==============================] - 2s 5ms/step - loss: 0.7716 - accuracy: 0.6981 - val_loss: 0.8042 - val_accuracy: 0.6628\n",
      "Epoch 122/150\n",
      "350/350 [==============================] - 2s 5ms/step - loss: 0.7752 - accuracy: 0.6960 - val_loss: 0.7902 - val_accuracy: 0.6763\n",
      "Epoch 123/150\n",
      "350/350 [==============================] - 2s 5ms/step - loss: 0.7709 - accuracy: 0.6966 - val_loss: 0.8093 - val_accuracy: 0.6572\n",
      "Epoch 124/150\n",
      "350/350 [==============================] - 2s 5ms/step - loss: 0.7792 - accuracy: 0.6933 - val_loss: 0.7885 - val_accuracy: 0.6824\n",
      "Epoch 125/150\n",
      "350/350 [==============================] - 2s 5ms/step - loss: 0.7756 - accuracy: 0.6963 - val_loss: 0.8022 - val_accuracy: 0.6624\n",
      "Epoch 126/150\n",
      "350/350 [==============================] - 2s 4ms/step - loss: 0.7763 - accuracy: 0.6938 - val_loss: 0.8152 - val_accuracy: 0.6614\n",
      "Epoch 127/150\n",
      "350/350 [==============================] - 2s 5ms/step - loss: 0.7779 - accuracy: 0.6908 - val_loss: 0.8235 - val_accuracy: 0.6559\n",
      "Epoch 128/150\n",
      "350/350 [==============================] - 2s 5ms/step - loss: 0.7744 - accuracy: 0.6944 - val_loss: 0.8208 - val_accuracy: 0.6574\n",
      "Epoch 129/150\n",
      "350/350 [==============================] - 2s 5ms/step - loss: 0.7754 - accuracy: 0.6945 - val_loss: 0.7892 - val_accuracy: 0.6846\n",
      "Epoch 130/150\n",
      "350/350 [==============================] - 2s 5ms/step - loss: 0.7811 - accuracy: 0.6935 - val_loss: 0.7966 - val_accuracy: 0.6745\n",
      "Epoch 131/150\n",
      "350/350 [==============================] - 2s 5ms/step - loss: 0.7784 - accuracy: 0.6941 - val_loss: 0.7925 - val_accuracy: 0.6660\n",
      "Epoch 132/150\n",
      "350/350 [==============================] - 2s 4ms/step - loss: 0.7786 - accuracy: 0.6936 - val_loss: 0.8223 - val_accuracy: 0.6565\n",
      "Epoch 133/150\n",
      "350/350 [==============================] - 2s 5ms/step - loss: 0.7757 - accuracy: 0.6930 - val_loss: 0.8241 - val_accuracy: 0.6716\n",
      "Epoch 134/150\n",
      "350/350 [==============================] - 2s 5ms/step - loss: 0.7778 - accuracy: 0.6938 - val_loss: 0.7964 - val_accuracy: 0.6685\n",
      "Epoch 135/150\n",
      "350/350 [==============================] - 2s 5ms/step - loss: 0.7704 - accuracy: 0.6973 - val_loss: 0.8086 - val_accuracy: 0.6592\n",
      "Epoch 136/150\n",
      "350/350 [==============================] - 2s 5ms/step - loss: 0.7705 - accuracy: 0.6966 - val_loss: 0.7931 - val_accuracy: 0.6761\n",
      "Epoch 137/150\n",
      "350/350 [==============================] - 2s 5ms/step - loss: 0.7815 - accuracy: 0.6915 - val_loss: 0.8038 - val_accuracy: 0.6614\n",
      "Epoch 138/150\n",
      "350/350 [==============================] - 2s 5ms/step - loss: 0.7746 - accuracy: 0.6944 - val_loss: 0.8265 - val_accuracy: 0.6596\n",
      "Epoch 139/150\n",
      "350/350 [==============================] - 2s 4ms/step - loss: 0.7735 - accuracy: 0.6960 - val_loss: 0.8179 - val_accuracy: 0.6569\n",
      "Epoch 140/150\n",
      "350/350 [==============================] - 2s 4ms/step - loss: 0.7652 - accuracy: 0.7010 - val_loss: 0.7988 - val_accuracy: 0.6796\n",
      "Epoch 141/150\n",
      "350/350 [==============================] - 2s 4ms/step - loss: 0.7681 - accuracy: 0.7006 - val_loss: 0.8046 - val_accuracy: 0.6579\n",
      "Epoch 142/150\n",
      "350/350 [==============================] - 2s 5ms/step - loss: 0.7754 - accuracy: 0.6946 - val_loss: 0.8216 - val_accuracy: 0.6619\n",
      "Epoch 143/150\n",
      "350/350 [==============================] - 2s 5ms/step - loss: 0.7694 - accuracy: 0.6981 - val_loss: 0.8177 - val_accuracy: 0.6703\n",
      "Epoch 144/150\n",
      "350/350 [==============================] - 2s 4ms/step - loss: 0.7683 - accuracy: 0.6995 - val_loss: 0.8032 - val_accuracy: 0.6627\n",
      "Epoch 145/150\n",
      "350/350 [==============================] - 2s 5ms/step - loss: 0.7651 - accuracy: 0.6999 - val_loss: 0.8267 - val_accuracy: 0.6578\n",
      "Epoch 146/150\n",
      "350/350 [==============================] - 2s 5ms/step - loss: 0.7730 - accuracy: 0.6943 - val_loss: 0.8220 - val_accuracy: 0.6651\n",
      "Epoch 147/150\n",
      "350/350 [==============================] - 2s 5ms/step - loss: 0.7736 - accuracy: 0.6946 - val_loss: 0.8190 - val_accuracy: 0.6632\n",
      "Epoch 148/150\n",
      "350/350 [==============================] - 2s 5ms/step - loss: 0.7785 - accuracy: 0.6925 - val_loss: 0.8400 - val_accuracy: 0.6563\n",
      "Epoch 149/150\n",
      "350/350 [==============================] - 2s 5ms/step - loss: 0.7730 - accuracy: 0.6963 - val_loss: 0.8137 - val_accuracy: 0.6577\n",
      "Epoch 150/150\n",
      "350/350 [==============================] - 2s 5ms/step - loss: 0.7693 - accuracy: 0.6953 - val_loss: 0.8148 - val_accuracy: 0.6608\n"
     ]
    }
   ],
   "source": [
    "# train model\n",
    "history = model.fit(x_train, y_train, validation_data=(x_val, y_val), epochs=150, batch_size=100, verbose=1)"
   ]
  },
  {
   "cell_type": "markdown",
   "metadata": {
    "id": "mCXw2xaUJQ_l"
   },
   "source": [
    "# Deep Neural Network Model in Keras\n"
   ]
  },
  {
   "cell_type": "code",
   "execution_count": 28,
   "metadata": {
    "id": "CXwt6I_yqkau"
   },
   "outputs": [],
   "source": [
    "# Reverse array dimension changes for LSTM\n",
    "x_train = x_train[:, :, 0]\n",
    "x_val = x_val[:, :, 0]\n",
    "x_test = x_test[:, :, 0]"
   ]
  },
  {
   "cell_type": "code",
   "execution_count": null,
   "metadata": {
    "id": "KJ5ywCqflQi0"
   },
   "outputs": [],
   "source": [
    "#Prepare labels data \n",
    "#Needed ONLY for categorical_crossentropy loss function\n",
    "y_train = to_categorical(y_train)\n",
    "y_val = to_categorical(y_val)\n",
    "y_test = to_categorical(y_test)"
   ]
  },
  {
   "cell_type": "code",
   "execution_count": 29,
   "metadata": {
    "colab": {
     "base_uri": "https://localhost:8080/"
    },
    "id": "-DyMELaTeUqD",
    "outputId": "da3a2686-025e-4674-c6e9-e9ee1beff936"
   },
   "outputs": [
    {
     "name": "stdout",
     "output_type": "stream",
     "text": [
      "Model: \"sequential_1\"\n",
      "_________________________________________________________________\n",
      "Layer (type)                 Output Shape              Param #   \n",
      "=================================================================\n",
      "dense_2 (Dense)              (None, 30)                150       \n",
      "_________________________________________________________________\n",
      "dense_3 (Dense)              (None, 3)                 93        \n",
      "=================================================================\n",
      "Total params: 243\n",
      "Trainable params: 243\n",
      "Non-trainable params: 0\n",
      "_________________________________________________________________\n"
     ]
    }
   ],
   "source": [
    "# define the keras model\n",
    "num_classes = 3\n",
    "\n",
    "model = Sequential()\n",
    "model.add(Dense(30, input_dim= x_train.shape[1], activation='relu'))\n",
    "#model.add(Dense(60, activation='relu'))\n",
    "model.add(Dense(num_classes, activation='softmax')) #Last layer corresponds with the number of possible outputs\n",
    "\n",
    "# compile the keras model\n",
    "opt = SGD(learning_rate=0.01, momentum=0.9)\n",
    "\n",
    "model.compile(loss= 'categorical_crossentropy', optimizer= 'adam', metrics=['accuracy'])\n",
    "model.summary()"
   ]
  },
  {
   "cell_type": "markdown",
   "metadata": {
    "id": "z7L-f61Kr9Qm"
   },
   "source": [
    "Train Model"
   ]
  },
  {
   "cell_type": "code",
   "execution_count": null,
   "metadata": {
    "id": "O1byX-NigRhU"
   },
   "outputs": [],
   "source": [
    "# fit the keras model on the dataset\n",
    "history = model.fit(x_train, y_train, validation_data=(x_val, y_val), epochs=50, batch_size=180, verbose=1)"
   ]
  },
  {
   "cell_type": "markdown",
   "metadata": {
    "id": "b7wDeVitsAE-"
   },
   "source": [
    "# Evaluate Model on Test Data"
   ]
  },
  {
   "cell_type": "code",
   "execution_count": 14,
   "metadata": {
    "colab": {
     "base_uri": "https://localhost:8080/"
    },
    "id": "6Ew4p3YooK3m",
    "outputId": "c47f059b-3bf0-4c3b-8581-fb016a8ec325"
   },
   "outputs": [
    {
     "name": "stdout",
     "output_type": "stream",
     "text": [
      "156/156 [==============================] - 0s 2ms/step - loss: 0.8087 - accuracy: 0.6796\n",
      "Test accuracy 0.6795668601989746\n",
      "Test loss 0.8087331056594849\n"
     ]
    }
   ],
   "source": [
    "# evaluate the model\n",
    "test_loss, test_acc = model.evaluate(x_test, y_test)\n",
    "\n",
    "print(\"Test accuracy\", test_acc)\n",
    "print(\"Test loss\", test_loss)"
   ]
  },
  {
   "cell_type": "code",
   "execution_count": 15,
   "metadata": {
    "colab": {
     "base_uri": "https://localhost:8080/",
     "height": 573
    },
    "id": "EfMvpYkxYYU4",
    "outputId": "56609ce8-0c8e-4bee-d1d9-d500e1ec99e8"
   },
   "outputs": [
    {
     "data": {
      "image/png": "[encoded data removed]",
      "text/plain": [
       "<Figure size 432x288 with 1 Axes>"
      ]
     },
     "metadata": {
      "needs_background": "light",
      "tags": []
     },
     "output_type": "display_data"
    },
    {
     "data": {
      "image/png": "[encoded data removed]",
      "text/plain": [
       "<Figure size 432x288 with 1 Axes>"
      ]
     },
     "metadata": {
      "needs_background": "light",
      "tags": []
     },
     "output_type": "display_data"
    }
   ],
   "source": [
    "# summarize history for accuracy\n",
    "plt.plot(history.history['accuracy'])\n",
    "plt.plot(history.history['val_accuracy'])\n",
    "plt.title('model accuracy')\n",
    "plt.ylabel('accuracy')\n",
    "plt.xlabel('epoch')\n",
    "plt.legend(['train', 'validation'], loc='upper left')\n",
    "plt.show()\n",
    "# summarize history for loss\n",
    "plt.plot(history.history['loss'])\n",
    "plt.plot(history.history['val_loss'])\n",
    "plt.title('model loss')\n",
    "plt.ylabel('loss')\n",
    "plt.xlabel('epoch')\n",
    "plt.legend(['train', 'validation'], loc='upper left')\n",
    "plt.show()"
   ]
  },
  {
   "cell_type": "markdown",
   "metadata": {
    "id": "8Nxau1E-x3gN"
   },
   "source": [
    "Confusion Matrix for LSTM"
   ]
  },
  {
   "cell_type": "code",
   "execution_count": 16,
   "metadata": {
    "id": "WQvwXcUWu5qY"
   },
   "outputs": [],
   "source": [
    "def show_confusion_matrix(validations, predictions):\n",
    "\n",
    "    matrix = metrics.confusion_matrix(validations, predictions)\n",
    "    plt.figure(figsize=(6, 4))\n",
    "    sns.heatmap(matrix,\n",
    "                cmap='coolwarm',\n",
    "                linecolor='white',\n",
    "                linewidths=1,\n",
    "                #xticklabels=LABELS,\n",
    "                #yticklabels='0','1','2',\n",
    "                annot=True,\n",
    "                fmt='d')\n",
    "    plt.title('Confusion Matrix')\n",
    "    plt.ylabel('True Label')\n",
    "    plt.xlabel('Predicted Label')\n",
    "    plt.show()"
   ]
  },
  {
   "cell_type": "code",
   "execution_count": 17,
   "metadata": {
    "colab": {
     "base_uri": "https://localhost:8080/",
     "height": 476
    },
    "id": "pOuDDvS2u-cd",
    "outputId": "7093d741-ff05-4dc8-d0cd-cd8a359b51bf"
   },
   "outputs": [
    {
     "data": {
      "image/png": "[encoded data removed]",
      "text/plain": [
       "<Figure size 432x288 with 2 Axes>"
      ]
     },
     "metadata": {
      "needs_background": "light",
      "tags": []
     },
     "output_type": "display_data"
    },
    {
     "name": "stdout",
     "output_type": "stream",
     "text": [
      "              precision    recall  f1-score   support\n",
      "\n",
      "           0       0.46      0.07      0.12       366\n",
      "           1       0.68      0.99      0.81      3395\n",
      "           2       0.21      0.00      0.01      1226\n",
      "\n",
      "    accuracy                           0.68      4987\n",
      "   macro avg       0.45      0.35      0.31      4987\n",
      "weighted avg       0.55      0.68      0.56      4987\n",
      "\n"
     ]
    }
   ],
   "source": [
    "y_pred_test = model.predict(x_test)\n",
    "# Take the class with the highest probability from the test predictions\n",
    "max_y_pred_test = np.argmax(y_pred_test, axis=1)\n",
    "max_y_test = np.argmax(y_test, axis=1)\n",
    "\n",
    "show_confusion_matrix(max_y_test, max_y_pred_test)\n",
    "\n",
    "print(classification_report(max_y_test, max_y_pred_test))"
   ]
  },
  {
   "cell_type": "markdown",
   "metadata": {
    "id": "Bm_F9L2umUnx"
   },
   "source": [
    "# Predictions"
   ]
  },
  {
   "cell_type": "code",
   "execution_count": null,
   "metadata": {
    "id": "-3AwFe0E7aPG"
   },
   "outputs": [],
   "source": [
    "# test the trained model with the full x_test\n",
    "predictions = model.predict(x_test)"
   ]
  },
  {
   "cell_type": "code",
   "execution_count": null,
   "metadata": {
    "colab": {
     "base_uri": "https://localhost:8080/"
    },
    "id": "frOwP6RL7ghF",
    "outputId": "2912a708-caef-429a-fc54-ee6ab0f7af00"
   },
   "outputs": [
    {
     "data": {
      "text/plain": [
       "(array([0.02846027, 0.89990205, 0.07163768], dtype=float32),\n",
       " array([0., 1., 0.], dtype=float32))"
      ]
     },
     "execution_count": 74,
     "metadata": {
      "tags": []
     },
     "output_type": "execute_result"
    }
   ],
   "source": [
    "predictions[0], y_test[0]"
   ]
  },
  {
   "cell_type": "code",
   "execution_count": null,
   "metadata": {
    "colab": {
     "base_uri": "https://localhost:8080/"
    },
    "id": "Tnjgb73S7yDd",
    "outputId": "b3e7e996-b9cb-43c2-88b9-6ccb62a7b194"
   },
   "outputs": [
    {
     "data": {
      "text/plain": [
       "(array([0.05969261, 0.7548642 , 0.18544324], dtype=float32),\n",
       " array([0., 1., 0.], dtype=float32))"
      ]
     },
     "execution_count": 75,
     "metadata": {
      "tags": []
     },
     "output_type": "execute_result"
    }
   ],
   "source": [
    "predictions[500], y_test[500]"
   ]
  },
  {
   "cell_type": "code",
   "execution_count": null,
   "metadata": {
    "colab": {
     "base_uri": "https://localhost:8080/"
    },
    "id": "gi4CQeJA707J",
    "outputId": "2f731027-9cca-432b-d998-100fab265aad"
   },
   "outputs": [
    {
     "data": {
      "text/plain": [
       "(array([0.06639516, 0.5557858 , 0.37781912], dtype=float32),\n",
       " array([0., 1., 0.], dtype=float32))"
      ]
     },
     "execution_count": 76,
     "metadata": {
      "tags": []
     },
     "output_type": "execute_result"
    }
   ],
   "source": [
    "predictions[800], y_test[800]"
   ]
  },
  {
   "cell_type": "code",
   "execution_count": null,
   "metadata": {
    "colab": {
     "base_uri": "https://localhost:8080/"
    },
    "id": "9KWU4Uyi723q",
    "outputId": "2a9cb662-403f-40e2-9f39-fcaa7668db56"
   },
   "outputs": [
    {
     "data": {
      "text/plain": [
       "(array([0.04926674, 0.74609387, 0.20463938], dtype=float32),\n",
       " array([0., 1., 0.], dtype=float32))"
      ]
     },
     "execution_count": 77,
     "metadata": {
      "tags": []
     },
     "output_type": "execute_result"
    }
   ],
   "source": [
    "predictions[1200], y_test[1200]"
   ]
  },
  {
   "cell_type": "code",
   "execution_count": 51,
   "metadata": {
    "colab": {
     "base_uri": "https://localhost:8080/",
     "height": 171
    },
    "id": "LevQdew074E-",
    "outputId": "2fc1b41c-16ce-4fb6-c2bd-5bbcddf127e6"
   },
   "outputs": [
    {
     "ename": "NameError",
     "evalue": "ignored",
     "output_type": "error",
     "traceback": [
      "\u001b[0;31m---------------------------------------------------------------------------\u001b[0m",
      "\u001b[0;31mNameError\u001b[0m                                 Traceback (most recent call last)",
      "\u001b[0;32m<ipython-input-51-fbaca9589ac0>\u001b[0m in \u001b[0;36m<module>\u001b[0;34m()\u001b[0m\n\u001b[0;32m----> 1\u001b[0;31m \u001b[0mpredictions\u001b[0m\u001b[0;34m[\u001b[0m\u001b[0;36m2000\u001b[0m\u001b[0;34m]\u001b[0m\u001b[0;34m,\u001b[0m \u001b[0my_test\u001b[0m\u001b[0;34m[\u001b[0m\u001b[0;36m2000\u001b[0m\u001b[0;34m]\u001b[0m \u001b[0;31m# bad prediction\u001b[0m\u001b[0;34m\u001b[0m\u001b[0;34m\u001b[0m\u001b[0m\n\u001b[0m",
      "\u001b[0;31mNameError\u001b[0m: name 'predictions' is not defined"
     ]
    }
   ],
   "source": [
    "predictions[2000], y_test[2000] # bad prediction"
   ]
  },
  {
   "cell_type": "code",
   "execution_count": null,
   "metadata": {
    "colab": {
     "base_uri": "https://localhost:8080/"
    },
    "id": "qMCdP_Dk8GXX",
    "outputId": "5daf39d5-766e-4949-e3ac-9a0c783a738a"
   },
   "outputs": [
    {
     "data": {
      "text/plain": [
       "(array([0.05789682, 0.83688635, 0.10521688], dtype=float32),\n",
       " array([0., 1., 0.], dtype=float32))"
      ]
     },
     "execution_count": 85,
     "metadata": {
      "tags": []
     },
     "output_type": "execute_result"
    }
   ],
   "source": [
    "predictions[2400], y_test[2400]"
   ]
  },
  {
   "cell_type": "code",
   "execution_count": 44,
   "metadata": {
    "colab": {
     "base_uri": "https://localhost:8080/",
     "height": 189
    },
    "id": "pssKjwnzT2Kw",
    "outputId": "16efa001-9da0-487b-cef5-3361833263f1"
   },
   "outputs": [
    {
     "ename": "NameError",
     "evalue": "ignored",
     "output_type": "error",
     "traceback": [
      "\u001b[0;31m---------------------------------------------------------------------------\u001b[0m",
      "\u001b[0;31mNameError\u001b[0m                                 Traceback (most recent call last)",
      "\u001b[0;32m<ipython-input-44-e6c2fb9ef533>\u001b[0m in \u001b[0;36m<module>\u001b[0;34m()\u001b[0m\n\u001b[1;32m      1\u001b[0m \u001b[0;32mfor\u001b[0m \u001b[0mi\u001b[0m \u001b[0;32min\u001b[0m \u001b[0mrange\u001b[0m\u001b[0;34m(\u001b[0m\u001b[0;36m2000\u001b[0m\u001b[0;34m)\u001b[0m\u001b[0;34m:\u001b[0m\u001b[0;34m\u001b[0m\u001b[0;34m\u001b[0m\u001b[0m\n\u001b[0;32m----> 2\u001b[0;31m     \u001b[0mpredictions\u001b[0m\u001b[0;34m[\u001b[0m\u001b[0mi\u001b[0m\u001b[0;34m]\u001b[0m\u001b[0;34m\u001b[0m\u001b[0;34m\u001b[0m\u001b[0m\n\u001b[0m",
      "\u001b[0;31mNameError\u001b[0m: name 'predictions' is not defined"
     ]
    }
   ],
   "source": [
    "for i in range(2000):\n",
    "    predictions[i]"
   ]
  },
  {
   "cell_type": "code",
   "execution_count": 23,
   "metadata": {
    "id": "rfCI7Vg7FL9H"
   },
   "outputs": [],
   "source": [
    "# fit and evaluate a model\n",
    "def evaluate_model(trainX, trainy, valX, valy):\n",
    "    verbose, epochs, batch_size = 1, 100, 100\n",
    "\n",
    "    n_timesteps = trainX.shape[1]\n",
    "    n_features = trainX.shape[2]\n",
    "    n_outputs = 3\n",
    "\n",
    "    model = Sequential()\n",
    "    model.add(LSTM(180, input_shape=(n_timesteps,n_features)))\n",
    "    model.add(Dropout(0.5))\n",
    "    model.add(Dense(30, activation='relu'))\n",
    "    model.add(Dense(n_outputs, activation='softmax'))\n",
    "    model.compile(loss='categorical_crossentropy', optimizer='adam', metrics=['accuracy'])\n",
    "    #model.summary()\n",
    "\t# fit network\n",
    "    history = model.fit(trainX, trainy, validation_data=(valX, valy), epochs=epochs, batch_size=batch_size, verbose=verbose)\n",
    "\t# evaluate model\n",
    "    _, accuracy = model.evaluate(trainX, trainy, batch_size=batch_size, verbose=verbose)\n",
    "    return accuracy"
   ]
  },
  {
   "cell_type": "code",
   "execution_count": 24,
   "metadata": {
    "id": "QCa2HSctcf43"
   },
   "outputs": [],
   "source": [
    "# summarize scores\n",
    "def summarize_results(scores):\n",
    "\tprint(scores)\n",
    "\tm, s = mean(scores), std(scores)\n",
    "\tprint('Accuracy: %.3f%% (+/-%.3f)' % (m, s))"
   ]
  },
  {
   "cell_type": "code",
   "execution_count": 25,
   "metadata": {
    "id": "jNEIszs7KyPf"
   },
   "outputs": [],
   "source": [
    "def run_experiment(repeats=2):\n",
    "\t# repeat experiment\n",
    "\tscores = list()\n",
    "\tfor r in range(repeats):\n",
    "\t\tscore = evaluate_model(x_train, y_train, x_val, y_val)\n",
    "\t\tscore = score * 100.0\n",
    "\t\tprint('>#%d: %.3f' % (r+1, score))\n",
    "\t\tscores.append(score)\n",
    "\t# summarize results\n",
    "\tsummarize_results(scores)"
   ]
  },
  {
   "cell_type": "code",
   "execution_count": null,
   "metadata": {
    "id": "dtBkv70avWlK"
   },
   "outputs": [],
   "source": [
    "#Train model just 1 time\n",
    "evaluate_model(x_train, y_train, x_val, y_val)"
   ]
  },
  {
   "cell_type": "code",
   "execution_count": null,
   "metadata": {
    "colab": {
     "base_uri": "https://localhost:8080/"
    },
    "id": "_omjXmBSLEmr",
    "outputId": "705e130e-3222-482a-f063-056e92ff21b6"
   },
   "outputs": [
    {
     "name": "stdout",
     "output_type": "stream",
     "text": [
      ">#1: 72.368\n",
      ">#2: 72.610\n",
      ">#3: 73.087\n",
      "[72.36849069595337, 72.60979413986206, 73.08703064918518]\n",
      "Accuracy: 72.688% (+/-0.299)\n"
     ]
    }
   ],
   "source": [
    "#Run full training experiment\n",
    "run_experiment()"
   ]
  }
 ],
 "metadata": {
  "accelerator": "GPU",
  "colab": {
   "collapsed_sections": [],
   "name": "model_training.ipynb",
   "provenance": []
  },
  "kernelspec": {
   "display_name": "Python 3",
   "language": "python",
   "name": "python3"
  },
  "language_info": {
   "codemirror_mode": {
    "name": "ipython",
    "version": 3
   },
   "file_extension": ".py",
   "mimetype": "text/x-python",
   "name": "python",
   "nbconvert_exporter": "python",
   "pygments_lexer": "ipython3",
   "version": "3.8.5"
  }
 },
 "nbformat": 4,
 "nbformat_minor": 1
}
