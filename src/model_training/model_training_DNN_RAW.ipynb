{
  "nbformat": 4,
  "nbformat_minor": 0,
  "metadata": {
    "accelerator": "GPU",
    "colab": {
      "name": "model_training_DNN.ipynb",
      "provenance": [],
      "collapsed_sections": []
    },
    "kernelspec": {
      "display_name": "Python 3",
      "language": "python",
      "name": "python3"
    },
    "language_info": {
      "codemirror_mode": {
        "name": "ipython",
        "version": 3
      },
      "file_extension": ".py",
      "mimetype": "text/x-python",
      "name": "python",
      "nbconvert_exporter": "python",
      "pygments_lexer": "ipython3",
      "version": "3.8.5"
    }
  },
  "cells": [
    {
      "cell_type": "code",
      "metadata": {
        "id": "5iB8fV6iWeQs",
        "colab": {
          "base_uri": "https://localhost:8080/"
        },
        "outputId": "cb6e90f1-50fe-4e7c-eac2-22867d729717"
      },
      "source": [
        "import pandas as pd\n",
        "import numpy as np\n",
        "import tensorflow as tf\n",
        "import matplotlib.pyplot as plt\n",
        "import os\n",
        "import re\n",
        "import glob\n",
        "import seaborn as sns\n",
        "from numpy import mean, std\n",
        "from scipy import stats\n",
        "from tensorflow import keras\n",
        "from tensorflow.keras import layers\n",
        "from keras.models import Sequential\n",
        "from keras.callbacks import History \n",
        "from keras.layers import Dense, Dropout, Flatten\n",
        "from keras.optimizers import SGD\n",
        "from keras.utils.np_utils import to_categorical\n",
        "from sklearn import metrics\n",
        "from sklearn.metrics import classification_report\n",
        "\n",
        "!pip install autofeat\n",
        "from autofeat import FeatureSelector, AutoFeatRegressor"
      ],
      "execution_count": 1,
      "outputs": [
        {
          "output_type": "stream",
          "text": [
            "Collecting autofeat\n",
            "  Downloading autofeat-2.0.9-py3-none-any.whl (24 kB)\n",
            "Requirement already satisfied: numpy in /usr/local/lib/python3.7/dist-packages (from autofeat) (1.19.5)\n",
            "Requirement already satisfied: future in /usr/local/lib/python3.7/dist-packages (from autofeat) (0.16.0)\n",
            "Requirement already satisfied: joblib in /usr/local/lib/python3.7/dist-packages (from autofeat) (1.0.1)\n",
            "Requirement already satisfied: sympy>=1.7.1 in /usr/local/lib/python3.7/dist-packages (from autofeat) (1.7.1)\n",
            "Requirement already satisfied: scikit-learn in /usr/local/lib/python3.7/dist-packages (from autofeat) (0.22.2.post1)\n",
            "Collecting pint\n",
            "  Downloading Pint-0.17-py2.py3-none-any.whl (204 kB)\n",
            "\u001b[K     |████████████████████████████████| 204 kB 7.9 MB/s \n",
            "\u001b[?25hRequirement already satisfied: pandas>=0.24.0 in /usr/local/lib/python3.7/dist-packages (from autofeat) (1.1.5)\n",
            "Requirement already satisfied: numba in /usr/local/lib/python3.7/dist-packages (from autofeat) (0.51.2)\n",
            "Requirement already satisfied: python-dateutil>=2.7.3 in /usr/local/lib/python3.7/dist-packages (from pandas>=0.24.0->autofeat) (2.8.1)\n",
            "Requirement already satisfied: pytz>=2017.2 in /usr/local/lib/python3.7/dist-packages (from pandas>=0.24.0->autofeat) (2018.9)\n",
            "Requirement already satisfied: six>=1.5 in /usr/local/lib/python3.7/dist-packages (from python-dateutil>=2.7.3->pandas>=0.24.0->autofeat) (1.15.0)\n",
            "Requirement already satisfied: mpmath>=0.19 in /usr/local/lib/python3.7/dist-packages (from sympy>=1.7.1->autofeat) (1.2.1)\n",
            "Requirement already satisfied: setuptools in /usr/local/lib/python3.7/dist-packages (from numba->autofeat) (57.2.0)\n",
            "Requirement already satisfied: llvmlite<0.35,>=0.34.0.dev0 in /usr/local/lib/python3.7/dist-packages (from numba->autofeat) (0.34.0)\n",
            "Requirement already satisfied: packaging in /usr/local/lib/python3.7/dist-packages (from pint->autofeat) (21.0)\n",
            "Requirement already satisfied: importlib-metadata in /usr/local/lib/python3.7/dist-packages (from pint->autofeat) (4.6.1)\n",
            "Requirement already satisfied: zipp>=0.5 in /usr/local/lib/python3.7/dist-packages (from importlib-metadata->pint->autofeat) (3.5.0)\n",
            "Requirement already satisfied: typing-extensions>=3.6.4 in /usr/local/lib/python3.7/dist-packages (from importlib-metadata->pint->autofeat) (3.7.4.3)\n",
            "Requirement already satisfied: pyparsing>=2.0.2 in /usr/local/lib/python3.7/dist-packages (from packaging->pint->autofeat) (2.4.7)\n",
            "Requirement already satisfied: scipy>=0.17.0 in /usr/local/lib/python3.7/dist-packages (from scikit-learn->autofeat) (1.4.1)\n",
            "Installing collected packages: pint, autofeat\n",
            "Successfully installed autofeat-2.0.9 pint-0.17\n"
          ],
          "name": "stdout"
        }
      ]
    },
    {
      "cell_type": "markdown",
      "metadata": {
        "id": "1R0wTJdcZzA9"
      },
      "source": [
        "# Load Dataset\n",
        "\n",
        "Load Dataset, concatenate data and count Rows and Columns"
      ]
    },
    {
      "cell_type": "code",
      "metadata": {
        "id": "uge8UaRLVvuT"
      },
      "source": [
        "# Download dataset from Github and unzip\n",
        "!wget 'https://github.com/cargilgar/Smart-Alarm-using-tinyML/raw/main/dataset/dataset-1-1.zip'\n",
        "\n",
        "!unzip dataset-1-1.zip"
      ],
      "execution_count": null,
      "outputs": []
    },
    {
      "cell_type": "code",
      "metadata": {
        "colab": {
          "base_uri": "https://localhost:8080/"
        },
        "id": "wnPZDI9BFk2Z",
        "outputId": "ba234744-4b0f-4a31-f26c-5f73f90f0588"
      },
      "source": [
        "# Download RAW dataset from Drive and unzip\n",
        "!wget --load-cookies /tmp/cookies.txt \"https://docs.google.com/uc?export=download&confirm=$(wget --quiet --save-cookies /tmp/cookies.txt --keep-session-cookies --no-check-certificate 'https://docs.google.com/uc?export=download&id=1IBJjxb8W2vNKA-SyNZIwC5uovWDk9EmA' -O- | sed -rn 's/.*confirm=([0-9A-Za-z_]+).*/\\1\\n/p')&id=1IBJjxb8W2vNKA-SyNZIwC5uovWDk9EmA\" -O RAW_dataset.zip && rm -rf /tmp/cookies.txt\n",
        "!unzip RAW_dataset.zip"
      ],
      "execution_count": 2,
      "outputs": [
        {
          "output_type": "stream",
          "text": [
            "--2021-07-28 17:47:02--  https://docs.google.com/uc?export=download&confirm=Fi4M&id=1IBJjxb8W2vNKA-SyNZIwC5uovWDk9EmA\n",
            "Resolving docs.google.com (docs.google.com)... 108.177.98.138, 108.177.98.102, 108.177.98.113, ...\n",
            "Connecting to docs.google.com (docs.google.com)|108.177.98.138|:443... connected.\n",
            "HTTP request sent, awaiting response... 302 Moved Temporarily\n",
            "Location: https://doc-04-5c-docs.googleusercontent.com/docs/securesc/d12oq7gp55c0pb0grfj4clg195dt89an/pifh2til53hag9s1kms3kt2ufvhq8ebq/1627494375000/00345810038803350295/09534835879564150709Z/1IBJjxb8W2vNKA-SyNZIwC5uovWDk9EmA?e=download [following]\n",
            "--2021-07-28 17:47:02--  https://doc-04-5c-docs.googleusercontent.com/docs/securesc/d12oq7gp55c0pb0grfj4clg195dt89an/pifh2til53hag9s1kms3kt2ufvhq8ebq/1627494375000/00345810038803350295/09534835879564150709Z/1IBJjxb8W2vNKA-SyNZIwC5uovWDk9EmA?e=download\n",
            "Resolving doc-04-5c-docs.googleusercontent.com (doc-04-5c-docs.googleusercontent.com)... 74.125.195.132, 2607:f8b0:400e:c09::84\n",
            "Connecting to doc-04-5c-docs.googleusercontent.com (doc-04-5c-docs.googleusercontent.com)|74.125.195.132|:443... connected.\n",
            "HTTP request sent, awaiting response... 302 Found\n",
            "Location: https://docs.google.com/nonceSigner?nonce=67567gg4ippa4&continue=https://doc-04-5c-docs.googleusercontent.com/docs/securesc/d12oq7gp55c0pb0grfj4clg195dt89an/pifh2til53hag9s1kms3kt2ufvhq8ebq/1627494375000/00345810038803350295/09534835879564150709Z/1IBJjxb8W2vNKA-SyNZIwC5uovWDk9EmA?e%3Ddownload&hash=9d2g7q71tro5a2m1u9c2l697d81q5s03 [following]\n",
            "--2021-07-28 17:47:02--  https://docs.google.com/nonceSigner?nonce=67567gg4ippa4&continue=https://doc-04-5c-docs.googleusercontent.com/docs/securesc/d12oq7gp55c0pb0grfj4clg195dt89an/pifh2til53hag9s1kms3kt2ufvhq8ebq/1627494375000/00345810038803350295/09534835879564150709Z/1IBJjxb8W2vNKA-SyNZIwC5uovWDk9EmA?e%3Ddownload&hash=9d2g7q71tro5a2m1u9c2l697d81q5s03\n",
            "Connecting to docs.google.com (docs.google.com)|108.177.98.138|:443... connected.\n",
            "HTTP request sent, awaiting response... 302 Found\n",
            "Location: https://doc-04-5c-docs.googleusercontent.com/docs/securesc/d12oq7gp55c0pb0grfj4clg195dt89an/pifh2til53hag9s1kms3kt2ufvhq8ebq/1627494375000/00345810038803350295/09534835879564150709Z/1IBJjxb8W2vNKA-SyNZIwC5uovWDk9EmA?e=download&nonce=67567gg4ippa4&user=09534835879564150709Z&hash=mnlja4idimgm991pfcomscflo94t2v24 [following]\n",
            "--2021-07-28 17:47:02--  https://doc-04-5c-docs.googleusercontent.com/docs/securesc/d12oq7gp55c0pb0grfj4clg195dt89an/pifh2til53hag9s1kms3kt2ufvhq8ebq/1627494375000/00345810038803350295/09534835879564150709Z/1IBJjxb8W2vNKA-SyNZIwC5uovWDk9EmA?e=download&nonce=67567gg4ippa4&user=09534835879564150709Z&hash=mnlja4idimgm991pfcomscflo94t2v24\n",
            "Connecting to doc-04-5c-docs.googleusercontent.com (doc-04-5c-docs.googleusercontent.com)|74.125.195.132|:443... connected.\n",
            "HTTP request sent, awaiting response... 200 OK\n",
            "Length: unspecified [application/x-zip-compressed]\n",
            "Saving to: ‘RAW_dataset.zip’\n",
            "\n",
            "RAW_dataset.zip         [           <=>      ] 449.72M  84.1MB/s    in 5.6s    \n",
            "\n",
            "2021-07-28 17:47:08 (80.6 MB/s) - ‘RAW_dataset.zip’ saved [471569837]\n",
            "\n",
            "Archive:  RAW_dataset.zip\n",
            "   creating: content/output/\n",
            "  inflating: content/output/dataset_1360686.csv  \n",
            "  inflating: content/output/dataset_2638030.csv  \n",
            "  inflating: content/output/dataset_5383425.csv  \n",
            "  inflating: content/output/dataset_5797046.csv  \n",
            "  inflating: content/output/dataset_844359.csv  \n",
            "  inflating: content/output/dataset_5132496.csv  \n",
            "  inflating: content/output/dataset_781756.csv  \n",
            "  inflating: content/output/dataset_9961348.csv  \n",
            "  inflating: content/output/dataset_46343.csv  \n",
            "  inflating: content/output/dataset_5498603.csv  \n",
            "  inflating: content/output/dataset_759667.csv  \n",
            "  inflating: content/output/dataset_9106476.csv  \n",
            "  inflating: content/output/dataset_1818471.csv  \n",
            "  inflating: content/output/dataset_3509524.csv  \n",
            "  inflating: content/output/dataset_4018081.csv  \n",
            "  inflating: content/output/dataset_9618981.csv  \n",
            "  inflating: content/output/dataset_8530312.csv  \n",
            "  inflating: content/output/dataset_3997827.csv  \n",
            "  inflating: content/output/dataset_4426783.csv  \n",
            "  inflating: content/output/dataset_8686948.csv  \n",
            "  inflating: content/output/dataset_8258170.csv  \n",
            "  inflating: content/output/dataset_1449548.csv  \n",
            "  inflating: content/output/dataset_6220552.csv  \n",
            "  inflating: content/output/dataset_4314139.csv  \n",
            "  inflating: content/output/dataset_1066528.csv  \n",
            "  inflating: content/output/dataset_8173033.csv  \n",
            "  inflating: content/output/dataset_8000685.csv  \n",
            "  inflating: content/output/dataset_7749105.csv  \n",
            "  inflating: content/output/dataset_8692923.csv  \n",
            "  inflating: content/output/dataset_1455390.csv  \n",
            "  inflating: content/output/dataset_2598705.csv  \n"
          ],
          "name": "stdout"
        }
      ]
    },
    {
      "cell_type": "code",
      "metadata": {
        "colab": {
          "base_uri": "https://localhost:8080/",
          "height": 453
        },
        "id": "q_LRVocyimd2",
        "outputId": "f213f6da-aae1-4158-bddc-b46dd9873e86"
      },
      "source": [
        "#Create full dataframe with all subject csv's concatenated\n",
        "path = r'content/output/'\n",
        "all_files = glob.glob(path + '/*.csv')\n",
        "\n",
        "li = []\n",
        "acc_rows = 0\n",
        "\n",
        "for filename in all_files:\n",
        "    subject_csv = pd.read_csv(filename, index_col=False)\n",
        "    acc_rows += len(subject_csv.axes[0])\n",
        "\n",
        "    li.append(subject_csv)\n",
        "\n",
        "df = pd.concat(li, axis=0, ignore_index=True)\n",
        "\n",
        "\n",
        "#Save big dataframe as CSV\n",
        "# df.to_csv('all_users_df.csv')\n",
        "\n",
        "#Rows and Columns\n",
        "total_rows = len(df.axes[0]) #===> Axes of 0 is for a row\n",
        "total_cols = len(df.axes[1]) #===> Axes of 1 is for a column\n",
        "print('Number of Rows: ', total_rows)\n",
        "print('Number of Columns: ', total_cols)\n",
        "\n",
        "assert total_rows == acc_rows, 'Number of rows does not match'\n",
        "\n",
        "df"
      ],
      "execution_count": 3,
      "outputs": [
        {
          "output_type": "stream",
          "text": [
            "Number of Rows:  39088370\n",
            "Number of Columns:  6\n"
          ],
          "name": "stdout"
        },
        {
          "output_type": "execute_result",
          "data": {
            "text/html": [
              "<div>\n",
              "<style scoped>\n",
              "    .dataframe tbody tr th:only-of-type {\n",
              "        vertical-align: middle;\n",
              "    }\n",
              "\n",
              "    .dataframe tbody tr th {\n",
              "        vertical-align: top;\n",
              "    }\n",
              "\n",
              "    .dataframe thead th {\n",
              "        text-align: right;\n",
              "    }\n",
              "</style>\n",
              "<table border=\"1\" class=\"dataframe\">\n",
              "  <thead>\n",
              "    <tr style=\"text-align: right;\">\n",
              "      <th></th>\n",
              "      <th>Time</th>\n",
              "      <th>X</th>\n",
              "      <th>Y</th>\n",
              "      <th>Z</th>\n",
              "      <th>Heart Rate</th>\n",
              "      <th>Labels</th>\n",
              "    </tr>\n",
              "  </thead>\n",
              "  <tbody>\n",
              "    <tr>\n",
              "      <th>0</th>\n",
              "      <td>-0.010251</td>\n",
              "      <td>-0.412125</td>\n",
              "      <td>-0.488327</td>\n",
              "      <td>-0.762604</td>\n",
              "      <td>50.0</td>\n",
              "      <td>-1.0</td>\n",
              "    </tr>\n",
              "    <tr>\n",
              "      <th>1</th>\n",
              "      <td>0.009841</td>\n",
              "      <td>-0.410614</td>\n",
              "      <td>-0.489319</td>\n",
              "      <td>-0.765030</td>\n",
              "      <td>50.0</td>\n",
              "      <td>-1.0</td>\n",
              "    </tr>\n",
              "    <tr>\n",
              "      <th>2</th>\n",
              "      <td>0.029706</td>\n",
              "      <td>-0.413101</td>\n",
              "      <td>-0.486374</td>\n",
              "      <td>-0.764114</td>\n",
              "      <td>50.0</td>\n",
              "      <td>-1.0</td>\n",
              "    </tr>\n",
              "    <tr>\n",
              "      <th>3</th>\n",
              "      <td>0.049114</td>\n",
              "      <td>-0.413116</td>\n",
              "      <td>-0.485397</td>\n",
              "      <td>-0.763626</td>\n",
              "      <td>50.0</td>\n",
              "      <td>-1.0</td>\n",
              "    </tr>\n",
              "    <tr>\n",
              "      <th>4</th>\n",
              "      <td>0.059728</td>\n",
              "      <td>-0.413086</td>\n",
              "      <td>-0.486862</td>\n",
              "      <td>-0.766068</td>\n",
              "      <td>50.0</td>\n",
              "      <td>-1.0</td>\n",
              "    </tr>\n",
              "    <tr>\n",
              "      <th>...</th>\n",
              "      <td>...</td>\n",
              "      <td>...</td>\n",
              "      <td>...</td>\n",
              "      <td>...</td>\n",
              "      <td>...</td>\n",
              "      <td>...</td>\n",
              "    </tr>\n",
              "    <tr>\n",
              "      <th>39088365</th>\n",
              "      <td>28919.912974</td>\n",
              "      <td>-0.744400</td>\n",
              "      <td>-0.475861</td>\n",
              "      <td>-0.472366</td>\n",
              "      <td>78.0</td>\n",
              "      <td>-1.0</td>\n",
              "    </tr>\n",
              "    <tr>\n",
              "      <th>39088366</th>\n",
              "      <td>28919.932922</td>\n",
              "      <td>-0.745865</td>\n",
              "      <td>-0.453842</td>\n",
              "      <td>-0.483719</td>\n",
              "      <td>78.0</td>\n",
              "      <td>-1.0</td>\n",
              "    </tr>\n",
              "    <tr>\n",
              "      <th>39088367</th>\n",
              "      <td>28919.952919</td>\n",
              "      <td>-0.750336</td>\n",
              "      <td>-0.454285</td>\n",
              "      <td>-0.475952</td>\n",
              "      <td>78.0</td>\n",
              "      <td>-1.0</td>\n",
              "    </tr>\n",
              "    <tr>\n",
              "      <th>39088368</th>\n",
              "      <td>28919.972819</td>\n",
              "      <td>-0.745392</td>\n",
              "      <td>-0.468979</td>\n",
              "      <td>-0.471939</td>\n",
              "      <td>78.0</td>\n",
              "      <td>-1.0</td>\n",
              "    </tr>\n",
              "    <tr>\n",
              "      <th>39088369</th>\n",
              "      <td>28919.992856</td>\n",
              "      <td>-0.740982</td>\n",
              "      <td>-0.471909</td>\n",
              "      <td>-0.467987</td>\n",
              "      <td>78.0</td>\n",
              "      <td>-1.0</td>\n",
              "    </tr>\n",
              "  </tbody>\n",
              "</table>\n",
              "<p>39088370 rows × 6 columns</p>\n",
              "</div>"
            ],
            "text/plain": [
              "                  Time         X         Y         Z  Heart Rate  Labels\n",
              "0            -0.010251 -0.412125 -0.488327 -0.762604        50.0    -1.0\n",
              "1             0.009841 -0.410614 -0.489319 -0.765030        50.0    -1.0\n",
              "2             0.029706 -0.413101 -0.486374 -0.764114        50.0    -1.0\n",
              "3             0.049114 -0.413116 -0.485397 -0.763626        50.0    -1.0\n",
              "4             0.059728 -0.413086 -0.486862 -0.766068        50.0    -1.0\n",
              "...                ...       ...       ...       ...         ...     ...\n",
              "39088365  28919.912974 -0.744400 -0.475861 -0.472366        78.0    -1.0\n",
              "39088366  28919.932922 -0.745865 -0.453842 -0.483719        78.0    -1.0\n",
              "39088367  28919.952919 -0.750336 -0.454285 -0.475952        78.0    -1.0\n",
              "39088368  28919.972819 -0.745392 -0.468979 -0.471939        78.0    -1.0\n",
              "39088369  28919.992856 -0.740982 -0.471909 -0.467987        78.0    -1.0\n",
              "\n",
              "[39088370 rows x 6 columns]"
            ]
          },
          "metadata": {
            "tags": []
          },
          "execution_count": 3
        }
      ]
    },
    {
      "cell_type": "code",
      "metadata": {
        "id": "VfF67zWlHKH5"
      },
      "source": [
        "# df = df.drop('Time', axis=1)"
      ],
      "execution_count": null,
      "outputs": []
    },
    {
      "cell_type": "markdown",
      "metadata": {
        "id": "CtZo1KmbpU6R"
      },
      "source": [
        "##EDA"
      ]
    },
    {
      "cell_type": "code",
      "metadata": {
        "id": "ZdBsAkimo0c2"
      },
      "source": [
        "fig, ax = plt.subplots()\n",
        "fig.set_size_inches(15,10)\n",
        "ax = sns.boxplot(data=df[['X', 'Y', 'Z']], orient='h')\n",
        "display(ax)"
      ],
      "execution_count": null,
      "outputs": []
    },
    {
      "cell_type": "code",
      "metadata": {
        "id": "FzQwl1uJVwIN"
      },
      "source": [
        "fig, ax = plt.subplots()\n",
        "fig.set_size_inches(15,10)\n",
        "ax = sns.boxplot(data=df[['Heart Rate']],orient='h')\n",
        "display(ax)"
      ],
      "execution_count": null,
      "outputs": []
    },
    {
      "cell_type": "code",
      "metadata": {
        "id": "t1GTL-fiCUsN"
      },
      "source": [
        "'''\n",
        "df = df.drop(df.index[df.X > 0.2])\n",
        "df = df.drop(df.index[df.Y > 0.2])\n",
        "df = df.drop(df.index[df.Z > 0.3])\n",
        "'''"
      ],
      "execution_count": null,
      "outputs": []
    },
    {
      "cell_type": "code",
      "metadata": {
        "id": "A5Jfjy33CwqC"
      },
      "source": [
        "sns.pairplot(df[['X', 'Y', 'Z']], kind=\"scatter\", diag_kind= 'kde', height=4)"
      ],
      "execution_count": null,
      "outputs": []
    },
    {
      "cell_type": "code",
      "metadata": {
        "id": "F3a_rpHjPEf6"
      },
      "source": [
        "#Add interesting Features\n",
        "df['movement_x'] = df['X'] - df['X'].shift()\n",
        "df['movement_y'] = df['Y'] - df['Y'].shift()\n",
        "df['movement_z'] = df['Z'] - df['Z'].shift()\n",
        "df['modulo'] = (df['X']**2 + df['Y']**2 + df['Z']**2)**0.5\n",
        "df['modulo_movement'] = (df['movement_x']**2 + df['movement_y']**2 + df['movement_z']**2)**0.5\n",
        "\n",
        "df"
      ],
      "execution_count": null,
      "outputs": []
    },
    {
      "cell_type": "code",
      "metadata": {
        "id": "WbHg6TIQJIq9"
      },
      "source": [
        "labels = df['Labels']"
      ],
      "execution_count": 4,
      "outputs": []
    },
    {
      "cell_type": "code",
      "metadata": {
        "id": "qym0IUFtzAI7"
      },
      "source": [
        "labels = df['Labels']\n",
        "\n",
        "df_feature = df.drop('Labels', axis=1).fillna(0)\n",
        "target = df['Labels']\n",
        "\n",
        "for steps in range(2):\n",
        "    print(\"### AutoFeat with %i feateng_steps\" % steps)\n",
        "    afreg = AutoFeatRegressor0.(verbose=1, feateng_steps=steps, transformations=('1/','abs', 'sqrt', '^2', '^3'))\n",
        "    df = afreg.fit_transform(df_feature, target)\n",
        "    r2 = afreg.score(df_feature, target)\n",
        "    print(\"## Final R^2: %.4f\" % r2)"
      ],
      "execution_count": null,
      "outputs": []
    },
    {
      "cell_type": "markdown",
      "metadata": {
        "id": "00jGhBmxqSXE"
      },
      "source": [
        "# Labels\n",
        "Initial stages (0-5, wake = 0, N1 = 1, N2 = 2, N3 = 3, REM = 5)\n",
        "\n",
        "Relabeled stages (0-2, wake = 0, NREM = 1, REM = 2)"
      ]
    },
    {
      "cell_type": "code",
      "metadata": {
        "id": "LpPPaSXnoUiW",
        "colab": {
          "base_uri": "https://localhost:8080/",
          "height": 419
        },
        "outputId": "56e558f4-1c20-46bc-8f4c-323a79c42976"
      },
      "source": [
        "# Delete non-labeled Rows\n",
        "df.dropna(inplace=True)\n",
        "\n",
        "df['Labels'] = labels\n",
        "df['Labels'] = df['Labels'].astype(int)\n",
        "\n",
        "df = df.drop(df.index[(df.Labels < 0) | (df.Labels == 4)])\n",
        "\n",
        "# Show labels\n",
        "# Same labels will be reused throughout the program\n",
        "df['Labels'] = df['Labels'].map({0:0,1:1,2:2,3:3,5:4,}, na_action=None)\n",
        "\n",
        "df"
      ],
      "execution_count": 5,
      "outputs": [
        {
          "output_type": "execute_result",
          "data": {
            "text/html": [
              "<div>\n",
              "<style scoped>\n",
              "    .dataframe tbody tr th:only-of-type {\n",
              "        vertical-align: middle;\n",
              "    }\n",
              "\n",
              "    .dataframe tbody tr th {\n",
              "        vertical-align: top;\n",
              "    }\n",
              "\n",
              "    .dataframe thead th {\n",
              "        text-align: right;\n",
              "    }\n",
              "</style>\n",
              "<table border=\"1\" class=\"dataframe\">\n",
              "  <thead>\n",
              "    <tr style=\"text-align: right;\">\n",
              "      <th></th>\n",
              "      <th>Time</th>\n",
              "      <th>X</th>\n",
              "      <th>Y</th>\n",
              "      <th>Z</th>\n",
              "      <th>Heart Rate</th>\n",
              "      <th>Labels</th>\n",
              "    </tr>\n",
              "  </thead>\n",
              "  <tbody>\n",
              "    <tr>\n",
              "      <th>44603</th>\n",
              "      <td>780.004872</td>\n",
              "      <td>-0.275742</td>\n",
              "      <td>0.045319</td>\n",
              "      <td>-0.958908</td>\n",
              "      <td>55.0</td>\n",
              "      <td>0</td>\n",
              "    </tr>\n",
              "    <tr>\n",
              "      <th>44604</th>\n",
              "      <td>780.024316</td>\n",
              "      <td>-0.274734</td>\n",
              "      <td>0.037979</td>\n",
              "      <td>-0.959351</td>\n",
              "      <td>55.0</td>\n",
              "      <td>0</td>\n",
              "    </tr>\n",
              "    <tr>\n",
              "      <th>44605</th>\n",
              "      <td>780.034812</td>\n",
              "      <td>-0.274734</td>\n",
              "      <td>0.032105</td>\n",
              "      <td>-0.956863</td>\n",
              "      <td>55.0</td>\n",
              "      <td>0</td>\n",
              "    </tr>\n",
              "    <tr>\n",
              "      <th>44606</th>\n",
              "      <td>780.054905</td>\n",
              "      <td>-0.272781</td>\n",
              "      <td>0.036514</td>\n",
              "      <td>-0.955872</td>\n",
              "      <td>55.0</td>\n",
              "      <td>0</td>\n",
              "    </tr>\n",
              "    <tr>\n",
              "      <th>44607</th>\n",
              "      <td>780.074797</td>\n",
              "      <td>-0.271271</td>\n",
              "      <td>0.041885</td>\n",
              "      <td>-0.961746</td>\n",
              "      <td>55.0</td>\n",
              "      <td>0</td>\n",
              "    </tr>\n",
              "    <tr>\n",
              "      <th>...</th>\n",
              "      <td>...</td>\n",
              "      <td>...</td>\n",
              "      <td>...</td>\n",
              "      <td>...</td>\n",
              "      <td>...</td>\n",
              "      <td>...</td>\n",
              "    </tr>\n",
              "    <tr>\n",
              "      <th>39086862</th>\n",
              "      <td>28889.918262</td>\n",
              "      <td>-0.840256</td>\n",
              "      <td>0.215027</td>\n",
              "      <td>-0.493729</td>\n",
              "      <td>71.0</td>\n",
              "      <td>1</td>\n",
              "    </tr>\n",
              "    <tr>\n",
              "      <th>39086863</th>\n",
              "      <td>28889.938207</td>\n",
              "      <td>-0.839279</td>\n",
              "      <td>0.216019</td>\n",
              "      <td>-0.492264</td>\n",
              "      <td>71.0</td>\n",
              "      <td>1</td>\n",
              "    </tr>\n",
              "    <tr>\n",
              "      <th>39086864</th>\n",
              "      <td>28889.958020</td>\n",
              "      <td>-0.838287</td>\n",
              "      <td>0.215515</td>\n",
              "      <td>-0.495178</td>\n",
              "      <td>71.0</td>\n",
              "      <td>1</td>\n",
              "    </tr>\n",
              "    <tr>\n",
              "      <th>39086865</th>\n",
              "      <td>28889.978060</td>\n",
              "      <td>-0.841721</td>\n",
              "      <td>0.216003</td>\n",
              "      <td>-0.494721</td>\n",
              "      <td>71.0</td>\n",
              "      <td>1</td>\n",
              "    </tr>\n",
              "    <tr>\n",
              "      <th>39086866</th>\n",
              "      <td>28889.998011</td>\n",
              "      <td>-0.838791</td>\n",
              "      <td>0.216019</td>\n",
              "      <td>-0.491776</td>\n",
              "      <td>71.0</td>\n",
              "      <td>1</td>\n",
              "    </tr>\n",
              "  </tbody>\n",
              "</table>\n",
              "<p>38262336 rows × 6 columns</p>\n",
              "</div>"
            ],
            "text/plain": [
              "                  Time         X         Y         Z  Heart Rate  Labels\n",
              "44603       780.004872 -0.275742  0.045319 -0.958908        55.0       0\n",
              "44604       780.024316 -0.274734  0.037979 -0.959351        55.0       0\n",
              "44605       780.034812 -0.274734  0.032105 -0.956863        55.0       0\n",
              "44606       780.054905 -0.272781  0.036514 -0.955872        55.0       0\n",
              "44607       780.074797 -0.271271  0.041885 -0.961746        55.0       0\n",
              "...                ...       ...       ...       ...         ...     ...\n",
              "39086862  28889.918262 -0.840256  0.215027 -0.493729        71.0       1\n",
              "39086863  28889.938207 -0.839279  0.216019 -0.492264        71.0       1\n",
              "39086864  28889.958020 -0.838287  0.215515 -0.495178        71.0       1\n",
              "39086865  28889.978060 -0.841721  0.216003 -0.494721        71.0       1\n",
              "39086866  28889.998011 -0.838791  0.216019 -0.491776        71.0       1\n",
              "\n",
              "[38262336 rows x 6 columns]"
            ]
          },
          "metadata": {
            "tags": []
          },
          "execution_count": 5
        }
      ]
    },
    {
      "cell_type": "markdown",
      "metadata": {
        "id": "VwnxK53835FY"
      },
      "source": [
        "# Normalize Training Data\n",
        "Next, we need to normalize our features within our training data. Of course there are various ways on how to normalize. Please keep in mind that you use the same normalization algorithm later when feeding new data into your neural network. Otherwise your preditions will be off. On top of the normalization we will also apply rounding to the three features."
      ]
    },
    {
      "cell_type": "code",
      "metadata": {
        "id": "bOd1dXMi2N4_"
      },
      "source": [
        "# Normalize features for training data set (values between 0 and 1)***\n",
        "# Surpress warning for next 3 operation\n",
        "'''\n",
        "pd.options.mode.chained_assignment = None  # default='warn'\n",
        "df['X'] = df['X'] / df['X'].max()\n",
        "df['Y'] = df['Y'] / df['Y'].max()\n",
        "df['Z'] = df['Z'] / df['Z'].max()\n",
        "df['Heart Rate'] = df['Heart Rate'] / df['Heart Rate'].max()\n",
        "\n",
        "# Round numbers (4 decimals for accelerometer and 2 for heart rate)\n",
        "df = df.round({'X': 4, 'Y': 4, 'Z': 4, 'Heart Rate' : 4})\n",
        "\n",
        "df\n",
        "'''"
      ],
      "execution_count": null,
      "outputs": []
    },
    {
      "cell_type": "markdown",
      "metadata": {
        "id": "oC7ObCbBZ_1-"
      },
      "source": [
        "# Split Dataset\n",
        "Train, Validation and Test\n",
        "\n",
        "Split the data\n",
        "We'll use a (70%, 20%, 10%) split for the training, validation, and test sets. Note the data is not being randomly shuffled before splitting. This is for two reasons.\n",
        "\n",
        "It ensures that chopping the data into windows of consecutive samples is still possible.\n",
        "It ensures that the validation/test results are more realistic, being evaluated on data collected after the model was trained.\n",
        "\n",
        "***ANOTHER SPLITING OPTION WOULD BE TO SEPARATE USERS (Crear nueva columna con nombre usuario?? O manejar cada CSV por separado??)***\n",
        "\n",
        "\n",
        "\n"
      ]
    },
    {
      "cell_type": "code",
      "metadata": {
        "id": "DUcpsQLZaKOE"
      },
      "source": [
        "column_indices = {name: i for i, name in enumerate(df.columns)}\n",
        "\n",
        "PERCENTAGE_TRAIN = 0.7\n",
        "PERCENTAGE_VALIDATION = 0.2\n",
        "\n",
        "total_rows = df.shape[0]\n",
        "train_df = df[:int(total_rows*PERCENTAGE_TRAIN)]\n",
        "val_df = df[int(total_rows*PERCENTAGE_TRAIN):int(total_rows*(PERCENTAGE_VALIDATION + PERCENTAGE_TRAIN))]\n",
        "test_df = df[int(total_rows*(PERCENTAGE_VALIDATION + PERCENTAGE_TRAIN)):]\n",
        "\n",
        "assert len(train_df) + len(val_df) + len(test_df) == total_rows, 'The split does not match'"
      ],
      "execution_count": 6,
      "outputs": []
    },
    {
      "cell_type": "markdown",
      "metadata": {
        "id": "aYGO3D4b7btV"
      },
      "source": [
        "# Reshape Data into Segments and Prepare for Keras\n",
        "The data contained in the dataframe is not ready yet to be fed into a neural network. Therefore we need to reshape it. Let’s create another function for this called “create_segments_and_labels”. This function will take in the dataframe and the label names."
      ]
    },
    {
      "cell_type": "code",
      "metadata": {
        "id": "2jOMBw867eW2"
      },
      "source": [
        "def create_segments_and_labels(dataframe):\n",
        "\n",
        "    labels = dataframe.iloc[:,-1:]\n",
        "    segments = dataframe.iloc[:,:-1]\n",
        "    # dataframe.iloc[:,:12]  # from 0 to 12 columns, all the rows\n",
        "\n",
        "    return segments, labels"
      ],
      "execution_count": 7,
      "outputs": []
    },
    {
      "cell_type": "code",
      "metadata": {
        "id": "ODyG2FBGAGd6"
      },
      "source": [
        "# x --> Features\n",
        "# y --> Labels\n",
        "   \n",
        "x_train, y_train = create_segments_and_labels(train_df)\n",
        "x_val, y_val = create_segments_and_labels(val_df)\n",
        "x_test, y_test = create_segments_and_labels(test_df)\n",
        "\n",
        "assert x_train.shape[0] == len(y_train)\n",
        "assert x_val.shape[0] == len(y_val)\n",
        "assert x_test.shape[0] == len(y_test)"
      ],
      "execution_count": 8,
      "outputs": []
    },
    {
      "cell_type": "markdown",
      "metadata": {
        "id": "mCXw2xaUJQ_l"
      },
      "source": [
        "# Deep Neural Network Model in Keras\n"
      ]
    },
    {
      "cell_type": "code",
      "metadata": {
        "id": "KJ5ywCqflQi0"
      },
      "source": [
        "# Prepare labels data \n",
        "# Needed ONLY for categorical_crossentropy loss function\n",
        "y_train = to_categorical(y_train)\n",
        "y_val = to_categorical(y_val)\n",
        "y_test = to_categorical(y_test)\n",
        "\n",
        "# To review, if the test portion do not comprises the 5 labels, add the needed\n",
        "# dimensions so that for categorical we still have 5 dimensions.\n",
        "\n",
        "while y_test.shape[1] < 5:\n",
        "    y = np.zeros((1, y_test.shape[0]))\n",
        "    y = np.transpose(y)\n",
        "    y_test = np.hstack((y_test, y))"
      ],
      "execution_count": 11,
      "outputs": []
    },
    {
      "cell_type": "code",
      "metadata": {
        "colab": {
          "base_uri": "https://localhost:8080/"
        },
        "id": "-DyMELaTeUqD",
        "outputId": "8182e391-dfd7-4bbe-aa3d-19bd0fcab348"
      },
      "source": [
        "# define the keras model\n",
        "num_classes = 5\n",
        "\n",
        "model = Sequential()\n",
        "model.add(Dense(32, input_dim=x_train.shape[1], activation='relu'))\n",
        "model.add(Dense(64, activation='relu'))\n",
        "#model.add(Dense(128, activation='relu'))\n",
        "model.add(Dropout(0.2))\n",
        "model.add(Dense(num_classes, activation='softmax')) #Last layer corresponds with the number of possible outputs\n",
        "\n",
        "# compile the keras model\n",
        "# opt = SGD(learning_rate=0.01, momentum=0.9)\n",
        "\n",
        "model.compile(loss='sparse_categorical_crossentropy', optimizer='adam', metrics=['accuracy'])\n",
        "#model.compile(loss='categorical_crossentropy', optimizer='adam', metrics=['accuracy'])\n",
        "\n",
        "model.summary()"
      ],
      "execution_count": 9,
      "outputs": [
        {
          "output_type": "stream",
          "text": [
            "Model: \"sequential\"\n",
            "_________________________________________________________________\n",
            "Layer (type)                 Output Shape              Param #   \n",
            "=================================================================\n",
            "dense (Dense)                (None, 32)                192       \n",
            "_________________________________________________________________\n",
            "dense_1 (Dense)              (None, 64)                2112      \n",
            "_________________________________________________________________\n",
            "dropout (Dropout)            (None, 64)                0         \n",
            "_________________________________________________________________\n",
            "dense_2 (Dense)              (None, 5)                 325       \n",
            "=================================================================\n",
            "Total params: 2,629\n",
            "Trainable params: 2,629\n",
            "Non-trainable params: 0\n",
            "_________________________________________________________________\n"
          ],
          "name": "stdout"
        }
      ]
    },
    {
      "cell_type": "markdown",
      "metadata": {
        "id": "z7L-f61Kr9Qm"
      },
      "source": [
        "Train Model"
      ]
    },
    {
      "cell_type": "code",
      "metadata": {
        "id": "O1byX-NigRhU"
      },
      "source": [
        "# fit the keras model on the dataset\n",
        "history = model.fit(x_train, y_train, validation_data=(x_val, y_val), epochs=100, batch_size=180, verbose=1)"
      ],
      "execution_count": null,
      "outputs": []
    },
    {
      "cell_type": "markdown",
      "metadata": {
        "id": "b7wDeVitsAE-"
      },
      "source": [
        "# Evaluate Model on Test Data"
      ]
    },
    {
      "cell_type": "code",
      "metadata": {
        "colab": {
          "base_uri": "https://localhost:8080/"
        },
        "id": "6Ew4p3YooK3m",
        "outputId": "d3ea6488-31d3-45eb-aa0f-1dd75fbfad61"
      },
      "source": [
        "# evaluate the model\n",
        "test_loss, test_acc = model.evaluate(x_test, y_test)\n",
        "\n",
        "print(\"Test accuracy\", test_acc)\n",
        "print(\"Test loss\", test_loss)"
      ],
      "execution_count": 24,
      "outputs": [
        {
          "output_type": "stream",
          "text": [
            "431/431 [==============================] - 1s 2ms/step - loss: 12.1622 - accuracy: 0.4652\n",
            "Test accuracy 0.4651854932308197\n",
            "Test loss 12.16222095489502\n"
          ],
          "name": "stdout"
        }
      ]
    },
    {
      "cell_type": "code",
      "metadata": {
        "colab": {
          "base_uri": "https://localhost:8080/",
          "height": 573
        },
        "id": "EfMvpYkxYYU4",
        "outputId": "9bdbef46-e1eb-46fd-aaf6-55f600935b64"
      },
      "source": [
        "# summarize history for accuracy\n",
        "plt.plot(history.history['accuracy'])\n",
        "plt.plot(history.history['val_accuracy'])\n",
        "plt.title('model accuracy')\n",
        "plt.ylabel('accuracy')\n",
        "plt.xlabel('epoch')\n",
        "plt.legend(['train', 'validation'], loc='upper left')\n",
        "plt.show()\n",
        "# summarize history for loss\n",
        "plt.plot(history.history['loss'])\n",
        "plt.plot(history.history['val_loss'])\n",
        "plt.title('model loss')\n",
        "plt.ylabel('loss')\n",
        "plt.xlabel('epoch')\n",
        "plt.legend(['train', 'validation'], loc='upper left')\n",
        "plt.show()"
      ],
      "execution_count": 25,
      "outputs": [
        {
          "output_type": "display_data",
          "data": {
            "image/png": "[encoded data removed]",
            "text/plain": [
              "<Figure size 432x288 with 1 Axes>"
            ]
          },
          "metadata": {
            "tags": [],
            "needs_background": "light"
          }
        },
        {
          "output_type": "display_data",
          "data": {
            "image/png": "[encoded data removed]",
            "text/plain": [
              "<Figure size 432x288 with 1 Axes>"
            ]
          },
          "metadata": {
            "tags": [],
            "needs_background": "light"
          }
        }
      ]
    },
    {
      "cell_type": "markdown",
      "metadata": {
        "id": "8Nxau1E-x3gN"
      },
      "source": [
        "Confusion Matrix"
      ]
    },
    {
      "cell_type": "code",
      "metadata": {
        "id": "Otmx1tX8jli6"
      },
      "source": [
        "predictions = history.model.predict(x_test)"
      ],
      "execution_count": null,
      "outputs": []
    },
    {
      "cell_type": "code",
      "metadata": {
        "id": "R-DL4ZbCnS0s",
        "colab": {
          "base_uri": "https://localhost:8080/"
        },
        "outputId": "8efd6475-923a-43d3-9da9-b87e13880f60"
      },
      "source": [
        "guess = 0\n",
        "\n",
        "to_predict = len(y_test)\n",
        "\n",
        "for index in range(to_predict):\n",
        "    if np.argmax(predictions[index]) == np.argmax(y_test[index]):\n",
        "        guess += 1\n",
        "\n",
        "# np.argmax(predictions[index]), np.argmax(y_test[index])\n",
        "print(\"Guessed: {:.2f}%\".format(guess/to_predict*100))"
      ],
      "execution_count": null,
      "outputs": [
        {
          "output_type": "stream",
          "text": [
            "Guessed: 27.62%\n"
          ],
          "name": "stdout"
        }
      ]
    },
    {
      "cell_type": "code",
      "metadata": {
        "id": "WQvwXcUWu5qY"
      },
      "source": [
        "def show_confusion_matrix(validations, predictions):\n",
        "\n",
        "    matrix = metrics.confusion_matrix(validations, predictions)\n",
        "    plt.figure(figsize=(6, 4))\n",
        "    sns.heatmap(matrix,\n",
        "                cmap='coolwarm',\n",
        "                linecolor='white',\n",
        "                linewidths=1,\n",
        "                #xticklabels=LABELS,\n",
        "                #yticklabels='0','1','2',\n",
        "                annot=True,\n",
        "                fmt='d')\n",
        "    plt.title('Confusion Matrix')\n",
        "    plt.ylabel('True Label')\n",
        "    plt.xlabel('Predicted Label')\n",
        "    plt.show()"
      ],
      "execution_count": null,
      "outputs": []
    },
    {
      "cell_type": "code",
      "metadata": {
        "colab": {
          "base_uri": "https://localhost:8080/",
          "height": 513
        },
        "id": "pOuDDvS2u-cd",
        "outputId": "6aa9849f-8653-4bc3-aa9e-f11ce314d305"
      },
      "source": [
        "y_pred_test = model.predict(x_test)\n",
        "# Take the class with the highest probability from the test predictions\n",
        "max_y_pred_test = np.argmax(y_pred_test, axis=1)\n",
        "max_y_test = np.argmax(y_test, axis=1)\n",
        "\n",
        "show_confusion_matrix(max_y_test, max_y_pred_test)\n",
        "\n",
        "print(classification_report(max_y_test, max_y_pred_test))"
      ],
      "execution_count": null,
      "outputs": [
        {
          "output_type": "display_data",
          "data": {
            "image/png": "[encoded data removed]",
            "text/plain": [
              "<Figure size 432x288 with 2 Axes>"
            ]
          },
          "metadata": {
            "tags": [],
            "needs_background": "light"
          }
        },
        {
          "output_type": "stream",
          "text": [
            "              precision    recall  f1-score   support\n",
            "\n",
            "           0       0.03      0.02      0.02      2172\n",
            "           1       0.05      0.07      0.06       322\n",
            "           2       0.32      0.51      0.39      4727\n",
            "           3       0.36      0.22      0.27      4682\n",
            "           4       0.18      0.11      0.14      1150\n",
            "\n",
            "    accuracy                           0.28     13053\n",
            "   macro avg       0.19      0.19      0.18     13053\n",
            "weighted avg       0.27      0.28      0.26     13053\n",
            "\n"
          ],
          "name": "stdout"
        }
      ]
    },
    {
      "cell_type": "markdown",
      "metadata": {
        "id": "Bm_F9L2umUnx"
      },
      "source": [
        "# Predictions"
      ]
    },
    {
      "cell_type": "code",
      "metadata": {
        "id": "-3AwFe0E7aPG"
      },
      "source": [
        "# test the trained model with the full x_test\n",
        "predictions = model.predict(x_test)"
      ],
      "execution_count": null,
      "outputs": []
    },
    {
      "cell_type": "code",
      "metadata": {
        "colab": {
          "base_uri": "https://localhost:8080/"
        },
        "id": "frOwP6RL7ghF",
        "outputId": "2912a708-caef-429a-fc54-ee6ab0f7af00"
      },
      "source": [
        "predictions[0], y_test[0]"
      ],
      "execution_count": null,
      "outputs": [
        {
          "output_type": "execute_result",
          "data": {
            "text/plain": [
              "(array([0.02846027, 0.89990205, 0.07163768], dtype=float32),\n",
              " array([0., 1., 0.], dtype=float32))"
            ]
          },
          "metadata": {
            "tags": []
          },
          "execution_count": 74
        }
      ]
    },
    {
      "cell_type": "code",
      "metadata": {
        "colab": {
          "base_uri": "https://localhost:8080/"
        },
        "id": "Tnjgb73S7yDd",
        "outputId": "b3e7e996-b9cb-43c2-88b9-6ccb62a7b194"
      },
      "source": [
        "predictions[500], y_test[500]"
      ],
      "execution_count": null,
      "outputs": [
        {
          "output_type": "execute_result",
          "data": {
            "text/plain": [
              "(array([0.05969261, 0.7548642 , 0.18544324], dtype=float32),\n",
              " array([0., 1., 0.], dtype=float32))"
            ]
          },
          "metadata": {
            "tags": []
          },
          "execution_count": 75
        }
      ]
    },
    {
      "cell_type": "code",
      "metadata": {
        "colab": {
          "base_uri": "https://localhost:8080/"
        },
        "id": "gi4CQeJA707J",
        "outputId": "2f731027-9cca-432b-d998-100fab265aad"
      },
      "source": [
        "predictions[800], y_test[800]"
      ],
      "execution_count": null,
      "outputs": [
        {
          "output_type": "execute_result",
          "data": {
            "text/plain": [
              "(array([0.06639516, 0.5557858 , 0.37781912], dtype=float32),\n",
              " array([0., 1., 0.], dtype=float32))"
            ]
          },
          "metadata": {
            "tags": []
          },
          "execution_count": 76
        }
      ]
    },
    {
      "cell_type": "code",
      "metadata": {
        "colab": {
          "base_uri": "https://localhost:8080/"
        },
        "id": "9KWU4Uyi723q",
        "outputId": "2a9cb662-403f-40e2-9f39-fcaa7668db56"
      },
      "source": [
        "predictions[1200], y_test[1200]"
      ],
      "execution_count": null,
      "outputs": [
        {
          "output_type": "execute_result",
          "data": {
            "text/plain": [
              "(array([0.04926674, 0.74609387, 0.20463938], dtype=float32),\n",
              " array([0., 1., 0.], dtype=float32))"
            ]
          },
          "metadata": {
            "tags": []
          },
          "execution_count": 77
        }
      ]
    },
    {
      "cell_type": "code",
      "metadata": {
        "colab": {
          "base_uri": "https://localhost:8080/",
          "height": 171
        },
        "id": "LevQdew074E-",
        "outputId": "2fc1b41c-16ce-4fb6-c2bd-5bbcddf127e6"
      },
      "source": [
        "predictions[2000], y_test[2000] # bad prediction"
      ],
      "execution_count": null,
      "outputs": [
        {
          "output_type": "error",
          "ename": "NameError",
          "evalue": "ignored",
          "traceback": [
            "\u001b[0;31m---------------------------------------------------------------------------\u001b[0m",
            "\u001b[0;31mNameError\u001b[0m                                 Traceback (most recent call last)",
            "\u001b[0;32m<ipython-input-51-fbaca9589ac0>\u001b[0m in \u001b[0;36m<module>\u001b[0;34m()\u001b[0m\n\u001b[0;32m----> 1\u001b[0;31m \u001b[0mpredictions\u001b[0m\u001b[0;34m[\u001b[0m\u001b[0;36m2000\u001b[0m\u001b[0;34m]\u001b[0m\u001b[0;34m,\u001b[0m \u001b[0my_test\u001b[0m\u001b[0;34m[\u001b[0m\u001b[0;36m2000\u001b[0m\u001b[0;34m]\u001b[0m \u001b[0;31m# bad prediction\u001b[0m\u001b[0;34m\u001b[0m\u001b[0;34m\u001b[0m\u001b[0m\n\u001b[0m",
            "\u001b[0;31mNameError\u001b[0m: name 'predictions' is not defined"
          ]
        }
      ]
    },
    {
      "cell_type": "code",
      "metadata": {
        "colab": {
          "base_uri": "https://localhost:8080/"
        },
        "id": "qMCdP_Dk8GXX",
        "outputId": "5daf39d5-766e-4949-e3ac-9a0c783a738a"
      },
      "source": [
        "predictions[2400], y_test[2400]"
      ],
      "execution_count": null,
      "outputs": [
        {
          "output_type": "execute_result",
          "data": {
            "text/plain": [
              "(array([0.05789682, 0.83688635, 0.10521688], dtype=float32),\n",
              " array([0., 1., 0.], dtype=float32))"
            ]
          },
          "metadata": {
            "tags": []
          },
          "execution_count": 85
        }
      ]
    },
    {
      "cell_type": "code",
      "metadata": {
        "colab": {
          "base_uri": "https://localhost:8080/",
          "height": 189
        },
        "id": "pssKjwnzT2Kw",
        "outputId": "16efa001-9da0-487b-cef5-3361833263f1"
      },
      "source": [
        "for i in range(2000):\n",
        "    predictions[i]"
      ],
      "execution_count": null,
      "outputs": [
        {
          "output_type": "error",
          "ename": "NameError",
          "evalue": "ignored",
          "traceback": [
            "\u001b[0;31m---------------------------------------------------------------------------\u001b[0m",
            "\u001b[0;31mNameError\u001b[0m                                 Traceback (most recent call last)",
            "\u001b[0;32m<ipython-input-44-e6c2fb9ef533>\u001b[0m in \u001b[0;36m<module>\u001b[0;34m()\u001b[0m\n\u001b[1;32m      1\u001b[0m \u001b[0;32mfor\u001b[0m \u001b[0mi\u001b[0m \u001b[0;32min\u001b[0m \u001b[0mrange\u001b[0m\u001b[0;34m(\u001b[0m\u001b[0;36m2000\u001b[0m\u001b[0;34m)\u001b[0m\u001b[0;34m:\u001b[0m\u001b[0;34m\u001b[0m\u001b[0;34m\u001b[0m\u001b[0m\n\u001b[0;32m----> 2\u001b[0;31m     \u001b[0mpredictions\u001b[0m\u001b[0;34m[\u001b[0m\u001b[0mi\u001b[0m\u001b[0;34m]\u001b[0m\u001b[0;34m\u001b[0m\u001b[0;34m\u001b[0m\u001b[0m\n\u001b[0m",
            "\u001b[0;31mNameError\u001b[0m: name 'predictions' is not defined"
          ]
        }
      ]
    }
  ]
}