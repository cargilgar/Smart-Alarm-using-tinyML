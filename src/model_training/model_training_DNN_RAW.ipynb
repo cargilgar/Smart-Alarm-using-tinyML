{
  "nbformat": 4,
  "nbformat_minor": 0,
  "metadata": {
    "accelerator": "GPU",
    "colab": {
      "name": "model_training_DNN.ipynb",
      "provenance": [],
      "collapsed_sections": []
    },
    "kernelspec": {
      "display_name": "Python 3",
      "language": "python",
      "name": "python3"
    },
    "language_info": {
      "codemirror_mode": {
        "name": "ipython",
        "version": 3
      },
      "file_extension": ".py",
      "mimetype": "text/x-python",
      "name": "python",
      "nbconvert_exporter": "python",
      "pygments_lexer": "ipython3",
      "version": "3.8.5"
    }
  },
  "cells": [
    {
      "cell_type": "code",
      "metadata": {
        "id": "5iB8fV6iWeQs",
        "colab": {
          "base_uri": "https://localhost:8080/"
        },
        "outputId": "bc58b75f-18c8-46ff-b775-14227112a00b"
      },
      "source": [
        "import pandas as pd\n",
        "import numpy as np\n",
        "import tensorflow as tf\n",
        "import matplotlib.pyplot as plt\n",
        "import os\n",
        "import re\n",
        "import glob\n",
        "import seaborn as sns\n",
        "from numpy import mean, std\n",
        "from scipy import stats\n",
        "from tensorflow import keras\n",
        "from tensorflow.keras import layers\n",
        "from keras.models import Sequential\n",
        "from keras.callbacks import History \n",
        "from keras.layers import Dense, Dropout, Flatten\n",
        "from keras.optimizers import SGD\n",
        "from keras.utils.np_utils import to_categorical\n",
        "from sklearn import metrics\n",
        "from sklearn.metrics import classification_report\n",
        "\n",
        "!pip install autofeat\n",
        "from autofeat import FeatureSelector, AutoFeatRegressor"
      ],
      "execution_count": 1,
      "outputs": [
        {
          "output_type": "stream",
          "text": [
            "Collecting autofeat\n",
            "  Downloading autofeat-2.0.9-py3-none-any.whl (24 kB)\n",
            "Requirement already satisfied: joblib in /usr/local/lib/python3.7/dist-packages (from autofeat) (1.0.1)\n",
            "Collecting pint\n",
            "  Downloading Pint-0.17-py2.py3-none-any.whl (204 kB)\n",
            "\u001b[K     |████████████████████████████████| 204 kB 8.2 MB/s \n",
            "\u001b[?25hRequirement already satisfied: numba in /usr/local/lib/python3.7/dist-packages (from autofeat) (0.51.2)\n",
            "Requirement already satisfied: numpy in /usr/local/lib/python3.7/dist-packages (from autofeat) (1.19.5)\n",
            "Requirement already satisfied: scikit-learn in /usr/local/lib/python3.7/dist-packages (from autofeat) (0.22.2.post1)\n",
            "Requirement already satisfied: sympy>=1.7.1 in /usr/local/lib/python3.7/dist-packages (from autofeat) (1.7.1)\n",
            "Requirement already satisfied: future in /usr/local/lib/python3.7/dist-packages (from autofeat) (0.16.0)\n",
            "Requirement already satisfied: pandas>=0.24.0 in /usr/local/lib/python3.7/dist-packages (from autofeat) (1.1.5)\n",
            "Requirement already satisfied: python-dateutil>=2.7.3 in /usr/local/lib/python3.7/dist-packages (from pandas>=0.24.0->autofeat) (2.8.1)\n",
            "Requirement already satisfied: pytz>=2017.2 in /usr/local/lib/python3.7/dist-packages (from pandas>=0.24.0->autofeat) (2018.9)\n",
            "Requirement already satisfied: six>=1.5 in /usr/local/lib/python3.7/dist-packages (from python-dateutil>=2.7.3->pandas>=0.24.0->autofeat) (1.15.0)\n",
            "Requirement already satisfied: mpmath>=0.19 in /usr/local/lib/python3.7/dist-packages (from sympy>=1.7.1->autofeat) (1.2.1)\n",
            "Requirement already satisfied: llvmlite<0.35,>=0.34.0.dev0 in /usr/local/lib/python3.7/dist-packages (from numba->autofeat) (0.34.0)\n",
            "Requirement already satisfied: setuptools in /usr/local/lib/python3.7/dist-packages (from numba->autofeat) (57.2.0)\n",
            "Requirement already satisfied: packaging in /usr/local/lib/python3.7/dist-packages (from pint->autofeat) (21.0)\n",
            "Requirement already satisfied: importlib-metadata in /usr/local/lib/python3.7/dist-packages (from pint->autofeat) (4.6.1)\n",
            "Requirement already satisfied: typing-extensions>=3.6.4 in /usr/local/lib/python3.7/dist-packages (from importlib-metadata->pint->autofeat) (3.7.4.3)\n",
            "Requirement already satisfied: zipp>=0.5 in /usr/local/lib/python3.7/dist-packages (from importlib-metadata->pint->autofeat) (3.5.0)\n",
            "Requirement already satisfied: pyparsing>=2.0.2 in /usr/local/lib/python3.7/dist-packages (from packaging->pint->autofeat) (2.4.7)\n",
            "Requirement already satisfied: scipy>=0.17.0 in /usr/local/lib/python3.7/dist-packages (from scikit-learn->autofeat) (1.4.1)\n",
            "Installing collected packages: pint, autofeat\n",
            "Successfully installed autofeat-2.0.9 pint-0.17\n"
          ],
          "name": "stdout"
        }
      ]
    },
    {
      "cell_type": "markdown",
      "metadata": {
        "id": "1R0wTJdcZzA9"
      },
      "source": [
        "# Load Dataset\n",
        "\n",
        "Load Dataset, concatenate data and count Rows and Columns"
      ]
    },
    {
      "cell_type": "code",
      "metadata": {
        "id": "uge8UaRLVvuT"
      },
      "source": [
        "# Download dataset from Github and unzip\n",
        "!wget 'https://github.com/cargilgar/Smart-Alarm-using-tinyML/raw/main/dataset/dataset-1-1.zip'\n",
        "\n",
        "!unzip dataset-1-1.zip"
      ],
      "execution_count": null,
      "outputs": []
    },
    {
      "cell_type": "code",
      "metadata": {
        "colab": {
          "base_uri": "https://localhost:8080/"
        },
        "id": "wnPZDI9BFk2Z",
        "outputId": "d065928b-6ae8-4a74-ad0c-8fae412787a4"
      },
      "source": [
        "# Download RAW dataset from Drive and unzip\n",
        "!wget --load-cookies /tmp/cookies.txt \"https://docs.google.com/uc?export=download&confirm=$(wget --quiet --save-cookies /tmp/cookies.txt --keep-session-cookies --no-check-certificate 'https://docs.google.com/uc?export=download&id=1IBJjxb8W2vNKA-SyNZIwC5uovWDk9EmA' -O- | sed -rn 's/.*confirm=([0-9A-Za-z_]+).*/\\1\\n/p')&id=1IBJjxb8W2vNKA-SyNZIwC5uovWDk9EmA\" -O RAW_dataset.zip && rm -rf /tmp/cookies.txt\n",
        "!unzip RAW_dataset.zip"
      ],
      "execution_count": 2,
      "outputs": [
        {
          "output_type": "stream",
          "text": [
            "--2021-07-28 19:40:09--  https://docs.google.com/uc?export=download&confirm=Kc9L&id=1IBJjxb8W2vNKA-SyNZIwC5uovWDk9EmA\n",
            "Resolving docs.google.com (docs.google.com)... 142.251.2.138, 142.251.2.100, 142.251.2.101, ...\n",
            "Connecting to docs.google.com (docs.google.com)|142.251.2.138|:443... connected.\n",
            "HTTP request sent, awaiting response... 302 Moved Temporarily\n",
            "Location: https://doc-0g-5g-docs.googleusercontent.com/docs/securesc/6fq59t2s074l8ke902kr0mkkl66mk48b/to1ql71o596ddl8sbk11h0c0q2ofebol/1627501200000/00345810038803350295/03428263168764146944Z/1IBJjxb8W2vNKA-SyNZIwC5uovWDk9EmA?e=download [following]\n",
            "--2021-07-28 19:40:09--  https://doc-0g-5g-docs.googleusercontent.com/docs/securesc/6fq59t2s074l8ke902kr0mkkl66mk48b/to1ql71o596ddl8sbk11h0c0q2ofebol/1627501200000/00345810038803350295/03428263168764146944Z/1IBJjxb8W2vNKA-SyNZIwC5uovWDk9EmA?e=download\n",
            "Resolving doc-0g-5g-docs.googleusercontent.com (doc-0g-5g-docs.googleusercontent.com)... 142.251.2.132, 2607:f8b0:4023:c0d::84\n",
            "Connecting to doc-0g-5g-docs.googleusercontent.com (doc-0g-5g-docs.googleusercontent.com)|142.251.2.132|:443... connected.\n",
            "HTTP request sent, awaiting response... 302 Found\n",
            "Location: https://docs.google.com/nonceSigner?nonce=4as085hp2nqmq&continue=https://doc-0g-5g-docs.googleusercontent.com/docs/securesc/6fq59t2s074l8ke902kr0mkkl66mk48b/to1ql71o596ddl8sbk11h0c0q2ofebol/1627501200000/00345810038803350295/03428263168764146944Z/1IBJjxb8W2vNKA-SyNZIwC5uovWDk9EmA?e%3Ddownload&hash=sh4jfvd06arvrujkrg7n4do42cp2vg6v [following]\n",
            "--2021-07-28 19:40:09--  https://docs.google.com/nonceSigner?nonce=4as085hp2nqmq&continue=https://doc-0g-5g-docs.googleusercontent.com/docs/securesc/6fq59t2s074l8ke902kr0mkkl66mk48b/to1ql71o596ddl8sbk11h0c0q2ofebol/1627501200000/00345810038803350295/03428263168764146944Z/1IBJjxb8W2vNKA-SyNZIwC5uovWDk9EmA?e%3Ddownload&hash=sh4jfvd06arvrujkrg7n4do42cp2vg6v\n",
            "Connecting to docs.google.com (docs.google.com)|142.251.2.138|:443... connected.\n",
            "HTTP request sent, awaiting response... 302 Found\n",
            "Location: https://doc-0g-5g-docs.googleusercontent.com/docs/securesc/6fq59t2s074l8ke902kr0mkkl66mk48b/to1ql71o596ddl8sbk11h0c0q2ofebol/1627501200000/00345810038803350295/03428263168764146944Z/1IBJjxb8W2vNKA-SyNZIwC5uovWDk9EmA?e=download&nonce=4as085hp2nqmq&user=03428263168764146944Z&hash=p3ijfcsdiee8e6f9qn4i4klau1i1kbg5 [following]\n",
            "--2021-07-28 19:40:09--  https://doc-0g-5g-docs.googleusercontent.com/docs/securesc/6fq59t2s074l8ke902kr0mkkl66mk48b/to1ql71o596ddl8sbk11h0c0q2ofebol/1627501200000/00345810038803350295/03428263168764146944Z/1IBJjxb8W2vNKA-SyNZIwC5uovWDk9EmA?e=download&nonce=4as085hp2nqmq&user=03428263168764146944Z&hash=p3ijfcsdiee8e6f9qn4i4klau1i1kbg5\n",
            "Connecting to doc-0g-5g-docs.googleusercontent.com (doc-0g-5g-docs.googleusercontent.com)|142.251.2.132|:443... connected.\n",
            "HTTP request sent, awaiting response... 200 OK\n",
            "Length: unspecified [application/x-zip-compressed]\n",
            "Saving to: ‘RAW_dataset.zip’\n",
            "\n",
            "RAW_dataset.zip         [                <=> ] 449.72M   138MB/s    in 3.7s    \n",
            "\n",
            "2021-07-28 19:40:13 (121 MB/s) - ‘RAW_dataset.zip’ saved [471569837]\n",
            "\n",
            "Archive:  RAW_dataset.zip\n",
            "   creating: content/output/\n",
            "  inflating: content/output/dataset_1360686.csv  \n",
            "  inflating: content/output/dataset_2638030.csv  \n",
            "  inflating: content/output/dataset_5383425.csv  \n",
            "  inflating: content/output/dataset_5797046.csv  \n",
            "  inflating: content/output/dataset_844359.csv  \n",
            "  inflating: content/output/dataset_5132496.csv  \n",
            "  inflating: content/output/dataset_781756.csv  \n",
            "  inflating: content/output/dataset_9961348.csv  \n",
            "  inflating: content/output/dataset_46343.csv  \n",
            "  inflating: content/output/dataset_5498603.csv  \n",
            "  inflating: content/output/dataset_759667.csv  \n",
            "  inflating: content/output/dataset_9106476.csv  \n",
            "  inflating: content/output/dataset_1818471.csv  \n",
            "  inflating: content/output/dataset_3509524.csv  \n",
            "  inflating: content/output/dataset_4018081.csv  \n",
            "  inflating: content/output/dataset_9618981.csv  \n",
            "  inflating: content/output/dataset_8530312.csv  \n",
            "  inflating: content/output/dataset_3997827.csv  \n",
            "  inflating: content/output/dataset_4426783.csv  \n",
            "  inflating: content/output/dataset_8686948.csv  \n",
            "  inflating: content/output/dataset_8258170.csv  \n",
            "  inflating: content/output/dataset_1449548.csv  \n",
            "  inflating: content/output/dataset_6220552.csv  \n",
            "  inflating: content/output/dataset_4314139.csv  \n",
            "  inflating: content/output/dataset_1066528.csv  \n",
            "  inflating: content/output/dataset_8173033.csv  \n",
            "  inflating: content/output/dataset_8000685.csv  \n",
            "  inflating: content/output/dataset_7749105.csv  \n",
            "  inflating: content/output/dataset_8692923.csv  \n",
            "  inflating: content/output/dataset_1455390.csv  \n",
            "  inflating: content/output/dataset_2598705.csv  \n"
          ],
          "name": "stdout"
        }
      ]
    },
    {
      "cell_type": "code",
      "metadata": {
        "colab": {
          "base_uri": "https://localhost:8080/",
          "height": 453
        },
        "id": "q_LRVocyimd2",
        "outputId": "b4771543-fb74-4c73-bde8-07463d948edc"
      },
      "source": [
        "#Create full dataframe with all subject csv's concatenated\n",
        "path = r'content/output/'\n",
        "all_files = glob.glob(path + '/*.csv')\n",
        "\n",
        "li = []\n",
        "acc_rows = 0\n",
        "\n",
        "for filename in all_files:\n",
        "    subject_csv = pd.read_csv(filename, index_col=False)\n",
        "    acc_rows += len(subject_csv.axes[0])\n",
        "\n",
        "    li.append(subject_csv)\n",
        "\n",
        "df = pd.concat(li, axis=0, ignore_index=True)\n",
        "\n",
        "\n",
        "#Save big dataframe as CSV\n",
        "# df.to_csv('all_users_df.csv')\n",
        "\n",
        "#Rows and Columns\n",
        "total_rows = len(df.axes[0]) #===> Axes of 0 is for a row\n",
        "total_cols = len(df.axes[1]) #===> Axes of 1 is for a column\n",
        "print('Number of Rows: ', total_rows)\n",
        "print('Number of Columns: ', total_cols)\n",
        "\n",
        "assert total_rows == acc_rows, 'Number of rows does not match'\n",
        "\n",
        "df"
      ],
      "execution_count": 7,
      "outputs": [
        {
          "output_type": "stream",
          "text": [
            "Number of Rows:  1417303\n",
            "Number of Columns:  6\n"
          ],
          "name": "stdout"
        },
        {
          "output_type": "execute_result",
          "data": {
            "text/html": [
              "<div>\n",
              "<style scoped>\n",
              "    .dataframe tbody tr th:only-of-type {\n",
              "        vertical-align: middle;\n",
              "    }\n",
              "\n",
              "    .dataframe tbody tr th {\n",
              "        vertical-align: top;\n",
              "    }\n",
              "\n",
              "    .dataframe thead th {\n",
              "        text-align: right;\n",
              "    }\n",
              "</style>\n",
              "<table border=\"1\" class=\"dataframe\">\n",
              "  <thead>\n",
              "    <tr style=\"text-align: right;\">\n",
              "      <th></th>\n",
              "      <th>Time</th>\n",
              "      <th>X</th>\n",
              "      <th>Y</th>\n",
              "      <th>Z</th>\n",
              "      <th>Heart Rate</th>\n",
              "      <th>Labels</th>\n",
              "    </tr>\n",
              "  </thead>\n",
              "  <tbody>\n",
              "    <tr>\n",
              "      <th>0</th>\n",
              "      <td>-0.009583</td>\n",
              "      <td>-0.400299</td>\n",
              "      <td>0.206558</td>\n",
              "      <td>-0.900787</td>\n",
              "      <td>62.0</td>\n",
              "      <td>-1.0</td>\n",
              "    </tr>\n",
              "    <tr>\n",
              "      <th>1</th>\n",
              "      <td>0.010698</td>\n",
              "      <td>-0.402268</td>\n",
              "      <td>0.202652</td>\n",
              "      <td>-0.899857</td>\n",
              "      <td>62.0</td>\n",
              "      <td>-1.0</td>\n",
              "    </tr>\n",
              "    <tr>\n",
              "      <th>2</th>\n",
              "      <td>0.030628</td>\n",
              "      <td>-0.401321</td>\n",
              "      <td>0.198257</td>\n",
              "      <td>-0.897873</td>\n",
              "      <td>62.0</td>\n",
              "      <td>-1.0</td>\n",
              "    </tr>\n",
              "    <tr>\n",
              "      <th>3</th>\n",
              "      <td>0.050575</td>\n",
              "      <td>-0.400436</td>\n",
              "      <td>0.198273</td>\n",
              "      <td>-0.893494</td>\n",
              "      <td>62.0</td>\n",
              "      <td>-1.0</td>\n",
              "    </tr>\n",
              "    <tr>\n",
              "      <th>4</th>\n",
              "      <td>0.070622</td>\n",
              "      <td>-0.400513</td>\n",
              "      <td>0.201706</td>\n",
              "      <td>-0.890091</td>\n",
              "      <td>62.0</td>\n",
              "      <td>-1.0</td>\n",
              "    </tr>\n",
              "    <tr>\n",
              "      <th>...</th>\n",
              "      <td>...</td>\n",
              "      <td>...</td>\n",
              "      <td>...</td>\n",
              "      <td>...</td>\n",
              "      <td>...</td>\n",
              "      <td>...</td>\n",
              "    </tr>\n",
              "    <tr>\n",
              "      <th>1417298</th>\n",
              "      <td>28439.901214</td>\n",
              "      <td>-0.311295</td>\n",
              "      <td>-0.352463</td>\n",
              "      <td>0.877045</td>\n",
              "      <td>73.0</td>\n",
              "      <td>-1.0</td>\n",
              "    </tr>\n",
              "    <tr>\n",
              "      <th>1417299</th>\n",
              "      <td>28439.921193</td>\n",
              "      <td>-0.312805</td>\n",
              "      <td>-0.352463</td>\n",
              "      <td>0.878952</td>\n",
              "      <td>73.0</td>\n",
              "      <td>-1.0</td>\n",
              "    </tr>\n",
              "    <tr>\n",
              "      <th>1417300</th>\n",
              "      <td>28439.941228</td>\n",
              "      <td>-0.312790</td>\n",
              "      <td>-0.352951</td>\n",
              "      <td>0.878464</td>\n",
              "      <td>73.0</td>\n",
              "      <td>-1.0</td>\n",
              "    </tr>\n",
              "    <tr>\n",
              "      <th>1417301</th>\n",
              "      <td>28439.961231</td>\n",
              "      <td>-0.313705</td>\n",
              "      <td>-0.353943</td>\n",
              "      <td>0.876022</td>\n",
              "      <td>73.0</td>\n",
              "      <td>-1.0</td>\n",
              "    </tr>\n",
              "    <tr>\n",
              "      <th>1417302</th>\n",
              "      <td>28439.981418</td>\n",
              "      <td>-0.311218</td>\n",
              "      <td>-0.353455</td>\n",
              "      <td>0.873642</td>\n",
              "      <td>73.0</td>\n",
              "      <td>-1.0</td>\n",
              "    </tr>\n",
              "  </tbody>\n",
              "</table>\n",
              "<p>1417303 rows × 6 columns</p>\n",
              "</div>"
            ],
            "text/plain": [
              "                 Time         X         Y         Z  Heart Rate  Labels\n",
              "0           -0.009583 -0.400299  0.206558 -0.900787        62.0    -1.0\n",
              "1            0.010698 -0.402268  0.202652 -0.899857        62.0    -1.0\n",
              "2            0.030628 -0.401321  0.198257 -0.897873        62.0    -1.0\n",
              "3            0.050575 -0.400436  0.198273 -0.893494        62.0    -1.0\n",
              "4            0.070622 -0.400513  0.201706 -0.890091        62.0    -1.0\n",
              "...               ...       ...       ...       ...         ...     ...\n",
              "1417298  28439.901214 -0.311295 -0.352463  0.877045        73.0    -1.0\n",
              "1417299  28439.921193 -0.312805 -0.352463  0.878952        73.0    -1.0\n",
              "1417300  28439.941228 -0.312790 -0.352951  0.878464        73.0    -1.0\n",
              "1417301  28439.961231 -0.313705 -0.353943  0.876022        73.0    -1.0\n",
              "1417302  28439.981418 -0.311218 -0.353455  0.873642        73.0    -1.0\n",
              "\n",
              "[1417303 rows x 6 columns]"
            ]
          },
          "metadata": {
            "tags": []
          },
          "execution_count": 7
        }
      ]
    },
    {
      "cell_type": "code",
      "metadata": {
        "id": "VfF67zWlHKH5"
      },
      "source": [
        "# df = df.drop('Time', axis=1)"
      ],
      "execution_count": null,
      "outputs": []
    },
    {
      "cell_type": "markdown",
      "metadata": {
        "id": "CtZo1KmbpU6R"
      },
      "source": [
        "##EDA"
      ]
    },
    {
      "cell_type": "code",
      "metadata": {
        "id": "0RtEhc8uhc9L",
        "outputId": "87a271f7-d4aa-47c4-a267-40631d83c84b",
        "colab": {
          "base_uri": "https://localhost:8080/",
          "height": 308
        }
      },
      "source": [
        "#Labels Distribution\n",
        "df['Labels'].value_counts().plot(kind='bar',title='Training examples by activity type')"
      ],
      "execution_count": 8,
      "outputs": [
        {
          "output_type": "execute_result",
          "data": {
            "text/plain": [
              "<matplotlib.axes._subplots.AxesSubplot at 0x7fd0bb2e2190>"
            ]
          },
          "metadata": {
            "tags": []
          },
          "execution_count": 8
        },
        {
          "output_type": "display_data",
          "data": {
            "image/png": "[encoded data removed]",
            "text/plain": [
              "<Figure size 432x288 with 1 Axes>"
            ]
          },
          "metadata": {
            "tags": [],
            "needs_background": "light"
          }
        }
      ]
    },
    {
      "cell_type": "code",
      "metadata": {
        "id": "ZdBsAkimo0c2"
      },
      "source": [
        "#BoxPlot for Accelerometer data\n",
        "fig, ax = plt.subplots()\n",
        "fig.set_size_inches(15,10)\n",
        "ax = sns.boxplot(data=df[['X', 'Y', 'Z']], orient='h')\n",
        "display(ax)"
      ],
      "execution_count": null,
      "outputs": []
    },
    {
      "cell_type": "code",
      "metadata": {
        "id": "FzQwl1uJVwIN"
      },
      "source": [
        "#BoxPlot for Heart Rate data\n",
        "fig, ax = plt.subplots()\n",
        "fig.set_size_inches(15,10)\n",
        "ax = sns.boxplot(data=df[['Heart Rate']],orient='h')\n",
        "display(ax)"
      ],
      "execution_count": null,
      "outputs": []
    },
    {
      "cell_type": "code",
      "metadata": {
        "id": "t1GTL-fiCUsN"
      },
      "source": [
        "'''\n",
        "df = df.drop(df.index[df.X > 0.2])\n",
        "df = df.drop(df.index[df.Y > 0.2])\n",
        "df = df.drop(df.index[df.Z > 0.3])\n",
        "'''"
      ],
      "execution_count": null,
      "outputs": []
    },
    {
      "cell_type": "code",
      "metadata": {
        "id": "A5Jfjy33CwqC"
      },
      "source": [
        "sns.pairplot(df[['X', 'Y', 'Z']], kind=\"scatter\", diag_kind= 'kde', height=4)"
      ],
      "execution_count": null,
      "outputs": []
    },
    {
      "cell_type": "code",
      "metadata": {
        "id": "F3a_rpHjPEf6"
      },
      "source": [
        "#Add interesting Features\n",
        "df['movement_x'] = df['X'] - df['X'].shift()\n",
        "df['movement_y'] = df['Y'] - df['Y'].shift()\n",
        "df['movement_z'] = df['Z'] - df['Z'].shift()\n",
        "df['modulo'] = (df['X']**2 + df['Y']**2 + df['Z']**2)**0.5\n",
        "df['modulo_movement'] = (df['movement_x']**2 + df['movement_y']**2 + df['movement_z']**2)**0.5\n",
        "\n",
        "df"
      ],
      "execution_count": null,
      "outputs": []
    },
    {
      "cell_type": "code",
      "metadata": {
        "id": "WbHg6TIQJIq9"
      },
      "source": [
        "labels = df['Labels']"
      ],
      "execution_count": 9,
      "outputs": []
    },
    {
      "cell_type": "code",
      "metadata": {
        "id": "qym0IUFtzAI7",
        "colab": {
          "base_uri": "https://localhost:8080/"
        },
        "outputId": "32a4031d-e78f-4b43-be87-96198faa48af"
      },
      "source": [
        "labels = df['Labels']\n",
        "\n",
        "df_feature = df.drop('Labels', axis=1).fillna(0)\n",
        "target = df['Labels']\n",
        "\n",
        "for steps in range(2):\n",
        "    print(\"### AutoFeat with %i feateng_steps\" % steps)\n",
        "    afreg = AutoFeatRegressor(verbose=1, feateng_steps=steps)\n",
        "    df = afreg.fit_transform(df_feature, target)\n",
        "    r2 = afreg.score(df_feature, target)\n",
        "    print(\"## Final R^2: %.4f\" % r2)"
      ],
      "execution_count": 10,
      "outputs": [
        {
          "output_type": "stream",
          "text": [
            "### AutoFeat with 0 feateng_steps\n",
            "[AutoFeat] The 0 step feature engineering process could generate up to 5 features.\n",
            "[AutoFeat] With 1417303 data points this new feature matrix would use about 0.03 gb of space.\n",
            "[feateng] Warning: no features generated for max_steps < 1.\n",
            "[featsel] Scaling data...done.\n",
            "[featsel] Feature selection run 1/5\n",
            "[featsel] Feature selection run 2/5\n",
            "[featsel] Feature selection run 3/5\n",
            "[featsel] Feature selection run 4/5\n",
            "[featsel] Feature selection run 5/5\n",
            "[featsel] 5 features after 5 feature selection runs\n",
            "[featsel] 5 features after correlation filtering\n",
            "[featsel] 5 features after noise filtering\n",
            "[AutoFeat] Final dataframe with 5 feature columns (0 new).\n",
            "[AutoFeat] Training final regression model.\n",
            "[AutoFeat] Trained model: largest coefficients:\n",
            "3.4643558202554914\n",
            "-2.147975 * Y\n",
            "0.807391 * X\n",
            "-0.144698 * Z\n",
            "-0.036284 * Heart Rate\n",
            "0.000077 * Time\n",
            "[AutoFeat] Final score: 0.2637\n",
            "## Final R^2: 0.2637\n",
            "### AutoFeat with 1 feateng_steps\n",
            "[AutoFeat] The 1 step feature engineering process could generate up to 35 features.\n",
            "[AutoFeat] With 1417303 data points this new feature matrix would use about 0.20 gb of space.\n",
            "[feateng] Step 1: transformation of original features\n",
            "[feateng] Generated 21 transformed features from 5 original features - done.\n",
            "[feateng] Generated altogether 21 new features in 1 steps\n",
            "[feateng] Removing correlated features, as well as additions at the highest level\n",
            "[feateng] Generated a total of 10 additional features\n",
            "[featsel] Scaling data...done.\n",
            "[featsel] Feature selection run 1/5\n",
            "[featsel] Feature selection run 2/5\n",
            "[featsel] Feature selection run 3/5\n",
            "[featsel] Feature selection run 4/5\n",
            "[featsel] Feature selection run 5/5\n",
            "[featsel] 15 features after 5 feature selection runs\n",
            "[featsel] 12 features after correlation filtering\n",
            "[featsel] 3 features after noise filtering\n",
            "[AutoFeat] Computing 1 new features.\n",
            "[AutoFeat]     1/    1 new features ...done.\n",
            "[AutoFeat] Final dataframe with 6 feature columns (1 new).\n",
            "[AutoFeat] Training final regression model.\n",
            "[AutoFeat] Trained model: largest coefficients:\n",
            "0.9889222596497234\n",
            "-1.586833 * Y\n",
            "-1.158737 * Y**3\n",
            "0.000069 * Time\n",
            "[AutoFeat] Final score: 0.2388\n",
            "[AutoFeat] Computing 1 new features.\n",
            "[AutoFeat]     1/    1 new features ...done.\n",
            "## Final R^2: 0.2388\n"
          ],
          "name": "stdout"
        }
      ]
    },
    {
      "cell_type": "markdown",
      "metadata": {
        "id": "00jGhBmxqSXE"
      },
      "source": [
        "# Labels\n",
        "Initial stages (0-5, wake = 0, N1 = 1, N2 = 2, N3 = 3, REM = 5)\n",
        "\n",
        "Relabeled stages (0-2, wake = 0, NREM = 1, REM = 2)"
      ]
    },
    {
      "cell_type": "code",
      "metadata": {
        "id": "LpPPaSXnoUiW",
        "colab": {
          "base_uri": "https://localhost:8080/",
          "height": 419
        },
        "outputId": "df78be8e-aa18-4dae-8f38-0417276c4328"
      },
      "source": [
        "# Delete non-labeled Rows\n",
        "df.dropna(inplace=True)\n",
        "\n",
        "df['Labels'] = labels\n",
        "df['Labels'] = df['Labels'].astype(int)\n",
        "\n",
        "df = df.drop(df.index[(df.Labels < 0) | (df.Labels == 4)])\n",
        "\n",
        "# Show labels\n",
        "# Same labels will be reused throughout the program\n",
        "df['Labels'] = df['Labels'].map({0:0,1:1,2:2,3:3,5:4,}, na_action=None)\n",
        "\n",
        "df"
      ],
      "execution_count": 11,
      "outputs": [
        {
          "output_type": "execute_result",
          "data": {
            "text/html": [
              "<div>\n",
              "<style scoped>\n",
              "    .dataframe tbody tr th:only-of-type {\n",
              "        vertical-align: middle;\n",
              "    }\n",
              "\n",
              "    .dataframe tbody tr th {\n",
              "        vertical-align: top;\n",
              "    }\n",
              "\n",
              "    .dataframe thead th {\n",
              "        text-align: right;\n",
              "    }\n",
              "</style>\n",
              "<table border=\"1\" class=\"dataframe\">\n",
              "  <thead>\n",
              "    <tr style=\"text-align: right;\">\n",
              "      <th></th>\n",
              "      <th>Time</th>\n",
              "      <th>X</th>\n",
              "      <th>Y</th>\n",
              "      <th>Z</th>\n",
              "      <th>Heart Rate</th>\n",
              "      <th>Y**3</th>\n",
              "      <th>Labels</th>\n",
              "    </tr>\n",
              "  </thead>\n",
              "  <tbody>\n",
              "    <tr>\n",
              "      <th>63990</th>\n",
              "      <td>1360.411706</td>\n",
              "      <td>-0.272247</td>\n",
              "      <td>-0.330856</td>\n",
              "      <td>0.899170</td>\n",
              "      <td>74.0</td>\n",
              "      <td>-0.036217</td>\n",
              "      <td>0</td>\n",
              "    </tr>\n",
              "    <tr>\n",
              "      <th>63991</th>\n",
              "      <td>1360.431738</td>\n",
              "      <td>-0.274185</td>\n",
              "      <td>-0.332321</td>\n",
              "      <td>0.898163</td>\n",
              "      <td>76.0</td>\n",
              "      <td>-0.036701</td>\n",
              "      <td>0</td>\n",
              "    </tr>\n",
              "    <tr>\n",
              "      <th>63992</th>\n",
              "      <td>1360.452146</td>\n",
              "      <td>-0.273697</td>\n",
              "      <td>-0.330368</td>\n",
              "      <td>0.898163</td>\n",
              "      <td>76.0</td>\n",
              "      <td>-0.036057</td>\n",
              "      <td>0</td>\n",
              "    </tr>\n",
              "    <tr>\n",
              "      <th>63993</th>\n",
              "      <td>1360.471887</td>\n",
              "      <td>-0.273697</td>\n",
              "      <td>-0.328903</td>\n",
              "      <td>0.898163</td>\n",
              "      <td>76.0</td>\n",
              "      <td>-0.035580</td>\n",
              "      <td>0</td>\n",
              "    </tr>\n",
              "    <tr>\n",
              "      <th>63994</th>\n",
              "      <td>1360.491741</td>\n",
              "      <td>-0.273178</td>\n",
              "      <td>-0.328430</td>\n",
              "      <td>0.896225</td>\n",
              "      <td>71.0</td>\n",
              "      <td>-0.035427</td>\n",
              "      <td>0</td>\n",
              "    </tr>\n",
              "    <tr>\n",
              "      <th>...</th>\n",
              "      <td>...</td>\n",
              "      <td>...</td>\n",
              "      <td>...</td>\n",
              "      <td>...</td>\n",
              "      <td>...</td>\n",
              "      <td>...</td>\n",
              "      <td>...</td>\n",
              "    </tr>\n",
              "    <tr>\n",
              "      <th>1406803</th>\n",
              "      <td>28229.901732</td>\n",
              "      <td>-0.322678</td>\n",
              "      <td>-0.331482</td>\n",
              "      <td>0.881638</td>\n",
              "      <td>68.0</td>\n",
              "      <td>-0.036423</td>\n",
              "      <td>0</td>\n",
              "    </tr>\n",
              "    <tr>\n",
              "      <th>1406804</th>\n",
              "      <td>28229.921770</td>\n",
              "      <td>-0.323685</td>\n",
              "      <td>-0.331482</td>\n",
              "      <td>0.883072</td>\n",
              "      <td>68.0</td>\n",
              "      <td>-0.036423</td>\n",
              "      <td>0</td>\n",
              "    </tr>\n",
              "    <tr>\n",
              "      <th>1406805</th>\n",
              "      <td>28229.941761</td>\n",
              "      <td>-0.322678</td>\n",
              "      <td>-0.332947</td>\n",
              "      <td>0.882126</td>\n",
              "      <td>68.0</td>\n",
              "      <td>-0.036908</td>\n",
              "      <td>0</td>\n",
              "    </tr>\n",
              "    <tr>\n",
              "      <th>1406806</th>\n",
              "      <td>28229.961652</td>\n",
              "      <td>-0.323181</td>\n",
              "      <td>-0.331970</td>\n",
              "      <td>0.882599</td>\n",
              "      <td>68.0</td>\n",
              "      <td>-0.036585</td>\n",
              "      <td>0</td>\n",
              "    </tr>\n",
              "    <tr>\n",
              "      <th>1406807</th>\n",
              "      <td>28229.981865</td>\n",
              "      <td>-0.321701</td>\n",
              "      <td>-0.331482</td>\n",
              "      <td>0.881653</td>\n",
              "      <td>71.0</td>\n",
              "      <td>-0.036423</td>\n",
              "      <td>0</td>\n",
              "    </tr>\n",
              "  </tbody>\n",
              "</table>\n",
              "<p>1342818 rows × 7 columns</p>\n",
              "</div>"
            ],
            "text/plain": [
              "                 Time         X         Y  ...  Heart Rate      Y**3  Labels\n",
              "63990     1360.411706 -0.272247 -0.330856  ...        74.0 -0.036217       0\n",
              "63991     1360.431738 -0.274185 -0.332321  ...        76.0 -0.036701       0\n",
              "63992     1360.452146 -0.273697 -0.330368  ...        76.0 -0.036057       0\n",
              "63993     1360.471887 -0.273697 -0.328903  ...        76.0 -0.035580       0\n",
              "63994     1360.491741 -0.273178 -0.328430  ...        71.0 -0.035427       0\n",
              "...               ...       ...       ...  ...         ...       ...     ...\n",
              "1406803  28229.901732 -0.322678 -0.331482  ...        68.0 -0.036423       0\n",
              "1406804  28229.921770 -0.323685 -0.331482  ...        68.0 -0.036423       0\n",
              "1406805  28229.941761 -0.322678 -0.332947  ...        68.0 -0.036908       0\n",
              "1406806  28229.961652 -0.323181 -0.331970  ...        68.0 -0.036585       0\n",
              "1406807  28229.981865 -0.321701 -0.331482  ...        71.0 -0.036423       0\n",
              "\n",
              "[1342818 rows x 7 columns]"
            ]
          },
          "metadata": {
            "tags": []
          },
          "execution_count": 11
        }
      ]
    },
    {
      "cell_type": "markdown",
      "metadata": {
        "id": "VwnxK53835FY"
      },
      "source": [
        "# Normalize Training Data\n",
        "Next, we need to normalize our features within our training data. Of course there are various ways on how to normalize. Please keep in mind that you use the same normalization algorithm later when feeding new data into your neural network. Otherwise your preditions will be off. On top of the normalization we will also apply rounding to the three features."
      ]
    },
    {
      "cell_type": "code",
      "metadata": {
        "id": "bOd1dXMi2N4_"
      },
      "source": [
        "# Normalize features for training data set (values between 0 and 1)***\n",
        "# Surpress warning for next 3 operation\n",
        "'''\n",
        "pd.options.mode.chained_assignment = None  # default='warn'\n",
        "df['X'] = df['X'] / df['X'].max()\n",
        "df['Y'] = df['Y'] / df['Y'].max()\n",
        "df['Z'] = df['Z'] / df['Z'].max()\n",
        "df['Heart Rate'] = df['Heart Rate'] / df['Heart Rate'].max()\n",
        "\n",
        "# Round numbers (4 decimals for accelerometer and 2 for heart rate)\n",
        "df = df.round({'X': 4, 'Y': 4, 'Z': 4, 'Heart Rate' : 4})\n",
        "\n",
        "df\n",
        "'''"
      ],
      "execution_count": null,
      "outputs": []
    },
    {
      "cell_type": "markdown",
      "metadata": {
        "id": "oC7ObCbBZ_1-"
      },
      "source": [
        "# Split Dataset\n",
        "Train, Validation and Test\n",
        "\n",
        "Split the data\n",
        "We'll use a (70%, 20%, 10%) split for the training, validation, and test sets. Note the data is not being randomly shuffled before splitting. This is for two reasons.\n",
        "\n",
        "It ensures that chopping the data into windows of consecutive samples is still possible.\n",
        "It ensures that the validation/test results are more realistic, being evaluated on data collected after the model was trained.\n",
        "\n",
        "***ANOTHER SPLITING OPTION WOULD BE TO SEPARATE USERS (Crear nueva columna con nombre usuario?? O manejar cada CSV por separado??)***\n",
        "\n",
        "\n",
        "\n"
      ]
    },
    {
      "cell_type": "code",
      "metadata": {
        "id": "DUcpsQLZaKOE"
      },
      "source": [
        "column_indices = {name: i for i, name in enumerate(df.columns)}\n",
        "\n",
        "PERCENTAGE_TRAIN = 0.7\n",
        "PERCENTAGE_VALIDATION = 0.18\n",
        "\n",
        "total_rows = df.shape[0]\n",
        "train_df = df[:int(total_rows*PERCENTAGE_TRAIN)]\n",
        "val_df = df[int(total_rows*PERCENTAGE_TRAIN):int(total_rows*(PERCENTAGE_VALIDATION + PERCENTAGE_TRAIN))]\n",
        "test_df = df[int(total_rows*(PERCENTAGE_VALIDATION + PERCENTAGE_TRAIN)):]\n",
        "\n",
        "assert len(train_df) + len(val_df) + len(test_df) == total_rows, 'The split does not match'"
      ],
      "execution_count": 12,
      "outputs": []
    },
    {
      "cell_type": "markdown",
      "metadata": {
        "id": "aYGO3D4b7btV"
      },
      "source": [
        "# Reshape Data into Segments and Prepare for Keras\n",
        "The data contained in the dataframe is not ready yet to be fed into a neural network. Therefore we need to reshape it. Let’s create another function for this called “create_segments_and_labels”. This function will take in the dataframe and the label names."
      ]
    },
    {
      "cell_type": "code",
      "metadata": {
        "id": "2jOMBw867eW2"
      },
      "source": [
        "def create_segments_and_labels(dataframe):\n",
        "\n",
        "    labels = dataframe.iloc[:,-1:]\n",
        "    segments = dataframe.iloc[:,:-1]\n",
        "    # dataframe.iloc[:,:12]  # from 0 to 12 columns, all the rows\n",
        "\n",
        "    return segments, labels"
      ],
      "execution_count": 13,
      "outputs": []
    },
    {
      "cell_type": "code",
      "metadata": {
        "id": "ODyG2FBGAGd6"
      },
      "source": [
        "# x --> Features\n",
        "# y --> Labels\n",
        "   \n",
        "x_train, y_train = create_segments_and_labels(train_df)\n",
        "x_val, y_val = create_segments_and_labels(val_df)\n",
        "x_test, y_test = create_segments_and_labels(test_df)\n",
        "\n",
        "assert x_train.shape[0] == len(y_train)\n",
        "assert x_val.shape[0] == len(y_val)\n",
        "assert x_test.shape[0] == len(y_test)"
      ],
      "execution_count": 14,
      "outputs": []
    },
    {
      "cell_type": "markdown",
      "metadata": {
        "id": "mCXw2xaUJQ_l"
      },
      "source": [
        "# Deep Neural Network Model in Keras\n"
      ]
    },
    {
      "cell_type": "code",
      "metadata": {
        "id": "KJ5ywCqflQi0",
        "colab": {
          "base_uri": "https://localhost:8080/",
          "height": 52
        },
        "outputId": "8359d783-5397-4be3-c05c-aa8d2b56a02f"
      },
      "source": [
        "# Prepare labels data \n",
        "# Needed ONLY for categorical_crossentropy loss function\n",
        "y_train = to_categorical(y_train)\n",
        "y_val = to_categorical(y_val)\n",
        "y_test = to_categorical(y_test)\n",
        "\n",
        "'''\n",
        "# To review, if the test portion do not comprises the 5 labels, add the needed\n",
        "# dimensions so that for categorical we still have 5 dimensions.\n",
        "\n",
        "while y_test.shape[1] < 5:\n",
        "    y = np.zeros((1, y_test.shape[0]))\n",
        "    y = np.transpose(y)\n",
        "    y_test = np.hstack((y_test, y))\n",
        "'''"
      ],
      "execution_count": 11,
      "outputs": [
        {
          "output_type": "execute_result",
          "data": {
            "application/vnd.google.colaboratory.intrinsic+json": {
              "type": "string"
            },
            "text/plain": [
              "'\\n# To review, if the test portion do not comprises the 5 labels, add the needed\\n# dimensions so that for categorical we still have 5 dimensions.\\n\\nwhile y_test.shape[1] < 5:\\n    y = np.zeros((1, y_test.shape[0]))\\n    y = np.transpose(y)\\n    y_test = np.hstack((y_test, y))\\n'"
            ]
          },
          "metadata": {
            "tags": []
          },
          "execution_count": 11
        }
      ]
    },
    {
      "cell_type": "code",
      "metadata": {
        "colab": {
          "base_uri": "https://localhost:8080/"
        },
        "id": "-DyMELaTeUqD",
        "outputId": "0b2d535d-a4b1-474b-9a5e-6b910f20a8d9"
      },
      "source": [
        "# define the keras model\n",
        "num_classes = 5\n",
        "\n",
        "model = Sequential()\n",
        "model.add(Dense(32, input_dim=x_train.shape[1], activation='relu'))\n",
        "model.add(Dense(64, activation='relu'))\n",
        "model.add(Dense(64, activation='relu'))\n",
        "model.add(Dropout(0.2))\n",
        "model.add(Dense(num_classes, activation='softmax')) #Last layer corresponds with the number of possible outputs\n",
        "\n",
        "# compile the keras model\n",
        "# opt = SGD(learning_rate=0.01, momentum=0.9)\n",
        "\n",
        "model.compile(loss='sparse_categorical_crossentropy', optimizer='adam', metrics=['accuracy'])\n",
        "#model.compile(loss='categorical_crossentropy', optimizer='adam', metrics=['accuracy'])\n",
        "\n",
        "model.summary()"
      ],
      "execution_count": 15,
      "outputs": [
        {
          "output_type": "stream",
          "text": [
            "Model: \"sequential\"\n",
            "_________________________________________________________________\n",
            "Layer (type)                 Output Shape              Param #   \n",
            "=================================================================\n",
            "dense (Dense)                (None, 32)                224       \n",
            "_________________________________________________________________\n",
            "dense_1 (Dense)              (None, 64)                2112      \n",
            "_________________________________________________________________\n",
            "dense_2 (Dense)              (None, 64)                4160      \n",
            "_________________________________________________________________\n",
            "dropout (Dropout)            (None, 64)                0         \n",
            "_________________________________________________________________\n",
            "dense_3 (Dense)              (None, 5)                 325       \n",
            "=================================================================\n",
            "Total params: 6,821\n",
            "Trainable params: 6,821\n",
            "Non-trainable params: 0\n",
            "_________________________________________________________________\n"
          ],
          "name": "stdout"
        }
      ]
    },
    {
      "cell_type": "markdown",
      "metadata": {
        "id": "z7L-f61Kr9Qm"
      },
      "source": [
        "Train Model"
      ]
    },
    {
      "cell_type": "code",
      "metadata": {
        "id": "O1byX-NigRhU"
      },
      "source": [
        "# fit the keras model on the dataset\n",
        "history = model.fit(x_train, y_train, validation_data=(x_val, y_val), epochs=30, batch_size=150, verbose=1)"
      ],
      "execution_count": null,
      "outputs": []
    },
    {
      "cell_type": "markdown",
      "metadata": {
        "id": "b7wDeVitsAE-"
      },
      "source": [
        "# Evaluate Model on Test Data"
      ]
    },
    {
      "cell_type": "code",
      "metadata": {
        "colab": {
          "base_uri": "https://localhost:8080/"
        },
        "id": "6Ew4p3YooK3m",
        "outputId": "72601f6d-2d64-44d8-8750-73eab240fad2"
      },
      "source": [
        "# evaluate the model\n",
        "test_loss, test_acc = model.evaluate(x_test, y_test)\n",
        "\n",
        "print(\"Test accuracy\", test_acc)\n",
        "print(\"Test loss\", test_loss)"
      ],
      "execution_count": 11,
      "outputs": [
        {
          "output_type": "stream",
          "text": [
            "35660/35660 [==============================] - 57s 2ms/step - loss: 1.1755 - accuracy: 0.6122\n",
            "Test accuracy 0.6121861338615417\n",
            "Test loss 1.1754882335662842\n"
          ],
          "name": "stdout"
        }
      ]
    },
    {
      "cell_type": "code",
      "metadata": {
        "colab": {
          "base_uri": "https://localhost:8080/",
          "height": 231
        },
        "id": "EfMvpYkxYYU4",
        "outputId": "712269a3-827a-4761-aa1e-b20c411facd7"
      },
      "source": [
        "# summarize history for accuracy\n",
        "plt.plot(history.history['accuracy'])\n",
        "plt.plot(history.history['val_accuracy'])\n",
        "plt.title('model accuracy')\n",
        "plt.ylabel('accuracy')\n",
        "plt.xlabel('epoch')\n",
        "plt.legend(['train', 'validation'], loc='upper left')\n",
        "plt.show()\n",
        "# summarize history for loss\n",
        "plt.plot(history.history['loss'])\n",
        "plt.plot(history.history['val_loss'])\n",
        "plt.title('model loss')\n",
        "plt.ylabel('loss')\n",
        "plt.xlabel('epoch')\n",
        "plt.legend(['train', 'validation'], loc='upper left')\n",
        "plt.show()"
      ],
      "execution_count": 12,
      "outputs": [
        {
          "output_type": "error",
          "ename": "NameError",
          "evalue": "ignored",
          "traceback": [
            "\u001b[0;31m---------------------------------------------------------------------------\u001b[0m",
            "\u001b[0;31mNameError\u001b[0m                                 Traceback (most recent call last)",
            "\u001b[0;32m<ipython-input-12-8f8cfcb9d716>\u001b[0m in \u001b[0;36m<module>\u001b[0;34m()\u001b[0m\n\u001b[1;32m      1\u001b[0m \u001b[0;31m# summarize history for accuracy\u001b[0m\u001b[0;34m\u001b[0m\u001b[0;34m\u001b[0m\u001b[0;34m\u001b[0m\u001b[0m\n\u001b[0;32m----> 2\u001b[0;31m \u001b[0mplt\u001b[0m\u001b[0;34m.\u001b[0m\u001b[0mplot\u001b[0m\u001b[0;34m(\u001b[0m\u001b[0mhistory\u001b[0m\u001b[0;34m.\u001b[0m\u001b[0mhistory\u001b[0m\u001b[0;34m[\u001b[0m\u001b[0;34m'accuracy'\u001b[0m\u001b[0;34m]\u001b[0m\u001b[0;34m)\u001b[0m\u001b[0;34m\u001b[0m\u001b[0;34m\u001b[0m\u001b[0m\n\u001b[0m\u001b[1;32m      3\u001b[0m \u001b[0mplt\u001b[0m\u001b[0;34m.\u001b[0m\u001b[0mplot\u001b[0m\u001b[0;34m(\u001b[0m\u001b[0mhistory\u001b[0m\u001b[0;34m.\u001b[0m\u001b[0mhistory\u001b[0m\u001b[0;34m[\u001b[0m\u001b[0;34m'val_accuracy'\u001b[0m\u001b[0;34m]\u001b[0m\u001b[0;34m)\u001b[0m\u001b[0;34m\u001b[0m\u001b[0;34m\u001b[0m\u001b[0m\n\u001b[1;32m      4\u001b[0m \u001b[0mplt\u001b[0m\u001b[0;34m.\u001b[0m\u001b[0mtitle\u001b[0m\u001b[0;34m(\u001b[0m\u001b[0;34m'model accuracy'\u001b[0m\u001b[0;34m)\u001b[0m\u001b[0;34m\u001b[0m\u001b[0;34m\u001b[0m\u001b[0m\n\u001b[1;32m      5\u001b[0m \u001b[0mplt\u001b[0m\u001b[0;34m.\u001b[0m\u001b[0mylabel\u001b[0m\u001b[0;34m(\u001b[0m\u001b[0;34m'accuracy'\u001b[0m\u001b[0;34m)\u001b[0m\u001b[0;34m\u001b[0m\u001b[0;34m\u001b[0m\u001b[0m\n",
            "\u001b[0;31mNameError\u001b[0m: name 'history' is not defined"
          ]
        }
      ]
    },
    {
      "cell_type": "markdown",
      "metadata": {
        "id": "8Nxau1E-x3gN"
      },
      "source": [
        "Confusion Matrix"
      ]
    },
    {
      "cell_type": "code",
      "metadata": {
        "id": "Otmx1tX8jli6",
        "colab": {
          "base_uri": "https://localhost:8080/",
          "height": 163
        },
        "outputId": "06104fb1-3421-4400-9590-29f93072947a"
      },
      "source": [
        "predictions = history.model.predict(x_test)"
      ],
      "execution_count": 13,
      "outputs": [
        {
          "output_type": "error",
          "ename": "NameError",
          "evalue": "ignored",
          "traceback": [
            "\u001b[0;31m---------------------------------------------------------------------------\u001b[0m",
            "\u001b[0;31mNameError\u001b[0m                                 Traceback (most recent call last)",
            "\u001b[0;32m<ipython-input-13-6562ae3fc6fa>\u001b[0m in \u001b[0;36m<module>\u001b[0;34m()\u001b[0m\n\u001b[0;32m----> 1\u001b[0;31m \u001b[0mpredictions\u001b[0m \u001b[0;34m=\u001b[0m \u001b[0mhistory\u001b[0m\u001b[0;34m.\u001b[0m\u001b[0mmodel\u001b[0m\u001b[0;34m.\u001b[0m\u001b[0mpredict\u001b[0m\u001b[0;34m(\u001b[0m\u001b[0mx_test\u001b[0m\u001b[0;34m)\u001b[0m\u001b[0;34m\u001b[0m\u001b[0;34m\u001b[0m\u001b[0m\n\u001b[0m",
            "\u001b[0;31mNameError\u001b[0m: name 'history' is not defined"
          ]
        }
      ]
    },
    {
      "cell_type": "code",
      "metadata": {
        "id": "R-DL4ZbCnS0s",
        "colab": {
          "base_uri": "https://localhost:8080/"
        },
        "outputId": "8efd6475-923a-43d3-9da9-b87e13880f60"
      },
      "source": [
        "guess = 0\n",
        "\n",
        "to_predict = len(y_test)\n",
        "\n",
        "for index in range(to_predict):\n",
        "    if np.argmax(predictions[index]) == np.argmax(y_test[index]):\n",
        "        guess += 1\n",
        "\n",
        "# np.argmax(predictions[index]), np.argmax(y_test[index])\n",
        "print(\"Guessed: {:.2f}%\".format(guess/to_predict*100))"
      ],
      "execution_count": null,
      "outputs": [
        {
          "output_type": "stream",
          "text": [
            "Guessed: 27.62%\n"
          ],
          "name": "stdout"
        }
      ]
    },
    {
      "cell_type": "code",
      "metadata": {
        "id": "WQvwXcUWu5qY"
      },
      "source": [
        "def show_confusion_matrix(validations, predictions):\n",
        "\n",
        "    matrix = metrics.confusion_matrix(validations, predictions)\n",
        "    plt.figure(figsize=(6, 4))\n",
        "    sns.heatmap(matrix,\n",
        "                cmap='coolwarm',\n",
        "                linecolor='white',\n",
        "                linewidths=1,\n",
        "                #xticklabels=LABELS,\n",
        "                #yticklabels='0','1','2',\n",
        "                annot=True,\n",
        "                fmt='d')\n",
        "    plt.title('Confusion Matrix')\n",
        "    plt.ylabel('True Label')\n",
        "    plt.xlabel('Predicted Label')\n",
        "    plt.show()"
      ],
      "execution_count": null,
      "outputs": []
    },
    {
      "cell_type": "code",
      "metadata": {
        "colab": {
          "base_uri": "https://localhost:8080/",
          "height": 513
        },
        "id": "pOuDDvS2u-cd",
        "outputId": "6aa9849f-8653-4bc3-aa9e-f11ce314d305"
      },
      "source": [
        "y_pred_test = model.predict(x_test)\n",
        "# Take the class with the highest probability from the test predictions\n",
        "max_y_pred_test = np.argmax(y_pred_test, axis=1)\n",
        "max_y_test = np.argmax(y_test, axis=1)\n",
        "\n",
        "show_confusion_matrix(max_y_test, max_y_pred_test)\n",
        "\n",
        "print(classification_report(max_y_test, max_y_pred_test))"
      ],
      "execution_count": null,
      "outputs": [
        {
          "output_type": "display_data",
          "data": {
            "image/png": "[encoded data removed]",
            "text/plain": [
              "<Figure size 432x288 with 2 Axes>"
            ]
          },
          "metadata": {
            "tags": [],
            "needs_background": "light"
          }
        },
        {
          "output_type": "stream",
          "text": [
            "              precision    recall  f1-score   support\n",
            "\n",
            "           0       0.03      0.02      0.02      2172\n",
            "           1       0.05      0.07      0.06       322\n",
            "           2       0.32      0.51      0.39      4727\n",
            "           3       0.36      0.22      0.27      4682\n",
            "           4       0.18      0.11      0.14      1150\n",
            "\n",
            "    accuracy                           0.28     13053\n",
            "   macro avg       0.19      0.19      0.18     13053\n",
            "weighted avg       0.27      0.28      0.26     13053\n",
            "\n"
          ],
          "name": "stdout"
        }
      ]
    },
    {
      "cell_type": "markdown",
      "metadata": {
        "id": "Bm_F9L2umUnx"
      },
      "source": [
        "# Predictions"
      ]
    },
    {
      "cell_type": "code",
      "metadata": {
        "id": "-3AwFe0E7aPG"
      },
      "source": [
        "# test the trained model with the full x_test\n",
        "predictions = model.predict(x_test)"
      ],
      "execution_count": null,
      "outputs": []
    },
    {
      "cell_type": "code",
      "metadata": {
        "colab": {
          "base_uri": "https://localhost:8080/"
        },
        "id": "frOwP6RL7ghF",
        "outputId": "2912a708-caef-429a-fc54-ee6ab0f7af00"
      },
      "source": [
        "predictions[0], y_test[0]"
      ],
      "execution_count": null,
      "outputs": [
        {
          "output_type": "execute_result",
          "data": {
            "text/plain": [
              "(array([0.02846027, 0.89990205, 0.07163768], dtype=float32),\n",
              " array([0., 1., 0.], dtype=float32))"
            ]
          },
          "metadata": {
            "tags": []
          },
          "execution_count": 74
        }
      ]
    },
    {
      "cell_type": "code",
      "metadata": {
        "colab": {
          "base_uri": "https://localhost:8080/"
        },
        "id": "Tnjgb73S7yDd",
        "outputId": "b3e7e996-b9cb-43c2-88b9-6ccb62a7b194"
      },
      "source": [
        "predictions[500], y_test[500]"
      ],
      "execution_count": null,
      "outputs": [
        {
          "output_type": "execute_result",
          "data": {
            "text/plain": [
              "(array([0.05969261, 0.7548642 , 0.18544324], dtype=float32),\n",
              " array([0., 1., 0.], dtype=float32))"
            ]
          },
          "metadata": {
            "tags": []
          },
          "execution_count": 75
        }
      ]
    },
    {
      "cell_type": "code",
      "metadata": {
        "colab": {
          "base_uri": "https://localhost:8080/"
        },
        "id": "gi4CQeJA707J",
        "outputId": "2f731027-9cca-432b-d998-100fab265aad"
      },
      "source": [
        "predictions[800], y_test[800]"
      ],
      "execution_count": null,
      "outputs": [
        {
          "output_type": "execute_result",
          "data": {
            "text/plain": [
              "(array([0.06639516, 0.5557858 , 0.37781912], dtype=float32),\n",
              " array([0., 1., 0.], dtype=float32))"
            ]
          },
          "metadata": {
            "tags": []
          },
          "execution_count": 76
        }
      ]
    },
    {
      "cell_type": "code",
      "metadata": {
        "colab": {
          "base_uri": "https://localhost:8080/"
        },
        "id": "9KWU4Uyi723q",
        "outputId": "2a9cb662-403f-40e2-9f39-fcaa7668db56"
      },
      "source": [
        "predictions[1200], y_test[1200]"
      ],
      "execution_count": null,
      "outputs": [
        {
          "output_type": "execute_result",
          "data": {
            "text/plain": [
              "(array([0.04926674, 0.74609387, 0.20463938], dtype=float32),\n",
              " array([0., 1., 0.], dtype=float32))"
            ]
          },
          "metadata": {
            "tags": []
          },
          "execution_count": 77
        }
      ]
    },
    {
      "cell_type": "code",
      "metadata": {
        "colab": {
          "base_uri": "https://localhost:8080/",
          "height": 171
        },
        "id": "LevQdew074E-",
        "outputId": "2fc1b41c-16ce-4fb6-c2bd-5bbcddf127e6"
      },
      "source": [
        "predictions[2000], y_test[2000] # bad prediction"
      ],
      "execution_count": null,
      "outputs": [
        {
          "output_type": "error",
          "ename": "NameError",
          "evalue": "ignored",
          "traceback": [
            "\u001b[0;31m---------------------------------------------------------------------------\u001b[0m",
            "\u001b[0;31mNameError\u001b[0m                                 Traceback (most recent call last)",
            "\u001b[0;32m<ipython-input-51-fbaca9589ac0>\u001b[0m in \u001b[0;36m<module>\u001b[0;34m()\u001b[0m\n\u001b[0;32m----> 1\u001b[0;31m \u001b[0mpredictions\u001b[0m\u001b[0;34m[\u001b[0m\u001b[0;36m2000\u001b[0m\u001b[0;34m]\u001b[0m\u001b[0;34m,\u001b[0m \u001b[0my_test\u001b[0m\u001b[0;34m[\u001b[0m\u001b[0;36m2000\u001b[0m\u001b[0;34m]\u001b[0m \u001b[0;31m# bad prediction\u001b[0m\u001b[0;34m\u001b[0m\u001b[0;34m\u001b[0m\u001b[0m\n\u001b[0m",
            "\u001b[0;31mNameError\u001b[0m: name 'predictions' is not defined"
          ]
        }
      ]
    },
    {
      "cell_type": "code",
      "metadata": {
        "colab": {
          "base_uri": "https://localhost:8080/"
        },
        "id": "qMCdP_Dk8GXX",
        "outputId": "5daf39d5-766e-4949-e3ac-9a0c783a738a"
      },
      "source": [
        "predictions[2400], y_test[2400]"
      ],
      "execution_count": null,
      "outputs": [
        {
          "output_type": "execute_result",
          "data": {
            "text/plain": [
              "(array([0.05789682, 0.83688635, 0.10521688], dtype=float32),\n",
              " array([0., 1., 0.], dtype=float32))"
            ]
          },
          "metadata": {
            "tags": []
          },
          "execution_count": 85
        }
      ]
    },
    {
      "cell_type": "code",
      "metadata": {
        "colab": {
          "base_uri": "https://localhost:8080/",
          "height": 189
        },
        "id": "pssKjwnzT2Kw",
        "outputId": "16efa001-9da0-487b-cef5-3361833263f1"
      },
      "source": [
        "for i in range(2000):\n",
        "    predictions[i]"
      ],
      "execution_count": null,
      "outputs": [
        {
          "output_type": "error",
          "ename": "NameError",
          "evalue": "ignored",
          "traceback": [
            "\u001b[0;31m---------------------------------------------------------------------------\u001b[0m",
            "\u001b[0;31mNameError\u001b[0m                                 Traceback (most recent call last)",
            "\u001b[0;32m<ipython-input-44-e6c2fb9ef533>\u001b[0m in \u001b[0;36m<module>\u001b[0;34m()\u001b[0m\n\u001b[1;32m      1\u001b[0m \u001b[0;32mfor\u001b[0m \u001b[0mi\u001b[0m \u001b[0;32min\u001b[0m \u001b[0mrange\u001b[0m\u001b[0;34m(\u001b[0m\u001b[0;36m2000\u001b[0m\u001b[0;34m)\u001b[0m\u001b[0;34m:\u001b[0m\u001b[0;34m\u001b[0m\u001b[0;34m\u001b[0m\u001b[0m\n\u001b[0;32m----> 2\u001b[0;31m     \u001b[0mpredictions\u001b[0m\u001b[0;34m[\u001b[0m\u001b[0mi\u001b[0m\u001b[0;34m]\u001b[0m\u001b[0;34m\u001b[0m\u001b[0;34m\u001b[0m\u001b[0m\n\u001b[0m",
            "\u001b[0;31mNameError\u001b[0m: name 'predictions' is not defined"
          ]
        }
      ]
    }
  ]
}