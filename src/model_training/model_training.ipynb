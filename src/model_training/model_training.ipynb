{
  "nbformat": 4,
  "nbformat_minor": 0,
  "metadata": {
    "colab": {
      "name": "model_training.ipynb",
      "provenance": [],
      "collapsed_sections": []
    },
    "kernelspec": {
      "name": "python3",
      "display_name": "Python 3"
    },
    "language_info": {
      "name": "python"
    },
    "accelerator": "GPU"
  },
  "cells": [
    {
      "cell_type": "code",
      "metadata": {
        "id": "5iB8fV6iWeQs"
      },
      "source": [
        "import pandas as pd\n",
        "import numpy as np\n",
        "import tensorflow as tf\n",
        "import matplotlib.pyplot as plt\n",
        "import os\n",
        "import re\n",
        "import glob\n",
        "import seaborn as sns\n",
        "from numpy import mean\n",
        "from numpy import std\n",
        "from scipy import stats\n",
        "from tensorflow import keras\n",
        "from tensorflow.keras import layers\n",
        "from keras.models import Sequential\n",
        "from keras.callbacks import History \n",
        "from keras.layers import Dense\n",
        "from keras.layers import Dropout\n",
        "from keras.layers import LSTM\n",
        "from keras.layers import ConvLSTM2D\n",
        "from keras.layers import Flatten\n",
        "from keras.optimizers import SGD\n",
        "from keras.utils.np_utils import to_categorical\n",
        "from sklearn import metrics\n",
        "from sklearn.metrics import classification_report"
      ],
      "execution_count": 19,
      "outputs": []
    },
    {
      "cell_type": "markdown",
      "metadata": {
        "id": "1R0wTJdcZzA9"
      },
      "source": [
        "# Load Dataset\n",
        "\n",
        "Load Dataset, concatenate data and count Rows and Columns"
      ]
    },
    {
      "cell_type": "code",
      "metadata": {
        "id": "uge8UaRLVvuT",
        "outputId": "b0f67503-9f18-4b23-84c9-1e0b48c56a92",
        "colab": {
          "base_uri": "https://localhost:8080/"
        }
      },
      "source": [
        "# Download dataset from Github and unzip\n",
        "!wget 'https://github.com/cargilgar/Smart-Alarm-using-tinyML/raw/main/dataset/dataset-1-15.zip'\n",
        "\n",
        "!unzip dataset-1-15.zip"
      ],
      "execution_count": 1,
      "outputs": [
        {
          "output_type": "stream",
          "text": [
            "--2021-06-10 18:27:11--  https://github.com/cargilgar/Smart-Alarm-using-tinyML/raw/main/dataset/dataset-1-30.zip\n",
            "Resolving github.com (github.com)... 192.30.255.113\n",
            "Connecting to github.com (github.com)|192.30.255.113|:443... connected.\n",
            "HTTP request sent, awaiting response... 302 Found\n",
            "Location: https://raw.githubusercontent.com/cargilgar/Smart-Alarm-using-tinyML/main/dataset/dataset-1-30.zip [following]\n",
            "--2021-06-10 18:27:11--  https://raw.githubusercontent.com/cargilgar/Smart-Alarm-using-tinyML/main/dataset/dataset-1-30.zip\n",
            "Resolving raw.githubusercontent.com (raw.githubusercontent.com)... 185.199.108.133, 185.199.109.133, 185.199.110.133, ...\n",
            "Connecting to raw.githubusercontent.com (raw.githubusercontent.com)|185.199.108.133|:443... connected.\n",
            "HTTP request sent, awaiting response... 200 OK\n",
            "Length: 588851 (575K) [application/zip]\n",
            "Saving to: ‘dataset-1-30.zip’\n",
            "\n",
            "dataset-1-30.zip    100%[===================>] 575.05K  --.-KB/s    in 0.03s   \n",
            "\n",
            "2021-06-10 18:27:12 (19.7 MB/s) - ‘dataset-1-30.zip’ saved [588851/588851]\n",
            "\n",
            "Archive:  dataset-1-30.zip\n",
            "   creating: content/output/\n",
            "  inflating: content/output/dataset_844359.csv  \n",
            "  inflating: content/output/dataset_5383425.csv  \n",
            "  inflating: content/output/dataset_9106476.csv  \n",
            "  inflating: content/output/dataset_9618981.csv  \n",
            "  inflating: content/output/dataset_4426783.csv  \n",
            "  inflating: content/output/dataset_6220552.csv  \n",
            "  inflating: content/output/dataset_7749105.csv  \n",
            "  inflating: content/output/dataset_4018081.csv  \n",
            "  inflating: content/output/dataset_1449548.csv  \n",
            "  inflating: content/output/dataset_8530312.csv  \n",
            "  inflating: content/output/dataset_1818471.csv  \n",
            "  inflating: content/output/dataset_46343.csv  \n",
            "  inflating: content/output/dataset_3509524.csv  \n",
            "  inflating: content/output/dataset_9961348.csv  \n",
            "  inflating: content/output/dataset_1455390.csv  \n",
            "  inflating: content/output/dataset_1360686.csv  \n",
            "  inflating: content/output/dataset_5797046.csv  \n",
            "  inflating: content/output/dataset_4314139.csv  \n",
            "  inflating: content/output/dataset_759667.csv  \n",
            "  inflating: content/output/dataset_2638030.csv  \n",
            "  inflating: content/output/dataset_8000685.csv  \n",
            "  inflating: content/output/dataset_1066528.csv  \n",
            "  inflating: content/output/dataset_781756.csv  \n",
            "  inflating: content/output/dataset_3997827.csv  \n",
            "  inflating: content/output/dataset_8258170.csv  \n",
            "  inflating: content/output/dataset_8686948.csv  \n",
            "  inflating: content/output/dataset_2598705.csv  \n",
            "  inflating: content/output/dataset_8692923.csv  \n",
            "  inflating: content/output/dataset_8173033.csv  \n",
            "  inflating: content/output/dataset_5498603.csv  \n",
            "  inflating: content/output/dataset_5132496.csv  \n"
          ],
          "name": "stdout"
        }
      ]
    },
    {
      "cell_type": "code",
      "metadata": {
        "colab": {
          "base_uri": "https://localhost:8080/"
        },
        "id": "q_LRVocyimd2",
        "outputId": "f2976931-0228-4f36-9818-5d4214da313a"
      },
      "source": [
        "#Create full dataframe with all subject csv's concatenated\n",
        "path = r'content/output/'\n",
        "all_files = glob.glob(path + \"/*.csv\")\n",
        "\n",
        "li = []\n",
        "\n",
        "for filename in all_files:\n",
        "    subject_csv = pd.read_csv(filename, index_col=None, header=0)\n",
        "    li.append(subject_csv)\n",
        "\n",
        "df = pd.concat(li, axis=0, ignore_index=True)\n",
        "\n",
        "#Save big dataframe as CSV\n",
        "df.to_csv('all_users_df.csv')\n",
        "\n",
        "#Rows and Columns\n",
        "total_rows=len(df.axes[0]) #===> Axes of 0 is for a row\n",
        "total_cols=len(df.axes[1]) #===> Axes of 1 is for a column\n",
        "print(\"Number of Rows: \"+str(total_rows))\n",
        "print(\"Number of Columns: \"+str(total_cols))"
      ],
      "execution_count": 11,
      "outputs": [
        {
          "output_type": "stream",
          "text": [
            "Number of Rows: 25614\n",
            "Number of Columns: 6\n"
          ],
          "name": "stdout"
        }
      ]
    },
    {
      "cell_type": "code",
      "metadata": {
        "id": "bLWLWzEc_eMe",
        "colab": {
          "base_uri": "https://localhost:8080/",
          "height": 422
        },
        "outputId": "89ca9a5a-8330-4e36-e273-3daa89f3d7a3"
      },
      "source": [
        "# Read full dataframe CSV (without download data)\n",
        "# QUITAR COLUMNA UNNAMED:0\n",
        "df = pd.read_csv('all_users_df.csv')\n",
        "df"
      ],
      "execution_count": 2,
      "outputs": [
        {
          "output_type": "execute_result",
          "data": {
            "text/html": [
              "<div>\n",
              "<style scoped>\n",
              "    .dataframe tbody tr th:only-of-type {\n",
              "        vertical-align: middle;\n",
              "    }\n",
              "\n",
              "    .dataframe tbody tr th {\n",
              "        vertical-align: top;\n",
              "    }\n",
              "\n",
              "    .dataframe thead th {\n",
              "        text-align: right;\n",
              "    }\n",
              "</style>\n",
              "<table border=\"1\" class=\"dataframe\">\n",
              "  <thead>\n",
              "    <tr style=\"text-align: right;\">\n",
              "      <th></th>\n",
              "      <th>Unnamed: 0</th>\n",
              "      <th>Time</th>\n",
              "      <th>X</th>\n",
              "      <th>Y</th>\n",
              "      <th>Z</th>\n",
              "      <th>Heart Rate</th>\n",
              "      <th>Labels</th>\n",
              "    </tr>\n",
              "  </thead>\n",
              "  <tbody>\n",
              "    <tr>\n",
              "      <th>0</th>\n",
              "      <td>0</td>\n",
              "      <td>30.0</td>\n",
              "      <td>14.772415</td>\n",
              "      <td>0.585938</td>\n",
              "      <td>26.492218</td>\n",
              "      <td>65.500000</td>\n",
              "      <td>-1.0</td>\n",
              "    </tr>\n",
              "    <tr>\n",
              "      <th>1</th>\n",
              "      <td>1</td>\n",
              "      <td>60.0</td>\n",
              "      <td>14.811448</td>\n",
              "      <td>1.025360</td>\n",
              "      <td>26.646546</td>\n",
              "      <td>63.333333</td>\n",
              "      <td>-1.0</td>\n",
              "    </tr>\n",
              "    <tr>\n",
              "      <th>2</th>\n",
              "      <td>2</td>\n",
              "      <td>90.0</td>\n",
              "      <td>14.635483</td>\n",
              "      <td>0.740616</td>\n",
              "      <td>26.492569</td>\n",
              "      <td>64.571429</td>\n",
              "      <td>-1.0</td>\n",
              "    </tr>\n",
              "    <tr>\n",
              "      <th>3</th>\n",
              "      <td>3</td>\n",
              "      <td>120.0</td>\n",
              "      <td>15.002105</td>\n",
              "      <td>0.693939</td>\n",
              "      <td>26.327194</td>\n",
              "      <td>66.000000</td>\n",
              "      <td>-1.0</td>\n",
              "    </tr>\n",
              "    <tr>\n",
              "      <th>4</th>\n",
              "      <td>4</td>\n",
              "      <td>150.0</td>\n",
              "      <td>15.331436</td>\n",
              "      <td>0.887787</td>\n",
              "      <td>26.733597</td>\n",
              "      <td>59.833333</td>\n",
              "      <td>-1.0</td>\n",
              "    </tr>\n",
              "    <tr>\n",
              "      <th>...</th>\n",
              "      <td>...</td>\n",
              "      <td>...</td>\n",
              "      <td>...</td>\n",
              "      <td>...</td>\n",
              "      <td>...</td>\n",
              "      <td>...</td>\n",
              "      <td>...</td>\n",
              "    </tr>\n",
              "    <tr>\n",
              "      <th>25609</th>\n",
              "      <td>939</td>\n",
              "      <td>28300.0</td>\n",
              "      <td>9.633728</td>\n",
              "      <td>10.161057</td>\n",
              "      <td>26.623489</td>\n",
              "      <td>69.800000</td>\n",
              "      <td>0.0</td>\n",
              "    </tr>\n",
              "    <tr>\n",
              "      <th>25610</th>\n",
              "      <td>940</td>\n",
              "      <td>28330.0</td>\n",
              "      <td>9.559921</td>\n",
              "      <td>9.883820</td>\n",
              "      <td>26.779831</td>\n",
              "      <td>74.666667</td>\n",
              "      <td>-1.0</td>\n",
              "    </tr>\n",
              "    <tr>\n",
              "      <th>25611</th>\n",
              "      <td>941</td>\n",
              "      <td>28360.0</td>\n",
              "      <td>9.432358</td>\n",
              "      <td>11.747605</td>\n",
              "      <td>25.975509</td>\n",
              "      <td>73.833333</td>\n",
              "      <td>-1.0</td>\n",
              "    </tr>\n",
              "    <tr>\n",
              "      <th>25612</th>\n",
              "      <td>942</td>\n",
              "      <td>28390.0</td>\n",
              "      <td>9.397308</td>\n",
              "      <td>11.878495</td>\n",
              "      <td>25.853592</td>\n",
              "      <td>74.600000</td>\n",
              "      <td>-1.0</td>\n",
              "    </tr>\n",
              "    <tr>\n",
              "      <th>25613</th>\n",
              "      <td>943</td>\n",
              "      <td>28420.0</td>\n",
              "      <td>9.405502</td>\n",
              "      <td>11.278320</td>\n",
              "      <td>26.372482</td>\n",
              "      <td>76.857143</td>\n",
              "      <td>-1.0</td>\n",
              "    </tr>\n",
              "  </tbody>\n",
              "</table>\n",
              "<p>25614 rows × 7 columns</p>\n",
              "</div>"
            ],
            "text/plain": [
              "       Unnamed: 0     Time          X          Y          Z  Heart Rate  Labels\n",
              "0               0     30.0  14.772415   0.585938  26.492218   65.500000    -1.0\n",
              "1               1     60.0  14.811448   1.025360  26.646546   63.333333    -1.0\n",
              "2               2     90.0  14.635483   0.740616  26.492569   64.571429    -1.0\n",
              "3               3    120.0  15.002105   0.693939  26.327194   66.000000    -1.0\n",
              "4               4    150.0  15.331436   0.887787  26.733597   59.833333    -1.0\n",
              "...           ...      ...        ...        ...        ...         ...     ...\n",
              "25609         939  28300.0   9.633728  10.161057  26.623489   69.800000     0.0\n",
              "25610         940  28330.0   9.559921   9.883820  26.779831   74.666667    -1.0\n",
              "25611         941  28360.0   9.432358  11.747605  25.975509   73.833333    -1.0\n",
              "25612         942  28390.0   9.397308  11.878495  25.853592   74.600000    -1.0\n",
              "25613         943  28420.0   9.405502  11.278320  26.372482   76.857143    -1.0\n",
              "\n",
              "[25614 rows x 7 columns]"
            ]
          },
          "metadata": {
            "tags": []
          },
          "execution_count": 2
        }
      ]
    },
    {
      "cell_type": "markdown",
      "metadata": {
        "id": "00jGhBmxqSXE"
      },
      "source": [
        "# Labels\n",
        "Initial stages (0-5, wake = 0, N1 = 1, N2 = 2, N3 = 3, REM = 5)\n",
        "\n",
        "Relabeled stages (0-2, wake = 0, NREM = 1, REM = 2)"
      ]
    },
    {
      "cell_type": "code",
      "metadata": {
        "id": "uw3S8hjGdj0T"
      },
      "source": [
        "# Show labels\n",
        "# Same labels will be reused throughout the program\n",
        "\n",
        "df['Labels'].describe()\n",
        "#subject_csv.hist('Heart Rate')\n",
        "#subject_csv.describe()\n",
        "\n",
        "df['Labels'] = df['Labels'].map({0:0,1:1,2:1,3:1,5:2,}, na_action=None)\n",
        "\n",
        "#Delete non-labeled Rows\n",
        "df.dropna(inplace=True)"
      ],
      "execution_count": 3,
      "outputs": []
    },
    {
      "cell_type": "markdown",
      "metadata": {
        "id": "VwnxK53835FY"
      },
      "source": [
        "# Normalize Training Data\n",
        "Next, we need to normalize our features within our training data. Of course there are various ways on how to normalize. Please keep in mind that you use the same normalization algorithm later when feeding new data into your neural network. Otherwise your preditions will be off. On top of the normalization we will also apply rounding to the three features."
      ]
    },
    {
      "cell_type": "code",
      "metadata": {
        "id": "bOd1dXMi2N4_"
      },
      "source": [
        "# Normalize features for training data set (values between 0 and 1)***\n",
        "# Surpress warning for next 3 operation\n",
        "pd.options.mode.chained_assignment = None  # default='warn'\n",
        "df['X'] = df['X'] / df['X'].max()\n",
        "df['Y'] = df['Y'] / df['Y'].max()\n",
        "df['Z'] = df['Z'] / df['Z'].max()\n",
        "df['Heart Rate'] = df['Heart Rate'] / df['Heart Rate'].max()\n",
        "\n",
        "# Round numbers (4 decimals)\n",
        "df = df.round({'X': 4, 'Y': 4, 'Z': 4, 'Heart Rate': 4})"
      ],
      "execution_count": 4,
      "outputs": []
    },
    {
      "cell_type": "markdown",
      "metadata": {
        "id": "oC7ObCbBZ_1-"
      },
      "source": [
        "# Split Dataset\n",
        "Train, Validation and Test\n",
        "\n",
        "Split the data\n",
        "We'll use a (70%, 20%, 10%) split for the training, validation, and test sets. Note the data is not being randomly shuffled before splitting. This is for two reasons.\n",
        "\n",
        "It ensures that chopping the data into windows of consecutive samples is still possible.\n",
        "It ensures that the validation/test results are more realistic, being evaluated on data collected after the model was trained.\n",
        "\n",
        "***ANOTHER SPLITING OPTION WOULD BE TO SEPARATE USERS (Crear nueva columna con nombre usuario?? O manejar cada CSV por separado??)***\n",
        "\n",
        "\n",
        "\n"
      ]
    },
    {
      "cell_type": "code",
      "metadata": {
        "id": "DUcpsQLZaKOE"
      },
      "source": [
        "column_indices = {name: i for i, name in enumerate(df.columns)}\n",
        "\n",
        "PERCENTAGE_TRAIN = 0.70\n",
        "PERCENTAGE_VALIDATION = 0.20\n",
        "\n",
        "n = len(df)\n",
        "train_df = df[0:int(n*PERCENTAGE_TRAIN)]\n",
        "val_df = df[int(n*PERCENTAGE_TRAIN):int(n*(PERCENTAGE_VALIDATION + PERCENTAGE_TRAIN))]\n",
        "test_df = df[int(n*(PERCENTAGE_VALIDATION + PERCENTAGE_TRAIN)):]"
      ],
      "execution_count": 5,
      "outputs": []
    },
    {
      "cell_type": "markdown",
      "metadata": {
        "id": "aYGO3D4b7btV"
      },
      "source": [
        "# Reshape Data into Segments and Prepare for Keras\n",
        "The data contained in the dataframe is not ready yet to be fed into a neural network. Therefore we need to reshape it. Let’s create another function for this called “create_segments_and_labels”. This function will take in the dataframe and the label names."
      ]
    },
    {
      "cell_type": "code",
      "metadata": {
        "id": "2jOMBw867eW2"
      },
      "source": [
        "def create_segments_and_labels(dfs,labels):\n",
        "\n",
        "    labels = dfs[labels]\n",
        "    #segments = dfs[['Z','Heart Rate']]\n",
        "    segments = dfs[['X','Y','Z','Heart Rate']] #All features\n",
        "\n",
        "    return segments, labels"
      ],
      "execution_count": 6,
      "outputs": []
    },
    {
      "cell_type": "code",
      "metadata": {
        "id": "ODyG2FBGAGd6"
      },
      "source": [
        "# x_train --> Features\n",
        "# y_train --> Labels\n",
        "   \n",
        "x_train, y_train = create_segments_and_labels(train_df,'Labels')\n",
        "x_val, y_val = create_segments_and_labels(val_df,'Labels')\n",
        "x_test, y_test = create_segments_and_labels(test_df,'Labels')\n"
      ],
      "execution_count": 7,
      "outputs": []
    },
    {
      "cell_type": "markdown",
      "metadata": {
        "id": "TsfiKCAzFEI-"
      },
      "source": [
        "# LSTM Model"
      ]
    },
    {
      "cell_type": "code",
      "metadata": {
        "id": "aM7SfZAwWkBy"
      },
      "source": [
        "#Prepare data for LSTM Model\n",
        "x_train = np.expand_dims(x_train,-1) \n",
        "x_val = np.expand_dims(x_val,-1) \n",
        "x_test = np.expand_dims(x_test,-1) "
      ],
      "execution_count": 8,
      "outputs": []
    },
    {
      "cell_type": "code",
      "metadata": {
        "id": "M1AIR_CSDYNE"
      },
      "source": [
        "#Prepare labels data \n",
        "#Needed to categorical_crossentropy loss function\n",
        "y_train = to_categorical(y_train)\n",
        "y_val = to_categorical(y_val)\n",
        "y_test = to_categorical(y_test)"
      ],
      "execution_count": 9,
      "outputs": []
    },
    {
      "cell_type": "code",
      "metadata": {
        "id": "-7WQxsDJ7Oj4"
      },
      "source": [
        "#Create LSTM model\n",
        "n_timesteps = x_train.shape[1]\n",
        "n_features = x_train.shape[2]\n",
        "n_outputs = 3\n",
        "\n",
        "model = Sequential()\n",
        "model.add(LSTM(180, input_shape=(n_timesteps,n_features)))\n",
        "model.add(Dropout(0.5))\n",
        "model.add(Dense(30, activation='relu'))\n",
        "model.add(Dense(n_outputs, activation='softmax'))\n",
        "model.compile(loss='categorical_crossentropy', optimizer='adam', metrics=['accuracy'])\n",
        "model.summary()"
      ],
      "execution_count": 10,
      "outputs": []
    },
    {
      "cell_type": "code",
      "metadata": {
        "id": "vnnAjtgc7OXO"
      },
      "source": [
        "# train model\n",
        "history = model.fit(x_train, y_train, validation_data=(x_val, y_val), epochs=100, batch_size=100, verbose=1)"
      ],
      "execution_count": null,
      "outputs": []
    },
    {
      "cell_type": "markdown",
      "metadata": {
        "id": "mCXw2xaUJQ_l"
      },
      "source": [
        "# Deep Neural Network Model in Keras\n"
      ]
    },
    {
      "cell_type": "code",
      "metadata": {
        "id": "CXwt6I_yqkau"
      },
      "source": [
        "# Reverse array dimension changes for LSTM\n",
        "x_train = x_train[:, :, 0]\n",
        "x_val = x_val[:, :, 0]\n",
        "x_test = x_test[:, :, 0]"
      ],
      "execution_count": 28,
      "outputs": []
    },
    {
      "cell_type": "code",
      "metadata": {
        "id": "KJ5ywCqflQi0"
      },
      "source": [
        "#Prepare labels data \n",
        "#Needed ONLY for categorical_crossentropy loss function\n",
        "y_train = to_categorical(y_train)\n",
        "y_val = to_categorical(y_val)\n",
        "y_test = to_categorical(y_test)"
      ],
      "execution_count": null,
      "outputs": []
    },
    {
      "cell_type": "code",
      "metadata": {
        "colab": {
          "base_uri": "https://localhost:8080/"
        },
        "id": "-DyMELaTeUqD",
        "outputId": "da3a2686-025e-4674-c6e9-e9ee1beff936"
      },
      "source": [
        "# define the keras model\n",
        "num_classes = 3\n",
        "\n",
        "model = Sequential()\n",
        "model.add(Dense(30, input_dim= x_train.shape[1], activation='relu'))\n",
        "#model.add(Dense(60, activation='relu'))\n",
        "model.add(Dense(num_classes, activation='softmax')) #Last layer corresponds with the number of possible outputs\n",
        "\n",
        "# compile the keras model\n",
        "opt = SGD(learning_rate=0.01, momentum=0.9)\n",
        "\n",
        "model.compile(loss= 'categorical_crossentropy', optimizer= 'adam', metrics=['accuracy'])\n",
        "model.summary()"
      ],
      "execution_count": 29,
      "outputs": [
        {
          "output_type": "stream",
          "text": [
            "Model: \"sequential_1\"\n",
            "_________________________________________________________________\n",
            "Layer (type)                 Output Shape              Param #   \n",
            "=================================================================\n",
            "dense_2 (Dense)              (None, 30)                150       \n",
            "_________________________________________________________________\n",
            "dense_3 (Dense)              (None, 3)                 93        \n",
            "=================================================================\n",
            "Total params: 243\n",
            "Trainable params: 243\n",
            "Non-trainable params: 0\n",
            "_________________________________________________________________\n"
          ],
          "name": "stdout"
        }
      ]
    },
    {
      "cell_type": "markdown",
      "metadata": {
        "id": "z7L-f61Kr9Qm"
      },
      "source": [
        "Train Model"
      ]
    },
    {
      "cell_type": "code",
      "metadata": {
        "id": "O1byX-NigRhU"
      },
      "source": [
        "# fit the keras model on the dataset\n",
        "history = model.fit(x_train, y_train, validation_data=(x_val, y_val), epochs=50, batch_size=180, verbose=1)"
      ],
      "execution_count": null,
      "outputs": []
    },
    {
      "cell_type": "markdown",
      "metadata": {
        "id": "b7wDeVitsAE-"
      },
      "source": [
        "# Evaluate Model on Test Data"
      ]
    },
    {
      "cell_type": "code",
      "metadata": {
        "id": "6Ew4p3YooK3m",
        "outputId": "77a3a5ed-eaaf-4854-a768-203f5e20071e",
        "colab": {
          "base_uri": "https://localhost:8080/"
        }
      },
      "source": [
        "# evaluate the model\n",
        "test_loss, test_acc = model.evaluate(x_test, y_test)\n",
        "\n",
        "print(\"Test accuracy\", test_acc)\n",
        "print(\"Test loss\", test_loss)"
      ],
      "execution_count": 14,
      "outputs": [
        {
          "output_type": "stream",
          "text": [
            "78/78 [==============================] - 0s 2ms/step - loss: 0.8489 - accuracy: 0.6634\n",
            "Test accuracy 0.6634499430656433\n",
            "Test loss 0.8488624095916748\n"
          ],
          "name": "stdout"
        }
      ]
    },
    {
      "cell_type": "code",
      "metadata": {
        "id": "EfMvpYkxYYU4",
        "colab": {
          "base_uri": "https://localhost:8080/",
          "height": 573
        },
        "outputId": "4b5208fe-5d14-4fe0-e9a4-7980e6f40977"
      },
      "source": [
        "# summarize history for accuracy\n",
        "plt.plot(history.history['accuracy'])\n",
        "plt.plot(history.history['val_accuracy'])\n",
        "plt.title('model accuracy')\n",
        "plt.ylabel('accuracy')\n",
        "plt.xlabel('epoch')\n",
        "plt.legend(['train', 'validation'], loc='upper left')\n",
        "plt.show()\n",
        "# summarize history for loss\n",
        "plt.plot(history.history['loss'])\n",
        "plt.plot(history.history['val_loss'])\n",
        "plt.title('model loss')\n",
        "plt.ylabel('loss')\n",
        "plt.xlabel('epoch')\n",
        "plt.legend(['train', 'validation'], loc='upper left')\n",
        "plt.show()"
      ],
      "execution_count": 15,
      "outputs": [
        {
          "output_type": "display_data",
          "data": {
            "image/png": "[encoded data removed]",
            "text/plain": [
              "<Figure size 432x288 with 1 Axes>"
            ]
          },
          "metadata": {
            "tags": [],
            "needs_background": "light"
          }
        },
        {
          "output_type": "display_data",
          "data": {
            "image/png": "[encoded data removed]",
            "text/plain": [
              "<Figure size 432x288 with 1 Axes>"
            ]
          },
          "metadata": {
            "tags": [],
            "needs_background": "light"
          }
        }
      ]
    },
    {
      "cell_type": "markdown",
      "metadata": {
        "id": "8Nxau1E-x3gN"
      },
      "source": [
        "Confusion Matrix for LSTM"
      ]
    },
    {
      "cell_type": "code",
      "metadata": {
        "id": "WQvwXcUWu5qY"
      },
      "source": [
        "def show_confusion_matrix(validations, predictions):\n",
        "\n",
        "    matrix = metrics.confusion_matrix(validations, predictions)\n",
        "    plt.figure(figsize=(6, 4))\n",
        "    sns.heatmap(matrix,\n",
        "                cmap='coolwarm',\n",
        "                linecolor='white',\n",
        "                linewidths=1,\n",
        "                #xticklabels=LABELS,\n",
        "                #yticklabels='0','1','2',\n",
        "                annot=True,\n",
        "                fmt='d')\n",
        "    plt.title('Confusion Matrix')\n",
        "    plt.ylabel('True Label')\n",
        "    plt.xlabel('Predicted Label')\n",
        "    plt.show()"
      ],
      "execution_count": 12,
      "outputs": []
    },
    {
      "cell_type": "code",
      "metadata": {
        "id": "pOuDDvS2u-cd",
        "outputId": "61767d7e-5c24-4c17-cc55-cb08a52dd009",
        "colab": {
          "base_uri": "https://localhost:8080/",
          "height": 476
        }
      },
      "source": [
        "y_pred_test = model.predict(x_test)\n",
        "# Take the class with the highest probability from the test predictions\n",
        "max_y_pred_test = np.argmax(y_pred_test, axis=1)\n",
        "max_y_test = np.argmax(y_test, axis=1)\n",
        "\n",
        "show_confusion_matrix(max_y_test, max_y_pred_test)\n",
        "\n",
        "print(classification_report(max_y_test, max_y_pred_test))"
      ],
      "execution_count": 20,
      "outputs": [
        {
          "output_type": "display_data",
          "data": {
            "image/png": "[encoded data removed]",
            "text/plain": [
              "<Figure size 432x288 with 2 Axes>"
            ]
          },
          "metadata": {
            "tags": [],
            "needs_background": "light"
          }
        },
        {
          "output_type": "stream",
          "text": [
            "              precision    recall  f1-score   support\n",
            "\n",
            "           0       0.31      0.07      0.12       211\n",
            "           1       0.68      0.95      0.80      1687\n",
            "           2       0.29      0.04      0.07       589\n",
            "\n",
            "    accuracy                           0.66      2487\n",
            "   macro avg       0.43      0.36      0.33      2487\n",
            "weighted avg       0.56      0.66      0.57      2487\n",
            "\n"
          ],
          "name": "stdout"
        }
      ]
    },
    {
      "cell_type": "markdown",
      "metadata": {
        "id": "Bm_F9L2umUnx"
      },
      "source": [
        "# Predictions"
      ]
    },
    {
      "cell_type": "code",
      "metadata": {
        "id": "-3AwFe0E7aPG"
      },
      "source": [
        "# test the trained model with the full x_test\n",
        "predictions = model.predict(x_test)"
      ],
      "execution_count": null,
      "outputs": []
    },
    {
      "cell_type": "code",
      "metadata": {
        "colab": {
          "base_uri": "https://localhost:8080/"
        },
        "id": "frOwP6RL7ghF",
        "outputId": "2912a708-caef-429a-fc54-ee6ab0f7af00"
      },
      "source": [
        "predictions[0], y_test[0]"
      ],
      "execution_count": null,
      "outputs": [
        {
          "output_type": "execute_result",
          "data": {
            "text/plain": [
              "(array([0.02846027, 0.89990205, 0.07163768], dtype=float32),\n",
              " array([0., 1., 0.], dtype=float32))"
            ]
          },
          "metadata": {
            "tags": []
          },
          "execution_count": 74
        }
      ]
    },
    {
      "cell_type": "code",
      "metadata": {
        "colab": {
          "base_uri": "https://localhost:8080/"
        },
        "id": "Tnjgb73S7yDd",
        "outputId": "b3e7e996-b9cb-43c2-88b9-6ccb62a7b194"
      },
      "source": [
        "predictions[500], y_test[500]"
      ],
      "execution_count": null,
      "outputs": [
        {
          "output_type": "execute_result",
          "data": {
            "text/plain": [
              "(array([0.05969261, 0.7548642 , 0.18544324], dtype=float32),\n",
              " array([0., 1., 0.], dtype=float32))"
            ]
          },
          "metadata": {
            "tags": []
          },
          "execution_count": 75
        }
      ]
    },
    {
      "cell_type": "code",
      "metadata": {
        "colab": {
          "base_uri": "https://localhost:8080/"
        },
        "id": "gi4CQeJA707J",
        "outputId": "2f731027-9cca-432b-d998-100fab265aad"
      },
      "source": [
        "predictions[800], y_test[800]"
      ],
      "execution_count": null,
      "outputs": [
        {
          "output_type": "execute_result",
          "data": {
            "text/plain": [
              "(array([0.06639516, 0.5557858 , 0.37781912], dtype=float32),\n",
              " array([0., 1., 0.], dtype=float32))"
            ]
          },
          "metadata": {
            "tags": []
          },
          "execution_count": 76
        }
      ]
    },
    {
      "cell_type": "code",
      "metadata": {
        "colab": {
          "base_uri": "https://localhost:8080/"
        },
        "id": "9KWU4Uyi723q",
        "outputId": "2a9cb662-403f-40e2-9f39-fcaa7668db56"
      },
      "source": [
        "predictions[1200], y_test[1200]"
      ],
      "execution_count": null,
      "outputs": [
        {
          "output_type": "execute_result",
          "data": {
            "text/plain": [
              "(array([0.04926674, 0.74609387, 0.20463938], dtype=float32),\n",
              " array([0., 1., 0.], dtype=float32))"
            ]
          },
          "metadata": {
            "tags": []
          },
          "execution_count": 77
        }
      ]
    },
    {
      "cell_type": "code",
      "metadata": {
        "colab": {
          "base_uri": "https://localhost:8080/",
          "height": 171
        },
        "id": "LevQdew074E-",
        "outputId": "2fc1b41c-16ce-4fb6-c2bd-5bbcddf127e6"
      },
      "source": [
        "predictions[2000], y_test[2000] # bad prediction"
      ],
      "execution_count": 51,
      "outputs": [
        {
          "output_type": "error",
          "ename": "NameError",
          "evalue": "ignored",
          "traceback": [
            "\u001b[0;31m---------------------------------------------------------------------------\u001b[0m",
            "\u001b[0;31mNameError\u001b[0m                                 Traceback (most recent call last)",
            "\u001b[0;32m<ipython-input-51-fbaca9589ac0>\u001b[0m in \u001b[0;36m<module>\u001b[0;34m()\u001b[0m\n\u001b[0;32m----> 1\u001b[0;31m \u001b[0mpredictions\u001b[0m\u001b[0;34m[\u001b[0m\u001b[0;36m2000\u001b[0m\u001b[0;34m]\u001b[0m\u001b[0;34m,\u001b[0m \u001b[0my_test\u001b[0m\u001b[0;34m[\u001b[0m\u001b[0;36m2000\u001b[0m\u001b[0;34m]\u001b[0m \u001b[0;31m# bad prediction\u001b[0m\u001b[0;34m\u001b[0m\u001b[0;34m\u001b[0m\u001b[0m\n\u001b[0m",
            "\u001b[0;31mNameError\u001b[0m: name 'predictions' is not defined"
          ]
        }
      ]
    },
    {
      "cell_type": "code",
      "metadata": {
        "colab": {
          "base_uri": "https://localhost:8080/"
        },
        "id": "qMCdP_Dk8GXX",
        "outputId": "5daf39d5-766e-4949-e3ac-9a0c783a738a"
      },
      "source": [
        "predictions[2400], y_test[2400]"
      ],
      "execution_count": null,
      "outputs": [
        {
          "output_type": "execute_result",
          "data": {
            "text/plain": [
              "(array([0.05789682, 0.83688635, 0.10521688], dtype=float32),\n",
              " array([0., 1., 0.], dtype=float32))"
            ]
          },
          "metadata": {
            "tags": []
          },
          "execution_count": 85
        }
      ]
    },
    {
      "cell_type": "code",
      "metadata": {
        "id": "pssKjwnzT2Kw",
        "outputId": "16efa001-9da0-487b-cef5-3361833263f1",
        "colab": {
          "base_uri": "https://localhost:8080/",
          "height": 189
        }
      },
      "source": [
        "for i in range(2000):\n",
        "    predictions[i]"
      ],
      "execution_count": 44,
      "outputs": [
        {
          "output_type": "error",
          "ename": "NameError",
          "evalue": "ignored",
          "traceback": [
            "\u001b[0;31m---------------------------------------------------------------------------\u001b[0m",
            "\u001b[0;31mNameError\u001b[0m                                 Traceback (most recent call last)",
            "\u001b[0;32m<ipython-input-44-e6c2fb9ef533>\u001b[0m in \u001b[0;36m<module>\u001b[0;34m()\u001b[0m\n\u001b[1;32m      1\u001b[0m \u001b[0;32mfor\u001b[0m \u001b[0mi\u001b[0m \u001b[0;32min\u001b[0m \u001b[0mrange\u001b[0m\u001b[0;34m(\u001b[0m\u001b[0;36m2000\u001b[0m\u001b[0;34m)\u001b[0m\u001b[0;34m:\u001b[0m\u001b[0;34m\u001b[0m\u001b[0;34m\u001b[0m\u001b[0m\n\u001b[0;32m----> 2\u001b[0;31m     \u001b[0mpredictions\u001b[0m\u001b[0;34m[\u001b[0m\u001b[0mi\u001b[0m\u001b[0;34m]\u001b[0m\u001b[0;34m\u001b[0m\u001b[0;34m\u001b[0m\u001b[0m\n\u001b[0m",
            "\u001b[0;31mNameError\u001b[0m: name 'predictions' is not defined"
          ]
        }
      ]
    },
    {
      "cell_type": "code",
      "metadata": {
        "id": "rfCI7Vg7FL9H"
      },
      "source": [
        "# fit and evaluate a model\n",
        "def evaluate_model(trainX, trainy, valX, valy):\n",
        "    verbose, epochs, batch_size = 1, 100, 100\n",
        "\n",
        "    n_timesteps = trainX.shape[1]\n",
        "    n_features = trainX.shape[2]\n",
        "    n_outputs = 3\n",
        "\n",
        "    model = Sequential()\n",
        "    model.add(LSTM(180, input_shape=(n_timesteps,n_features)))\n",
        "    model.add(Dropout(0.5))\n",
        "    model.add(Dense(30, activation='relu'))\n",
        "    model.add(Dense(n_outputs, activation='softmax'))\n",
        "    model.compile(loss='categorical_crossentropy', optimizer='adam', metrics=['accuracy'])\n",
        "    #model.summary()\n",
        "\t# fit network\n",
        "    history = model.fit(trainX, trainy, validation_data=(valX, valy), epochs=epochs, batch_size=batch_size, verbose=verbose)\n",
        "\t# evaluate model\n",
        "    _, accuracy = model.evaluate(trainX, trainy, batch_size=batch_size, verbose=verbose)\n",
        "    return accuracy"
      ],
      "execution_count": 23,
      "outputs": []
    },
    {
      "cell_type": "code",
      "metadata": {
        "id": "QCa2HSctcf43"
      },
      "source": [
        "# summarize scores\n",
        "def summarize_results(scores):\n",
        "\tprint(scores)\n",
        "\tm, s = mean(scores), std(scores)\n",
        "\tprint('Accuracy: %.3f%% (+/-%.3f)' % (m, s))"
      ],
      "execution_count": 24,
      "outputs": []
    },
    {
      "cell_type": "code",
      "metadata": {
        "id": "jNEIszs7KyPf"
      },
      "source": [
        "def run_experiment(repeats=2):\n",
        "\t# repeat experiment\n",
        "\tscores = list()\n",
        "\tfor r in range(repeats):\n",
        "\t\tscore = evaluate_model(x_train, y_train, x_val, y_val)\n",
        "\t\tscore = score * 100.0\n",
        "\t\tprint('>#%d: %.3f' % (r+1, score))\n",
        "\t\tscores.append(score)\n",
        "\t# summarize results\n",
        "\tsummarize_results(scores)"
      ],
      "execution_count": 25,
      "outputs": []
    },
    {
      "cell_type": "code",
      "metadata": {
        "id": "dtBkv70avWlK"
      },
      "source": [
        "#Train model just 1 time\n",
        "evaluate_model(x_train, y_train, x_val, y_val)"
      ],
      "execution_count": null,
      "outputs": []
    },
    {
      "cell_type": "code",
      "metadata": {
        "id": "_omjXmBSLEmr",
        "colab": {
          "base_uri": "https://localhost:8080/"
        },
        "outputId": "705e130e-3222-482a-f063-056e92ff21b6"
      },
      "source": [
        "#Run full training experiment\n",
        "run_experiment()"
      ],
      "execution_count": null,
      "outputs": [
        {
          "output_type": "stream",
          "text": [
            ">#1: 72.368\n",
            ">#2: 72.610\n",
            ">#3: 73.087\n",
            "[72.36849069595337, 72.60979413986206, 73.08703064918518]\n",
            "Accuracy: 72.688% (+/-0.299)\n"
          ],
          "name": "stdout"
        }
      ]
    }
  ]
}