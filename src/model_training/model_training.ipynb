{
  "nbformat": 4,
  "nbformat_minor": 0,
  "metadata": {
    "accelerator": "GPU",
    "colab": {
      "name": "model_training.ipynb",
      "provenance": [],
      "collapsed_sections": []
    },
    "kernelspec": {
      "display_name": "Python 3",
      "language": "python",
      "name": "python3"
    },
    "language_info": {
      "codemirror_mode": {
        "name": "ipython",
        "version": 3
      },
      "file_extension": ".py",
      "mimetype": "text/x-python",
      "name": "python",
      "nbconvert_exporter": "python",
      "pygments_lexer": "ipython3",
      "version": "3.8.5"
    }
  },
  "cells": [
    {
      "cell_type": "code",
      "metadata": {
        "id": "5iB8fV6iWeQs"
      },
      "source": [
        "import pandas as pd\n",
        "import numpy as np\n",
        "import tensorflow as tf\n",
        "import matplotlib.pyplot as plt\n",
        "import os\n",
        "import re\n",
        "import glob\n",
        "import seaborn as sns\n",
        "from numpy import mean\n",
        "from numpy import std\n",
        "from scipy import stats\n",
        "from tensorflow import keras\n",
        "from tensorflow.keras import layers\n",
        "from keras.models import Sequential\n",
        "from keras.callbacks import History \n",
        "from keras.layers import Dense\n",
        "from keras.layers import Dropout\n",
        "from keras.layers import LSTM\n",
        "from keras.layers import ConvLSTM2D\n",
        "from keras.layers import Flatten\n",
        "from keras.optimizers import SGD\n",
        "from keras.utils.np_utils import to_categorical\n",
        "from sklearn import metrics\n",
        "from sklearn.metrics import classification_report"
      ],
      "execution_count": 1,
      "outputs": []
    },
    {
      "cell_type": "markdown",
      "metadata": {
        "id": "1R0wTJdcZzA9"
      },
      "source": [
        "# Load Dataset\n",
        "\n",
        "Load Dataset, concatenate data and count Rows and Columns"
      ]
    },
    {
      "cell_type": "code",
      "metadata": {
        "id": "uge8UaRLVvuT",
        "outputId": "5c47187b-4118-48fd-e5e9-4a889f823e5c",
        "colab": {
          "base_uri": "https://localhost:8080/"
        }
      },
      "source": [
        "# Download dataset from Github and unzip\n",
        "!wget 'https://github.com/cargilgar/Smart-Alarm-using-tinyML/raw/main/dataset/dataset-1-30.zip'\n",
        "\n",
        "!unzip dataset-1-30.zip"
      ],
      "execution_count": 2,
      "outputs": [
        {
          "output_type": "stream",
          "text": [
            "--2021-06-17 17:15:07--  https://github.com/cargilgar/Smart-Alarm-using-tinyML/raw/main/dataset/dataset-1-30.zip\n",
            "Resolving github.com (github.com)... 192.30.255.112\n",
            "Connecting to github.com (github.com)|192.30.255.112|:443... connected.\n",
            "HTTP request sent, awaiting response... 302 Found\n",
            "Location: https://raw.githubusercontent.com/cargilgar/Smart-Alarm-using-tinyML/main/dataset/dataset-1-30.zip [following]\n",
            "--2021-06-17 17:15:07--  https://raw.githubusercontent.com/cargilgar/Smart-Alarm-using-tinyML/main/dataset/dataset-1-30.zip\n",
            "Resolving raw.githubusercontent.com (raw.githubusercontent.com)... 185.199.111.133, 185.199.110.133, 185.199.109.133, ...\n",
            "Connecting to raw.githubusercontent.com (raw.githubusercontent.com)|185.199.111.133|:443... connected.\n",
            "HTTP request sent, awaiting response... 200 OK\n",
            "Length: 588851 (575K) [application/zip]\n",
            "Saving to: ‘dataset-1-30.zip’\n",
            "\n",
            "dataset-1-30.zip    100%[===================>] 575.05K  --.-KB/s    in 0.04s   \n",
            "\n",
            "2021-06-17 17:15:07 (16.0 MB/s) - ‘dataset-1-30.zip’ saved [588851/588851]\n",
            "\n",
            "Archive:  dataset-1-30.zip\n",
            "   creating: content/output/\n",
            "  inflating: content/output/dataset_844359.csv  \n",
            "  inflating: content/output/dataset_5383425.csv  \n",
            "  inflating: content/output/dataset_9106476.csv  \n",
            "  inflating: content/output/dataset_9618981.csv  \n",
            "  inflating: content/output/dataset_4426783.csv  \n",
            "  inflating: content/output/dataset_6220552.csv  \n",
            "  inflating: content/output/dataset_7749105.csv  \n",
            "  inflating: content/output/dataset_4018081.csv  \n",
            "  inflating: content/output/dataset_1449548.csv  \n",
            "  inflating: content/output/dataset_8530312.csv  \n",
            "  inflating: content/output/dataset_1818471.csv  \n",
            "  inflating: content/output/dataset_46343.csv  \n",
            "  inflating: content/output/dataset_3509524.csv  \n",
            "  inflating: content/output/dataset_9961348.csv  \n",
            "  inflating: content/output/dataset_1455390.csv  \n",
            "  inflating: content/output/dataset_1360686.csv  \n",
            "  inflating: content/output/dataset_5797046.csv  \n",
            "  inflating: content/output/dataset_4314139.csv  \n",
            "  inflating: content/output/dataset_759667.csv  \n",
            "  inflating: content/output/dataset_2638030.csv  \n",
            "  inflating: content/output/dataset_8000685.csv  \n",
            "  inflating: content/output/dataset_1066528.csv  \n",
            "  inflating: content/output/dataset_781756.csv  \n",
            "  inflating: content/output/dataset_3997827.csv  \n",
            "  inflating: content/output/dataset_8258170.csv  \n",
            "  inflating: content/output/dataset_8686948.csv  \n",
            "  inflating: content/output/dataset_2598705.csv  \n",
            "  inflating: content/output/dataset_8692923.csv  \n",
            "  inflating: content/output/dataset_8173033.csv  \n",
            "  inflating: content/output/dataset_5498603.csv  \n",
            "  inflating: content/output/dataset_5132496.csv  \n"
          ],
          "name": "stdout"
        }
      ]
    },
    {
      "cell_type": "code",
      "metadata": {
        "colab": {
          "base_uri": "https://localhost:8080/",
          "height": 458
        },
        "id": "q_LRVocyimd2",
        "outputId": "163c222a-2ef9-4a44-f4ad-2f60a11d6ee3"
      },
      "source": [
        "#Create full dataframe with all subject csv's concatenated\n",
        "path = r'content/output/'\n",
        "all_files = glob.glob(path + \"/*.csv\")\n",
        "\n",
        "li = []\n",
        "acc_rows = 0\n",
        "\n",
        "for filename in all_files:\n",
        "    subject_csv = pd.read_csv(filename, index_col=None, header=0)\n",
        "    acc_rows += len(subject_csv.axes[0])\n",
        "    li.append(subject_csv)\n",
        "\n",
        "df = pd.concat(li, axis=0, ignore_index=True)\n",
        "\n",
        "\n",
        "#Save big dataframe as CSV\n",
        "df.to_csv('all_users_df.csv')\n",
        "\n",
        "#Rows and Columns\n",
        "total_rows = len(df.axes[0]) #===> Axes of 0 is for a row\n",
        "total_cols = len(df.axes[1]) #===> Axes of 1 is for a column\n",
        "print(\"Number of Rows: \", total_rows)\n",
        "print(\"Number of Columns: \", total_cols)\n",
        "\n",
        "assert total_rows == acc_rows, \"Number of rows doesn't match\"\n",
        "\n",
        "df"
      ],
      "execution_count": 3,
      "outputs": [
        {
          "output_type": "stream",
          "text": [
            "Number of Rows:  25614\n",
            "Number of Columns:  6\n"
          ],
          "name": "stdout"
        },
        {
          "output_type": "execute_result",
          "data": {
            "text/html": [
              "<div>\n",
              "<style scoped>\n",
              "    .dataframe tbody tr th:only-of-type {\n",
              "        vertical-align: middle;\n",
              "    }\n",
              "\n",
              "    .dataframe tbody tr th {\n",
              "        vertical-align: top;\n",
              "    }\n",
              "\n",
              "    .dataframe thead th {\n",
              "        text-align: right;\n",
              "    }\n",
              "</style>\n",
              "<table border=\"1\" class=\"dataframe\">\n",
              "  <thead>\n",
              "    <tr style=\"text-align: right;\">\n",
              "      <th></th>\n",
              "      <th>Time</th>\n",
              "      <th>X</th>\n",
              "      <th>Y</th>\n",
              "      <th>Z</th>\n",
              "      <th>Heart Rate</th>\n",
              "      <th>Labels</th>\n",
              "    </tr>\n",
              "  </thead>\n",
              "  <tbody>\n",
              "    <tr>\n",
              "      <th>0</th>\n",
              "      <td>1285.0</td>\n",
              "      <td>2.852005</td>\n",
              "      <td>6.836258</td>\n",
              "      <td>30.837387</td>\n",
              "      <td>67.545455</td>\n",
              "      <td>-1.0</td>\n",
              "    </tr>\n",
              "    <tr>\n",
              "      <th>1</th>\n",
              "      <td>1315.0</td>\n",
              "      <td>1.279160</td>\n",
              "      <td>0.364685</td>\n",
              "      <td>30.136261</td>\n",
              "      <td>67.333333</td>\n",
              "      <td>-1.0</td>\n",
              "    </tr>\n",
              "    <tr>\n",
              "      <th>2</th>\n",
              "      <td>1345.0</td>\n",
              "      <td>1.264252</td>\n",
              "      <td>0.332520</td>\n",
              "      <td>30.125336</td>\n",
              "      <td>63.166667</td>\n",
              "      <td>-1.0</td>\n",
              "    </tr>\n",
              "    <tr>\n",
              "      <th>3</th>\n",
              "      <td>1375.0</td>\n",
              "      <td>2.836441</td>\n",
              "      <td>3.750839</td>\n",
              "      <td>30.626679</td>\n",
              "      <td>65.750000</td>\n",
              "      <td>-1.0</td>\n",
              "    </tr>\n",
              "    <tr>\n",
              "      <th>4</th>\n",
              "      <td>1405.0</td>\n",
              "      <td>1.628174</td>\n",
              "      <td>2.928315</td>\n",
              "      <td>29.936279</td>\n",
              "      <td>64.571429</td>\n",
              "      <td>-1.0</td>\n",
              "    </tr>\n",
              "    <tr>\n",
              "      <th>...</th>\n",
              "      <td>...</td>\n",
              "      <td>...</td>\n",
              "      <td>...</td>\n",
              "      <td>...</td>\n",
              "      <td>...</td>\n",
              "      <td>...</td>\n",
              "    </tr>\n",
              "    <tr>\n",
              "      <th>25609</th>\n",
              "      <td>28778.0</td>\n",
              "      <td>25.506790</td>\n",
              "      <td>13.572311</td>\n",
              "      <td>15.158112</td>\n",
              "      <td>80.166667</td>\n",
              "      <td>5.0</td>\n",
              "    </tr>\n",
              "    <tr>\n",
              "      <th>25610</th>\n",
              "      <td>28808.0</td>\n",
              "      <td>25.270660</td>\n",
              "      <td>9.104904</td>\n",
              "      <td>14.928634</td>\n",
              "      <td>74.833333</td>\n",
              "      <td>5.0</td>\n",
              "    </tr>\n",
              "    <tr>\n",
              "      <th>25611</th>\n",
              "      <td>28838.0</td>\n",
              "      <td>25.373214</td>\n",
              "      <td>6.672104</td>\n",
              "      <td>14.942108</td>\n",
              "      <td>74.800000</td>\n",
              "      <td>5.0</td>\n",
              "    </tr>\n",
              "    <tr>\n",
              "      <th>25612</th>\n",
              "      <td>28868.0</td>\n",
              "      <td>25.351623</td>\n",
              "      <td>6.679840</td>\n",
              "      <td>14.956573</td>\n",
              "      <td>68.166667</td>\n",
              "      <td>5.0</td>\n",
              "    </tr>\n",
              "    <tr>\n",
              "      <th>25613</th>\n",
              "      <td>28898.0</td>\n",
              "      <td>25.352096</td>\n",
              "      <td>6.718521</td>\n",
              "      <td>14.969833</td>\n",
              "      <td>68.500000</td>\n",
              "      <td>5.0</td>\n",
              "    </tr>\n",
              "  </tbody>\n",
              "</table>\n",
              "<p>25614 rows × 6 columns</p>\n",
              "</div>"
            ],
            "text/plain": [
              "          Time          X          Y          Z  Heart Rate  Labels\n",
              "0       1285.0   2.852005   6.836258  30.837387   67.545455    -1.0\n",
              "1       1315.0   1.279160   0.364685  30.136261   67.333333    -1.0\n",
              "2       1345.0   1.264252   0.332520  30.125336   63.166667    -1.0\n",
              "3       1375.0   2.836441   3.750839  30.626679   65.750000    -1.0\n",
              "4       1405.0   1.628174   2.928315  29.936279   64.571429    -1.0\n",
              "...        ...        ...        ...        ...         ...     ...\n",
              "25609  28778.0  25.506790  13.572311  15.158112   80.166667     5.0\n",
              "25610  28808.0  25.270660   9.104904  14.928634   74.833333     5.0\n",
              "25611  28838.0  25.373214   6.672104  14.942108   74.800000     5.0\n",
              "25612  28868.0  25.351623   6.679840  14.956573   68.166667     5.0\n",
              "25613  28898.0  25.352096   6.718521  14.969833   68.500000     5.0\n",
              "\n",
              "[25614 rows x 6 columns]"
            ]
          },
          "metadata": {
            "tags": []
          },
          "execution_count": 3
        }
      ]
    },
    {
      "cell_type": "code",
      "metadata": {
        "id": "bLWLWzEc_eMe"
      },
      "source": [
        "# Read full dataframe CSV (without downloading data)\n",
        "# QUITAR COLUMNA UNNAMED:0\n",
        "# df = pd.read_csv('all_users_df.csv')\n",
        "# df"
      ],
      "execution_count": null,
      "outputs": []
    },
    {
      "cell_type": "markdown",
      "metadata": {
        "id": "00jGhBmxqSXE"
      },
      "source": [
        "# Labels\n",
        "Initial stages (0-5, wake = 0, N1 = 1, N2 = 2, N3 = 3, REM = 5)\n",
        "\n",
        "Relabeled stages (0-2, wake = 0, NREM = 1, REM = 2)"
      ]
    },
    {
      "cell_type": "code",
      "metadata": {
        "id": "uw3S8hjGdj0T"
      },
      "source": [
        "# Show labels\n",
        "# Same labels will be reused throughout the program\n",
        "\n",
        "df['Labels'] = df['Labels'].map({0:0,1:1,2:1,3:1,5:2,}, na_action=None)\n",
        "\n",
        "#Delete non-labeled Rows\n",
        "df.dropna(inplace=True)"
      ],
      "execution_count": 4,
      "outputs": []
    },
    {
      "cell_type": "markdown",
      "metadata": {
        "id": "VwnxK53835FY"
      },
      "source": [
        "# Normalize Training Data\n",
        "Next, we need to normalize our features within our training data. Of course there are various ways on how to normalize. Please keep in mind that you use the same normalization algorithm later when feeding new data into your neural network. Otherwise your preditions will be off. On top of the normalization we will also apply rounding to the three features."
      ]
    },
    {
      "cell_type": "code",
      "metadata": {
        "id": "bOd1dXMi2N4_"
      },
      "source": [
        "# Normalize features for training data set (values between 0 and 1)***\n",
        "# Surpress warning for next 3 operation\n",
        "pd.options.mode.chained_assignment = None  # default='warn'\n",
        "df['X'] = df['X'] / df['X'].max()\n",
        "df['Y'] = df['Y'] / df['Y'].max()\n",
        "df['Z'] = df['Z'] / df['Z'].max()\n",
        "df['Heart Rate'] = df['Heart Rate'] / df['Heart Rate'].max()\n",
        "\n",
        "# Round numbers (4 decimals)\n",
        "df = df.round({'X': 4, 'Y': 4, 'Z': 4, 'Heart Rate': 4})"
      ],
      "execution_count": 5,
      "outputs": []
    },
    {
      "cell_type": "markdown",
      "metadata": {
        "id": "oC7ObCbBZ_1-"
      },
      "source": [
        "# Split Dataset\n",
        "Train, Validation and Test\n",
        "\n",
        "Split the data\n",
        "We'll use a (70%, 20%, 10%) split for the training, validation, and test sets. Note the data is not being randomly shuffled before splitting. This is for two reasons.\n",
        "\n",
        "It ensures that chopping the data into windows of consecutive samples is still possible.\n",
        "It ensures that the validation/test results are more realistic, being evaluated on data collected after the model was trained.\n",
        "\n",
        "***ANOTHER SPLITING OPTION WOULD BE TO SEPARATE USERS (Crear nueva columna con nombre usuario?? O manejar cada CSV por separado??)***\n",
        "\n",
        "\n",
        "\n"
      ]
    },
    {
      "cell_type": "code",
      "metadata": {
        "id": "DUcpsQLZaKOE"
      },
      "source": [
        "column_indices = {name: i for i, name in enumerate(df.columns)}\n",
        "\n",
        "PERCENTAGE_TRAIN = 0.7\n",
        "PERCENTAGE_VALIDATION = 0.2\n",
        "\n",
        "# n = len(df)\n",
        "total_rows = df.shape[0]\n",
        "train_df = df[0:int(total_rows*PERCENTAGE_TRAIN)]\n",
        "val_df = df[int(total_rows*PERCENTAGE_TRAIN):int(total_rows*(PERCENTAGE_VALIDATION + PERCENTAGE_TRAIN))]\n",
        "test_df = df[int(total_rows*(PERCENTAGE_VALIDATION + PERCENTAGE_TRAIN)):]\n",
        "\n",
        "assert len(train_df) + len(val_df) + len(test_df) == total_rows, \"The split doesn't match\""
      ],
      "execution_count": 6,
      "outputs": []
    },
    {
      "cell_type": "markdown",
      "metadata": {
        "id": "aYGO3D4b7btV"
      },
      "source": [
        "# Reshape Data into Segments and Prepare for Keras\n",
        "The data contained in the dataframe is not ready yet to be fed into a neural network. Therefore we need to reshape it. Let’s create another function for this called “create_segments_and_labels”. This function will take in the dataframe and the label names."
      ]
    },
    {
      "cell_type": "code",
      "metadata": {
        "id": "2jOMBw867eW2"
      },
      "source": [
        "def create_segments_and_labels(dataframe,labels):\n",
        "\n",
        "    labels = dataframe[labels]\n",
        "    segments = dataframe[['Z','Heart Rate']]\n",
        "    #segments = dataframe[['X','Y','Z','Heart Rate']] #All features\n",
        "\n",
        "    return segments, labels"
      ],
      "execution_count": 7,
      "outputs": []
    },
    {
      "cell_type": "code",
      "metadata": {
        "id": "ODyG2FBGAGd6"
      },
      "source": [
        "# x --> Features\n",
        "# y --> Labels\n",
        "   \n",
        "x_train, y_train = create_segments_and_labels(train_df,'Labels')\n",
        "x_val, y_val = create_segments_and_labels(val_df,'Labels')\n",
        "x_test, y_test = create_segments_and_labels(test_df,'Labels')\n",
        "\n",
        "\n",
        "assert x_train.shape[0] == len(y_train)\n",
        "assert x_val.shape[0] == len(y_val)\n",
        "assert x_test.shape[0] == len(y_test)"
      ],
      "execution_count": 8,
      "outputs": []
    },
    {
      "cell_type": "markdown",
      "metadata": {
        "id": "TsfiKCAzFEI-"
      },
      "source": [
        "# LSTM Model"
      ]
    },
    {
      "cell_type": "code",
      "metadata": {
        "id": "aM7SfZAwWkBy"
      },
      "source": [
        "# Prepare data for LSTM Model\n",
        "x_train = np.expand_dims(x_train,-1) \n",
        "x_val = np.expand_dims(x_val,-1) \n",
        "x_test = np.expand_dims(x_test,-1) "
      ],
      "execution_count": 9,
      "outputs": []
    },
    {
      "cell_type": "code",
      "metadata": {
        "id": "M1AIR_CSDYNE"
      },
      "source": [
        "# Prepare labels data \n",
        "# Needed to categorical_crossentropy loss function\n",
        "y_train = to_categorical(y_train)\n",
        "y_val = to_categorical(y_val)\n",
        "y_test = to_categorical(y_test)"
      ],
      "execution_count": 23,
      "outputs": []
    },
    {
      "cell_type": "code",
      "metadata": {
        "colab": {
          "base_uri": "https://localhost:8080/"
        },
        "id": "-7WQxsDJ7Oj4",
        "outputId": "26007231-d0ce-4d87-a957-3bf061176c8c"
      },
      "source": [
        "# Create LSTM model\n",
        "n_timesteps = x_train.shape[1]\n",
        "n_features = x_train.shape[2]\n",
        "n_outputs = 3\n",
        "\n",
        "model = Sequential()\n",
        "model.add(LSTM(180, input_shape=(n_timesteps,n_features)))\n",
        "model.add(Dropout(0.5))\n",
        "#model.add(Dense(30, activation='relu'))\n",
        "model.add(Dense(60, activation='relu'))\n",
        "model.add(Dense(n_outputs, activation='softmax'))\n",
        "model.compile(loss=('categorical_crossentropy',sample_weight()), optimizer='adam', metrics=['accuracy'])\n",
        "model.summary()"
      ],
      "execution_count": 26,
      "outputs": [
        {
          "output_type": "stream",
          "text": [
            "Model: \"sequential_4\"\n",
            "_________________________________________________________________\n",
            "Layer (type)                 Output Shape              Param #   \n",
            "=================================================================\n",
            "lstm_4 (LSTM)                (None, 180)               131040    \n",
            "_________________________________________________________________\n",
            "dropout_4 (Dropout)          (None, 180)               0         \n",
            "_________________________________________________________________\n",
            "dense_9 (Dense)              (None, 60)                10860     \n",
            "_________________________________________________________________\n",
            "dense_10 (Dense)             (None, 3)                 183       \n",
            "=================================================================\n",
            "Total params: 142,083\n",
            "Trainable params: 142,083\n",
            "Non-trainable params: 0\n",
            "_________________________________________________________________\n"
          ],
          "name": "stdout"
        }
      ]
    },
    {
      "cell_type": "code",
      "metadata": {
        "id": "vnnAjtgc7OXO",
        "outputId": "3d3c4a8a-9be9-4f55-ed76-f365fb4b0673",
        "colab": {
          "base_uri": "https://localhost:8080/"
        }
      },
      "source": [
        "# train model\n",
        "# history = model.fit(x_train, y_train, validation_data=(x_val, y_val), epochs=150, batch_size=180, verbose=1)\n",
        "\n",
        "history = model.fit(x_train, y_train, validation_data=(x_val, y_val), epochs=50, batch_size=30, verbose=1)"
      ],
      "execution_count": 25,
      "outputs": [
        {
          "output_type": "stream",
          "text": [
            "Epoch 1/50\n",
            "581/581 [==============================] - 4s 5ms/step - loss: 0.8066 - accuracy: 0.7107 - val_loss: 0.8699 - val_accuracy: 0.6459\n",
            "Epoch 2/50\n",
            "581/581 [==============================] - 2s 4ms/step - loss: 0.7635 - accuracy: 0.7244 - val_loss: 0.8637 - val_accuracy: 0.6459\n",
            "Epoch 3/50\n",
            "581/581 [==============================] - 3s 5ms/step - loss: 0.7654 - accuracy: 0.7227 - val_loss: 0.8622 - val_accuracy: 0.6459\n",
            "Epoch 4/50\n",
            "581/581 [==============================] - 3s 5ms/step - loss: 0.7709 - accuracy: 0.7168 - val_loss: 0.8676 - val_accuracy: 0.6459\n",
            "Epoch 5/50\n",
            "581/581 [==============================] - 3s 5ms/step - loss: 0.7588 - accuracy: 0.7241 - val_loss: 0.8596 - val_accuracy: 0.6459\n",
            "Epoch 6/50\n",
            "581/581 [==============================] - 3s 5ms/step - loss: 0.7666 - accuracy: 0.7187 - val_loss: 0.8691 - val_accuracy: 0.6459\n",
            "Epoch 7/50\n",
            "581/581 [==============================] - 2s 4ms/step - loss: 0.7674 - accuracy: 0.7173 - val_loss: 0.8636 - val_accuracy: 0.6459\n",
            "Epoch 8/50\n",
            "581/581 [==============================] - 2s 4ms/step - loss: 0.7686 - accuracy: 0.7176 - val_loss: 0.8707 - val_accuracy: 0.6459\n",
            "Epoch 9/50\n",
            "581/581 [==============================] - 2s 4ms/step - loss: 0.7631 - accuracy: 0.7221 - val_loss: 0.8641 - val_accuracy: 0.6459\n",
            "Epoch 10/50\n",
            "581/581 [==============================] - 2s 4ms/step - loss: 0.7557 - accuracy: 0.7243 - val_loss: 0.8624 - val_accuracy: 0.6459\n",
            "Epoch 11/50\n",
            "581/581 [==============================] - 3s 5ms/step - loss: 0.7633 - accuracy: 0.7203 - val_loss: 0.8633 - val_accuracy: 0.6459\n",
            "Epoch 12/50\n",
            "581/581 [==============================] - 3s 5ms/step - loss: 0.7630 - accuracy: 0.7183 - val_loss: 0.8754 - val_accuracy: 0.6459\n",
            "Epoch 13/50\n",
            "581/581 [==============================] - 2s 4ms/step - loss: 0.7750 - accuracy: 0.7122 - val_loss: 0.8599 - val_accuracy: 0.6459\n",
            "Epoch 14/50\n",
            "581/581 [==============================] - 3s 5ms/step - loss: 0.7709 - accuracy: 0.7170 - val_loss: 0.8659 - val_accuracy: 0.6459\n",
            "Epoch 15/50\n",
            "581/581 [==============================] - 2s 4ms/step - loss: 0.7726 - accuracy: 0.7153 - val_loss: 0.8602 - val_accuracy: 0.6459\n",
            "Epoch 16/50\n",
            "581/581 [==============================] - 3s 5ms/step - loss: 0.7537 - accuracy: 0.7242 - val_loss: 0.8625 - val_accuracy: 0.6459\n",
            "Epoch 17/50\n",
            "581/581 [==============================] - 3s 5ms/step - loss: 0.7608 - accuracy: 0.7183 - val_loss: 0.8627 - val_accuracy: 0.6459\n",
            "Epoch 18/50\n",
            "581/581 [==============================] - 2s 4ms/step - loss: 0.7618 - accuracy: 0.7217 - val_loss: 0.8609 - val_accuracy: 0.6459\n",
            "Epoch 19/50\n",
            "581/581 [==============================] - 3s 5ms/step - loss: 0.7647 - accuracy: 0.7175 - val_loss: 0.8627 - val_accuracy: 0.6459\n",
            "Epoch 20/50\n",
            "581/581 [==============================] - 3s 5ms/step - loss: 0.7699 - accuracy: 0.7151 - val_loss: 0.8623 - val_accuracy: 0.6459\n",
            "Epoch 21/50\n",
            "581/581 [==============================] - 2s 4ms/step - loss: 0.7559 - accuracy: 0.7212 - val_loss: 0.8629 - val_accuracy: 0.6459\n",
            "Epoch 22/50\n",
            "581/581 [==============================] - 3s 5ms/step - loss: 0.7612 - accuracy: 0.7216 - val_loss: 0.8619 - val_accuracy: 0.6459\n",
            "Epoch 23/50\n",
            "581/581 [==============================] - 3s 5ms/step - loss: 0.7749 - accuracy: 0.7123 - val_loss: 0.8721 - val_accuracy: 0.6459\n",
            "Epoch 24/50\n",
            "581/581 [==============================] - 3s 5ms/step - loss: 0.7626 - accuracy: 0.7189 - val_loss: 0.8678 - val_accuracy: 0.6459\n",
            "Epoch 25/50\n",
            "581/581 [==============================] - 2s 4ms/step - loss: 0.7619 - accuracy: 0.7195 - val_loss: 0.8602 - val_accuracy: 0.6459\n",
            "Epoch 26/50\n",
            "581/581 [==============================] - 2s 4ms/step - loss: 0.7532 - accuracy: 0.7230 - val_loss: 0.8577 - val_accuracy: 0.6459\n",
            "Epoch 27/50\n",
            "581/581 [==============================] - 2s 4ms/step - loss: 0.7575 - accuracy: 0.7225 - val_loss: 0.8532 - val_accuracy: 0.6459\n",
            "Epoch 28/50\n",
            "581/581 [==============================] - 3s 5ms/step - loss: 0.7579 - accuracy: 0.7197 - val_loss: 0.8546 - val_accuracy: 0.6459\n",
            "Epoch 29/50\n",
            "581/581 [==============================] - 3s 5ms/step - loss: 0.7520 - accuracy: 0.7255 - val_loss: 0.8653 - val_accuracy: 0.6459\n",
            "Epoch 30/50\n",
            "581/581 [==============================] - 2s 4ms/step - loss: 0.7652 - accuracy: 0.7166 - val_loss: 0.8663 - val_accuracy: 0.6459\n",
            "Epoch 31/50\n",
            "581/581 [==============================] - 2s 4ms/step - loss: 0.7670 - accuracy: 0.7134 - val_loss: 0.8752 - val_accuracy: 0.6459\n",
            "Epoch 32/50\n",
            "581/581 [==============================] - 3s 5ms/step - loss: 0.7590 - accuracy: 0.7213 - val_loss: 0.8551 - val_accuracy: 0.6459\n",
            "Epoch 33/50\n",
            "581/581 [==============================] - 3s 5ms/step - loss: 0.7661 - accuracy: 0.7161 - val_loss: 0.8647 - val_accuracy: 0.6459\n",
            "Epoch 34/50\n",
            "581/581 [==============================] - 2s 4ms/step - loss: 0.7635 - accuracy: 0.7196 - val_loss: 0.8655 - val_accuracy: 0.6459\n",
            "Epoch 35/50\n",
            "581/581 [==============================] - 3s 5ms/step - loss: 0.7591 - accuracy: 0.7183 - val_loss: 0.8651 - val_accuracy: 0.6459\n",
            "Epoch 36/50\n",
            "581/581 [==============================] - 2s 4ms/step - loss: 0.7558 - accuracy: 0.7216 - val_loss: 0.8598 - val_accuracy: 0.6459\n",
            "Epoch 37/50\n",
            "581/581 [==============================] - 2s 4ms/step - loss: 0.7623 - accuracy: 0.7164 - val_loss: 0.8657 - val_accuracy: 0.6459\n",
            "Epoch 38/50\n",
            "581/581 [==============================] - 2s 4ms/step - loss: 0.7565 - accuracy: 0.7213 - val_loss: 0.8562 - val_accuracy: 0.6459\n",
            "Epoch 39/50\n",
            "581/581 [==============================] - 2s 4ms/step - loss: 0.7518 - accuracy: 0.7256 - val_loss: 0.8650 - val_accuracy: 0.6459\n",
            "Epoch 40/50\n",
            "581/581 [==============================] - 3s 5ms/step - loss: 0.7536 - accuracy: 0.7219 - val_loss: 0.8571 - val_accuracy: 0.6459\n",
            "Epoch 41/50\n",
            "581/581 [==============================] - 3s 5ms/step - loss: 0.7634 - accuracy: 0.7195 - val_loss: 0.8671 - val_accuracy: 0.6459\n",
            "Epoch 42/50\n",
            "581/581 [==============================] - 2s 4ms/step - loss: 0.7525 - accuracy: 0.7246 - val_loss: 0.8683 - val_accuracy: 0.6459\n",
            "Epoch 43/50\n",
            "581/581 [==============================] - 3s 5ms/step - loss: 0.7537 - accuracy: 0.7206 - val_loss: 0.8704 - val_accuracy: 0.6459\n",
            "Epoch 44/50\n",
            "581/581 [==============================] - 2s 4ms/step - loss: 0.7551 - accuracy: 0.7221 - val_loss: 0.8639 - val_accuracy: 0.6459\n",
            "Epoch 45/50\n",
            "581/581 [==============================] - 2s 4ms/step - loss: 0.7502 - accuracy: 0.7252 - val_loss: 0.8646 - val_accuracy: 0.6459\n",
            "Epoch 46/50\n",
            "581/581 [==============================] - 3s 5ms/step - loss: 0.7579 - accuracy: 0.7192 - val_loss: 0.8643 - val_accuracy: 0.6459\n",
            "Epoch 47/50\n",
            "581/581 [==============================] - 2s 4ms/step - loss: 0.7480 - accuracy: 0.7256 - val_loss: 0.8534 - val_accuracy: 0.6459\n",
            "Epoch 48/50\n",
            "581/581 [==============================] - 3s 5ms/step - loss: 0.7595 - accuracy: 0.7199 - val_loss: 0.8765 - val_accuracy: 0.6459\n",
            "Epoch 49/50\n",
            "581/581 [==============================] - 3s 4ms/step - loss: 0.7524 - accuracy: 0.7226 - val_loss: 0.8696 - val_accuracy: 0.6459\n",
            "Epoch 50/50\n",
            "581/581 [==============================] - 3s 5ms/step - loss: 0.7527 - accuracy: 0.7217 - val_loss: 0.8719 - val_accuracy: 0.6459\n"
          ],
          "name": "stdout"
        }
      ]
    },
    {
      "cell_type": "code",
      "metadata": {
        "id": "Otmx1tX8jli6"
      },
      "source": [
        "predictions = history.model.predict(x_test)"
      ],
      "execution_count": 12,
      "outputs": []
    },
    {
      "cell_type": "code",
      "metadata": {
        "colab": {
          "base_uri": "https://localhost:8080/",
          "height": 595
        },
        "id": "R-DL4ZbCnS0s",
        "outputId": "bb70799d-f89e-44df-d4ee-d60f56e09d1b"
      },
      "source": [
        "guess = 0\n",
        "\n",
        "to_predict = len(y_test)\n",
        "\n",
        "for index in range(to_predict):\n",
        "    if np.argmax(predictions[index]) == np.argmax(y_test[index]):\n",
        "        guess += 1\n",
        "\n",
        "# np.argmax(predictions[index]), np.argmax(y_test[index])\n",
        "print(\"Guessed: {:.2f}%\".format(guess/to_predict*100))"
      ],
      "execution_count": 13,
      "outputs": [
        {
          "output_type": "error",
          "ename": "KeyError",
          "evalue": "ignored",
          "traceback": [
            "\u001b[0;31m---------------------------------------------------------------------------\u001b[0m",
            "\u001b[0;31mKeyError\u001b[0m                                  Traceback (most recent call last)",
            "\u001b[0;32m/usr/local/lib/python3.7/dist-packages/pandas/core/indexes/base.py\u001b[0m in \u001b[0;36mget_loc\u001b[0;34m(self, key, method, tolerance)\u001b[0m\n\u001b[1;32m   2897\u001b[0m             \u001b[0;32mtry\u001b[0m\u001b[0;34m:\u001b[0m\u001b[0;34m\u001b[0m\u001b[0;34m\u001b[0m\u001b[0m\n\u001b[0;32m-> 2898\u001b[0;31m                 \u001b[0;32mreturn\u001b[0m \u001b[0mself\u001b[0m\u001b[0;34m.\u001b[0m\u001b[0m_engine\u001b[0m\u001b[0;34m.\u001b[0m\u001b[0mget_loc\u001b[0m\u001b[0;34m(\u001b[0m\u001b[0mcasted_key\u001b[0m\u001b[0;34m)\u001b[0m\u001b[0;34m\u001b[0m\u001b[0;34m\u001b[0m\u001b[0m\n\u001b[0m\u001b[1;32m   2899\u001b[0m             \u001b[0;32mexcept\u001b[0m \u001b[0mKeyError\u001b[0m \u001b[0;32mas\u001b[0m \u001b[0merr\u001b[0m\u001b[0;34m:\u001b[0m\u001b[0;34m\u001b[0m\u001b[0;34m\u001b[0m\u001b[0m\n",
            "\u001b[0;32mpandas/_libs/index.pyx\u001b[0m in \u001b[0;36mpandas._libs.index.IndexEngine.get_loc\u001b[0;34m()\u001b[0m\n",
            "\u001b[0;32mpandas/_libs/index.pyx\u001b[0m in \u001b[0;36mpandas._libs.index.IndexEngine.get_loc\u001b[0;34m()\u001b[0m\n",
            "\u001b[0;32mpandas/_libs/hashtable_class_helper.pxi\u001b[0m in \u001b[0;36mpandas._libs.hashtable.Int64HashTable.get_item\u001b[0;34m()\u001b[0m\n",
            "\u001b[0;32mpandas/_libs/hashtable_class_helper.pxi\u001b[0m in \u001b[0;36mpandas._libs.hashtable.Int64HashTable.get_item\u001b[0;34m()\u001b[0m\n",
            "\u001b[0;31mKeyError\u001b[0m: 0",
            "\nThe above exception was the direct cause of the following exception:\n",
            "\u001b[0;31mKeyError\u001b[0m                                  Traceback (most recent call last)",
            "\u001b[0;32m<ipython-input-13-6c850b5cb6b4>\u001b[0m in \u001b[0;36m<module>\u001b[0;34m()\u001b[0m\n\u001b[1;32m      4\u001b[0m \u001b[0;34m\u001b[0m\u001b[0m\n\u001b[1;32m      5\u001b[0m \u001b[0;32mfor\u001b[0m \u001b[0mindex\u001b[0m \u001b[0;32min\u001b[0m \u001b[0mrange\u001b[0m\u001b[0;34m(\u001b[0m\u001b[0mto_predict\u001b[0m\u001b[0;34m)\u001b[0m\u001b[0;34m:\u001b[0m\u001b[0;34m\u001b[0m\u001b[0;34m\u001b[0m\u001b[0m\n\u001b[0;32m----> 6\u001b[0;31m     \u001b[0;32mif\u001b[0m \u001b[0mnp\u001b[0m\u001b[0;34m.\u001b[0m\u001b[0margmax\u001b[0m\u001b[0;34m(\u001b[0m\u001b[0mpredictions\u001b[0m\u001b[0;34m[\u001b[0m\u001b[0mindex\u001b[0m\u001b[0;34m]\u001b[0m\u001b[0;34m)\u001b[0m \u001b[0;34m==\u001b[0m \u001b[0mnp\u001b[0m\u001b[0;34m.\u001b[0m\u001b[0margmax\u001b[0m\u001b[0;34m(\u001b[0m\u001b[0my_test\u001b[0m\u001b[0;34m[\u001b[0m\u001b[0mindex\u001b[0m\u001b[0;34m]\u001b[0m\u001b[0;34m)\u001b[0m\u001b[0;34m:\u001b[0m\u001b[0;34m\u001b[0m\u001b[0;34m\u001b[0m\u001b[0m\n\u001b[0m\u001b[1;32m      7\u001b[0m         \u001b[0mguess\u001b[0m \u001b[0;34m+=\u001b[0m \u001b[0;36m1\u001b[0m\u001b[0;34m\u001b[0m\u001b[0;34m\u001b[0m\u001b[0m\n\u001b[1;32m      8\u001b[0m \u001b[0;34m\u001b[0m\u001b[0m\n",
            "\u001b[0;32m/usr/local/lib/python3.7/dist-packages/pandas/core/series.py\u001b[0m in \u001b[0;36m__getitem__\u001b[0;34m(self, key)\u001b[0m\n\u001b[1;32m    880\u001b[0m \u001b[0;34m\u001b[0m\u001b[0m\n\u001b[1;32m    881\u001b[0m         \u001b[0;32melif\u001b[0m \u001b[0mkey_is_scalar\u001b[0m\u001b[0;34m:\u001b[0m\u001b[0;34m\u001b[0m\u001b[0;34m\u001b[0m\u001b[0m\n\u001b[0;32m--> 882\u001b[0;31m             \u001b[0;32mreturn\u001b[0m \u001b[0mself\u001b[0m\u001b[0;34m.\u001b[0m\u001b[0m_get_value\u001b[0m\u001b[0;34m(\u001b[0m\u001b[0mkey\u001b[0m\u001b[0;34m)\u001b[0m\u001b[0;34m\u001b[0m\u001b[0;34m\u001b[0m\u001b[0m\n\u001b[0m\u001b[1;32m    883\u001b[0m \u001b[0;34m\u001b[0m\u001b[0m\n\u001b[1;32m    884\u001b[0m         \u001b[0;32mif\u001b[0m \u001b[0mis_hashable\u001b[0m\u001b[0;34m(\u001b[0m\u001b[0mkey\u001b[0m\u001b[0;34m)\u001b[0m\u001b[0;34m:\u001b[0m\u001b[0;34m\u001b[0m\u001b[0;34m\u001b[0m\u001b[0m\n",
            "\u001b[0;32m/usr/local/lib/python3.7/dist-packages/pandas/core/series.py\u001b[0m in \u001b[0;36m_get_value\u001b[0;34m(self, label, takeable)\u001b[0m\n\u001b[1;32m    988\u001b[0m \u001b[0;34m\u001b[0m\u001b[0m\n\u001b[1;32m    989\u001b[0m         \u001b[0;31m# Similar to Index.get_value, but we do not fall back to positional\u001b[0m\u001b[0;34m\u001b[0m\u001b[0;34m\u001b[0m\u001b[0;34m\u001b[0m\u001b[0m\n\u001b[0;32m--> 990\u001b[0;31m         \u001b[0mloc\u001b[0m \u001b[0;34m=\u001b[0m \u001b[0mself\u001b[0m\u001b[0;34m.\u001b[0m\u001b[0mindex\u001b[0m\u001b[0;34m.\u001b[0m\u001b[0mget_loc\u001b[0m\u001b[0;34m(\u001b[0m\u001b[0mlabel\u001b[0m\u001b[0;34m)\u001b[0m\u001b[0;34m\u001b[0m\u001b[0;34m\u001b[0m\u001b[0m\n\u001b[0m\u001b[1;32m    991\u001b[0m         \u001b[0;32mreturn\u001b[0m \u001b[0mself\u001b[0m\u001b[0;34m.\u001b[0m\u001b[0mindex\u001b[0m\u001b[0;34m.\u001b[0m\u001b[0m_get_values_for_loc\u001b[0m\u001b[0;34m(\u001b[0m\u001b[0mself\u001b[0m\u001b[0;34m,\u001b[0m \u001b[0mloc\u001b[0m\u001b[0;34m,\u001b[0m \u001b[0mlabel\u001b[0m\u001b[0;34m)\u001b[0m\u001b[0;34m\u001b[0m\u001b[0;34m\u001b[0m\u001b[0m\n\u001b[1;32m    992\u001b[0m \u001b[0;34m\u001b[0m\u001b[0m\n",
            "\u001b[0;32m/usr/local/lib/python3.7/dist-packages/pandas/core/indexes/base.py\u001b[0m in \u001b[0;36mget_loc\u001b[0;34m(self, key, method, tolerance)\u001b[0m\n\u001b[1;32m   2898\u001b[0m                 \u001b[0;32mreturn\u001b[0m \u001b[0mself\u001b[0m\u001b[0;34m.\u001b[0m\u001b[0m_engine\u001b[0m\u001b[0;34m.\u001b[0m\u001b[0mget_loc\u001b[0m\u001b[0;34m(\u001b[0m\u001b[0mcasted_key\u001b[0m\u001b[0;34m)\u001b[0m\u001b[0;34m\u001b[0m\u001b[0;34m\u001b[0m\u001b[0m\n\u001b[1;32m   2899\u001b[0m             \u001b[0;32mexcept\u001b[0m \u001b[0mKeyError\u001b[0m \u001b[0;32mas\u001b[0m \u001b[0merr\u001b[0m\u001b[0;34m:\u001b[0m\u001b[0;34m\u001b[0m\u001b[0;34m\u001b[0m\u001b[0m\n\u001b[0;32m-> 2900\u001b[0;31m                 \u001b[0;32mraise\u001b[0m \u001b[0mKeyError\u001b[0m\u001b[0;34m(\u001b[0m\u001b[0mkey\u001b[0m\u001b[0;34m)\u001b[0m \u001b[0;32mfrom\u001b[0m \u001b[0merr\u001b[0m\u001b[0;34m\u001b[0m\u001b[0;34m\u001b[0m\u001b[0m\n\u001b[0m\u001b[1;32m   2901\u001b[0m \u001b[0;34m\u001b[0m\u001b[0m\n\u001b[1;32m   2902\u001b[0m         \u001b[0;32mif\u001b[0m \u001b[0mtolerance\u001b[0m \u001b[0;32mis\u001b[0m \u001b[0;32mnot\u001b[0m \u001b[0;32mNone\u001b[0m\u001b[0;34m:\u001b[0m\u001b[0;34m\u001b[0m\u001b[0;34m\u001b[0m\u001b[0m\n",
            "\u001b[0;31mKeyError\u001b[0m: 0"
          ]
        }
      ]
    },
    {
      "cell_type": "markdown",
      "metadata": {
        "id": "mCXw2xaUJQ_l"
      },
      "source": [
        "# Deep Neural Network Model in Keras\n"
      ]
    },
    {
      "cell_type": "code",
      "metadata": {
        "id": "CXwt6I_yqkau"
      },
      "source": [
        "# Reverse array dimension changes for LSTM\n",
        "x_train = x_train[:, :, 0]\n",
        "x_val = x_val[:, :, 0]\n",
        "x_test = x_test[:, :, 0]"
      ],
      "execution_count": null,
      "outputs": []
    },
    {
      "cell_type": "code",
      "metadata": {
        "id": "KJ5ywCqflQi0"
      },
      "source": [
        "#Prepare labels data \n",
        "#Needed ONLY for categorical_crossentropy loss function\n",
        "y_train = to_categorical(y_train)\n",
        "y_val = to_categorical(y_val)\n",
        "y_test = to_categorical(y_test)"
      ],
      "execution_count": null,
      "outputs": []
    },
    {
      "cell_type": "code",
      "metadata": {
        "colab": {
          "base_uri": "https://localhost:8080/"
        },
        "id": "-DyMELaTeUqD",
        "outputId": "da3a2686-025e-4674-c6e9-e9ee1beff936"
      },
      "source": [
        "# define the keras model\n",
        "num_classes = 3\n",
        "\n",
        "model = Sequential()\n",
        "model.add(Dense(30, input_dim= x_train.shape[1], activation='relu'))\n",
        "#model.add(Dense(60, activation='relu'))\n",
        "model.add(Dense(num_classes, activation='softmax')) #Last layer corresponds with the number of possible outputs\n",
        "\n",
        "# compile the keras model\n",
        "opt = SGD(learning_rate=0.01, momentum=0.9)\n",
        "\n",
        "model.compile(loss= 'categorical_crossentropy', optimizer= 'adam', metrics=['accuracy'])\n",
        "model.summary()"
      ],
      "execution_count": null,
      "outputs": [
        {
          "output_type": "stream",
          "text": [
            "Model: \"sequential_1\"\n",
            "_________________________________________________________________\n",
            "Layer (type)                 Output Shape              Param #   \n",
            "=================================================================\n",
            "dense_2 (Dense)              (None, 30)                150       \n",
            "_________________________________________________________________\n",
            "dense_3 (Dense)              (None, 3)                 93        \n",
            "=================================================================\n",
            "Total params: 243\n",
            "Trainable params: 243\n",
            "Non-trainable params: 0\n",
            "_________________________________________________________________\n"
          ],
          "name": "stdout"
        }
      ]
    },
    {
      "cell_type": "markdown",
      "metadata": {
        "id": "z7L-f61Kr9Qm"
      },
      "source": [
        "Train Model"
      ]
    },
    {
      "cell_type": "code",
      "metadata": {
        "id": "O1byX-NigRhU"
      },
      "source": [
        "# fit the keras model on the dataset\n",
        "history = model.fit(x_train, y_train, validation_data=(x_val, y_val), epochs=50, batch_size=180, verbose=1)"
      ],
      "execution_count": null,
      "outputs": []
    },
    {
      "cell_type": "markdown",
      "metadata": {
        "id": "b7wDeVitsAE-"
      },
      "source": [
        "# Evaluate Model on Test Data"
      ]
    },
    {
      "cell_type": "code",
      "metadata": {
        "colab": {
          "base_uri": "https://localhost:8080/"
        },
        "id": "6Ew4p3YooK3m",
        "outputId": "44a460b8-6d07-4def-bc55-342007fd75a5"
      },
      "source": [
        "# evaluate the model\n",
        "test_loss, test_acc = model.evaluate(x_test, y_test)\n",
        "\n",
        "print(\"Test accuracy\", test_acc)\n",
        "print(\"Test loss\", test_loss)"
      ],
      "execution_count": 14,
      "outputs": [
        {
          "output_type": "stream",
          "text": [
            "78/78 [==============================] - 0s 2ms/step - loss: 0.8309 - accuracy: 0.6655\n",
            "Test accuracy 0.6654604077339172\n",
            "Test loss 0.8309272527694702\n"
          ],
          "name": "stdout"
        }
      ]
    },
    {
      "cell_type": "code",
      "metadata": {
        "colab": {
          "base_uri": "https://localhost:8080/",
          "height": 573
        },
        "id": "EfMvpYkxYYU4",
        "outputId": "44f5364d-df9e-443c-c348-7cdb03ad0542"
      },
      "source": [
        "# summarize history for accuracy\n",
        "plt.plot(history.history['accuracy'])\n",
        "plt.plot(history.history['val_accuracy'])\n",
        "plt.title('model accuracy')\n",
        "plt.ylabel('accuracy')\n",
        "plt.xlabel('epoch')\n",
        "plt.legend(['train', 'validation'], loc='upper left')\n",
        "plt.show()\n",
        "# summarize history for loss\n",
        "plt.plot(history.history['loss'])\n",
        "plt.plot(history.history['val_loss'])\n",
        "plt.title('model loss')\n",
        "plt.ylabel('loss')\n",
        "plt.xlabel('epoch')\n",
        "plt.legend(['train', 'validation'], loc='upper left')\n",
        "plt.show()"
      ],
      "execution_count": 15,
      "outputs": [
        {
          "output_type": "display_data",
          "data": {
            "image/png": "[encoded data removed]",
            "text/plain": [
              "<Figure size 432x288 with 1 Axes>"
            ]
          },
          "metadata": {
            "tags": [],
            "needs_background": "light"
          }
        },
        {
          "output_type": "display_data",
          "data": {
            "image/png": "[encoded data removed]",
            "text/plain": [
              "<Figure size 432x288 with 1 Axes>"
            ]
          },
          "metadata": {
            "tags": [],
            "needs_background": "light"
          }
        }
      ]
    },
    {
      "cell_type": "markdown",
      "metadata": {
        "id": "8Nxau1E-x3gN"
      },
      "source": [
        "Confusion Matrix for LSTM"
      ]
    },
    {
      "cell_type": "code",
      "metadata": {
        "id": "WQvwXcUWu5qY"
      },
      "source": [
        "def show_confusion_matrix(validations, predictions):\n",
        "\n",
        "    matrix = metrics.confusion_matrix(validations, predictions)\n",
        "    plt.figure(figsize=(6, 4))\n",
        "    sns.heatmap(matrix,\n",
        "                cmap='coolwarm',\n",
        "                linecolor='white',\n",
        "                linewidths=1,\n",
        "                #xticklabels=LABELS,\n",
        "                #yticklabels='0','1','2',\n",
        "                annot=True,\n",
        "                fmt='d')\n",
        "    plt.title('Confusion Matrix')\n",
        "    plt.ylabel('True Label')\n",
        "    plt.xlabel('Predicted Label')\n",
        "    plt.show()"
      ],
      "execution_count": 16,
      "outputs": []
    },
    {
      "cell_type": "code",
      "metadata": {
        "colab": {
          "base_uri": "https://localhost:8080/",
          "height": 395
        },
        "id": "pOuDDvS2u-cd",
        "outputId": "c7d0efc6-b616-4db0-ebbb-4091150593e8"
      },
      "source": [
        "y_pred_test = model.predict(x_test)\n",
        "# Take the class with the highest probability from the test predictions\n",
        "max_y_pred_test = np.argmax(y_pred_test, axis=1)\n",
        "max_y_test = np.argmax(y_test, axis=1)\n",
        "\n",
        "show_confusion_matrix(max_y_test, max_y_pred_test)\n",
        "\n",
        "print(classification_report(max_y_test, max_y_pred_test))"
      ],
      "execution_count": 17,
      "outputs": [
        {
          "output_type": "error",
          "ename": "ValueError",
          "evalue": "ignored",
          "traceback": [
            "\u001b[0;31m---------------------------------------------------------------------------\u001b[0m",
            "\u001b[0;31mValueError\u001b[0m                                Traceback (most recent call last)",
            "\u001b[0;32m<ipython-input-17-8f06de224faf>\u001b[0m in \u001b[0;36m<module>\u001b[0;34m()\u001b[0m\n\u001b[1;32m      2\u001b[0m \u001b[0;31m# Take the class with the highest probability from the test predictions\u001b[0m\u001b[0;34m\u001b[0m\u001b[0;34m\u001b[0m\u001b[0;34m\u001b[0m\u001b[0m\n\u001b[1;32m      3\u001b[0m \u001b[0mmax_y_pred_test\u001b[0m \u001b[0;34m=\u001b[0m \u001b[0mnp\u001b[0m\u001b[0;34m.\u001b[0m\u001b[0margmax\u001b[0m\u001b[0;34m(\u001b[0m\u001b[0my_pred_test\u001b[0m\u001b[0;34m,\u001b[0m \u001b[0maxis\u001b[0m\u001b[0;34m=\u001b[0m\u001b[0;36m1\u001b[0m\u001b[0;34m)\u001b[0m\u001b[0;34m\u001b[0m\u001b[0;34m\u001b[0m\u001b[0m\n\u001b[0;32m----> 4\u001b[0;31m \u001b[0mmax_y_test\u001b[0m \u001b[0;34m=\u001b[0m \u001b[0mnp\u001b[0m\u001b[0;34m.\u001b[0m\u001b[0margmax\u001b[0m\u001b[0;34m(\u001b[0m\u001b[0my_test\u001b[0m\u001b[0;34m,\u001b[0m \u001b[0maxis\u001b[0m\u001b[0;34m=\u001b[0m\u001b[0;36m1\u001b[0m\u001b[0;34m)\u001b[0m\u001b[0;34m\u001b[0m\u001b[0;34m\u001b[0m\u001b[0m\n\u001b[0m\u001b[1;32m      5\u001b[0m \u001b[0;34m\u001b[0m\u001b[0m\n\u001b[1;32m      6\u001b[0m \u001b[0mshow_confusion_matrix\u001b[0m\u001b[0;34m(\u001b[0m\u001b[0mmax_y_test\u001b[0m\u001b[0;34m,\u001b[0m \u001b[0mmax_y_pred_test\u001b[0m\u001b[0;34m)\u001b[0m\u001b[0;34m\u001b[0m\u001b[0;34m\u001b[0m\u001b[0m\n",
            "\u001b[0;32m<__array_function__ internals>\u001b[0m in \u001b[0;36margmax\u001b[0;34m(*args, **kwargs)\u001b[0m\n",
            "\u001b[0;32m/usr/local/lib/python3.7/dist-packages/numpy/core/fromnumeric.py\u001b[0m in \u001b[0;36margmax\u001b[0;34m(a, axis, out)\u001b[0m\n\u001b[1;32m   1186\u001b[0m \u001b[0;34m\u001b[0m\u001b[0m\n\u001b[1;32m   1187\u001b[0m     \"\"\"\n\u001b[0;32m-> 1188\u001b[0;31m     \u001b[0;32mreturn\u001b[0m \u001b[0m_wrapfunc\u001b[0m\u001b[0;34m(\u001b[0m\u001b[0ma\u001b[0m\u001b[0;34m,\u001b[0m \u001b[0;34m'argmax'\u001b[0m\u001b[0;34m,\u001b[0m \u001b[0maxis\u001b[0m\u001b[0;34m=\u001b[0m\u001b[0maxis\u001b[0m\u001b[0;34m,\u001b[0m \u001b[0mout\u001b[0m\u001b[0;34m=\u001b[0m\u001b[0mout\u001b[0m\u001b[0;34m)\u001b[0m\u001b[0;34m\u001b[0m\u001b[0;34m\u001b[0m\u001b[0m\n\u001b[0m\u001b[1;32m   1189\u001b[0m \u001b[0;34m\u001b[0m\u001b[0m\n\u001b[1;32m   1190\u001b[0m \u001b[0;34m\u001b[0m\u001b[0m\n",
            "\u001b[0;32m/usr/local/lib/python3.7/dist-packages/numpy/core/fromnumeric.py\u001b[0m in \u001b[0;36m_wrapfunc\u001b[0;34m(obj, method, *args, **kwds)\u001b[0m\n\u001b[1;32m     56\u001b[0m \u001b[0;34m\u001b[0m\u001b[0m\n\u001b[1;32m     57\u001b[0m     \u001b[0;32mtry\u001b[0m\u001b[0;34m:\u001b[0m\u001b[0;34m\u001b[0m\u001b[0;34m\u001b[0m\u001b[0m\n\u001b[0;32m---> 58\u001b[0;31m         \u001b[0;32mreturn\u001b[0m \u001b[0mbound\u001b[0m\u001b[0;34m(\u001b[0m\u001b[0;34m*\u001b[0m\u001b[0margs\u001b[0m\u001b[0;34m,\u001b[0m \u001b[0;34m**\u001b[0m\u001b[0mkwds\u001b[0m\u001b[0;34m)\u001b[0m\u001b[0;34m\u001b[0m\u001b[0;34m\u001b[0m\u001b[0m\n\u001b[0m\u001b[1;32m     59\u001b[0m     \u001b[0;32mexcept\u001b[0m \u001b[0mTypeError\u001b[0m\u001b[0;34m:\u001b[0m\u001b[0;34m\u001b[0m\u001b[0;34m\u001b[0m\u001b[0m\n\u001b[1;32m     60\u001b[0m         \u001b[0;31m# A TypeError occurs if the object does have such a method in its\u001b[0m\u001b[0;34m\u001b[0m\u001b[0;34m\u001b[0m\u001b[0;34m\u001b[0m\u001b[0m\n",
            "\u001b[0;32m/usr/local/lib/python3.7/dist-packages/pandas/core/base.py\u001b[0m in \u001b[0;36margmax\u001b[0;34m(self, axis, skipna, *args, **kwargs)\u001b[0m\n\u001b[1;32m    952\u001b[0m         \u001b[0msince\u001b[0m \u001b[0mseries\u001b[0m \u001b[0;32mis\u001b[0m \u001b[0mzero\u001b[0m\u001b[0;34m-\u001b[0m\u001b[0mindexed\u001b[0m\u001b[0;34m.\u001b[0m\u001b[0;34m\u001b[0m\u001b[0;34m\u001b[0m\u001b[0m\n\u001b[1;32m    953\u001b[0m         \"\"\"\n\u001b[0;32m--> 954\u001b[0;31m         \u001b[0mnv\u001b[0m\u001b[0;34m.\u001b[0m\u001b[0mvalidate_minmax_axis\u001b[0m\u001b[0;34m(\u001b[0m\u001b[0maxis\u001b[0m\u001b[0;34m)\u001b[0m\u001b[0;34m\u001b[0m\u001b[0;34m\u001b[0m\u001b[0m\n\u001b[0m\u001b[1;32m    955\u001b[0m         \u001b[0mnv\u001b[0m\u001b[0;34m.\u001b[0m\u001b[0mvalidate_argmax_with_skipna\u001b[0m\u001b[0;34m(\u001b[0m\u001b[0mskipna\u001b[0m\u001b[0;34m,\u001b[0m \u001b[0margs\u001b[0m\u001b[0;34m,\u001b[0m \u001b[0mkwargs\u001b[0m\u001b[0;34m)\u001b[0m\u001b[0;34m\u001b[0m\u001b[0;34m\u001b[0m\u001b[0m\n\u001b[1;32m    956\u001b[0m         \u001b[0;32mreturn\u001b[0m \u001b[0mnanops\u001b[0m\u001b[0;34m.\u001b[0m\u001b[0mnanargmax\u001b[0m\u001b[0;34m(\u001b[0m\u001b[0mself\u001b[0m\u001b[0;34m.\u001b[0m\u001b[0m_values\u001b[0m\u001b[0;34m,\u001b[0m \u001b[0mskipna\u001b[0m\u001b[0;34m=\u001b[0m\u001b[0mskipna\u001b[0m\u001b[0;34m)\u001b[0m\u001b[0;34m\u001b[0m\u001b[0;34m\u001b[0m\u001b[0m\n",
            "\u001b[0;32m/usr/local/lib/python3.7/dist-packages/pandas/compat/numpy/function.py\u001b[0m in \u001b[0;36mvalidate_minmax_axis\u001b[0;34m(axis)\u001b[0m\n\u001b[1;32m    415\u001b[0m         \u001b[0;32mreturn\u001b[0m\u001b[0;34m\u001b[0m\u001b[0;34m\u001b[0m\u001b[0m\n\u001b[1;32m    416\u001b[0m     \u001b[0;32mif\u001b[0m \u001b[0maxis\u001b[0m \u001b[0;34m>=\u001b[0m \u001b[0mndim\u001b[0m \u001b[0;32mor\u001b[0m \u001b[0;34m(\u001b[0m\u001b[0maxis\u001b[0m \u001b[0;34m<\u001b[0m \u001b[0;36m0\u001b[0m \u001b[0;32mand\u001b[0m \u001b[0mndim\u001b[0m \u001b[0;34m+\u001b[0m \u001b[0maxis\u001b[0m \u001b[0;34m<\u001b[0m \u001b[0;36m0\u001b[0m\u001b[0;34m)\u001b[0m\u001b[0;34m:\u001b[0m\u001b[0;34m\u001b[0m\u001b[0;34m\u001b[0m\u001b[0m\n\u001b[0;32m--> 417\u001b[0;31m         \u001b[0;32mraise\u001b[0m \u001b[0mValueError\u001b[0m\u001b[0;34m(\u001b[0m\u001b[0;34mf\"`axis` must be fewer than the number of dimensions ({ndim})\"\u001b[0m\u001b[0;34m)\u001b[0m\u001b[0;34m\u001b[0m\u001b[0;34m\u001b[0m\u001b[0m\n\u001b[0m",
            "\u001b[0;31mValueError\u001b[0m: `axis` must be fewer than the number of dimensions (1)"
          ]
        }
      ]
    },
    {
      "cell_type": "markdown",
      "metadata": {
        "id": "Bm_F9L2umUnx"
      },
      "source": [
        "# Predictions"
      ]
    },
    {
      "cell_type": "code",
      "metadata": {
        "id": "-3AwFe0E7aPG"
      },
      "source": [
        "# test the trained model with the full x_test\n",
        "predictions = model.predict(x_test)"
      ],
      "execution_count": null,
      "outputs": []
    },
    {
      "cell_type": "code",
      "metadata": {
        "colab": {
          "base_uri": "https://localhost:8080/"
        },
        "id": "frOwP6RL7ghF",
        "outputId": "2912a708-caef-429a-fc54-ee6ab0f7af00"
      },
      "source": [
        "predictions[0], y_test[0]"
      ],
      "execution_count": null,
      "outputs": [
        {
          "output_type": "execute_result",
          "data": {
            "text/plain": [
              "(array([0.02846027, 0.89990205, 0.07163768], dtype=float32),\n",
              " array([0., 1., 0.], dtype=float32))"
            ]
          },
          "metadata": {
            "tags": []
          },
          "execution_count": 74
        }
      ]
    },
    {
      "cell_type": "code",
      "metadata": {
        "colab": {
          "base_uri": "https://localhost:8080/"
        },
        "id": "Tnjgb73S7yDd",
        "outputId": "b3e7e996-b9cb-43c2-88b9-6ccb62a7b194"
      },
      "source": [
        "predictions[500], y_test[500]"
      ],
      "execution_count": null,
      "outputs": [
        {
          "output_type": "execute_result",
          "data": {
            "text/plain": [
              "(array([0.05969261, 0.7548642 , 0.18544324], dtype=float32),\n",
              " array([0., 1., 0.], dtype=float32))"
            ]
          },
          "metadata": {
            "tags": []
          },
          "execution_count": 75
        }
      ]
    },
    {
      "cell_type": "code",
      "metadata": {
        "colab": {
          "base_uri": "https://localhost:8080/"
        },
        "id": "gi4CQeJA707J",
        "outputId": "2f731027-9cca-432b-d998-100fab265aad"
      },
      "source": [
        "predictions[800], y_test[800]"
      ],
      "execution_count": null,
      "outputs": [
        {
          "output_type": "execute_result",
          "data": {
            "text/plain": [
              "(array([0.06639516, 0.5557858 , 0.37781912], dtype=float32),\n",
              " array([0., 1., 0.], dtype=float32))"
            ]
          },
          "metadata": {
            "tags": []
          },
          "execution_count": 76
        }
      ]
    },
    {
      "cell_type": "code",
      "metadata": {
        "colab": {
          "base_uri": "https://localhost:8080/"
        },
        "id": "9KWU4Uyi723q",
        "outputId": "2a9cb662-403f-40e2-9f39-fcaa7668db56"
      },
      "source": [
        "predictions[1200], y_test[1200]"
      ],
      "execution_count": null,
      "outputs": [
        {
          "output_type": "execute_result",
          "data": {
            "text/plain": [
              "(array([0.04926674, 0.74609387, 0.20463938], dtype=float32),\n",
              " array([0., 1., 0.], dtype=float32))"
            ]
          },
          "metadata": {
            "tags": []
          },
          "execution_count": 77
        }
      ]
    },
    {
      "cell_type": "code",
      "metadata": {
        "colab": {
          "base_uri": "https://localhost:8080/",
          "height": 171
        },
        "id": "LevQdew074E-",
        "outputId": "2fc1b41c-16ce-4fb6-c2bd-5bbcddf127e6"
      },
      "source": [
        "predictions[2000], y_test[2000] # bad prediction"
      ],
      "execution_count": null,
      "outputs": [
        {
          "output_type": "error",
          "ename": "NameError",
          "evalue": "ignored",
          "traceback": [
            "\u001b[0;31m---------------------------------------------------------------------------\u001b[0m",
            "\u001b[0;31mNameError\u001b[0m                                 Traceback (most recent call last)",
            "\u001b[0;32m<ipython-input-51-fbaca9589ac0>\u001b[0m in \u001b[0;36m<module>\u001b[0;34m()\u001b[0m\n\u001b[0;32m----> 1\u001b[0;31m \u001b[0mpredictions\u001b[0m\u001b[0;34m[\u001b[0m\u001b[0;36m2000\u001b[0m\u001b[0;34m]\u001b[0m\u001b[0;34m,\u001b[0m \u001b[0my_test\u001b[0m\u001b[0;34m[\u001b[0m\u001b[0;36m2000\u001b[0m\u001b[0;34m]\u001b[0m \u001b[0;31m# bad prediction\u001b[0m\u001b[0;34m\u001b[0m\u001b[0;34m\u001b[0m\u001b[0m\n\u001b[0m",
            "\u001b[0;31mNameError\u001b[0m: name 'predictions' is not defined"
          ]
        }
      ]
    },
    {
      "cell_type": "code",
      "metadata": {
        "colab": {
          "base_uri": "https://localhost:8080/"
        },
        "id": "qMCdP_Dk8GXX",
        "outputId": "5daf39d5-766e-4949-e3ac-9a0c783a738a"
      },
      "source": [
        "predictions[2400], y_test[2400]"
      ],
      "execution_count": null,
      "outputs": [
        {
          "output_type": "execute_result",
          "data": {
            "text/plain": [
              "(array([0.05789682, 0.83688635, 0.10521688], dtype=float32),\n",
              " array([0., 1., 0.], dtype=float32))"
            ]
          },
          "metadata": {
            "tags": []
          },
          "execution_count": 85
        }
      ]
    },
    {
      "cell_type": "code",
      "metadata": {
        "colab": {
          "base_uri": "https://localhost:8080/",
          "height": 189
        },
        "id": "pssKjwnzT2Kw",
        "outputId": "16efa001-9da0-487b-cef5-3361833263f1"
      },
      "source": [
        "for i in range(2000):\n",
        "    predictions[i]"
      ],
      "execution_count": null,
      "outputs": [
        {
          "output_type": "error",
          "ename": "NameError",
          "evalue": "ignored",
          "traceback": [
            "\u001b[0;31m---------------------------------------------------------------------------\u001b[0m",
            "\u001b[0;31mNameError\u001b[0m                                 Traceback (most recent call last)",
            "\u001b[0;32m<ipython-input-44-e6c2fb9ef533>\u001b[0m in \u001b[0;36m<module>\u001b[0;34m()\u001b[0m\n\u001b[1;32m      1\u001b[0m \u001b[0;32mfor\u001b[0m \u001b[0mi\u001b[0m \u001b[0;32min\u001b[0m \u001b[0mrange\u001b[0m\u001b[0;34m(\u001b[0m\u001b[0;36m2000\u001b[0m\u001b[0;34m)\u001b[0m\u001b[0;34m:\u001b[0m\u001b[0;34m\u001b[0m\u001b[0;34m\u001b[0m\u001b[0m\n\u001b[0;32m----> 2\u001b[0;31m     \u001b[0mpredictions\u001b[0m\u001b[0;34m[\u001b[0m\u001b[0mi\u001b[0m\u001b[0;34m]\u001b[0m\u001b[0;34m\u001b[0m\u001b[0;34m\u001b[0m\u001b[0m\n\u001b[0m",
            "\u001b[0;31mNameError\u001b[0m: name 'predictions' is not defined"
          ]
        }
      ]
    },
    {
      "cell_type": "code",
      "metadata": {
        "id": "rfCI7Vg7FL9H"
      },
      "source": [
        "# fit and evaluate a model\n",
        "def evaluate_model(trainX, trainy, valX, valy):\n",
        "    verbose, epochs, batch_size = 1, 100, 100\n",
        "\n",
        "    n_timesteps = trainX.shape[1]\n",
        "    n_features = trainX.shape[2]\n",
        "    n_outputs = 3\n",
        "\n",
        "    model = Sequential()\n",
        "    model.add(LSTM(180, input_shape=(n_timesteps,n_features)))\n",
        "    model.add(Dropout(0.5))\n",
        "    model.add(Dense(30, activation='relu'))\n",
        "    model.add(Dense(n_outputs, activation='softmax'))\n",
        "    model.compile(loss='categorical_crossentropy', optimizer='adam', metrics=['accuracy'])\n",
        "    #model.summary()\n",
        "\t# fit network\n",
        "    history = model.fit(trainX, trainy, validation_data=(valX, valy), epochs=epochs, batch_size=batch_size, verbose=verbose)\n",
        "\t# evaluate model\n",
        "    _, accuracy = model.evaluate(trainX, trainy, batch_size=batch_size, verbose=verbose)\n",
        "    return accuracy"
      ],
      "execution_count": null,
      "outputs": []
    },
    {
      "cell_type": "code",
      "metadata": {
        "id": "QCa2HSctcf43"
      },
      "source": [
        "# summarize scores\n",
        "def summarize_results(scores):\n",
        "\tprint(scores)\n",
        "\tm, s = mean(scores), std(scores)\n",
        "\tprint('Accuracy: %.3f%% (+/-%.3f)' % (m, s))"
      ],
      "execution_count": null,
      "outputs": []
    },
    {
      "cell_type": "code",
      "metadata": {
        "id": "jNEIszs7KyPf"
      },
      "source": [
        "def run_experiment(repeats=2):\n",
        "\t# repeat experiment\n",
        "\tscores = list()\n",
        "\tfor r in range(repeats):\n",
        "\t\tscore = evaluate_model(x_train, y_train, x_val, y_val)\n",
        "\t\tscore = score * 100.0\n",
        "\t\tprint('>#%d: %.3f' % (r+1, score))\n",
        "\t\tscores.append(score)\n",
        "\t# summarize results\n",
        "\tsummarize_results(scores)"
      ],
      "execution_count": null,
      "outputs": []
    },
    {
      "cell_type": "code",
      "metadata": {
        "id": "dtBkv70avWlK"
      },
      "source": [
        "#Train model just 1 time\n",
        "evaluate_model(x_train, y_train, x_val, y_val)"
      ],
      "execution_count": null,
      "outputs": []
    },
    {
      "cell_type": "code",
      "metadata": {
        "colab": {
          "base_uri": "https://localhost:8080/"
        },
        "id": "_omjXmBSLEmr",
        "outputId": "705e130e-3222-482a-f063-056e92ff21b6"
      },
      "source": [
        "#Run full training experiment\n",
        "run_experiment()"
      ],
      "execution_count": null,
      "outputs": [
        {
          "output_type": "stream",
          "text": [
            ">#1: 72.368\n",
            ">#2: 72.610\n",
            ">#3: 73.087\n",
            "[72.36849069595337, 72.60979413986206, 73.08703064918518]\n",
            "Accuracy: 72.688% (+/-0.299)\n"
          ],
          "name": "stdout"
        }
      ]
    }
  ]
}