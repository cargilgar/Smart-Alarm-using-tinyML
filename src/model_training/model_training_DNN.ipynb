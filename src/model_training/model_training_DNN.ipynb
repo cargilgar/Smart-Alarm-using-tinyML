{
  "nbformat": 4,
  "nbformat_minor": 0,
  "metadata": {
    "accelerator": "GPU",
    "colab": {
      "name": "model_training_DNN.ipynb",
      "provenance": [],
      "collapsed_sections": []
    },
    "kernelspec": {
      "display_name": "Python 3",
      "language": "python",
      "name": "python3"
    },
    "language_info": {
      "codemirror_mode": {
        "name": "ipython",
        "version": 3
      },
      "file_extension": ".py",
      "mimetype": "text/x-python",
      "name": "python",
      "nbconvert_exporter": "python",
      "pygments_lexer": "ipython3",
      "version": "3.8.5"
    }
  },
  "cells": [
    {
      "cell_type": "code",
      "metadata": {
        "id": "5iB8fV6iWeQs",
        "colab": {
          "base_uri": "https://localhost:8080/"
        },
        "outputId": "cd733549-bf4a-49be-ed22-af12a4900f95"
      },
      "source": [
        "import pandas as pd\n",
        "import numpy as np\n",
        "import tensorflow as tf\n",
        "import matplotlib.pyplot as plt\n",
        "import os\n",
        "import re\n",
        "import glob\n",
        "import seaborn as sns\n",
        "from numpy import mean, std\n",
        "from scipy import stats\n",
        "from tensorflow import keras\n",
        "from tensorflow.keras import layers\n",
        "from keras.models import Sequential\n",
        "from keras.callbacks import History \n",
        "from keras.layers import Dense, Dropout, Flatten\n",
        "from keras.optimizers import SGD\n",
        "from keras.utils.np_utils import to_categorical\n",
        "from sklearn import metrics\n",
        "from sklearn.metrics import classification_report\n",
        "\n",
        "!pip install autofeat\n",
        "from autofeat import FeatureSelector, AutoFeatRegressor, AutoFeatClassifier"
      ],
      "execution_count": 23,
      "outputs": [
        {
          "output_type": "stream",
          "text": [
            "Requirement already satisfied: autofeat in /usr/local/lib/python3.7/dist-packages (2.0.9)\n",
            "Requirement already satisfied: numpy in /usr/local/lib/python3.7/dist-packages (from autofeat) (1.19.5)\n",
            "Requirement already satisfied: pint in /usr/local/lib/python3.7/dist-packages (from autofeat) (0.17)\n",
            "Requirement already satisfied: future in /usr/local/lib/python3.7/dist-packages (from autofeat) (0.16.0)\n",
            "Requirement already satisfied: sympy>=1.7.1 in /usr/local/lib/python3.7/dist-packages (from autofeat) (1.7.1)\n",
            "Requirement already satisfied: joblib in /usr/local/lib/python3.7/dist-packages (from autofeat) (1.0.1)\n",
            "Requirement already satisfied: pandas>=0.24.0 in /usr/local/lib/python3.7/dist-packages (from autofeat) (1.1.5)\n",
            "Requirement already satisfied: scikit-learn in /usr/local/lib/python3.7/dist-packages (from autofeat) (0.22.2.post1)\n",
            "Requirement already satisfied: numba in /usr/local/lib/python3.7/dist-packages (from autofeat) (0.51.2)\n",
            "Requirement already satisfied: pytz>=2017.2 in /usr/local/lib/python3.7/dist-packages (from pandas>=0.24.0->autofeat) (2018.9)\n",
            "Requirement already satisfied: python-dateutil>=2.7.3 in /usr/local/lib/python3.7/dist-packages (from pandas>=0.24.0->autofeat) (2.8.1)\n",
            "Requirement already satisfied: six>=1.5 in /usr/local/lib/python3.7/dist-packages (from python-dateutil>=2.7.3->pandas>=0.24.0->autofeat) (1.15.0)\n",
            "Requirement already satisfied: mpmath>=0.19 in /usr/local/lib/python3.7/dist-packages (from sympy>=1.7.1->autofeat) (1.2.1)\n",
            "Requirement already satisfied: llvmlite<0.35,>=0.34.0.dev0 in /usr/local/lib/python3.7/dist-packages (from numba->autofeat) (0.34.0)\n",
            "Requirement already satisfied: setuptools in /usr/local/lib/python3.7/dist-packages (from numba->autofeat) (57.2.0)\n",
            "Requirement already satisfied: importlib-metadata in /usr/local/lib/python3.7/dist-packages (from pint->autofeat) (4.6.1)\n",
            "Requirement already satisfied: packaging in /usr/local/lib/python3.7/dist-packages (from pint->autofeat) (21.0)\n",
            "Requirement already satisfied: zipp>=0.5 in /usr/local/lib/python3.7/dist-packages (from importlib-metadata->pint->autofeat) (3.5.0)\n",
            "Requirement already satisfied: typing-extensions>=3.6.4 in /usr/local/lib/python3.7/dist-packages (from importlib-metadata->pint->autofeat) (3.7.4.3)\n",
            "Requirement already satisfied: pyparsing>=2.0.2 in /usr/local/lib/python3.7/dist-packages (from packaging->pint->autofeat) (2.4.7)\n",
            "Requirement already satisfied: scipy>=0.17.0 in /usr/local/lib/python3.7/dist-packages (from scikit-learn->autofeat) (1.4.1)\n"
          ],
          "name": "stdout"
        }
      ]
    },
    {
      "cell_type": "code",
      "metadata": {
        "id": "QELdntL8wlAu",
        "colab": {
          "base_uri": "https://localhost:8080/"
        },
        "outputId": "ef9c98b8-f6fe-451f-b4f7-b7b9e04d79cd"
      },
      "source": [
        "# Check for GPU availability\n",
        "device_name = tf.test.gpu_device_name()\n",
        "if device_name != '/device:GPU:0':\n",
        "  raise SystemError('GPU device not found')\n",
        "print('Found GPU at: {}'.format(device_name))"
      ],
      "execution_count": 24,
      "outputs": [
        {
          "output_type": "stream",
          "text": [
            "Found GPU at: /device:GPU:0\n"
          ],
          "name": "stdout"
        }
      ]
    },
    {
      "cell_type": "markdown",
      "metadata": {
        "id": "1R0wTJdcZzA9"
      },
      "source": [
        "# Load Dataset\n",
        "\n",
        "Load Dataset, concatenate data and count Rows and Columns"
      ]
    },
    {
      "cell_type": "code",
      "metadata": {
        "id": "uge8UaRLVvuT",
        "colab": {
          "base_uri": "https://localhost:8080/"
        },
        "outputId": "b6ca4802-73f9-49e8-fc35-6b6724250fb0"
      },
      "source": [
        "# Download dataset from Github and unzip\n",
        "!wget 'https://github.com/cargilgar/Smart-Alarm-using-tinyML/raw/main/dataset/datasets.zip'\n",
        "\n",
        "!unzip datasets.zip"
      ],
      "execution_count": 25,
      "outputs": [
        {
          "output_type": "stream",
          "text": [
            "--2021-07-30 17:43:10--  https://github.com/cargilgar/Smart-Alarm-using-tinyML/raw/main/dataset/datasets.zip\n",
            "Resolving github.com (github.com)... 192.30.255.112\n",
            "Connecting to github.com (github.com)|192.30.255.112|:443... connected.\n",
            "HTTP request sent, awaiting response... 302 Found\n",
            "Location: https://raw.githubusercontent.com/cargilgar/Smart-Alarm-using-tinyML/main/dataset/datasets.zip [following]\n",
            "--2021-07-30 17:43:10--  https://raw.githubusercontent.com/cargilgar/Smart-Alarm-using-tinyML/main/dataset/datasets.zip\n",
            "Resolving raw.githubusercontent.com (raw.githubusercontent.com)... 185.199.108.133, 185.199.111.133, 185.199.109.133, ...\n",
            "Connecting to raw.githubusercontent.com (raw.githubusercontent.com)|185.199.108.133|:443... connected.\n",
            "HTTP request sent, awaiting response... 200 OK\n",
            "Length: 7952952 (7.6M) [application/zip]\n",
            "Saving to: ‘datasets.zip.1’\n",
            "\n",
            "datasets.zip.1      100%[===================>]   7.58M  49.0MB/s    in 0.2s    \n",
            "\n",
            "2021-07-30 17:43:11 (49.0 MB/s) - ‘datasets.zip.1’ saved [7952952/7952952]\n",
            "\n",
            "Archive:  datasets.zip\n",
            "replace content/output/dataset_8530312.csv? [y]es, [n]o, [A]ll, [N]one, [r]ename: N\n"
          ],
          "name": "stdout"
        }
      ]
    },
    {
      "cell_type": "code",
      "metadata": {
        "id": "wnPZDI9BFk2Z"
      },
      "source": [
        "# Download RAW dataset from Drive and unzip\n",
        "# !wget --load-cookies /tmp/cookies.txt \"https://docs.google.com/uc?export=download&confirm=$(wget --quiet --save-cookies /tmp/cookies.txt --keep-session-cookies --no-check-certificate 'https://docs.google.com/uc?export=download&id=1IBJjxb8W2vNKA-SyNZIwC5uovWDk9EmA' -O- | sed -rn 's/.*confirm=([0-9A-Za-z_]+).*/\\1\\n/p')&id=1IBJjxb8W2vNKA-SyNZIwC5uovWDk9EmA\" -O RAW_dataset.zip && rm -rf /tmp/cookies.txt\n",
        "# !unzip RAW_dataset.zip"
      ],
      "execution_count": null,
      "outputs": []
    },
    {
      "cell_type": "code",
      "metadata": {
        "colab": {
          "base_uri": "https://localhost:8080/",
          "height": 458
        },
        "id": "q_LRVocyimd2",
        "outputId": "6ef29e88-a532-48d3-869d-2c775deae5b1"
      },
      "source": [
        "#Create full dataframe with all subject csv's concatenated\n",
        "path = r'content/output/'\n",
        "all_files = glob.glob(path + '/*.csv')\n",
        "\n",
        "li = []\n",
        "acc_rows = 0\n",
        "\n",
        "for filename in all_files:\n",
        "    subject_csv = pd.read_csv(filename, index_col=False)\n",
        "    acc_rows += len(subject_csv.axes[0])\n",
        "\n",
        "    li.append(subject_csv)\n",
        "\n",
        "df = pd.concat(li, axis=0, ignore_index=True)\n",
        "\n",
        "\n",
        "#Save big dataframe as CSV\n",
        "# df.to_csv('all_users_df.csv')\n",
        "\n",
        "#Rows and Columns\n",
        "total_rows = len(df.axes[0]) #===> Axes of 0 is for a row\n",
        "total_cols = len(df.axes[1]) #===> Axes of 1 is for a column\n",
        "print('Number of Rows: ', total_rows)\n",
        "print('Number of Columns: ', total_cols)\n",
        "\n",
        "assert total_rows == acc_rows, 'Number of rows does not match'\n",
        "\n",
        "df"
      ],
      "execution_count": 26,
      "outputs": [
        {
          "output_type": "stream",
          "text": [
            "Number of Rows:  772295\n",
            "Number of Columns:  6\n"
          ],
          "name": "stdout"
        },
        {
          "output_type": "execute_result",
          "data": {
            "text/html": [
              "<div>\n",
              "<style scoped>\n",
              "    .dataframe tbody tr th:only-of-type {\n",
              "        vertical-align: middle;\n",
              "    }\n",
              "\n",
              "    .dataframe tbody tr th {\n",
              "        vertical-align: top;\n",
              "    }\n",
              "\n",
              "    .dataframe thead th {\n",
              "        text-align: right;\n",
              "    }\n",
              "</style>\n",
              "<table border=\"1\" class=\"dataframe\">\n",
              "  <thead>\n",
              "    <tr style=\"text-align: right;\">\n",
              "      <th></th>\n",
              "      <th>Time</th>\n",
              "      <th>X</th>\n",
              "      <th>Y</th>\n",
              "      <th>Z</th>\n",
              "      <th>Heart Rate</th>\n",
              "      <th>Labels</th>\n",
              "    </tr>\n",
              "  </thead>\n",
              "  <tbody>\n",
              "    <tr>\n",
              "      <th>0</th>\n",
              "      <td>1.0</td>\n",
              "      <td>0.745316</td>\n",
              "      <td>2.146820</td>\n",
              "      <td>1.235825</td>\n",
              "      <td>81.0</td>\n",
              "      <td>-1.0</td>\n",
              "    </tr>\n",
              "    <tr>\n",
              "      <th>1</th>\n",
              "      <td>2.0</td>\n",
              "      <td>0.651840</td>\n",
              "      <td>1.379974</td>\n",
              "      <td>0.855926</td>\n",
              "      <td>81.0</td>\n",
              "      <td>-1.0</td>\n",
              "    </tr>\n",
              "    <tr>\n",
              "      <th>2</th>\n",
              "      <td>3.0</td>\n",
              "      <td>0.757416</td>\n",
              "      <td>1.386505</td>\n",
              "      <td>0.502609</td>\n",
              "      <td>81.0</td>\n",
              "      <td>-1.0</td>\n",
              "    </tr>\n",
              "    <tr>\n",
              "      <th>3</th>\n",
              "      <td>4.0</td>\n",
              "      <td>0.763458</td>\n",
              "      <td>1.317490</td>\n",
              "      <td>0.693802</td>\n",
              "      <td>81.0</td>\n",
              "      <td>-1.0</td>\n",
              "    </tr>\n",
              "    <tr>\n",
              "      <th>4</th>\n",
              "      <td>5.0</td>\n",
              "      <td>0.753204</td>\n",
              "      <td>1.592545</td>\n",
              "      <td>0.997772</td>\n",
              "      <td>81.0</td>\n",
              "      <td>-1.0</td>\n",
              "    </tr>\n",
              "    <tr>\n",
              "      <th>...</th>\n",
              "      <td>...</td>\n",
              "      <td>...</td>\n",
              "      <td>...</td>\n",
              "      <td>...</td>\n",
              "      <td>...</td>\n",
              "      <td>...</td>\n",
              "    </tr>\n",
              "    <tr>\n",
              "      <th>772290</th>\n",
              "      <td>28825.0</td>\n",
              "      <td>0.372513</td>\n",
              "      <td>0.498047</td>\n",
              "      <td>0.791885</td>\n",
              "      <td>55.0</td>\n",
              "      <td>5.0</td>\n",
              "    </tr>\n",
              "    <tr>\n",
              "      <th>772291</th>\n",
              "      <td>28826.0</td>\n",
              "      <td>0.373016</td>\n",
              "      <td>0.498077</td>\n",
              "      <td>0.791367</td>\n",
              "      <td>55.0</td>\n",
              "      <td>5.0</td>\n",
              "    </tr>\n",
              "    <tr>\n",
              "      <th>772292</th>\n",
              "      <td>28827.0</td>\n",
              "      <td>0.373001</td>\n",
              "      <td>0.498047</td>\n",
              "      <td>0.790894</td>\n",
              "      <td>55.0</td>\n",
              "      <td>5.0</td>\n",
              "    </tr>\n",
              "    <tr>\n",
              "      <th>772293</th>\n",
              "      <td>28828.0</td>\n",
              "      <td>0.372513</td>\n",
              "      <td>0.497589</td>\n",
              "      <td>0.791870</td>\n",
              "      <td>55.0</td>\n",
              "      <td>5.0</td>\n",
              "    </tr>\n",
              "    <tr>\n",
              "      <th>772294</th>\n",
              "      <td>28829.0</td>\n",
              "      <td>0.373489</td>\n",
              "      <td>0.500031</td>\n",
              "      <td>0.790894</td>\n",
              "      <td>55.0</td>\n",
              "      <td>5.0</td>\n",
              "    </tr>\n",
              "  </tbody>\n",
              "</table>\n",
              "<p>772295 rows × 6 columns</p>\n",
              "</div>"
            ],
            "text/plain": [
              "           Time         X         Y         Z  Heart Rate  Labels\n",
              "0           1.0  0.745316  2.146820  1.235825        81.0    -1.0\n",
              "1           2.0  0.651840  1.379974  0.855926        81.0    -1.0\n",
              "2           3.0  0.757416  1.386505  0.502609        81.0    -1.0\n",
              "3           4.0  0.763458  1.317490  0.693802        81.0    -1.0\n",
              "4           5.0  0.753204  1.592545  0.997772        81.0    -1.0\n",
              "...         ...       ...       ...       ...         ...     ...\n",
              "772290  28825.0  0.372513  0.498047  0.791885        55.0     5.0\n",
              "772291  28826.0  0.373016  0.498077  0.791367        55.0     5.0\n",
              "772292  28827.0  0.373001  0.498047  0.790894        55.0     5.0\n",
              "772293  28828.0  0.372513  0.497589  0.791870        55.0     5.0\n",
              "772294  28829.0  0.373489  0.500031  0.790894        55.0     5.0\n",
              "\n",
              "[772295 rows x 6 columns]"
            ]
          },
          "metadata": {
            "tags": []
          },
          "execution_count": 26
        }
      ]
    },
    {
      "cell_type": "code",
      "metadata": {
        "id": "VfF67zWlHKH5"
      },
      "source": [
        "df = df.drop('Time', axis=1)"
      ],
      "execution_count": 27,
      "outputs": []
    },
    {
      "cell_type": "markdown",
      "metadata": {
        "id": "CtZo1KmbpU6R"
      },
      "source": [
        "##EDA"
      ]
    },
    {
      "cell_type": "code",
      "metadata": {
        "id": "MnuMHsMMvNVv",
        "colab": {
          "base_uri": "https://localhost:8080/",
          "height": 308
        },
        "outputId": "514c579b-988e-4575-cdcc-310a775f2858"
      },
      "source": [
        "#Labels Distribution\n",
        "df['Labels'].value_counts().plot(kind='bar', title ='Labels Distribution')"
      ],
      "execution_count": null,
      "outputs": [
        {
          "output_type": "execute_result",
          "data": {
            "text/plain": [
              "<matplotlib.axes._subplots.AxesSubplot at 0x7f9f305bdf10>"
            ]
          },
          "metadata": {
            "tags": []
          },
          "execution_count": 7
        },
        {
          "output_type": "display_data",
          "data": {
            "image/png": "[encoded data removed]",
            "text/plain": [
              "<Figure size 432x288 with 1 Axes>"
            ]
          },
          "metadata": {
            "tags": [],
            "needs_background": "light"
          }
        }
      ]
    },
    {
      "cell_type": "markdown",
      "metadata": {
        "id": "00jGhBmxqSXE"
      },
      "source": [
        "# Labels\n",
        "Initial stages (0-5, wake = 0, N1 = 1, N2 = 2, N3 = 3, REM = 5)\n",
        "\n",
        "Relabeled stages (0-4, wake = 0, N1 = 1, N2 = 2, N3 = 3, REM = 4)"
      ]
    },
    {
      "cell_type": "code",
      "metadata": {
        "id": "bDfDpd_kHFb7"
      },
      "source": [
        "# Delete non-labeled Rows\n",
        "df.dropna(inplace=True)\n",
        "\n",
        "df['Labels'] = df['Labels'].astype(int)\n",
        "\n",
        "df = df.drop(df.index[(df.Labels < 0) | (df.Labels == 4)])\n",
        "\n",
        "# Same labels will be reused throughout the program\n",
        "df['Labels'] = df['Labels'].map({0:0,1:1,2:2,3:3,5:4,}, na_action=None)"
      ],
      "execution_count": 28,
      "outputs": []
    },
    {
      "cell_type": "markdown",
      "metadata": {
        "id": "3j0HlZ6BTdZa"
      },
      "source": [
        "## Balancing the dataset\n",
        "Based on the unbalanced distribution of the dataset, let's even it out by applying undersampling (i.e. reducing the number of samples of all of the biggest classes down to the size of the smallest one). \n",
        "\n",
        "In the case the resulting dataset is too small, a more advanced approach of combining undersampling and oversampling might be taken. This approach would take a class with the closest size to the average size as a reference threshold, undersample the bigger classes and oversample the smaller ones. this would guarantee a bigger perfeclty balanced dataset."
      ]
    },
    {
      "cell_type": "code",
      "metadata": {
        "id": "IBj2cN_2UDvI",
        "colab": {
          "base_uri": "https://localhost:8080/"
        },
        "outputId": "699e04b5-fe4c-4411-e131-bf045808a713"
      },
      "source": [
        "# Undersampling to the smallest class\n",
        "from imblearn.under_sampling import RandomUnderSampler\n",
        "\n",
        "under_sampler = RandomUnderSampler(random_state=42)\n",
        "X_res, y_res = under_sampler.fit_resample(df, df[\"Labels\"])"
      ],
      "execution_count": 29,
      "outputs": [
        {
          "output_type": "stream",
          "text": [
            "/usr/local/lib/python3.7/dist-packages/sklearn/utils/deprecation.py:87: FutureWarning: Function safe_indexing is deprecated; safe_indexing is deprecated in version 0.22 and will be removed in version 0.24.\n",
            "  warnings.warn(msg, category=FutureWarning)\n"
          ],
          "name": "stderr"
        }
      ]
    },
    {
      "cell_type": "code",
      "metadata": {
        "colab": {
          "base_uri": "https://localhost:8080/",
          "height": 305
        },
        "id": "gGBQ3cXmUh_6",
        "outputId": "2b0df757-2371-4568-d405-6c5dc1ba9f52"
      },
      "source": [
        "# Building again the dataframe with the balanced X_res reurned from RandomUnderSampler\n",
        "labels_df = ['X', 'Y', 'Z', 'Heart Rate', 'Labels']\n",
        "df = pd.DataFrame(X_res, columns=labels_df)\n",
        "\n",
        "df['Labels'].value_counts().plot(kind='bar',title ='Labels Distribution')"
      ],
      "execution_count": 30,
      "outputs": [
        {
          "output_type": "execute_result",
          "data": {
            "text/plain": [
              "<matplotlib.axes._subplots.AxesSubplot at 0x7f700659fc10>"
            ]
          },
          "metadata": {
            "tags": []
          },
          "execution_count": 30
        },
        {
          "output_type": "display_data",
          "data": {
            "image/png": "[encoded data removed]",
            "text/plain": [
              "<Figure size 432x288 with 1 Axes>"
            ]
          },
          "metadata": {
            "tags": [],
            "needs_background": "light"
          }
        }
      ]
    },
    {
      "cell_type": "markdown",
      "metadata": {
        "id": "dqDXcORDGYDM"
      },
      "source": [
        "##### Exploring feature's distribution and outliers"
      ]
    },
    {
      "cell_type": "code",
      "metadata": {
        "id": "ZdBsAkimo0c2"
      },
      "source": [
        "fig, ax = plt.subplots()\n",
        "fig.set_size_inches(15, 10)\n",
        "ax = sns.boxplot(data=df[['X', 'Y', 'Z']], orient='h')\n",
        "display(ax)"
      ],
      "execution_count": null,
      "outputs": []
    },
    {
      "cell_type": "code",
      "metadata": {
        "id": "FzQwl1uJVwIN"
      },
      "source": [
        "fig, ax = plt.subplots()\n",
        "fig.set_size_inches(15,10)\n",
        "ax = sns.boxplot(data=df[['Heart Rate']],orient='h')\n",
        "display(ax)"
      ],
      "execution_count": null,
      "outputs": []
    },
    {
      "cell_type": "code",
      "metadata": {
        "id": "A5Jfjy33CwqC"
      },
      "source": [
        "sns.pairplot(df[['X', 'Y', 'Z']], kind=\"scatter\", diag_kind= 'kde', height=4)"
      ],
      "execution_count": null,
      "outputs": []
    },
    {
      "cell_type": "code",
      "metadata": {
        "id": "F3a_rpHjPEf6",
        "colab": {
          "base_uri": "https://localhost:8080/",
          "height": 422
        },
        "outputId": "18aff93c-51e5-49b0-e000-58b21f990c33"
      },
      "source": [
        "# Adding derived Features\n",
        "df['movement_x'] = df['X'] - df['X'].shift()\n",
        "df['movement_y'] = df['Y'] - df['Y'].shift()\n",
        "df['movement_z'] = df['Z'] - df['Z'].shift()\n",
        "df['modulo'] = (df['X']**2 + df['Y']**2 + df['Z']**2)**0.5\n",
        "df['modulo_movement'] = (df['movement_x']**2 + df['movement_y']**2 + df['movement_z']**2)**0.5\n",
        "\n",
        "#Other Features\n",
        "df['X**3'] = df['X'] **3\n",
        "df['Y**3'] = df['Y'] **3\n",
        "df['Z**3'] = df['Z'] **3\n",
        "\n",
        "#Reindex 'Labels Column\n",
        "labels = df['Labels']\n",
        "df.drop(['Labels'], axis = 'columns', inplace=True)\n",
        "df['Labels'] = labels\n",
        "\n",
        "df"
      ],
      "execution_count": 31,
      "outputs": [
        {
          "output_type": "execute_result",
          "data": {
            "text/html": [
              "<div>\n",
              "<style scoped>\n",
              "    .dataframe tbody tr th:only-of-type {\n",
              "        vertical-align: middle;\n",
              "    }\n",
              "\n",
              "    .dataframe tbody tr th {\n",
              "        vertical-align: top;\n",
              "    }\n",
              "\n",
              "    .dataframe thead th {\n",
              "        text-align: right;\n",
              "    }\n",
              "</style>\n",
              "<table border=\"1\" class=\"dataframe\">\n",
              "  <thead>\n",
              "    <tr style=\"text-align: right;\">\n",
              "      <th></th>\n",
              "      <th>X</th>\n",
              "      <th>Y</th>\n",
              "      <th>Z</th>\n",
              "      <th>Heart Rate</th>\n",
              "      <th>movement_x</th>\n",
              "      <th>movement_y</th>\n",
              "      <th>movement_z</th>\n",
              "      <th>modulo</th>\n",
              "      <th>modulo_movement</th>\n",
              "      <th>X**3</th>\n",
              "      <th>Y**3</th>\n",
              "      <th>Z**3</th>\n",
              "      <th>Labels</th>\n",
              "    </tr>\n",
              "  </thead>\n",
              "  <tbody>\n",
              "    <tr>\n",
              "      <th>0</th>\n",
              "      <td>0.403351</td>\n",
              "      <td>0.478073</td>\n",
              "      <td>0.794281</td>\n",
              "      <td>54.0</td>\n",
              "      <td>NaN</td>\n",
              "      <td>NaN</td>\n",
              "      <td>NaN</td>\n",
              "      <td>1.011003</td>\n",
              "      <td>NaN</td>\n",
              "      <td>0.065622</td>\n",
              "      <td>0.109265</td>\n",
              "      <td>0.501098</td>\n",
              "      <td>0.0</td>\n",
              "    </tr>\n",
              "    <tr>\n",
              "      <th>1</th>\n",
              "      <td>0.065491</td>\n",
              "      <td>0.635971</td>\n",
              "      <td>0.775345</td>\n",
              "      <td>64.0</td>\n",
              "      <td>-0.337860</td>\n",
              "      <td>0.157898</td>\n",
              "      <td>-0.018936</td>\n",
              "      <td>1.004942</td>\n",
              "      <td>0.373416</td>\n",
              "      <td>0.000281</td>\n",
              "      <td>0.257224</td>\n",
              "      <td>0.466106</td>\n",
              "      <td>0.0</td>\n",
              "    </tr>\n",
              "    <tr>\n",
              "      <th>2</th>\n",
              "      <td>0.084808</td>\n",
              "      <td>0.025360</td>\n",
              "      <td>1.003128</td>\n",
              "      <td>50.0</td>\n",
              "      <td>0.019318</td>\n",
              "      <td>-0.610611</td>\n",
              "      <td>0.227783</td>\n",
              "      <td>1.007026</td>\n",
              "      <td>0.652000</td>\n",
              "      <td>0.000610</td>\n",
              "      <td>0.000016</td>\n",
              "      <td>1.009414</td>\n",
              "      <td>0.0</td>\n",
              "    </tr>\n",
              "    <tr>\n",
              "      <th>3</th>\n",
              "      <td>0.270706</td>\n",
              "      <td>0.571075</td>\n",
              "      <td>0.782044</td>\n",
              "      <td>71.0</td>\n",
              "      <td>0.185898</td>\n",
              "      <td>0.545715</td>\n",
              "      <td>-0.221085</td>\n",
              "      <td>1.005485</td>\n",
              "      <td>0.617448</td>\n",
              "      <td>0.019838</td>\n",
              "      <td>0.186243</td>\n",
              "      <td>0.478292</td>\n",
              "      <td>0.0</td>\n",
              "    </tr>\n",
              "    <tr>\n",
              "      <th>4</th>\n",
              "      <td>0.064545</td>\n",
              "      <td>0.635010</td>\n",
              "      <td>0.775879</td>\n",
              "      <td>66.0</td>\n",
              "      <td>-0.206161</td>\n",
              "      <td>0.063934</td>\n",
              "      <td>-0.006165</td>\n",
              "      <td>1.004685</td>\n",
              "      <td>0.215936</td>\n",
              "      <td>0.000269</td>\n",
              "      <td>0.256060</td>\n",
              "      <td>0.467070</td>\n",
              "      <td>0.0</td>\n",
              "    </tr>\n",
              "    <tr>\n",
              "      <th>...</th>\n",
              "      <td>...</td>\n",
              "      <td>...</td>\n",
              "      <td>...</td>\n",
              "      <td>...</td>\n",
              "      <td>...</td>\n",
              "      <td>...</td>\n",
              "      <td>...</td>\n",
              "      <td>...</td>\n",
              "      <td>...</td>\n",
              "      <td>...</td>\n",
              "      <td>...</td>\n",
              "      <td>...</td>\n",
              "      <td>...</td>\n",
              "    </tr>\n",
              "    <tr>\n",
              "      <th>262290</th>\n",
              "      <td>0.466873</td>\n",
              "      <td>0.047394</td>\n",
              "      <td>0.893829</td>\n",
              "      <td>71.0</td>\n",
              "      <td>0.197250</td>\n",
              "      <td>-0.923798</td>\n",
              "      <td>0.796966</td>\n",
              "      <td>1.009528</td>\n",
              "      <td>1.235907</td>\n",
              "      <td>0.101765</td>\n",
              "      <td>0.000106</td>\n",
              "      <td>0.714108</td>\n",
              "      <td>4.0</td>\n",
              "    </tr>\n",
              "    <tr>\n",
              "      <th>262291</th>\n",
              "      <td>0.010712</td>\n",
              "      <td>0.801681</td>\n",
              "      <td>0.603638</td>\n",
              "      <td>72.0</td>\n",
              "      <td>-0.456161</td>\n",
              "      <td>0.754288</td>\n",
              "      <td>-0.290192</td>\n",
              "      <td>1.003587</td>\n",
              "      <td>0.928033</td>\n",
              "      <td>0.000001</td>\n",
              "      <td>0.515235</td>\n",
              "      <td>0.219953</td>\n",
              "      <td>4.0</td>\n",
              "    </tr>\n",
              "    <tr>\n",
              "      <th>262292</th>\n",
              "      <td>0.083801</td>\n",
              "      <td>0.097076</td>\n",
              "      <td>0.993133</td>\n",
              "      <td>50.0</td>\n",
              "      <td>0.073090</td>\n",
              "      <td>-0.704605</td>\n",
              "      <td>0.389496</td>\n",
              "      <td>1.001379</td>\n",
              "      <td>0.808404</td>\n",
              "      <td>0.000589</td>\n",
              "      <td>0.000915</td>\n",
              "      <td>0.979542</td>\n",
              "      <td>4.0</td>\n",
              "    </tr>\n",
              "    <tr>\n",
              "      <th>262293</th>\n",
              "      <td>0.229446</td>\n",
              "      <td>0.732407</td>\n",
              "      <td>0.646591</td>\n",
              "      <td>60.0</td>\n",
              "      <td>0.145645</td>\n",
              "      <td>0.635330</td>\n",
              "      <td>-0.346542</td>\n",
              "      <td>1.003566</td>\n",
              "      <td>0.738206</td>\n",
              "      <td>0.012079</td>\n",
              "      <td>0.392877</td>\n",
              "      <td>0.270327</td>\n",
              "      <td>4.0</td>\n",
              "    </tr>\n",
              "    <tr>\n",
              "      <th>262294</th>\n",
              "      <td>0.349609</td>\n",
              "      <td>0.140183</td>\n",
              "      <td>0.925476</td>\n",
              "      <td>65.0</td>\n",
              "      <td>0.120163</td>\n",
              "      <td>-0.592224</td>\n",
              "      <td>0.278885</td>\n",
              "      <td>0.999192</td>\n",
              "      <td>0.665541</td>\n",
              "      <td>0.042732</td>\n",
              "      <td>0.002755</td>\n",
              "      <td>0.792676</td>\n",
              "      <td>4.0</td>\n",
              "    </tr>\n",
              "  </tbody>\n",
              "</table>\n",
              "<p>262295 rows × 13 columns</p>\n",
              "</div>"
            ],
            "text/plain": [
              "               X         Y         Z  ...      Y**3      Z**3  Labels\n",
              "0       0.403351  0.478073  0.794281  ...  0.109265  0.501098     0.0\n",
              "1       0.065491  0.635971  0.775345  ...  0.257224  0.466106     0.0\n",
              "2       0.084808  0.025360  1.003128  ...  0.000016  1.009414     0.0\n",
              "3       0.270706  0.571075  0.782044  ...  0.186243  0.478292     0.0\n",
              "4       0.064545  0.635010  0.775879  ...  0.256060  0.467070     0.0\n",
              "...          ...       ...       ...  ...       ...       ...     ...\n",
              "262290  0.466873  0.047394  0.893829  ...  0.000106  0.714108     4.0\n",
              "262291  0.010712  0.801681  0.603638  ...  0.515235  0.219953     4.0\n",
              "262292  0.083801  0.097076  0.993133  ...  0.000915  0.979542     4.0\n",
              "262293  0.229446  0.732407  0.646591  ...  0.392877  0.270327     4.0\n",
              "262294  0.349609  0.140183  0.925476  ...  0.002755  0.792676     4.0\n",
              "\n",
              "[262295 rows x 13 columns]"
            ]
          },
          "metadata": {
            "tags": []
          },
          "execution_count": 31
        }
      ]
    },
    {
      "cell_type": "markdown",
      "metadata": {
        "id": "d0fpFoRKhMKH"
      },
      "source": [
        "# Autofeat"
      ]
    },
    {
      "cell_type": "code",
      "metadata": {
        "id": "qym0IUFtzAI7"
      },
      "source": [
        "#AUTOFEAT\n",
        "labels = df['Labels']\n",
        "\n",
        "df_feature = df.drop('Labels', axis=1).fillna(0)\n",
        "target = labels\n",
        "\n",
        "for steps in range(2):\n",
        "    print(\"### AutoFeat with %i feateng_steps\" % steps)\n",
        "    # afreg = AutoFeatClassifier(verbose=1, feateng_steps=steps)\n",
        "    afreg = AutoFeatRegressor(verbose=1, feateng_steps=steps)\n",
        "    df = afreg.fit_transform(df_feature, target)\n",
        "    r2 = afreg.score(df_feature, target)\n",
        "    print(\"## Final R^2: %.4f\" % r2)\n",
        "    \n",
        "df['Labels'] = labels\n",
        "\n",
        "# Final processed dataset\n",
        "df"
      ],
      "execution_count": null,
      "outputs": []
    },
    {
      "cell_type": "markdown",
      "metadata": {
        "id": "ZFLniYeveeSk"
      },
      "source": [
        "# Normalize"
      ]
    },
    {
      "cell_type": "code",
      "metadata": {
        "id": "_HuqLTBNjWhZ"
      },
      "source": [
        "# Normalizing ALL Features\n",
        "\n",
        "for feature_name in df.loc[:, df.columns != 'Labels']:\n",
        "    max_value = df[feature_name].max()\n",
        "    min_value = df[feature_name].min()\n",
        "    #df[feature_name] = (df[feature_name] - min_value) / (max_value - min_value)\n",
        "    df[feature_name] = df[feature_name] / max_value\n",
        "\n",
        "    # Round numbers (4 decimals)\n",
        "    df[feature_name] = df[feature_name].round(4)\n",
        "\n",
        "df"
      ],
      "execution_count": 34,
      "outputs": []
    },
    {
      "cell_type": "markdown",
      "metadata": {
        "id": "oC7ObCbBZ_1-"
      },
      "source": [
        "# Split Dataset\n",
        "Train, Validation and Test\n",
        "\n",
        "Split the data\n",
        "We'll use a (70%, 20%, 10%) split for the training, validation, and test sets. Note the data is not being randomly shuffled before splitting. This is for two reasons.\n",
        "\n",
        "It ensures that chopping the data into windows of consecutive samples is still possible.\n",
        "It ensures that the validation/test results are more realistic, being evaluated on data collected after the model was trained.\n",
        "\n",
        "***ANOTHER SPLITING OPTION WOULD BE TO SEPARATE USERS (Crear nueva columna con nombre usuario?? O manejar cada CSV por separado??)***\n",
        "\n",
        "\n",
        "\n"
      ]
    },
    {
      "cell_type": "code",
      "metadata": {
        "id": "Kg14HBtM92rm"
      },
      "source": [
        "def split_dataset(df, percentage_train, percentage_val, seed=42):\n",
        "\n",
        "    assert percentage_train + percentage_val < 1, 'Percentage given for splitting not correct'\n",
        "\n",
        "    np.random.seed(seed)\n",
        "    perm = np.random.permutation(df.index)\n",
        "    total_rows = len(df.index)\n",
        "\n",
        "    train_end = int(percentage_train * total_rows)\n",
        "    validate_end = int(percentage_val * total_rows) + train_end\n",
        "\n",
        "    train = df.iloc[perm[:train_end]]\n",
        "    validate = df.iloc[perm[train_end:validate_end]]\n",
        "    test = df.iloc[perm[validate_end:]]\n",
        "\n",
        "    return train, validate, test"
      ],
      "execution_count": 36,
      "outputs": []
    },
    {
      "cell_type": "code",
      "metadata": {
        "id": "DUcpsQLZaKOE"
      },
      "source": [
        "train_df, val_df, test_df = split_dataset(df, 0.7, 0.2)\n",
        "\n",
        "assert len(train_df) + len(val_df) + len(test_df) == df.shape[0], 'The split does not match'"
      ],
      "execution_count": 37,
      "outputs": []
    },
    {
      "cell_type": "markdown",
      "metadata": {
        "id": "aYGO3D4b7btV"
      },
      "source": [
        "# Reshape Data into Segments and Prepare for Keras\n",
        "The data contained in the dataframe is not ready yet to be fed into a neural network. Therefore we need to reshape it. Let’s create another function for this called “create_segments_and_labels”. This function will take in the dataframe and the label names."
      ]
    },
    {
      "cell_type": "code",
      "metadata": {
        "id": "2jOMBw867eW2"
      },
      "source": [
        "def create_segments_and_labels(dataframe):\n",
        "\n",
        "    labels = dataframe.iloc[:,-1:]\n",
        "    segments = dataframe.iloc[:,:-1]\n",
        "    # dataframe.iloc[:,:12]  # from 0 to 12 columns, all the rows\n",
        "\n",
        "    return segments, labels"
      ],
      "execution_count": 38,
      "outputs": []
    },
    {
      "cell_type": "code",
      "metadata": {
        "id": "ODyG2FBGAGd6"
      },
      "source": [
        "# x --> Features\n",
        "# y --> Labels\n",
        "   \n",
        "x_train, y_train = create_segments_and_labels(train_df)\n",
        "x_val, y_val = create_segments_and_labels(val_df)\n",
        "x_test, y_test = create_segments_and_labels(test_df)\n",
        "\n",
        "assert x_train.shape[0] == len(y_train)\n",
        "assert x_val.shape[0] == len(y_val)\n",
        "assert x_test.shape[0] == len(y_test)"
      ],
      "execution_count": 39,
      "outputs": []
    },
    {
      "cell_type": "markdown",
      "metadata": {
        "id": "mCXw2xaUJQ_l"
      },
      "source": [
        "# Deep Neural Network Model in Keras\n"
      ]
    },
    {
      "cell_type": "code",
      "metadata": {
        "id": "KJ5ywCqflQi0"
      },
      "source": [
        "# Prepare labels data \n",
        "# Needed ONLY for categorical_crossentropy loss function\n",
        "y_train = to_categorical(y_train)\n",
        "y_val = to_categorical(y_val)\n",
        "y_test = to_categorical(y_test)  "
      ],
      "execution_count": 40,
      "outputs": []
    },
    {
      "cell_type": "code",
      "metadata": {
        "colab": {
          "base_uri": "https://localhost:8080/"
        },
        "id": "-DyMELaTeUqD",
        "outputId": "1bebf1ce-c70a-419a-af11-ac6037d82030"
      },
      "source": [
        "# define the keras model\n",
        "num_classes = 5\n",
        "\n",
        "model = Sequential()\n",
        "model.add(Dense(64, input_dim=x_train.shape[1], activation='relu'))\n",
        "model.add(Dense(64, activation='relu'))\n",
        "model.add(Dense(64, activation='relu'))\n",
        "model.add(Dropout(0.2))\n",
        "model.add(Dense(num_classes, activation='softmax')) # The last layer corresponds with the number of possible outputs\n",
        "\n",
        "# compile the keras model\n",
        "# opt = SGD(learning_rate=0.01, momentum=0.9)\n",
        "\n",
        "# model.compile(loss='sparse_categorical_crossentropy', optimizer='adam', metrics=['accuracy'])\n",
        "model.compile(loss='categorical_crossentropy', optimizer='adam', metrics=['accuracy'])\n",
        "\n",
        "model.summary()"
      ],
      "execution_count": 41,
      "outputs": [
        {
          "output_type": "stream",
          "text": [
            "Model: \"sequential_1\"\n",
            "_________________________________________________________________\n",
            "Layer (type)                 Output Shape              Param #   \n",
            "=================================================================\n",
            "dense_4 (Dense)              (None, 64)                832       \n",
            "_________________________________________________________________\n",
            "dense_5 (Dense)              (None, 64)                4160      \n",
            "_________________________________________________________________\n",
            "dense_6 (Dense)              (None, 64)                4160      \n",
            "_________________________________________________________________\n",
            "dropout_1 (Dropout)          (None, 64)                0         \n",
            "_________________________________________________________________\n",
            "dense_7 (Dense)              (None, 5)                 325       \n",
            "=================================================================\n",
            "Total params: 9,477\n",
            "Trainable params: 9,477\n",
            "Non-trainable params: 0\n",
            "_________________________________________________________________\n"
          ],
          "name": "stdout"
        }
      ]
    },
    {
      "cell_type": "markdown",
      "metadata": {
        "id": "z7L-f61Kr9Qm"
      },
      "source": [
        "Train Model"
      ]
    },
    {
      "cell_type": "code",
      "metadata": {
        "id": "O1byX-NigRhU",
        "colab": {
          "base_uri": "https://localhost:8080/",
          "height": 958
        },
        "outputId": "1e4271cd-38d7-417b-c570-f35256f05bd2"
      },
      "source": [
        "# fit the keras model on the dataset\n",
        "history = model.fit(x_train, y_train, validation_data=(x_val, y_val), epochs=150, batch_size=180, verbose=1)"
      ],
      "execution_count": 42,
      "outputs": [
        {
          "output_type": "stream",
          "text": [
            "Epoch 1/150\n",
            "1021/1021 [==============================] - 4s 3ms/step - loss: nan - accuracy: 0.3707 - val_loss: nan - val_accuracy: 0.2002\n",
            "Epoch 2/150\n",
            "1021/1021 [==============================] - 3s 3ms/step - loss: nan - accuracy: 0.1993 - val_loss: nan - val_accuracy: 0.2002\n",
            "Epoch 3/150\n",
            "1021/1021 [==============================] - 3s 3ms/step - loss: nan - accuracy: 0.1979 - val_loss: nan - val_accuracy: 0.2002\n",
            "Epoch 4/150\n",
            "1021/1021 [==============================] - 3s 3ms/step - loss: nan - accuracy: 0.2001 - val_loss: nan - val_accuracy: 0.2002\n",
            "Epoch 5/150\n",
            "1021/1021 [==============================] - 3s 3ms/step - loss: nan - accuracy: 0.2004 - val_loss: nan - val_accuracy: 0.2002\n",
            "Epoch 6/150\n",
            "1021/1021 [==============================] - 3s 3ms/step - loss: nan - accuracy: 0.1993 - val_loss: nan - val_accuracy: 0.2002\n",
            "Epoch 7/150\n",
            "1021/1021 [==============================] - 3s 3ms/step - loss: nan - accuracy: 0.2016 - val_loss: nan - val_accuracy: 0.2002\n",
            "Epoch 8/150\n",
            "1021/1021 [==============================] - 3s 3ms/step - loss: nan - accuracy: 0.1999 - val_loss: nan - val_accuracy: 0.2002\n",
            "Epoch 9/150\n",
            "1021/1021 [==============================] - 3s 3ms/step - loss: nan - accuracy: 0.2003 - val_loss: nan - val_accuracy: 0.2002\n",
            "Epoch 10/150\n",
            "1021/1021 [==============================] - 3s 3ms/step - loss: nan - accuracy: 0.2004 - val_loss: nan - val_accuracy: 0.2002\n",
            "Epoch 11/150\n",
            "1021/1021 [==============================] - 3s 3ms/step - loss: nan - accuracy: 0.1991 - val_loss: nan - val_accuracy: 0.2002\n",
            "Epoch 12/150\n",
            "1021/1021 [==============================] - 3s 3ms/step - loss: nan - accuracy: 0.1989 - val_loss: nan - val_accuracy: 0.2002\n",
            "Epoch 13/150\n",
            "1021/1021 [==============================] - 3s 3ms/step - loss: nan - accuracy: 0.1980 - val_loss: nan - val_accuracy: 0.2002\n",
            "Epoch 14/150\n",
            "1021/1021 [==============================] - 3s 3ms/step - loss: nan - accuracy: 0.1995 - val_loss: nan - val_accuracy: 0.2002\n",
            "Epoch 15/150\n",
            "1021/1021 [==============================] - 3s 3ms/step - loss: nan - accuracy: 0.2005 - val_loss: nan - val_accuracy: 0.2002\n",
            "Epoch 16/150\n",
            "1021/1021 [==============================] - 3s 3ms/step - loss: nan - accuracy: 0.2003 - val_loss: nan - val_accuracy: 0.2002\n",
            "Epoch 17/150\n",
            " 125/1021 [==>...........................] - ETA: 2s - loss: nan - accuracy: 0.1955"
          ],
          "name": "stdout"
        },
        {
          "output_type": "error",
          "ename": "KeyboardInterrupt",
          "evalue": "ignored",
          "traceback": [
            "\u001b[0;31m---------------------------------------------------------------------------\u001b[0m",
            "\u001b[0;31mKeyboardInterrupt\u001b[0m                         Traceback (most recent call last)",
            "\u001b[0;32m<ipython-input-42-5028ebd1983d>\u001b[0m in \u001b[0;36m<module>\u001b[0;34m()\u001b[0m\n\u001b[1;32m      1\u001b[0m \u001b[0;31m# fit the keras model on the dataset\u001b[0m\u001b[0;34m\u001b[0m\u001b[0;34m\u001b[0m\u001b[0;34m\u001b[0m\u001b[0m\n\u001b[0;32m----> 2\u001b[0;31m \u001b[0mhistory\u001b[0m \u001b[0;34m=\u001b[0m \u001b[0mmodel\u001b[0m\u001b[0;34m.\u001b[0m\u001b[0mfit\u001b[0m\u001b[0;34m(\u001b[0m\u001b[0mx_train\u001b[0m\u001b[0;34m,\u001b[0m \u001b[0my_train\u001b[0m\u001b[0;34m,\u001b[0m \u001b[0mvalidation_data\u001b[0m\u001b[0;34m=\u001b[0m\u001b[0;34m(\u001b[0m\u001b[0mx_val\u001b[0m\u001b[0;34m,\u001b[0m \u001b[0my_val\u001b[0m\u001b[0;34m)\u001b[0m\u001b[0;34m,\u001b[0m \u001b[0mepochs\u001b[0m\u001b[0;34m=\u001b[0m\u001b[0;36m150\u001b[0m\u001b[0;34m,\u001b[0m \u001b[0mbatch_size\u001b[0m\u001b[0;34m=\u001b[0m\u001b[0;36m180\u001b[0m\u001b[0;34m,\u001b[0m \u001b[0mverbose\u001b[0m\u001b[0;34m=\u001b[0m\u001b[0;36m1\u001b[0m\u001b[0;34m)\u001b[0m\u001b[0;34m\u001b[0m\u001b[0;34m\u001b[0m\u001b[0m\n\u001b[0m",
            "\u001b[0;32m/usr/local/lib/python3.7/dist-packages/keras/engine/training.py\u001b[0m in \u001b[0;36mfit\u001b[0;34m(self, x, y, batch_size, epochs, verbose, callbacks, validation_split, validation_data, shuffle, class_weight, sample_weight, initial_epoch, steps_per_epoch, validation_steps, validation_batch_size, validation_freq, max_queue_size, workers, use_multiprocessing)\u001b[0m\n\u001b[1;32m   1161\u001b[0m               \u001b[0mlogs\u001b[0m \u001b[0;34m=\u001b[0m \u001b[0mtmp_logs\u001b[0m  \u001b[0;31m# No error, now safe to assign to logs.\u001b[0m\u001b[0;34m\u001b[0m\u001b[0;34m\u001b[0m\u001b[0m\n\u001b[1;32m   1162\u001b[0m               \u001b[0mend_step\u001b[0m \u001b[0;34m=\u001b[0m \u001b[0mstep\u001b[0m \u001b[0;34m+\u001b[0m \u001b[0mdata_handler\u001b[0m\u001b[0;34m.\u001b[0m\u001b[0mstep_increment\u001b[0m\u001b[0;34m\u001b[0m\u001b[0;34m\u001b[0m\u001b[0m\n\u001b[0;32m-> 1163\u001b[0;31m               \u001b[0mcallbacks\u001b[0m\u001b[0;34m.\u001b[0m\u001b[0mon_train_batch_end\u001b[0m\u001b[0;34m(\u001b[0m\u001b[0mend_step\u001b[0m\u001b[0;34m,\u001b[0m \u001b[0mlogs\u001b[0m\u001b[0;34m)\u001b[0m\u001b[0;34m\u001b[0m\u001b[0;34m\u001b[0m\u001b[0m\n\u001b[0m\u001b[1;32m   1164\u001b[0m               \u001b[0;32mif\u001b[0m \u001b[0mself\u001b[0m\u001b[0;34m.\u001b[0m\u001b[0mstop_training\u001b[0m\u001b[0;34m:\u001b[0m\u001b[0;34m\u001b[0m\u001b[0;34m\u001b[0m\u001b[0m\n\u001b[1;32m   1165\u001b[0m                 \u001b[0;32mbreak\u001b[0m\u001b[0;34m\u001b[0m\u001b[0;34m\u001b[0m\u001b[0m\n",
            "\u001b[0;32m/usr/local/lib/python3.7/dist-packages/keras/callbacks.py\u001b[0m in \u001b[0;36mon_train_batch_end\u001b[0;34m(self, batch, logs)\u001b[0m\n\u001b[1;32m    434\u001b[0m     \"\"\"\n\u001b[1;32m    435\u001b[0m     \u001b[0;32mif\u001b[0m \u001b[0mself\u001b[0m\u001b[0;34m.\u001b[0m\u001b[0m_should_call_train_batch_hooks\u001b[0m\u001b[0;34m:\u001b[0m\u001b[0;34m\u001b[0m\u001b[0;34m\u001b[0m\u001b[0m\n\u001b[0;32m--> 436\u001b[0;31m       \u001b[0mself\u001b[0m\u001b[0;34m.\u001b[0m\u001b[0m_call_batch_hook\u001b[0m\u001b[0;34m(\u001b[0m\u001b[0mModeKeys\u001b[0m\u001b[0;34m.\u001b[0m\u001b[0mTRAIN\u001b[0m\u001b[0;34m,\u001b[0m \u001b[0;34m'end'\u001b[0m\u001b[0;34m,\u001b[0m \u001b[0mbatch\u001b[0m\u001b[0;34m,\u001b[0m \u001b[0mlogs\u001b[0m\u001b[0;34m=\u001b[0m\u001b[0mlogs\u001b[0m\u001b[0;34m)\u001b[0m\u001b[0;34m\u001b[0m\u001b[0;34m\u001b[0m\u001b[0m\n\u001b[0m\u001b[1;32m    437\u001b[0m \u001b[0;34m\u001b[0m\u001b[0m\n\u001b[1;32m    438\u001b[0m   \u001b[0;32mdef\u001b[0m \u001b[0mon_test_batch_begin\u001b[0m\u001b[0;34m(\u001b[0m\u001b[0mself\u001b[0m\u001b[0;34m,\u001b[0m \u001b[0mbatch\u001b[0m\u001b[0;34m,\u001b[0m \u001b[0mlogs\u001b[0m\u001b[0;34m=\u001b[0m\u001b[0;32mNone\u001b[0m\u001b[0;34m)\u001b[0m\u001b[0;34m:\u001b[0m\u001b[0;34m\u001b[0m\u001b[0;34m\u001b[0m\u001b[0m\n",
            "\u001b[0;32m/usr/local/lib/python3.7/dist-packages/keras/callbacks.py\u001b[0m in \u001b[0;36m_call_batch_hook\u001b[0;34m(self, mode, hook, batch, logs)\u001b[0m\n\u001b[1;32m    276\u001b[0m       \u001b[0mself\u001b[0m\u001b[0;34m.\u001b[0m\u001b[0m_call_batch_begin_hook\u001b[0m\u001b[0;34m(\u001b[0m\u001b[0mmode\u001b[0m\u001b[0;34m,\u001b[0m \u001b[0mbatch\u001b[0m\u001b[0;34m,\u001b[0m \u001b[0mlogs\u001b[0m\u001b[0;34m)\u001b[0m\u001b[0;34m\u001b[0m\u001b[0;34m\u001b[0m\u001b[0m\n\u001b[1;32m    277\u001b[0m     \u001b[0;32melif\u001b[0m \u001b[0mhook\u001b[0m \u001b[0;34m==\u001b[0m \u001b[0;34m'end'\u001b[0m\u001b[0;34m:\u001b[0m\u001b[0;34m\u001b[0m\u001b[0;34m\u001b[0m\u001b[0m\n\u001b[0;32m--> 278\u001b[0;31m       \u001b[0mself\u001b[0m\u001b[0;34m.\u001b[0m\u001b[0m_call_batch_end_hook\u001b[0m\u001b[0;34m(\u001b[0m\u001b[0mmode\u001b[0m\u001b[0;34m,\u001b[0m \u001b[0mbatch\u001b[0m\u001b[0;34m,\u001b[0m \u001b[0mlogs\u001b[0m\u001b[0;34m)\u001b[0m\u001b[0;34m\u001b[0m\u001b[0;34m\u001b[0m\u001b[0m\n\u001b[0m\u001b[1;32m    279\u001b[0m     \u001b[0;32melse\u001b[0m\u001b[0;34m:\u001b[0m\u001b[0;34m\u001b[0m\u001b[0;34m\u001b[0m\u001b[0m\n\u001b[1;32m    280\u001b[0m       \u001b[0;32mraise\u001b[0m \u001b[0mValueError\u001b[0m\u001b[0;34m(\u001b[0m\u001b[0;34m'Unrecognized hook: {}'\u001b[0m\u001b[0;34m.\u001b[0m\u001b[0mformat\u001b[0m\u001b[0;34m(\u001b[0m\u001b[0mhook\u001b[0m\u001b[0;34m)\u001b[0m\u001b[0;34m)\u001b[0m\u001b[0;34m\u001b[0m\u001b[0;34m\u001b[0m\u001b[0m\n",
            "\u001b[0;32m/usr/local/lib/python3.7/dist-packages/keras/callbacks.py\u001b[0m in \u001b[0;36m_call_batch_end_hook\u001b[0;34m(self, mode, batch, logs)\u001b[0m\n\u001b[1;32m    296\u001b[0m       \u001b[0mself\u001b[0m\u001b[0;34m.\u001b[0m\u001b[0m_batch_times\u001b[0m\u001b[0;34m.\u001b[0m\u001b[0mappend\u001b[0m\u001b[0;34m(\u001b[0m\u001b[0mbatch_time\u001b[0m\u001b[0;34m)\u001b[0m\u001b[0;34m\u001b[0m\u001b[0;34m\u001b[0m\u001b[0m\n\u001b[1;32m    297\u001b[0m \u001b[0;34m\u001b[0m\u001b[0m\n\u001b[0;32m--> 298\u001b[0;31m     \u001b[0mself\u001b[0m\u001b[0;34m.\u001b[0m\u001b[0m_call_batch_hook_helper\u001b[0m\u001b[0;34m(\u001b[0m\u001b[0mhook_name\u001b[0m\u001b[0;34m,\u001b[0m \u001b[0mbatch\u001b[0m\u001b[0;34m,\u001b[0m \u001b[0mlogs\u001b[0m\u001b[0;34m)\u001b[0m\u001b[0;34m\u001b[0m\u001b[0;34m\u001b[0m\u001b[0m\n\u001b[0m\u001b[1;32m    299\u001b[0m \u001b[0;34m\u001b[0m\u001b[0m\n\u001b[1;32m    300\u001b[0m     \u001b[0;32mif\u001b[0m \u001b[0mlen\u001b[0m\u001b[0;34m(\u001b[0m\u001b[0mself\u001b[0m\u001b[0;34m.\u001b[0m\u001b[0m_batch_times\u001b[0m\u001b[0;34m)\u001b[0m \u001b[0;34m>=\u001b[0m \u001b[0mself\u001b[0m\u001b[0;34m.\u001b[0m\u001b[0m_num_batches_for_timing_check\u001b[0m\u001b[0;34m:\u001b[0m\u001b[0;34m\u001b[0m\u001b[0;34m\u001b[0m\u001b[0m\n",
            "\u001b[0;32m/usr/local/lib/python3.7/dist-packages/keras/callbacks.py\u001b[0m in \u001b[0;36m_call_batch_hook_helper\u001b[0;34m(self, hook_name, batch, logs)\u001b[0m\n\u001b[1;32m    336\u001b[0m       \u001b[0mhook\u001b[0m \u001b[0;34m=\u001b[0m \u001b[0mgetattr\u001b[0m\u001b[0;34m(\u001b[0m\u001b[0mcallback\u001b[0m\u001b[0;34m,\u001b[0m \u001b[0mhook_name\u001b[0m\u001b[0;34m)\u001b[0m\u001b[0;34m\u001b[0m\u001b[0;34m\u001b[0m\u001b[0m\n\u001b[1;32m    337\u001b[0m       \u001b[0;32mif\u001b[0m \u001b[0mgetattr\u001b[0m\u001b[0;34m(\u001b[0m\u001b[0mcallback\u001b[0m\u001b[0;34m,\u001b[0m \u001b[0;34m'_supports_tf_logs'\u001b[0m\u001b[0;34m,\u001b[0m \u001b[0;32mFalse\u001b[0m\u001b[0;34m)\u001b[0m\u001b[0;34m:\u001b[0m\u001b[0;34m\u001b[0m\u001b[0;34m\u001b[0m\u001b[0m\n\u001b[0;32m--> 338\u001b[0;31m         \u001b[0mhook\u001b[0m\u001b[0;34m(\u001b[0m\u001b[0mbatch\u001b[0m\u001b[0;34m,\u001b[0m \u001b[0mlogs\u001b[0m\u001b[0;34m)\u001b[0m\u001b[0;34m\u001b[0m\u001b[0;34m\u001b[0m\u001b[0m\n\u001b[0m\u001b[1;32m    339\u001b[0m       \u001b[0;32melse\u001b[0m\u001b[0;34m:\u001b[0m\u001b[0;34m\u001b[0m\u001b[0;34m\u001b[0m\u001b[0m\n\u001b[1;32m    340\u001b[0m         \u001b[0;32mif\u001b[0m \u001b[0mnumpy_logs\u001b[0m \u001b[0;32mis\u001b[0m \u001b[0;32mNone\u001b[0m\u001b[0;34m:\u001b[0m  \u001b[0;31m# Only convert once.\u001b[0m\u001b[0;34m\u001b[0m\u001b[0;34m\u001b[0m\u001b[0m\n",
            "\u001b[0;32m/usr/local/lib/python3.7/dist-packages/keras/callbacks.py\u001b[0m in \u001b[0;36mon_train_batch_end\u001b[0;34m(self, batch, logs)\u001b[0m\n\u001b[1;32m   1042\u001b[0m \u001b[0;34m\u001b[0m\u001b[0m\n\u001b[1;32m   1043\u001b[0m   \u001b[0;32mdef\u001b[0m \u001b[0mon_train_batch_end\u001b[0m\u001b[0;34m(\u001b[0m\u001b[0mself\u001b[0m\u001b[0;34m,\u001b[0m \u001b[0mbatch\u001b[0m\u001b[0;34m,\u001b[0m \u001b[0mlogs\u001b[0m\u001b[0;34m=\u001b[0m\u001b[0;32mNone\u001b[0m\u001b[0;34m)\u001b[0m\u001b[0;34m:\u001b[0m\u001b[0;34m\u001b[0m\u001b[0;34m\u001b[0m\u001b[0m\n\u001b[0;32m-> 1044\u001b[0;31m     \u001b[0mself\u001b[0m\u001b[0;34m.\u001b[0m\u001b[0m_batch_update_progbar\u001b[0m\u001b[0;34m(\u001b[0m\u001b[0mbatch\u001b[0m\u001b[0;34m,\u001b[0m \u001b[0mlogs\u001b[0m\u001b[0;34m)\u001b[0m\u001b[0;34m\u001b[0m\u001b[0;34m\u001b[0m\u001b[0m\n\u001b[0m\u001b[1;32m   1045\u001b[0m \u001b[0;34m\u001b[0m\u001b[0m\n\u001b[1;32m   1046\u001b[0m   \u001b[0;32mdef\u001b[0m \u001b[0mon_test_batch_end\u001b[0m\u001b[0;34m(\u001b[0m\u001b[0mself\u001b[0m\u001b[0;34m,\u001b[0m \u001b[0mbatch\u001b[0m\u001b[0;34m,\u001b[0m \u001b[0mlogs\u001b[0m\u001b[0;34m=\u001b[0m\u001b[0;32mNone\u001b[0m\u001b[0;34m)\u001b[0m\u001b[0;34m:\u001b[0m\u001b[0;34m\u001b[0m\u001b[0;34m\u001b[0m\u001b[0m\n",
            "\u001b[0;32m/usr/local/lib/python3.7/dist-packages/keras/callbacks.py\u001b[0m in \u001b[0;36m_batch_update_progbar\u001b[0;34m(self, batch, logs)\u001b[0m\n\u001b[1;32m   1106\u001b[0m     \u001b[0;32mif\u001b[0m \u001b[0mself\u001b[0m\u001b[0;34m.\u001b[0m\u001b[0mverbose\u001b[0m \u001b[0;34m==\u001b[0m \u001b[0;36m1\u001b[0m\u001b[0;34m:\u001b[0m\u001b[0;34m\u001b[0m\u001b[0;34m\u001b[0m\u001b[0m\n\u001b[1;32m   1107\u001b[0m       \u001b[0;31m# Only block async when verbose = 1.\u001b[0m\u001b[0;34m\u001b[0m\u001b[0;34m\u001b[0m\u001b[0;34m\u001b[0m\u001b[0m\n\u001b[0;32m-> 1108\u001b[0;31m       \u001b[0mlogs\u001b[0m \u001b[0;34m=\u001b[0m \u001b[0mtf_utils\u001b[0m\u001b[0;34m.\u001b[0m\u001b[0msync_to_numpy_or_python_type\u001b[0m\u001b[0;34m(\u001b[0m\u001b[0mlogs\u001b[0m\u001b[0;34m)\u001b[0m\u001b[0;34m\u001b[0m\u001b[0;34m\u001b[0m\u001b[0m\n\u001b[0m\u001b[1;32m   1109\u001b[0m       \u001b[0mself\u001b[0m\u001b[0;34m.\u001b[0m\u001b[0mprogbar\u001b[0m\u001b[0;34m.\u001b[0m\u001b[0mupdate\u001b[0m\u001b[0;34m(\u001b[0m\u001b[0mself\u001b[0m\u001b[0;34m.\u001b[0m\u001b[0mseen\u001b[0m\u001b[0;34m,\u001b[0m \u001b[0mlist\u001b[0m\u001b[0;34m(\u001b[0m\u001b[0mlogs\u001b[0m\u001b[0;34m.\u001b[0m\u001b[0mitems\u001b[0m\u001b[0;34m(\u001b[0m\u001b[0;34m)\u001b[0m\u001b[0;34m)\u001b[0m\u001b[0;34m,\u001b[0m \u001b[0mfinalize\u001b[0m\u001b[0;34m=\u001b[0m\u001b[0;32mFalse\u001b[0m\u001b[0;34m)\u001b[0m\u001b[0;34m\u001b[0m\u001b[0;34m\u001b[0m\u001b[0m\n\u001b[1;32m   1110\u001b[0m \u001b[0;34m\u001b[0m\u001b[0m\n",
            "\u001b[0;32m/usr/local/lib/python3.7/dist-packages/keras/utils/tf_utils.py\u001b[0m in \u001b[0;36msync_to_numpy_or_python_type\u001b[0;34m(tensors)\u001b[0m\n\u001b[1;32m    505\u001b[0m     \u001b[0;32mreturn\u001b[0m \u001b[0mt\u001b[0m  \u001b[0;31m# Don't turn ragged or sparse tensors to NumPy.\u001b[0m\u001b[0;34m\u001b[0m\u001b[0;34m\u001b[0m\u001b[0m\n\u001b[1;32m    506\u001b[0m \u001b[0;34m\u001b[0m\u001b[0m\n\u001b[0;32m--> 507\u001b[0;31m   \u001b[0;32mreturn\u001b[0m \u001b[0mtf\u001b[0m\u001b[0;34m.\u001b[0m\u001b[0mnest\u001b[0m\u001b[0;34m.\u001b[0m\u001b[0mmap_structure\u001b[0m\u001b[0;34m(\u001b[0m\u001b[0m_to_single_numpy_or_python_type\u001b[0m\u001b[0;34m,\u001b[0m \u001b[0mtensors\u001b[0m\u001b[0;34m)\u001b[0m\u001b[0;34m\u001b[0m\u001b[0;34m\u001b[0m\u001b[0m\n\u001b[0m\u001b[1;32m    508\u001b[0m \u001b[0;34m\u001b[0m\u001b[0m\n\u001b[1;32m    509\u001b[0m \u001b[0;34m\u001b[0m\u001b[0m\n",
            "\u001b[0;32m/usr/local/lib/python3.7/dist-packages/tensorflow/python/util/nest.py\u001b[0m in \u001b[0;36mmap_structure\u001b[0;34m(func, *structure, **kwargs)\u001b[0m\n\u001b[1;32m    865\u001b[0m \u001b[0;34m\u001b[0m\u001b[0m\n\u001b[1;32m    866\u001b[0m   return pack_sequence_as(\n\u001b[0;32m--> 867\u001b[0;31m       \u001b[0mstructure\u001b[0m\u001b[0;34m[\u001b[0m\u001b[0;36m0\u001b[0m\u001b[0;34m]\u001b[0m\u001b[0;34m,\u001b[0m \u001b[0;34m[\u001b[0m\u001b[0mfunc\u001b[0m\u001b[0;34m(\u001b[0m\u001b[0;34m*\u001b[0m\u001b[0mx\u001b[0m\u001b[0;34m)\u001b[0m \u001b[0;32mfor\u001b[0m \u001b[0mx\u001b[0m \u001b[0;32min\u001b[0m \u001b[0mentries\u001b[0m\u001b[0;34m]\u001b[0m\u001b[0;34m,\u001b[0m\u001b[0;34m\u001b[0m\u001b[0;34m\u001b[0m\u001b[0m\n\u001b[0m\u001b[1;32m    868\u001b[0m       expand_composites=expand_composites)\n\u001b[1;32m    869\u001b[0m \u001b[0;34m\u001b[0m\u001b[0m\n",
            "\u001b[0;32m/usr/local/lib/python3.7/dist-packages/tensorflow/python/util/nest.py\u001b[0m in \u001b[0;36m<listcomp>\u001b[0;34m(.0)\u001b[0m\n\u001b[1;32m    865\u001b[0m \u001b[0;34m\u001b[0m\u001b[0m\n\u001b[1;32m    866\u001b[0m   return pack_sequence_as(\n\u001b[0;32m--> 867\u001b[0;31m       \u001b[0mstructure\u001b[0m\u001b[0;34m[\u001b[0m\u001b[0;36m0\u001b[0m\u001b[0;34m]\u001b[0m\u001b[0;34m,\u001b[0m \u001b[0;34m[\u001b[0m\u001b[0mfunc\u001b[0m\u001b[0;34m(\u001b[0m\u001b[0;34m*\u001b[0m\u001b[0mx\u001b[0m\u001b[0;34m)\u001b[0m \u001b[0;32mfor\u001b[0m \u001b[0mx\u001b[0m \u001b[0;32min\u001b[0m \u001b[0mentries\u001b[0m\u001b[0;34m]\u001b[0m\u001b[0;34m,\u001b[0m\u001b[0;34m\u001b[0m\u001b[0;34m\u001b[0m\u001b[0m\n\u001b[0m\u001b[1;32m    868\u001b[0m       expand_composites=expand_composites)\n\u001b[1;32m    869\u001b[0m \u001b[0;34m\u001b[0m\u001b[0m\n",
            "\u001b[0;32m/usr/local/lib/python3.7/dist-packages/keras/utils/tf_utils.py\u001b[0m in \u001b[0;36m_to_single_numpy_or_python_type\u001b[0;34m(t)\u001b[0m\n\u001b[1;32m    501\u001b[0m   \u001b[0;32mdef\u001b[0m \u001b[0m_to_single_numpy_or_python_type\u001b[0m\u001b[0;34m(\u001b[0m\u001b[0mt\u001b[0m\u001b[0;34m)\u001b[0m\u001b[0;34m:\u001b[0m\u001b[0;34m\u001b[0m\u001b[0;34m\u001b[0m\u001b[0m\n\u001b[1;32m    502\u001b[0m     \u001b[0;32mif\u001b[0m \u001b[0misinstance\u001b[0m\u001b[0;34m(\u001b[0m\u001b[0mt\u001b[0m\u001b[0;34m,\u001b[0m \u001b[0mtf\u001b[0m\u001b[0;34m.\u001b[0m\u001b[0mTensor\u001b[0m\u001b[0;34m)\u001b[0m\u001b[0;34m:\u001b[0m\u001b[0;34m\u001b[0m\u001b[0;34m\u001b[0m\u001b[0m\n\u001b[0;32m--> 503\u001b[0;31m       \u001b[0mx\u001b[0m \u001b[0;34m=\u001b[0m \u001b[0mt\u001b[0m\u001b[0;34m.\u001b[0m\u001b[0mnumpy\u001b[0m\u001b[0;34m(\u001b[0m\u001b[0;34m)\u001b[0m\u001b[0;34m\u001b[0m\u001b[0;34m\u001b[0m\u001b[0m\n\u001b[0m\u001b[1;32m    504\u001b[0m       \u001b[0;32mreturn\u001b[0m \u001b[0mx\u001b[0m\u001b[0;34m.\u001b[0m\u001b[0mitem\u001b[0m\u001b[0;34m(\u001b[0m\u001b[0;34m)\u001b[0m \u001b[0;32mif\u001b[0m \u001b[0mnp\u001b[0m\u001b[0;34m.\u001b[0m\u001b[0mndim\u001b[0m\u001b[0;34m(\u001b[0m\u001b[0mx\u001b[0m\u001b[0;34m)\u001b[0m \u001b[0;34m==\u001b[0m \u001b[0;36m0\u001b[0m \u001b[0;32melse\u001b[0m \u001b[0mx\u001b[0m\u001b[0;34m\u001b[0m\u001b[0;34m\u001b[0m\u001b[0m\n\u001b[1;32m    505\u001b[0m     \u001b[0;32mreturn\u001b[0m \u001b[0mt\u001b[0m  \u001b[0;31m# Don't turn ragged or sparse tensors to NumPy.\u001b[0m\u001b[0;34m\u001b[0m\u001b[0;34m\u001b[0m\u001b[0m\n",
            "\u001b[0;32m/usr/local/lib/python3.7/dist-packages/tensorflow/python/framework/ops.py\u001b[0m in \u001b[0;36mnumpy\u001b[0;34m(self)\u001b[0m\n\u001b[1;32m   1092\u001b[0m     \"\"\"\n\u001b[1;32m   1093\u001b[0m     \u001b[0;31m# TODO(slebedev): Consider avoiding a copy for non-CPU or remote tensors.\u001b[0m\u001b[0;34m\u001b[0m\u001b[0;34m\u001b[0m\u001b[0;34m\u001b[0m\u001b[0m\n\u001b[0;32m-> 1094\u001b[0;31m     \u001b[0mmaybe_arr\u001b[0m \u001b[0;34m=\u001b[0m \u001b[0mself\u001b[0m\u001b[0;34m.\u001b[0m\u001b[0m_numpy\u001b[0m\u001b[0;34m(\u001b[0m\u001b[0;34m)\u001b[0m  \u001b[0;31m# pylint: disable=protected-access\u001b[0m\u001b[0;34m\u001b[0m\u001b[0;34m\u001b[0m\u001b[0m\n\u001b[0m\u001b[1;32m   1095\u001b[0m     \u001b[0;32mreturn\u001b[0m \u001b[0mmaybe_arr\u001b[0m\u001b[0;34m.\u001b[0m\u001b[0mcopy\u001b[0m\u001b[0;34m(\u001b[0m\u001b[0;34m)\u001b[0m \u001b[0;32mif\u001b[0m \u001b[0misinstance\u001b[0m\u001b[0;34m(\u001b[0m\u001b[0mmaybe_arr\u001b[0m\u001b[0;34m,\u001b[0m \u001b[0mnp\u001b[0m\u001b[0;34m.\u001b[0m\u001b[0mndarray\u001b[0m\u001b[0;34m)\u001b[0m \u001b[0;32melse\u001b[0m \u001b[0mmaybe_arr\u001b[0m\u001b[0;34m\u001b[0m\u001b[0;34m\u001b[0m\u001b[0m\n\u001b[1;32m   1096\u001b[0m \u001b[0;34m\u001b[0m\u001b[0m\n",
            "\u001b[0;32m/usr/local/lib/python3.7/dist-packages/tensorflow/python/framework/ops.py\u001b[0m in \u001b[0;36m_numpy\u001b[0;34m(self)\u001b[0m\n\u001b[1;32m   1058\u001b[0m   \u001b[0;32mdef\u001b[0m \u001b[0m_numpy\u001b[0m\u001b[0;34m(\u001b[0m\u001b[0mself\u001b[0m\u001b[0;34m)\u001b[0m\u001b[0;34m:\u001b[0m\u001b[0;34m\u001b[0m\u001b[0;34m\u001b[0m\u001b[0m\n\u001b[1;32m   1059\u001b[0m     \u001b[0;32mtry\u001b[0m\u001b[0;34m:\u001b[0m\u001b[0;34m\u001b[0m\u001b[0;34m\u001b[0m\u001b[0m\n\u001b[0;32m-> 1060\u001b[0;31m       \u001b[0;32mreturn\u001b[0m \u001b[0mself\u001b[0m\u001b[0;34m.\u001b[0m\u001b[0m_numpy_internal\u001b[0m\u001b[0;34m(\u001b[0m\u001b[0;34m)\u001b[0m\u001b[0;34m\u001b[0m\u001b[0;34m\u001b[0m\u001b[0m\n\u001b[0m\u001b[1;32m   1061\u001b[0m     \u001b[0;32mexcept\u001b[0m \u001b[0mcore\u001b[0m\u001b[0;34m.\u001b[0m\u001b[0m_NotOkStatusException\u001b[0m \u001b[0;32mas\u001b[0m \u001b[0me\u001b[0m\u001b[0;34m:\u001b[0m  \u001b[0;31m# pylint: disable=protected-access\u001b[0m\u001b[0;34m\u001b[0m\u001b[0;34m\u001b[0m\u001b[0m\n\u001b[1;32m   1062\u001b[0m       \u001b[0msix\u001b[0m\u001b[0;34m.\u001b[0m\u001b[0mraise_from\u001b[0m\u001b[0;34m(\u001b[0m\u001b[0mcore\u001b[0m\u001b[0;34m.\u001b[0m\u001b[0m_status_to_exception\u001b[0m\u001b[0;34m(\u001b[0m\u001b[0me\u001b[0m\u001b[0;34m.\u001b[0m\u001b[0mcode\u001b[0m\u001b[0;34m,\u001b[0m \u001b[0me\u001b[0m\u001b[0;34m.\u001b[0m\u001b[0mmessage\u001b[0m\u001b[0;34m)\u001b[0m\u001b[0;34m,\u001b[0m \u001b[0;32mNone\u001b[0m\u001b[0;34m)\u001b[0m  \u001b[0;31m# pylint: disable=protected-access\u001b[0m\u001b[0;34m\u001b[0m\u001b[0;34m\u001b[0m\u001b[0m\n",
            "\u001b[0;31mKeyboardInterrupt\u001b[0m: "
          ]
        }
      ]
    },
    {
      "cell_type": "markdown",
      "metadata": {
        "id": "b7wDeVitsAE-"
      },
      "source": [
        "# Evaluate Model on Test Data"
      ]
    },
    {
      "cell_type": "code",
      "metadata": {
        "id": "6Ew4p3YooK3m"
      },
      "source": [
        "# evaluate the model\n",
        "test_loss, test_acc = model.evaluate(x_test, y_test)\n",
        "\n",
        "print(\"Test accuracy\", test_acc)\n",
        "print(\"Test loss\", test_loss)"
      ],
      "execution_count": null,
      "outputs": []
    },
    {
      "cell_type": "code",
      "metadata": {
        "colab": {
          "base_uri": "https://localhost:8080/",
          "height": 573
        },
        "id": "EfMvpYkxYYU4",
        "outputId": "aa292e80-35d5-46a3-9789-8368ad50abbd"
      },
      "source": [
        "# summarize history for accuracy\n",
        "plt.plot(history.history['accuracy'])\n",
        "plt.plot(history.history['val_accuracy'])\n",
        "plt.title('model accuracy')\n",
        "plt.ylabel('accuracy')\n",
        "plt.xlabel('epoch')\n",
        "plt.legend(['train', 'validation'], loc='upper left')\n",
        "plt.show()\n",
        "# summarize history for loss\n",
        "plt.plot(history.history['loss'])\n",
        "plt.plot(history.history['val_loss'])\n",
        "plt.title('model loss')\n",
        "plt.ylabel('loss')\n",
        "plt.xlabel('epoch')\n",
        "plt.legend(['train', 'validation'], loc='upper left')\n",
        "plt.show()"
      ],
      "execution_count": 18,
      "outputs": [
        {
          "output_type": "display_data",
          "data": {
            "image/png": "[encoded data removed]",
            "text/plain": [
              "<Figure size 432x288 with 1 Axes>"
            ]
          },
          "metadata": {
            "tags": [],
            "needs_background": "light"
          }
        },
        {
          "output_type": "display_data",
          "data": {
            "image/png": "[encoded data removed]",
            "text/plain": [
              "<Figure size 432x288 with 1 Axes>"
            ]
          },
          "metadata": {
            "tags": [],
            "needs_background": "light"
          }
        }
      ]
    },
    {
      "cell_type": "markdown",
      "metadata": {
        "id": "8Nxau1E-x3gN"
      },
      "source": [
        "Confusion Matrix"
      ]
    },
    {
      "cell_type": "code",
      "metadata": {
        "id": "Otmx1tX8jli6"
      },
      "source": [
        "predictions = history.model.predict(x_test)"
      ],
      "execution_count": null,
      "outputs": []
    },
    {
      "cell_type": "code",
      "metadata": {
        "id": "R-DL4ZbCnS0s"
      },
      "source": [
        "guess = 0\n",
        "\n",
        "to_predict = len(y_test)\n",
        "\n",
        "for index in range(to_predict):\n",
        "    if np.argmax(predictions[index]) == np.argmax(y_test[index]):\n",
        "        guess += 1\n",
        "\n",
        "# np.argmax(predictions[index]), np.argmax(y_test[index])\n",
        "print(\"Guessed: {:.2f}%\".format(guess/to_predict*100))"
      ],
      "execution_count": null,
      "outputs": []
    },
    {
      "cell_type": "code",
      "metadata": {
        "id": "WQvwXcUWu5qY"
      },
      "source": [
        "def show_confusion_matrix(validations, predictions):\n",
        "\n",
        "    matrix = metrics.confusion_matrix(validations, predictions)\n",
        "    plt.figure(figsize=(6, 4))\n",
        "    sns.heatmap(matrix,\n",
        "                cmap='coolwarm',\n",
        "                linecolor='white',\n",
        "                linewidths=1,\n",
        "                #xticklabels=LABELS,\n",
        "                #yticklabels='0','1','2',\n",
        "                annot=True,\n",
        "                fmt='d')\n",
        "    plt.title('Confusion Matrix')\n",
        "    plt.ylabel('True Label')\n",
        "    plt.xlabel('Predicted Label')\n",
        "    plt.show()"
      ],
      "execution_count": null,
      "outputs": []
    },
    {
      "cell_type": "code",
      "metadata": {
        "colab": {
          "base_uri": "https://localhost:8080/",
          "height": 569
        },
        "id": "pOuDDvS2u-cd",
        "outputId": "8cdc51a6-1bb1-4fbf-d6d8-c221d3728d2a"
      },
      "source": [
        "y_pred_test = model.predict(x_test)\n",
        "# Take the class with the highest probability from the test predictions\n",
        "max_y_pred_test = np.argmax(y_pred_test, axis=1)\n",
        "max_y_test = np.argmax(y_test, axis=1)\n",
        "\n",
        "show_confusion_matrix(max_y_test, max_y_pred_test)\n",
        "\n",
        "print(classification_report(max_y_test, max_y_pred_test))"
      ],
      "execution_count": 22,
      "outputs": [
        {
          "output_type": "display_data",
          "data": {
            "image/png": "[encoded data removed]",
            "text/plain": [
              "<Figure size 432x288 with 2 Axes>"
            ]
          },
          "metadata": {
            "tags": [],
            "needs_background": "light"
          }
        },
        {
          "output_type": "stream",
          "text": [
            "              precision    recall  f1-score   support\n",
            "\n",
            "           0       0.20      1.00      0.34      5316\n",
            "           1       0.00      0.00      0.00      5203\n",
            "           2       0.00      0.00      0.00      5321\n",
            "           3       0.00      0.00      0.00      5170\n",
            "           4       0.00      0.00      0.00      5220\n",
            "\n",
            "    accuracy                           0.20     26230\n",
            "   macro avg       0.04      0.20      0.07     26230\n",
            "weighted avg       0.04      0.20      0.07     26230\n",
            "\n"
          ],
          "name": "stdout"
        },
        {
          "output_type": "stream",
          "text": [
            "/usr/local/lib/python3.7/dist-packages/sklearn/metrics/_classification.py:1272: UndefinedMetricWarning: Precision and F-score are ill-defined and being set to 0.0 in labels with no predicted samples. Use `zero_division` parameter to control this behavior.\n",
            "  _warn_prf(average, modifier, msg_start, len(result))\n"
          ],
          "name": "stderr"
        }
      ]
    },
    {
      "cell_type": "markdown",
      "metadata": {
        "id": "Bm_F9L2umUnx"
      },
      "source": [
        "# Predictions"
      ]
    },
    {
      "cell_type": "code",
      "metadata": {
        "id": "-3AwFe0E7aPG"
      },
      "source": [
        "# test the trained model with the full x_test\n",
        "predictions = model.predict(x_test)"
      ],
      "execution_count": null,
      "outputs": []
    },
    {
      "cell_type": "code",
      "metadata": {
        "id": "frOwP6RL7ghF"
      },
      "source": [
        "predictions[0], y_test[0]"
      ],
      "execution_count": null,
      "outputs": []
    },
    {
      "cell_type": "code",
      "metadata": {
        "id": "Tnjgb73S7yDd"
      },
      "source": [
        "predictions[500], y_test[500]"
      ],
      "execution_count": null,
      "outputs": []
    },
    {
      "cell_type": "code",
      "metadata": {
        "id": "gi4CQeJA707J"
      },
      "source": [
        "predictions[800], y_test[800]"
      ],
      "execution_count": null,
      "outputs": []
    },
    {
      "cell_type": "code",
      "metadata": {
        "id": "9KWU4Uyi723q"
      },
      "source": [
        "predictions[1200], y_test[1200]"
      ],
      "execution_count": null,
      "outputs": []
    },
    {
      "cell_type": "code",
      "metadata": {
        "id": "LevQdew074E-"
      },
      "source": [
        "predictions[2000], y_test[2000] # bad prediction"
      ],
      "execution_count": null,
      "outputs": []
    },
    {
      "cell_type": "code",
      "metadata": {
        "id": "qMCdP_Dk8GXX"
      },
      "source": [
        "predictions[2400], y_test[2400]"
      ],
      "execution_count": null,
      "outputs": []
    },
    {
      "cell_type": "code",
      "metadata": {
        "id": "pssKjwnzT2Kw"
      },
      "source": [
        "for i in range(2000):\n",
        "    predictions[i]"
      ],
      "execution_count": null,
      "outputs": []
    }
  ]
}