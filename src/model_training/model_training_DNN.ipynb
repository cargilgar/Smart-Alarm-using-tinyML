{
  "nbformat": 4,
  "nbformat_minor": 0,
  "metadata": {
    "accelerator": "GPU",
    "colab": {
      "name": "model_training.ipynb",
      "provenance": [],
      "collapsed_sections": []
    },
    "kernelspec": {
      "display_name": "Python 3",
      "language": "python",
      "name": "python3"
    },
    "language_info": {
      "codemirror_mode": {
        "name": "ipython",
        "version": 3
      },
      "file_extension": ".py",
      "mimetype": "text/x-python",
      "name": "python",
      "nbconvert_exporter": "python",
      "pygments_lexer": "ipython3",
      "version": "3.8.5"
    }
  },
  "cells": [
    {
      "cell_type": "code",
      "metadata": {
        "id": "5iB8fV6iWeQs",
        "colab": {
          "base_uri": "https://localhost:8080/"
        },
        "outputId": "db144b65-1623-4516-e2d7-487858251825"
      },
      "source": [
        "import pandas as pd\n",
        "import numpy as np\n",
        "import tensorflow as tf\n",
        "import matplotlib.pyplot as plt\n",
        "import os\n",
        "import re\n",
        "import glob\n",
        "import seaborn as sns\n",
        "from numpy import mean\n",
        "from numpy import std\n",
        "from scipy import stats\n",
        "from tensorflow import keras\n",
        "from tensorflow.keras import layers\n",
        "from keras.models import Sequential\n",
        "from keras.callbacks import History \n",
        "from keras.layers import Dense\n",
        "from keras.layers import Dropout\n",
        "from keras.layers import Flatten\n",
        "from keras.optimizers import SGD\n",
        "from keras.utils.np_utils import to_categorical\n",
        "from sklearn import metrics\n",
        "from sklearn.metrics import classification_report\n",
        "\n",
        "!pip install autofeat\n",
        "from autofeat import FeatureSelector, AutoFeatRegressor"
      ],
      "execution_count": 1,
      "outputs": [
        {
          "output_type": "stream",
          "text": [
            "Collecting autofeat\n",
            "  Downloading https://files.pythonhosted.org/packages/b6/1f/646b76a27f975e562930fb93b51b4f37c1f498ee674042ecabe543196114/autofeat-2.0.9-py3-none-any.whl\n",
            "Requirement already satisfied: numpy in /usr/local/lib/python3.7/dist-packages (from autofeat) (1.19.5)\n",
            "Requirement already satisfied: future in /usr/local/lib/python3.7/dist-packages (from autofeat) (0.16.0)\n",
            "Requirement already satisfied: numba in /usr/local/lib/python3.7/dist-packages (from autofeat) (0.51.2)\n",
            "Requirement already satisfied: pandas>=0.24.0 in /usr/local/lib/python3.7/dist-packages (from autofeat) (1.1.5)\n",
            "Requirement already satisfied: scikit-learn in /usr/local/lib/python3.7/dist-packages (from autofeat) (0.22.2.post1)\n",
            "Requirement already satisfied: sympy>=1.7.1 in /usr/local/lib/python3.7/dist-packages (from autofeat) (1.7.1)\n",
            "Requirement already satisfied: joblib in /usr/local/lib/python3.7/dist-packages (from autofeat) (1.0.1)\n",
            "Collecting pint\n",
            "\u001b[?25l  Downloading https://files.pythonhosted.org/packages/33/de/53a77b82553579affab7438d299f850acbc1c4dd741c5ce52594513cb0ef/Pint-0.17-py2.py3-none-any.whl (204kB)\n",
            "\u001b[K     |████████████████████████████████| 215kB 9.8MB/s \n",
            "\u001b[?25hRequirement already satisfied: setuptools in /usr/local/lib/python3.7/dist-packages (from numba->autofeat) (57.0.0)\n",
            "Requirement already satisfied: llvmlite<0.35,>=0.34.0.dev0 in /usr/local/lib/python3.7/dist-packages (from numba->autofeat) (0.34.0)\n",
            "Requirement already satisfied: python-dateutil>=2.7.3 in /usr/local/lib/python3.7/dist-packages (from pandas>=0.24.0->autofeat) (2.8.1)\n",
            "Requirement already satisfied: pytz>=2017.2 in /usr/local/lib/python3.7/dist-packages (from pandas>=0.24.0->autofeat) (2018.9)\n",
            "Requirement already satisfied: scipy>=0.17.0 in /usr/local/lib/python3.7/dist-packages (from scikit-learn->autofeat) (1.4.1)\n",
            "Requirement already satisfied: mpmath>=0.19 in /usr/local/lib/python3.7/dist-packages (from sympy>=1.7.1->autofeat) (1.2.1)\n",
            "Requirement already satisfied: packaging in /usr/local/lib/python3.7/dist-packages (from pint->autofeat) (20.9)\n",
            "Requirement already satisfied: importlib-metadata; python_version < \"3.8\" in /usr/local/lib/python3.7/dist-packages (from pint->autofeat) (4.6.0)\n",
            "Requirement already satisfied: six>=1.5 in /usr/local/lib/python3.7/dist-packages (from python-dateutil>=2.7.3->pandas>=0.24.0->autofeat) (1.15.0)\n",
            "Requirement already satisfied: pyparsing>=2.0.2 in /usr/local/lib/python3.7/dist-packages (from packaging->pint->autofeat) (2.4.7)\n",
            "Requirement already satisfied: typing-extensions>=3.6.4; python_version < \"3.8\" in /usr/local/lib/python3.7/dist-packages (from importlib-metadata; python_version < \"3.8\"->pint->autofeat) (3.7.4.3)\n",
            "Requirement already satisfied: zipp>=0.5 in /usr/local/lib/python3.7/dist-packages (from importlib-metadata; python_version < \"3.8\"->pint->autofeat) (3.4.1)\n",
            "Installing collected packages: pint, autofeat\n",
            "Successfully installed autofeat-2.0.9 pint-0.17\n"
          ],
          "name": "stdout"
        }
      ]
    },
    {
      "cell_type": "markdown",
      "metadata": {
        "id": "1R0wTJdcZzA9"
      },
      "source": [
        "# Load Dataset\n",
        "\n",
        "Load Dataset, concatenate data and count Rows and Columns"
      ]
    },
    {
      "cell_type": "code",
      "metadata": {
        "id": "uge8UaRLVvuT",
        "colab": {
          "base_uri": "https://localhost:8080/"
        },
        "outputId": "0105ba3d-74fd-4088-af9c-4b806d9443ec"
      },
      "source": [
        "# Download dataset from Github and unzip\n",
        "!wget 'https://github.com/cargilgar/Smart-Alarm-using-tinyML/raw/main/dataset/dataset-1-15.zip'\n",
        "\n",
        "!unzip dataset-1-15.zip"
      ],
      "execution_count": 2,
      "outputs": [
        {
          "output_type": "stream",
          "text": [
            "--2021-07-13 19:02:56--  https://github.com/cargilgar/Smart-Alarm-using-tinyML/raw/main/dataset/dataset-1-15.zip\n",
            "Resolving github.com (github.com)... 192.30.255.113\n",
            "Connecting to github.com (github.com)|192.30.255.113|:443... connected.\n",
            "HTTP request sent, awaiting response... 302 Found\n",
            "Location: https://raw.githubusercontent.com/cargilgar/Smart-Alarm-using-tinyML/main/dataset/dataset-1-15.zip [following]\n",
            "--2021-07-13 19:02:56--  https://raw.githubusercontent.com/cargilgar/Smart-Alarm-using-tinyML/main/dataset/dataset-1-15.zip\n",
            "Resolving raw.githubusercontent.com (raw.githubusercontent.com)... 185.199.108.133, 185.199.110.133, 185.199.109.133, ...\n",
            "Connecting to raw.githubusercontent.com (raw.githubusercontent.com)|185.199.108.133|:443... connected.\n",
            "HTTP request sent, awaiting response... 200 OK\n",
            "Length: 1075278 (1.0M) [application/zip]\n",
            "Saving to: ‘dataset-1-15.zip’\n",
            "\n",
            "dataset-1-15.zip    100%[===================>]   1.03M  --.-KB/s    in 0.06s   \n",
            "\n",
            "2021-07-13 19:02:56 (17.6 MB/s) - ‘dataset-1-15.zip’ saved [1075278/1075278]\n",
            "\n",
            "Archive:  dataset-1-15.zip\n",
            "   creating: content/output/\n",
            "  inflating: content/output/dataset_844359.csv  \n",
            "  inflating: content/output/dataset_5383425.csv  \n",
            "  inflating: content/output/dataset_9106476.csv  \n",
            "  inflating: content/output/dataset_9618981.csv  \n",
            "  inflating: content/output/dataset_4426783.csv  \n",
            "  inflating: content/output/dataset_6220552.csv  \n",
            "  inflating: content/output/dataset_7749105.csv  \n",
            "  inflating: content/output/dataset_4018081.csv  \n",
            "  inflating: content/output/dataset_1449548.csv  \n",
            "  inflating: content/output/dataset_8530312.csv  \n",
            "  inflating: content/output/dataset_1818471.csv  \n",
            "  inflating: content/output/dataset_46343.csv  \n",
            "  inflating: content/output/dataset_3509524.csv  \n",
            "  inflating: content/output/dataset_9961348.csv  \n",
            "  inflating: content/output/dataset_1455390.csv  \n",
            "  inflating: content/output/dataset_1360686.csv  \n",
            "  inflating: content/output/dataset_5797046.csv  \n",
            "  inflating: content/output/dataset_4314139.csv  \n",
            "  inflating: content/output/dataset_759667.csv  \n",
            "  inflating: content/output/dataset_2638030.csv  \n",
            "  inflating: content/output/dataset_8000685.csv  \n",
            "  inflating: content/output/dataset_1066528.csv  \n",
            "  inflating: content/output/dataset_781756.csv  \n",
            "  inflating: content/output/dataset_3997827.csv  \n",
            "  inflating: content/output/dataset_8258170.csv  \n",
            "  inflating: content/output/dataset_8686948.csv  \n",
            "  inflating: content/output/dataset_2598705.csv  \n",
            "  inflating: content/output/dataset_8692923.csv  \n",
            "  inflating: content/output/dataset_8173033.csv  \n",
            "  inflating: content/output/dataset_5498603.csv  \n",
            "  inflating: content/output/dataset_5132496.csv  \n"
          ],
          "name": "stdout"
        }
      ]
    },
    {
      "cell_type": "code",
      "metadata": {
        "colab": {
          "base_uri": "https://localhost:8080/",
          "height": 453
        },
        "id": "q_LRVocyimd2",
        "outputId": "a6655481-c301-4e91-a719-04596663c7da"
      },
      "source": [
        "#Create full dataframe with all subject csv's concatenated\n",
        "path = r'content/output/'\n",
        "all_files = glob.glob(path + '/*.csv')\n",
        "\n",
        "li = []\n",
        "acc_rows = 0\n",
        "\n",
        "for filename in all_files:\n",
        "    subject_csv = pd.read_csv(filename, index_col=False)\n",
        "    acc_rows += len(subject_csv.axes[0])\n",
        "\n",
        "    li.append(subject_csv)\n",
        "\n",
        "df = pd.concat(li, axis=0, ignore_index=True)\n",
        "\n",
        "\n",
        "#Save big dataframe as CSV\n",
        "# df.to_csv('all_users_df.csv')\n",
        "\n",
        "#Rows and Columns\n",
        "total_rows = len(df.axes[0]) #===> Axes of 0 is for a row\n",
        "total_cols = len(df.axes[1]) #===> Axes of 1 is for a column\n",
        "print('Number of Rows: ', total_rows)\n",
        "print('Number of Columns: ', total_cols)\n",
        "\n",
        "assert total_rows == acc_rows, 'Number of rows does not match'\n",
        "\n",
        "df"
      ],
      "execution_count": 3,
      "outputs": [
        {
          "output_type": "stream",
          "text": [
            "Number of Rows:  51376\n",
            "Number of Columns:  6\n"
          ],
          "name": "stdout"
        },
        {
          "output_type": "execute_result",
          "data": {
            "text/html": [
              "<div>\n",
              "<style scoped>\n",
              "    .dataframe tbody tr th:only-of-type {\n",
              "        vertical-align: middle;\n",
              "    }\n",
              "\n",
              "    .dataframe tbody tr th {\n",
              "        vertical-align: top;\n",
              "    }\n",
              "\n",
              "    .dataframe thead th {\n",
              "        text-align: right;\n",
              "    }\n",
              "</style>\n",
              "<table border=\"1\" class=\"dataframe\">\n",
              "  <thead>\n",
              "    <tr style=\"text-align: right;\">\n",
              "      <th></th>\n",
              "      <th>Time</th>\n",
              "      <th>X</th>\n",
              "      <th>Y</th>\n",
              "      <th>Z</th>\n",
              "      <th>Heart Rate</th>\n",
              "      <th>Labels</th>\n",
              "    </tr>\n",
              "  </thead>\n",
              "  <tbody>\n",
              "    <tr>\n",
              "      <th>0</th>\n",
              "      <td>15.0</td>\n",
              "      <td>6.933624</td>\n",
              "      <td>8.631882</td>\n",
              "      <td>10.414185</td>\n",
              "      <td>66.500000</td>\n",
              "      <td>0.0</td>\n",
              "    </tr>\n",
              "    <tr>\n",
              "      <th>1</th>\n",
              "      <td>30.0</td>\n",
              "      <td>6.883118</td>\n",
              "      <td>8.280243</td>\n",
              "      <td>10.591522</td>\n",
              "      <td>58.666667</td>\n",
              "      <td>0.0</td>\n",
              "    </tr>\n",
              "    <tr>\n",
              "      <th>2</th>\n",
              "      <td>45.0</td>\n",
              "      <td>7.963013</td>\n",
              "      <td>9.202042</td>\n",
              "      <td>10.543854</td>\n",
              "      <td>59.666667</td>\n",
              "      <td>0.0</td>\n",
              "    </tr>\n",
              "    <tr>\n",
              "      <th>3</th>\n",
              "      <td>60.0</td>\n",
              "      <td>11.098343</td>\n",
              "      <td>10.792572</td>\n",
              "      <td>7.813614</td>\n",
              "      <td>62.333333</td>\n",
              "      <td>0.0</td>\n",
              "    </tr>\n",
              "    <tr>\n",
              "      <th>4</th>\n",
              "      <td>75.0</td>\n",
              "      <td>15.782639</td>\n",
              "      <td>14.174042</td>\n",
              "      <td>15.158157</td>\n",
              "      <td>75.000000</td>\n",
              "      <td>0.0</td>\n",
              "    </tr>\n",
              "    <tr>\n",
              "      <th>...</th>\n",
              "      <td>...</td>\n",
              "      <td>...</td>\n",
              "      <td>...</td>\n",
              "      <td>...</td>\n",
              "      <td>...</td>\n",
              "      <td>...</td>\n",
              "    </tr>\n",
              "    <tr>\n",
              "      <th>51371</th>\n",
              "      <td>28935.0</td>\n",
              "      <td>0.598740</td>\n",
              "      <td>4.131027</td>\n",
              "      <td>14.391388</td>\n",
              "      <td>77.333333</td>\n",
              "      <td>2.0</td>\n",
              "    </tr>\n",
              "    <tr>\n",
              "      <th>51372</th>\n",
              "      <td>28950.0</td>\n",
              "      <td>0.588120</td>\n",
              "      <td>4.096314</td>\n",
              "      <td>14.406677</td>\n",
              "      <td>76.333333</td>\n",
              "      <td>2.0</td>\n",
              "    </tr>\n",
              "    <tr>\n",
              "      <th>51373</th>\n",
              "      <td>28965.0</td>\n",
              "      <td>0.592926</td>\n",
              "      <td>4.098755</td>\n",
              "      <td>14.406494</td>\n",
              "      <td>73.666667</td>\n",
              "      <td>-1.0</td>\n",
              "    </tr>\n",
              "    <tr>\n",
              "      <th>51374</th>\n",
              "      <td>28980.0</td>\n",
              "      <td>0.595917</td>\n",
              "      <td>4.114441</td>\n",
              "      <td>14.397644</td>\n",
              "      <td>70.000000</td>\n",
              "      <td>-1.0</td>\n",
              "    </tr>\n",
              "    <tr>\n",
              "      <th>51375</th>\n",
              "      <td>28995.0</td>\n",
              "      <td>0.595047</td>\n",
              "      <td>4.127136</td>\n",
              "      <td>14.389480</td>\n",
              "      <td>70.333333</td>\n",
              "      <td>-1.0</td>\n",
              "    </tr>\n",
              "  </tbody>\n",
              "</table>\n",
              "<p>51376 rows × 6 columns</p>\n",
              "</div>"
            ],
            "text/plain": [
              "          Time          X          Y          Z  Heart Rate  Labels\n",
              "0         15.0   6.933624   8.631882  10.414185   66.500000     0.0\n",
              "1         30.0   6.883118   8.280243  10.591522   58.666667     0.0\n",
              "2         45.0   7.963013   9.202042  10.543854   59.666667     0.0\n",
              "3         60.0  11.098343  10.792572   7.813614   62.333333     0.0\n",
              "4         75.0  15.782639  14.174042  15.158157   75.000000     0.0\n",
              "...        ...        ...        ...        ...         ...     ...\n",
              "51371  28935.0   0.598740   4.131027  14.391388   77.333333     2.0\n",
              "51372  28950.0   0.588120   4.096314  14.406677   76.333333     2.0\n",
              "51373  28965.0   0.592926   4.098755  14.406494   73.666667    -1.0\n",
              "51374  28980.0   0.595917   4.114441  14.397644   70.000000    -1.0\n",
              "51375  28995.0   0.595047   4.127136  14.389480   70.333333    -1.0\n",
              "\n",
              "[51376 rows x 6 columns]"
            ]
          },
          "metadata": {
            "tags": []
          },
          "execution_count": 3
        }
      ]
    },
    {
      "cell_type": "code",
      "metadata": {
        "id": "bLWLWzEc_eMe"
      },
      "source": [
        "# Read full dataframe CSV (without downloading data)\n",
        "# df = pd.read_csv('all_users_df.csv')\n",
        "# df"
      ],
      "execution_count": null,
      "outputs": []
    },
    {
      "cell_type": "markdown",
      "metadata": {
        "id": "CtZo1KmbpU6R"
      },
      "source": [
        "##EDA"
      ]
    },
    {
      "cell_type": "code",
      "metadata": {
        "colab": {
          "base_uri": "https://localhost:8080/",
          "height": 609
        },
        "id": "ZdBsAkimo0c2",
        "outputId": "cc0e7132-9fc0-4b71-c027-42e4b60c1d5d"
      },
      "source": [
        "fig, ax = plt.subplots()\n",
        "fig.set_size_inches(15,10)\n",
        "ax = sns.boxplot(data=df[['X', 'Y', 'Z','Heart Rate']],orient='h')\n",
        "display(ax)"
      ],
      "execution_count": 4,
      "outputs": [
        {
          "output_type": "display_data",
          "data": {
            "text/plain": [
              "<matplotlib.axes._subplots.AxesSubplot at 0x7fbf4bd62510>"
            ]
          },
          "metadata": {
            "tags": []
          }
        },
        {
          "output_type": "display_data",
          "data": {
            "image/png": "[encoded data removed]",
            "text/plain": [
              "<Figure size 1080x720 with 1 Axes>"
            ]
          },
          "metadata": {
            "tags": [],
            "needs_background": "light"
          }
        }
      ]
    },
    {
      "cell_type": "code",
      "metadata": {
        "id": "HXVU2MCwrsl0"
      },
      "source": [
        "sns.pairplot(df[['X', 'Y', 'Z']], kind=\"scatter\", diag_kind= 'kde', height=4)"
      ],
      "execution_count": null,
      "outputs": []
    },
    {
      "cell_type": "code",
      "metadata": {
        "colab": {
          "base_uri": "https://localhost:8080/",
          "height": 419
        },
        "id": "nW6AKmvdpZBg",
        "outputId": "4af4d384-0c67-457d-8ad3-c3bdb4947d55"
      },
      "source": [
        "df['movement_x'] = df['X'] - df['X'].shift()\n",
        "df['movement_y'] = df['Y'] - df['Y'].shift()\n",
        "df['movement_z'] = df['Z'] - df['Z'].shift()\n",
        "df['modulo'] = (df['X']**2 + df['Y']**2 + df['Z']**2)**0.5\n",
        "df['modulo_movement'] = (df['movement_x']**2 + df['movement_y']**2 + df['movement_z']**2)**0.5\n",
        "\n",
        "df"
      ],
      "execution_count": 4,
      "outputs": [
        {
          "output_type": "execute_result",
          "data": {
            "text/html": [
              "<div>\n",
              "<style scoped>\n",
              "    .dataframe tbody tr th:only-of-type {\n",
              "        vertical-align: middle;\n",
              "    }\n",
              "\n",
              "    .dataframe tbody tr th {\n",
              "        vertical-align: top;\n",
              "    }\n",
              "\n",
              "    .dataframe thead th {\n",
              "        text-align: right;\n",
              "    }\n",
              "</style>\n",
              "<table border=\"1\" class=\"dataframe\">\n",
              "  <thead>\n",
              "    <tr style=\"text-align: right;\">\n",
              "      <th></th>\n",
              "      <th>Time</th>\n",
              "      <th>X</th>\n",
              "      <th>Y</th>\n",
              "      <th>Z</th>\n",
              "      <th>Heart Rate</th>\n",
              "      <th>Labels</th>\n",
              "      <th>movement_x</th>\n",
              "      <th>movement_y</th>\n",
              "      <th>movement_z</th>\n",
              "      <th>modulo</th>\n",
              "      <th>modulo_movement</th>\n",
              "    </tr>\n",
              "  </thead>\n",
              "  <tbody>\n",
              "    <tr>\n",
              "      <th>0</th>\n",
              "      <td>15.0</td>\n",
              "      <td>6.933624</td>\n",
              "      <td>8.631882</td>\n",
              "      <td>10.414185</td>\n",
              "      <td>66.500000</td>\n",
              "      <td>0.0</td>\n",
              "      <td>NaN</td>\n",
              "      <td>NaN</td>\n",
              "      <td>NaN</td>\n",
              "      <td>15.199992</td>\n",
              "      <td>NaN</td>\n",
              "    </tr>\n",
              "    <tr>\n",
              "      <th>1</th>\n",
              "      <td>30.0</td>\n",
              "      <td>6.883118</td>\n",
              "      <td>8.280243</td>\n",
              "      <td>10.591522</td>\n",
              "      <td>58.666667</td>\n",
              "      <td>0.0</td>\n",
              "      <td>-0.050506</td>\n",
              "      <td>-0.351639</td>\n",
              "      <td>0.177338</td>\n",
              "      <td>15.103645</td>\n",
              "      <td>0.397051</td>\n",
              "    </tr>\n",
              "    <tr>\n",
              "      <th>2</th>\n",
              "      <td>45.0</td>\n",
              "      <td>7.963013</td>\n",
              "      <td>9.202042</td>\n",
              "      <td>10.543854</td>\n",
              "      <td>59.666667</td>\n",
              "      <td>0.0</td>\n",
              "      <td>1.079895</td>\n",
              "      <td>0.921799</td>\n",
              "      <td>-0.047669</td>\n",
              "      <td>16.101552</td>\n",
              "      <td>1.420619</td>\n",
              "    </tr>\n",
              "    <tr>\n",
              "      <th>3</th>\n",
              "      <td>60.0</td>\n",
              "      <td>11.098343</td>\n",
              "      <td>10.792572</td>\n",
              "      <td>7.813614</td>\n",
              "      <td>62.333333</td>\n",
              "      <td>0.0</td>\n",
              "      <td>3.135330</td>\n",
              "      <td>1.590530</td>\n",
              "      <td>-2.730240</td>\n",
              "      <td>17.340859</td>\n",
              "      <td>4.451325</td>\n",
              "    </tr>\n",
              "    <tr>\n",
              "      <th>4</th>\n",
              "      <td>75.0</td>\n",
              "      <td>15.782639</td>\n",
              "      <td>14.174042</td>\n",
              "      <td>15.158157</td>\n",
              "      <td>75.000000</td>\n",
              "      <td>0.0</td>\n",
              "      <td>4.684295</td>\n",
              "      <td>3.381470</td>\n",
              "      <td>7.344543</td>\n",
              "      <td>26.072301</td>\n",
              "      <td>9.344479</td>\n",
              "    </tr>\n",
              "    <tr>\n",
              "      <th>...</th>\n",
              "      <td>...</td>\n",
              "      <td>...</td>\n",
              "      <td>...</td>\n",
              "      <td>...</td>\n",
              "      <td>...</td>\n",
              "      <td>...</td>\n",
              "      <td>...</td>\n",
              "      <td>...</td>\n",
              "      <td>...</td>\n",
              "      <td>...</td>\n",
              "      <td>...</td>\n",
              "    </tr>\n",
              "    <tr>\n",
              "      <th>51371</th>\n",
              "      <td>28935.0</td>\n",
              "      <td>0.598740</td>\n",
              "      <td>4.131027</td>\n",
              "      <td>14.391388</td>\n",
              "      <td>77.333333</td>\n",
              "      <td>2.0</td>\n",
              "      <td>0.008163</td>\n",
              "      <td>0.013260</td>\n",
              "      <td>-0.001526</td>\n",
              "      <td>14.984523</td>\n",
              "      <td>0.015646</td>\n",
              "    </tr>\n",
              "    <tr>\n",
              "      <th>51372</th>\n",
              "      <td>28950.0</td>\n",
              "      <td>0.588120</td>\n",
              "      <td>4.096314</td>\n",
              "      <td>14.406677</td>\n",
              "      <td>76.333333</td>\n",
              "      <td>2.0</td>\n",
              "      <td>-0.010620</td>\n",
              "      <td>-0.034713</td>\n",
              "      <td>0.015290</td>\n",
              "      <td>14.989264</td>\n",
              "      <td>0.039390</td>\n",
              "    </tr>\n",
              "    <tr>\n",
              "      <th>51373</th>\n",
              "      <td>28965.0</td>\n",
              "      <td>0.592926</td>\n",
              "      <td>4.098755</td>\n",
              "      <td>14.406494</td>\n",
              "      <td>73.666667</td>\n",
              "      <td>-1.0</td>\n",
              "      <td>0.004806</td>\n",
              "      <td>0.002441</td>\n",
              "      <td>-0.000183</td>\n",
              "      <td>14.989944</td>\n",
              "      <td>0.005394</td>\n",
              "    </tr>\n",
              "    <tr>\n",
              "      <th>51374</th>\n",
              "      <td>28980.0</td>\n",
              "      <td>0.595917</td>\n",
              "      <td>4.114441</td>\n",
              "      <td>14.397644</td>\n",
              "      <td>70.000000</td>\n",
              "      <td>-1.0</td>\n",
              "      <td>0.002991</td>\n",
              "      <td>0.015686</td>\n",
              "      <td>-0.008850</td>\n",
              "      <td>14.985857</td>\n",
              "      <td>0.018257</td>\n",
              "    </tr>\n",
              "    <tr>\n",
              "      <th>51375</th>\n",
              "      <td>28995.0</td>\n",
              "      <td>0.595047</td>\n",
              "      <td>4.127136</td>\n",
              "      <td>14.389480</td>\n",
              "      <td>70.333333</td>\n",
              "      <td>-1.0</td>\n",
              "      <td>-0.000870</td>\n",
              "      <td>0.012695</td>\n",
              "      <td>-0.008164</td>\n",
              "      <td>14.981471</td>\n",
              "      <td>0.015119</td>\n",
              "    </tr>\n",
              "  </tbody>\n",
              "</table>\n",
              "<p>51376 rows × 11 columns</p>\n",
              "</div>"
            ],
            "text/plain": [
              "          Time          X          Y  ...  movement_z     modulo  modulo_movement\n",
              "0         15.0   6.933624   8.631882  ...         NaN  15.199992              NaN\n",
              "1         30.0   6.883118   8.280243  ...    0.177338  15.103645         0.397051\n",
              "2         45.0   7.963013   9.202042  ...   -0.047669  16.101552         1.420619\n",
              "3         60.0  11.098343  10.792572  ...   -2.730240  17.340859         4.451325\n",
              "4         75.0  15.782639  14.174042  ...    7.344543  26.072301         9.344479\n",
              "...        ...        ...        ...  ...         ...        ...              ...\n",
              "51371  28935.0   0.598740   4.131027  ...   -0.001526  14.984523         0.015646\n",
              "51372  28950.0   0.588120   4.096314  ...    0.015290  14.989264         0.039390\n",
              "51373  28965.0   0.592926   4.098755  ...   -0.000183  14.989944         0.005394\n",
              "51374  28980.0   0.595917   4.114441  ...   -0.008850  14.985857         0.018257\n",
              "51375  28995.0   0.595047   4.127136  ...   -0.008164  14.981471         0.015119\n",
              "\n",
              "[51376 rows x 11 columns]"
            ]
          },
          "metadata": {
            "tags": []
          },
          "execution_count": 4
        }
      ]
    },
    {
      "cell_type": "code",
      "metadata": {
        "colab": {
          "base_uri": "https://localhost:8080/"
        },
        "id": "qym0IUFtzAI7",
        "outputId": "0a2c37a4-0304-4acb-f8c3-edb856697e77"
      },
      "source": [
        "labels = df['Labels']\n",
        "\n",
        "df_feature = df.drop('Labels', axis=1).fillna(0)\n",
        "target = df['Labels']\n",
        "\n",
        "for steps in range(2):\n",
        "    print(\"### AutoFeat with %i feateng_steps\" % steps)\n",
        "    afreg = AutoFeatRegressor(verbose=1, feateng_steps=steps)\n",
        "    df = afreg.fit_transform(df_feature, target)\n",
        "    r2 = afreg.score(df_feature, target)\n",
        "    print(\"## Final R^2: %.4f\" % r2)"
      ],
      "execution_count": 5,
      "outputs": [
        {
          "output_type": "stream",
          "text": [
            "### AutoFeat with 0 feateng_steps\n",
            "[AutoFeat] The 0 step feature engineering process could generate up to 10 features.\n",
            "[AutoFeat] With 51376 data points this new feature matrix would use about 0.00 gb of space.\n",
            "[feateng] Warning: no features generated for max_steps < 1.\n",
            "[featsel] Scaling data...done.\n",
            "[featsel] Feature selection run 1/5\n",
            "[featsel] Feature selection run 2/5\n",
            "[featsel] Feature selection run 3/5\n",
            "[featsel] Feature selection run 4/5\n",
            "[featsel] Feature selection run 5/5\n",
            "[featsel] 10 features after 5 feature selection runs\n",
            "[featsel] 10 features after correlation filtering\n",
            "[featsel] 7 features after noise filtering\n",
            "[AutoFeat] Final dataframe with 10 feature columns (0 new).\n",
            "[AutoFeat] Training final regression model.\n",
            "[AutoFeat] Trained model: largest coefficients:\n",
            "5.0430478343306255\n",
            "-0.263606 * modulo\n",
            "-0.159905 * modulo_movement\n",
            "0.080695 * movement_x\n",
            "0.062218 * movement_z\n",
            "0.017554 * Y\n",
            "0.013052 * Heart Rate\n",
            "0.000042 * Time\n",
            "[AutoFeat] Final score: 0.1011\n",
            "## Final R^2: 0.1011\n",
            "### AutoFeat with 1 feateng_steps\n",
            "[AutoFeat] The 1 step feature engineering process could generate up to 70 features.\n",
            "[AutoFeat] With 51376 data points this new feature matrix would use about 0.01 gb of space.\n",
            "[feateng] Step 1: transformation of original features\n",
            "[feateng] Generated 41 transformed features from 10 original features - done.\n",
            "[feateng] Generated altogether 42 new features in 1 steps\n",
            "[feateng] Removing correlated features, as well as additions at the highest level\n",
            "[feateng] Generated a total of 24 additional features\n",
            "[featsel] Scaling data...done.\n",
            "[featsel] Feature selection run 1/5\n",
            "[featsel] Feature selection run 2/5\n",
            "[featsel] Feature selection run 3/5\n",
            "[featsel] Feature selection run 4/5\n",
            "[featsel] Feature selection run 5/5\n",
            "[featsel] 21 features after 5 feature selection runs\n",
            "[featsel] 21 features after correlation filtering\n",
            "[featsel] 15 features after noise filtering\n",
            "[AutoFeat] Computing 8 new features.\n",
            "[AutoFeat]     8/    8 new features ...done.\n",
            "[AutoFeat] Final dataframe with 18 feature columns (8 new).\n",
            "[AutoFeat] Training final regression model.\n",
            "[AutoFeat] Trained model: largest coefficients:\n",
            "-2.110519926986106\n",
            "10.637816 * 1/Time\n",
            "0.696289 * log(Time)\n",
            "-0.144176 * modulo_movement\n",
            "-0.130444 * modulo\n",
            "0.123456 * 1/Z\n",
            "-0.074046 * Abs(movement_x)\n",
            "0.031150 * movement_x\n",
            "0.027913 * log(Y)\n",
            "-0.012161 * 1/X\n",
            "0.009096 * Heart Rate\n",
            "0.008779 * movement_z\n",
            "0.004948 * Y\n",
            "0.000469 * modulo_movement**3\n",
            "-0.000058 * X**3\n",
            "-0.000029 * Time\n",
            "[AutoFeat] Final score: 0.1667\n",
            "[AutoFeat] Computing 8 new features.\n",
            "[AutoFeat]     8/    8 new features ...done.\n",
            "## Final R^2: 0.1667\n"
          ],
          "name": "stdout"
        }
      ]
    },
    {
      "cell_type": "markdown",
      "metadata": {
        "id": "00jGhBmxqSXE"
      },
      "source": [
        "# Labels\n",
        "Initial stages (0-5, wake = 0, N1 = 1, N2 = 2, N3 = 3, REM = 5)\n",
        "\n",
        "Relabeled stages (0-2, wake = 0, NREM = 1, REM = 2)"
      ]
    },
    {
      "cell_type": "code",
      "metadata": {
        "id": "LpPPaSXnoUiW",
        "colab": {
          "base_uri": "https://localhost:8080/",
          "height": 419
        },
        "outputId": "0ec93041-ea28-4126-d2f7-6b844a489dcd"
      },
      "source": [
        "df['Labels'] = labels\n",
        "df['Labels'] = df['Labels'].astype(int)\n",
        "\n",
        "df = df.drop(df.index[(df.Labels < 0) | (df.Labels == 4)])\n",
        "\n",
        "# Show labels\n",
        "# Same labels will be reused throughout the program\n",
        "df['Labels'] = df['Labels'].map({0:0,1:1,2:2,3:3,5:4,}, na_action=None)\n",
        "\n",
        "#Delete non-labeled Rows\n",
        "df.dropna(inplace=True)\n",
        "\n",
        "df"
      ],
      "execution_count": 6,
      "outputs": [
        {
          "output_type": "execute_result",
          "data": {
            "text/html": [
              "<div>\n",
              "<style scoped>\n",
              "    .dataframe tbody tr th:only-of-type {\n",
              "        vertical-align: middle;\n",
              "    }\n",
              "\n",
              "    .dataframe tbody tr th {\n",
              "        vertical-align: top;\n",
              "    }\n",
              "\n",
              "    .dataframe thead th {\n",
              "        text-align: right;\n",
              "    }\n",
              "</style>\n",
              "<table border=\"1\" class=\"dataframe\">\n",
              "  <thead>\n",
              "    <tr style=\"text-align: right;\">\n",
              "      <th></th>\n",
              "      <th>Time</th>\n",
              "      <th>X</th>\n",
              "      <th>Y</th>\n",
              "      <th>Z</th>\n",
              "      <th>Heart Rate</th>\n",
              "      <th>movement_x</th>\n",
              "      <th>movement_y</th>\n",
              "      <th>movement_z</th>\n",
              "      <th>modulo</th>\n",
              "      <th>modulo_movement</th>\n",
              "      <th>1/Z</th>\n",
              "      <th>1/X</th>\n",
              "      <th>X**3</th>\n",
              "      <th>1/Time</th>\n",
              "      <th>log(Y)</th>\n",
              "      <th>log(Time)</th>\n",
              "      <th>Abs(movement_x)</th>\n",
              "      <th>modulo_movement**3</th>\n",
              "      <th>Labels</th>\n",
              "    </tr>\n",
              "  </thead>\n",
              "  <tbody>\n",
              "    <tr>\n",
              "      <th>0</th>\n",
              "      <td>15.0</td>\n",
              "      <td>6.933624</td>\n",
              "      <td>8.631882</td>\n",
              "      <td>10.414185</td>\n",
              "      <td>66.500000</td>\n",
              "      <td>0.000000</td>\n",
              "      <td>0.000000</td>\n",
              "      <td>0.000000</td>\n",
              "      <td>15.199992</td>\n",
              "      <td>0.000000</td>\n",
              "      <td>0.096023</td>\n",
              "      <td>0.144225</td>\n",
              "      <td>333.335000</td>\n",
              "      <td>0.066667</td>\n",
              "      <td>2.155463</td>\n",
              "      <td>2.708050</td>\n",
              "      <td>0.000000</td>\n",
              "      <td>0.000000e+00</td>\n",
              "      <td>0</td>\n",
              "    </tr>\n",
              "    <tr>\n",
              "      <th>1</th>\n",
              "      <td>30.0</td>\n",
              "      <td>6.883118</td>\n",
              "      <td>8.280243</td>\n",
              "      <td>10.591522</td>\n",
              "      <td>58.666667</td>\n",
              "      <td>-0.050506</td>\n",
              "      <td>-0.351639</td>\n",
              "      <td>0.177338</td>\n",
              "      <td>15.103645</td>\n",
              "      <td>0.397051</td>\n",
              "      <td>0.094415</td>\n",
              "      <td>0.145283</td>\n",
              "      <td>326.103610</td>\n",
              "      <td>0.033333</td>\n",
              "      <td>2.113872</td>\n",
              "      <td>3.401197</td>\n",
              "      <td>0.050506</td>\n",
              "      <td>6.259474e-02</td>\n",
              "      <td>0</td>\n",
              "    </tr>\n",
              "    <tr>\n",
              "      <th>2</th>\n",
              "      <td>45.0</td>\n",
              "      <td>7.963013</td>\n",
              "      <td>9.202042</td>\n",
              "      <td>10.543854</td>\n",
              "      <td>59.666667</td>\n",
              "      <td>1.079895</td>\n",
              "      <td>0.921799</td>\n",
              "      <td>-0.047669</td>\n",
              "      <td>16.101552</td>\n",
              "      <td>1.420619</td>\n",
              "      <td>0.094842</td>\n",
              "      <td>0.125581</td>\n",
              "      <td>504.931221</td>\n",
              "      <td>0.022222</td>\n",
              "      <td>2.219425</td>\n",
              "      <td>3.806662</td>\n",
              "      <td>1.079895</td>\n",
              "      <td>2.867033e+00</td>\n",
              "      <td>0</td>\n",
              "    </tr>\n",
              "    <tr>\n",
              "      <th>3</th>\n",
              "      <td>60.0</td>\n",
              "      <td>11.098343</td>\n",
              "      <td>10.792572</td>\n",
              "      <td>7.813614</td>\n",
              "      <td>62.333333</td>\n",
              "      <td>3.135330</td>\n",
              "      <td>1.590530</td>\n",
              "      <td>-2.730240</td>\n",
              "      <td>17.340859</td>\n",
              "      <td>4.451325</td>\n",
              "      <td>0.127982</td>\n",
              "      <td>0.090104</td>\n",
              "      <td>1367.018651</td>\n",
              "      <td>0.016667</td>\n",
              "      <td>2.378858</td>\n",
              "      <td>4.094345</td>\n",
              "      <td>3.135330</td>\n",
              "      <td>8.819985e+01</td>\n",
              "      <td>0</td>\n",
              "    </tr>\n",
              "    <tr>\n",
              "      <th>4</th>\n",
              "      <td>75.0</td>\n",
              "      <td>15.782639</td>\n",
              "      <td>14.174042</td>\n",
              "      <td>15.158157</td>\n",
              "      <td>75.000000</td>\n",
              "      <td>4.684295</td>\n",
              "      <td>3.381470</td>\n",
              "      <td>7.344543</td>\n",
              "      <td>26.072301</td>\n",
              "      <td>9.344479</td>\n",
              "      <td>0.065971</td>\n",
              "      <td>0.063361</td>\n",
              "      <td>3931.323908</td>\n",
              "      <td>0.013333</td>\n",
              "      <td>2.651412</td>\n",
              "      <td>4.317488</td>\n",
              "      <td>4.684295</td>\n",
              "      <td>8.159531e+02</td>\n",
              "      <td>0</td>\n",
              "    </tr>\n",
              "    <tr>\n",
              "      <th>...</th>\n",
              "      <td>...</td>\n",
              "      <td>...</td>\n",
              "      <td>...</td>\n",
              "      <td>...</td>\n",
              "      <td>...</td>\n",
              "      <td>...</td>\n",
              "      <td>...</td>\n",
              "      <td>...</td>\n",
              "      <td>...</td>\n",
              "      <td>...</td>\n",
              "      <td>...</td>\n",
              "      <td>...</td>\n",
              "      <td>...</td>\n",
              "      <td>...</td>\n",
              "      <td>...</td>\n",
              "      <td>...</td>\n",
              "      <td>...</td>\n",
              "      <td>...</td>\n",
              "      <td>...</td>\n",
              "    </tr>\n",
              "    <tr>\n",
              "      <th>51368</th>\n",
              "      <td>28890.0</td>\n",
              "      <td>0.614044</td>\n",
              "      <td>4.168198</td>\n",
              "      <td>14.378113</td>\n",
              "      <td>68.333333</td>\n",
              "      <td>0.007171</td>\n",
              "      <td>0.018051</td>\n",
              "      <td>-0.006256</td>\n",
              "      <td>14.982692</td>\n",
              "      <td>0.020406</td>\n",
              "      <td>0.069550</td>\n",
              "      <td>1.628548</td>\n",
              "      <td>0.231525</td>\n",
              "      <td>0.000035</td>\n",
              "      <td>1.427484</td>\n",
              "      <td>10.271251</td>\n",
              "      <td>0.007171</td>\n",
              "      <td>8.497463e-06</td>\n",
              "      <td>2</td>\n",
              "    </tr>\n",
              "    <tr>\n",
              "      <th>51369</th>\n",
              "      <td>28905.0</td>\n",
              "      <td>0.590225</td>\n",
              "      <td>4.126587</td>\n",
              "      <td>14.397430</td>\n",
              "      <td>75.333333</td>\n",
              "      <td>-0.023819</td>\n",
              "      <td>-0.041611</td>\n",
              "      <td>0.019318</td>\n",
              "      <td>14.988765</td>\n",
              "      <td>0.051691</td>\n",
              "      <td>0.069457</td>\n",
              "      <td>1.694269</td>\n",
              "      <td>0.205614</td>\n",
              "      <td>0.000035</td>\n",
              "      <td>1.417451</td>\n",
              "      <td>10.271770</td>\n",
              "      <td>0.023819</td>\n",
              "      <td>1.381163e-04</td>\n",
              "      <td>2</td>\n",
              "    </tr>\n",
              "    <tr>\n",
              "      <th>51370</th>\n",
              "      <td>28920.0</td>\n",
              "      <td>0.590576</td>\n",
              "      <td>4.117767</td>\n",
              "      <td>14.392914</td>\n",
              "      <td>73.666667</td>\n",
              "      <td>0.000351</td>\n",
              "      <td>-0.008820</td>\n",
              "      <td>-0.004516</td>\n",
              "      <td>14.982015</td>\n",
              "      <td>0.009915</td>\n",
              "      <td>0.069479</td>\n",
              "      <td>1.693261</td>\n",
              "      <td>0.205981</td>\n",
              "      <td>0.000035</td>\n",
              "      <td>1.415311</td>\n",
              "      <td>10.272289</td>\n",
              "      <td>0.000351</td>\n",
              "      <td>9.747448e-07</td>\n",
              "      <td>2</td>\n",
              "    </tr>\n",
              "    <tr>\n",
              "      <th>51371</th>\n",
              "      <td>28935.0</td>\n",
              "      <td>0.598740</td>\n",
              "      <td>4.131027</td>\n",
              "      <td>14.391388</td>\n",
              "      <td>77.333333</td>\n",
              "      <td>0.008163</td>\n",
              "      <td>0.013260</td>\n",
              "      <td>-0.001526</td>\n",
              "      <td>14.984523</td>\n",
              "      <td>0.015646</td>\n",
              "      <td>0.069486</td>\n",
              "      <td>1.670175</td>\n",
              "      <td>0.214642</td>\n",
              "      <td>0.000035</td>\n",
              "      <td>1.418526</td>\n",
              "      <td>10.272807</td>\n",
              "      <td>0.008163</td>\n",
              "      <td>3.829921e-06</td>\n",
              "      <td>2</td>\n",
              "    </tr>\n",
              "    <tr>\n",
              "      <th>51372</th>\n",
              "      <td>28950.0</td>\n",
              "      <td>0.588120</td>\n",
              "      <td>4.096314</td>\n",
              "      <td>14.406677</td>\n",
              "      <td>76.333333</td>\n",
              "      <td>-0.010620</td>\n",
              "      <td>-0.034713</td>\n",
              "      <td>0.015290</td>\n",
              "      <td>14.989264</td>\n",
              "      <td>0.039390</td>\n",
              "      <td>0.069412</td>\n",
              "      <td>1.700334</td>\n",
              "      <td>0.203422</td>\n",
              "      <td>0.000035</td>\n",
              "      <td>1.410087</td>\n",
              "      <td>10.273325</td>\n",
              "      <td>0.010620</td>\n",
              "      <td>6.111722e-05</td>\n",
              "      <td>2</td>\n",
              "    </tr>\n",
              "  </tbody>\n",
              "</table>\n",
              "<p>49863 rows × 19 columns</p>\n",
              "</div>"
            ],
            "text/plain": [
              "          Time          X  ...  modulo_movement**3  Labels\n",
              "0         15.0   6.933624  ...        0.000000e+00       0\n",
              "1         30.0   6.883118  ...        6.259474e-02       0\n",
              "2         45.0   7.963013  ...        2.867033e+00       0\n",
              "3         60.0  11.098343  ...        8.819985e+01       0\n",
              "4         75.0  15.782639  ...        8.159531e+02       0\n",
              "...        ...        ...  ...                 ...     ...\n",
              "51368  28890.0   0.614044  ...        8.497463e-06       2\n",
              "51369  28905.0   0.590225  ...        1.381163e-04       2\n",
              "51370  28920.0   0.590576  ...        9.747448e-07       2\n",
              "51371  28935.0   0.598740  ...        3.829921e-06       2\n",
              "51372  28950.0   0.588120  ...        6.111722e-05       2\n",
              "\n",
              "[49863 rows x 19 columns]"
            ]
          },
          "metadata": {
            "tags": []
          },
          "execution_count": 6
        }
      ]
    },
    {
      "cell_type": "markdown",
      "metadata": {
        "id": "VwnxK53835FY"
      },
      "source": [
        "# Normalize Training Data\n",
        "Next, we need to normalize our features within our training data. Of course there are various ways on how to normalize. Please keep in mind that you use the same normalization algorithm later when feeding new data into your neural network. Otherwise your preditions will be off. On top of the normalization we will also apply rounding to the three features."
      ]
    },
    {
      "cell_type": "code",
      "metadata": {
        "id": "bOd1dXMi2N4_",
        "colab": {
          "base_uri": "https://localhost:8080/",
          "height": 414
        },
        "outputId": "ca164789-da88-4ef7-cbc0-58e312bdca29"
      },
      "source": [
        "# Normalize features for training data set (values between 0 and 1)***\n",
        "# Surpress warning for next 3 operation\n",
        "pd.options.mode.chained_assignment = None  # default='warn'\n",
        "df['X'] = df['X'] / df['X'].max()\n",
        "df['Y'] = df['Y'] / df['Y'].max()\n",
        "df['Z'] = df['Z'] / df['Z'].max()\n",
        "df['Heart Rate'] = df['Heart Rate'] / df['Heart Rate'].max()\n",
        "\n",
        "# Round numbers (4 decimals for accelerometer and 2 for heart rate)\n",
        "df = df.round({'X': 4, 'Y': 4, 'Z': 4, 'Heart Rate' : 4})\n",
        "\n",
        "df"
      ],
      "execution_count": null,
      "outputs": [
        {
          "output_type": "execute_result",
          "data": {
            "text/html": [
              "<div>\n",
              "<style scoped>\n",
              "    .dataframe tbody tr th:only-of-type {\n",
              "        vertical-align: middle;\n",
              "    }\n",
              "\n",
              "    .dataframe tbody tr th {\n",
              "        vertical-align: top;\n",
              "    }\n",
              "\n",
              "    .dataframe thead th {\n",
              "        text-align: right;\n",
              "    }\n",
              "</style>\n",
              "<table border=\"1\" class=\"dataframe\">\n",
              "  <thead>\n",
              "    <tr style=\"text-align: right;\">\n",
              "      <th></th>\n",
              "      <th>Time</th>\n",
              "      <th>X</th>\n",
              "      <th>Y</th>\n",
              "      <th>Z</th>\n",
              "      <th>Heart Rate</th>\n",
              "      <th>Labels</th>\n",
              "    </tr>\n",
              "  </thead>\n",
              "  <tbody>\n",
              "    <tr>\n",
              "      <th>0</th>\n",
              "      <td>15.0</td>\n",
              "      <td>0.7615</td>\n",
              "      <td>0.3391</td>\n",
              "      <td>0.2419</td>\n",
              "      <td>0.53</td>\n",
              "      <td>0</td>\n",
              "    </tr>\n",
              "    <tr>\n",
              "      <th>1</th>\n",
              "      <td>30.0</td>\n",
              "      <td>0.7586</td>\n",
              "      <td>0.2470</td>\n",
              "      <td>0.3424</td>\n",
              "      <td>0.46</td>\n",
              "      <td>0</td>\n",
              "    </tr>\n",
              "    <tr>\n",
              "      <th>2</th>\n",
              "      <td>45.0</td>\n",
              "      <td>0.6329</td>\n",
              "      <td>0.3961</td>\n",
              "      <td>0.5692</td>\n",
              "      <td>0.45</td>\n",
              "      <td>0</td>\n",
              "    </tr>\n",
              "    <tr>\n",
              "      <th>3</th>\n",
              "      <td>60.0</td>\n",
              "      <td>0.2976</td>\n",
              "      <td>0.0890</td>\n",
              "      <td>0.5759</td>\n",
              "      <td>0.44</td>\n",
              "      <td>0</td>\n",
              "    </tr>\n",
              "    <tr>\n",
              "      <th>4</th>\n",
              "      <td>75.0</td>\n",
              "      <td>0.2990</td>\n",
              "      <td>0.0902</td>\n",
              "      <td>0.5750</td>\n",
              "      <td>0.42</td>\n",
              "      <td>0</td>\n",
              "    </tr>\n",
              "    <tr>\n",
              "      <th>...</th>\n",
              "      <td>...</td>\n",
              "      <td>...</td>\n",
              "      <td>...</td>\n",
              "      <td>...</td>\n",
              "      <td>...</td>\n",
              "      <td>...</td>\n",
              "    </tr>\n",
              "    <tr>\n",
              "      <th>51368</th>\n",
              "      <td>29160.0</td>\n",
              "      <td>0.4090</td>\n",
              "      <td>0.0812</td>\n",
              "      <td>0.5418</td>\n",
              "      <td>0.38</td>\n",
              "      <td>5</td>\n",
              "    </tr>\n",
              "    <tr>\n",
              "      <th>51369</th>\n",
              "      <td>29175.0</td>\n",
              "      <td>0.4082</td>\n",
              "      <td>0.0785</td>\n",
              "      <td>0.5424</td>\n",
              "      <td>0.38</td>\n",
              "      <td>5</td>\n",
              "    </tr>\n",
              "    <tr>\n",
              "      <th>51370</th>\n",
              "      <td>29190.0</td>\n",
              "      <td>0.4095</td>\n",
              "      <td>0.0841</td>\n",
              "      <td>0.5423</td>\n",
              "      <td>0.42</td>\n",
              "      <td>5</td>\n",
              "    </tr>\n",
              "    <tr>\n",
              "      <th>51371</th>\n",
              "      <td>29205.0</td>\n",
              "      <td>0.4095</td>\n",
              "      <td>0.0845</td>\n",
              "      <td>0.5421</td>\n",
              "      <td>0.44</td>\n",
              "      <td>5</td>\n",
              "    </tr>\n",
              "    <tr>\n",
              "      <th>51372</th>\n",
              "      <td>29220.0</td>\n",
              "      <td>0.4092</td>\n",
              "      <td>0.0853</td>\n",
              "      <td>0.5423</td>\n",
              "      <td>0.44</td>\n",
              "      <td>5</td>\n",
              "    </tr>\n",
              "  </tbody>\n",
              "</table>\n",
              "<p>49863 rows × 6 columns</p>\n",
              "</div>"
            ],
            "text/plain": [
              "          Time       X       Y       Z  Heart Rate  Labels\n",
              "0         15.0  0.7615  0.3391  0.2419        0.53       0\n",
              "1         30.0  0.7586  0.2470  0.3424        0.46       0\n",
              "2         45.0  0.6329  0.3961  0.5692        0.45       0\n",
              "3         60.0  0.2976  0.0890  0.5759        0.44       0\n",
              "4         75.0  0.2990  0.0902  0.5750        0.42       0\n",
              "...        ...     ...     ...     ...         ...     ...\n",
              "51368  29160.0  0.4090  0.0812  0.5418        0.38       5\n",
              "51369  29175.0  0.4082  0.0785  0.5424        0.38       5\n",
              "51370  29190.0  0.4095  0.0841  0.5423        0.42       5\n",
              "51371  29205.0  0.4095  0.0845  0.5421        0.44       5\n",
              "51372  29220.0  0.4092  0.0853  0.5423        0.44       5\n",
              "\n",
              "[49863 rows x 6 columns]"
            ]
          },
          "metadata": {
            "tags": []
          },
          "execution_count": 5
        }
      ]
    },
    {
      "cell_type": "markdown",
      "metadata": {
        "id": "oC7ObCbBZ_1-"
      },
      "source": [
        "# Split Dataset\n",
        "Train, Validation and Test\n",
        "\n",
        "Split the data\n",
        "We'll use a (70%, 20%, 10%) split for the training, validation, and test sets. Note the data is not being randomly shuffled before splitting. This is for two reasons.\n",
        "\n",
        "It ensures that chopping the data into windows of consecutive samples is still possible.\n",
        "It ensures that the validation/test results are more realistic, being evaluated on data collected after the model was trained.\n",
        "\n",
        "***ANOTHER SPLITING OPTION WOULD BE TO SEPARATE USERS (Crear nueva columna con nombre usuario?? O manejar cada CSV por separado??)***\n",
        "\n",
        "\n",
        "\n"
      ]
    },
    {
      "cell_type": "code",
      "metadata": {
        "id": "DUcpsQLZaKOE"
      },
      "source": [
        "column_indices = {name: i for i, name in enumerate(df.columns)}\n",
        "\n",
        "PERCENTAGE_TRAIN = 0.7\n",
        "PERCENTAGE_VALIDATION = 0.2\n",
        "\n",
        "# n = len(df)\n",
        "total_rows = df.shape[0]\n",
        "train_df = df[0:int(total_rows*PERCENTAGE_TRAIN)]\n",
        "val_df = df[int(total_rows*PERCENTAGE_TRAIN):int(total_rows*(PERCENTAGE_VALIDATION + PERCENTAGE_TRAIN))]\n",
        "test_df = df[int(total_rows*(PERCENTAGE_VALIDATION + PERCENTAGE_TRAIN)):]\n",
        "\n",
        "assert len(train_df) + len(val_df) + len(test_df) == total_rows, 'The split does not match'"
      ],
      "execution_count": 7,
      "outputs": []
    },
    {
      "cell_type": "markdown",
      "metadata": {
        "id": "aYGO3D4b7btV"
      },
      "source": [
        "# Reshape Data into Segments and Prepare for Keras\n",
        "The data contained in the dataframe is not ready yet to be fed into a neural network. Therefore we need to reshape it. Let’s create another function for this called “create_segments_and_labels”. This function will take in the dataframe and the label names."
      ]
    },
    {
      "cell_type": "code",
      "metadata": {
        "id": "2jOMBw867eW2"
      },
      "source": [
        "def create_segments_and_labels(dataframe,labels):\n",
        "\n",
        "    labels = dataframe[labels]\n",
        "    #segments = dataframe[['X','Y','Z','Heart Rate']] #Basic Features\n",
        "    segments = dataframe[['X','Y','Z','Heart Rate','movement_x','movement_y','movement_z','modulo','modulo_movement','1/Z','1/X','X**3','log(Y)','1/Time','log(Time)','Abs(movement_x)','modulo_movement**3']] #All features\n",
        "\n",
        "    return segments, labels"
      ],
      "execution_count": 8,
      "outputs": []
    },
    {
      "cell_type": "code",
      "metadata": {
        "id": "ODyG2FBGAGd6"
      },
      "source": [
        "# x --> Features\n",
        "# y --> Labels\n",
        "   \n",
        "x_train, y_train = create_segments_and_labels(train_df,'Labels')\n",
        "x_val, y_val = create_segments_and_labels(val_df,'Labels')\n",
        "x_test, y_test = create_segments_and_labels(test_df,'Labels')\n",
        "\n",
        "\n",
        "assert x_train.shape[0] == len(y_train)\n",
        "assert x_val.shape[0] == len(y_val)\n",
        "assert x_test.shape[0] == len(y_test)"
      ],
      "execution_count": 9,
      "outputs": []
    },
    {
      "cell_type": "markdown",
      "metadata": {
        "id": "mCXw2xaUJQ_l"
      },
      "source": [
        "# Deep Neural Network Model in Keras\n"
      ]
    },
    {
      "cell_type": "code",
      "metadata": {
        "id": "KJ5ywCqflQi0"
      },
      "source": [
        "#Prepare labels data \n",
        "#Needed ONLY for categorical_crossentropy loss function\n",
        "y_train = to_categorical(y_train)\n",
        "y_val = to_categorical(y_val)\n",
        "y_test = to_categorical(y_test)"
      ],
      "execution_count": null,
      "outputs": []
    },
    {
      "cell_type": "code",
      "metadata": {
        "colab": {
          "base_uri": "https://localhost:8080/"
        },
        "id": "-DyMELaTeUqD",
        "outputId": "4129408c-38f3-4b11-ee7b-6206e5642b8d"
      },
      "source": [
        "# define the keras model\n",
        "num_classes = 5\n",
        "\n",
        "model = Sequential()\n",
        "model.add(Dense(30, input_dim= x_train.shape[1], activation='relu'))\n",
        "model.add(Dense(60, activation='relu'))\n",
        "model.add(Dense(num_classes, activation='softmax')) #Last layer corresponds with the number of possible outputs\n",
        "\n",
        "# compile the keras model\n",
        "opt = SGD(learning_rate=0.01, momentum=0.9)\n",
        "\n",
        "model.compile(loss= 'sparse_categorical_crossentropy', optimizer= 'adam', metrics=['accuracy'])\n",
        "model.summary()"
      ],
      "execution_count": 10,
      "outputs": [
        {
          "output_type": "stream",
          "text": [
            "Model: \"sequential\"\n",
            "_________________________________________________________________\n",
            "Layer (type)                 Output Shape              Param #   \n",
            "=================================================================\n",
            "dense (Dense)                (None, 30)                540       \n",
            "_________________________________________________________________\n",
            "dense_1 (Dense)              (None, 60)                1860      \n",
            "_________________________________________________________________\n",
            "dense_2 (Dense)              (None, 5)                 305       \n",
            "=================================================================\n",
            "Total params: 2,705\n",
            "Trainable params: 2,705\n",
            "Non-trainable params: 0\n",
            "_________________________________________________________________\n"
          ],
          "name": "stdout"
        }
      ]
    },
    {
      "cell_type": "markdown",
      "metadata": {
        "id": "z7L-f61Kr9Qm"
      },
      "source": [
        "Train Model"
      ]
    },
    {
      "cell_type": "code",
      "metadata": {
        "id": "O1byX-NigRhU",
        "colab": {
          "base_uri": "https://localhost:8080/"
        },
        "outputId": "a3ce871c-f947-4bf4-fce3-a8487238fe16"
      },
      "source": [
        "# fit the keras model on the dataset\n",
        "history = model.fit(x_train, y_train, validation_data=(x_val, y_val), epochs=50, batch_size=180, verbose=1)"
      ],
      "execution_count": 11,
      "outputs": [
        {
          "output_type": "stream",
          "text": [
            "Epoch 1/50\n",
            "194/194 [==============================] - 15s 4ms/step - loss: 7.0042 - accuracy: 0.3812 - val_loss: 1.3248 - val_accuracy: 0.5544\n",
            "Epoch 2/50\n",
            "194/194 [==============================] - 1s 3ms/step - loss: 1.4494 - accuracy: 0.4823 - val_loss: 1.3107 - val_accuracy: 0.5451\n",
            "Epoch 3/50\n",
            "194/194 [==============================] - 1s 3ms/step - loss: 1.3576 - accuracy: 0.4910 - val_loss: 1.3463 - val_accuracy: 0.5553\n",
            "Epoch 4/50\n",
            "194/194 [==============================] - 1s 3ms/step - loss: 1.3463 - accuracy: 0.5007 - val_loss: 1.3399 - val_accuracy: 0.5208\n",
            "Epoch 5/50\n",
            "194/194 [==============================] - 1s 3ms/step - loss: 1.3606 - accuracy: 0.5035 - val_loss: 1.3503 - val_accuracy: 0.5611\n",
            "Epoch 6/50\n",
            "194/194 [==============================] - 0s 3ms/step - loss: 1.3599 - accuracy: 0.4953 - val_loss: 1.2928 - val_accuracy: 0.5584\n",
            "Epoch 7/50\n",
            "194/194 [==============================] - 0s 2ms/step - loss: 1.3104 - accuracy: 0.5066 - val_loss: 1.4224 - val_accuracy: 0.4034\n",
            "Epoch 8/50\n",
            "194/194 [==============================] - 0s 2ms/step - loss: 1.2918 - accuracy: 0.5092 - val_loss: 1.4116 - val_accuracy: 0.4645\n",
            "Epoch 9/50\n",
            "194/194 [==============================] - 0s 2ms/step - loss: 1.2989 - accuracy: 0.5055 - val_loss: 1.4036 - val_accuracy: 0.4712\n",
            "Epoch 10/50\n",
            "194/194 [==============================] - 1s 3ms/step - loss: 1.3300 - accuracy: 0.5049 - val_loss: 1.3586 - val_accuracy: 0.4908\n",
            "Epoch 11/50\n",
            "194/194 [==============================] - 1s 3ms/step - loss: 1.2635 - accuracy: 0.5158 - val_loss: 1.3583 - val_accuracy: 0.5644\n",
            "Epoch 12/50\n",
            "194/194 [==============================] - 0s 3ms/step - loss: 1.2768 - accuracy: 0.5097 - val_loss: 1.4178 - val_accuracy: 0.5452\n",
            "Epoch 13/50\n",
            "194/194 [==============================] - 0s 2ms/step - loss: 1.3490 - accuracy: 0.5091 - val_loss: 1.2665 - val_accuracy: 0.5402\n",
            "Epoch 14/50\n",
            "194/194 [==============================] - 1s 3ms/step - loss: 1.2322 - accuracy: 0.5168 - val_loss: 1.2501 - val_accuracy: 0.5280\n",
            "Epoch 15/50\n",
            "194/194 [==============================] - 0s 2ms/step - loss: 1.2426 - accuracy: 0.5225 - val_loss: 1.3066 - val_accuracy: 0.5044\n",
            "Epoch 16/50\n",
            "194/194 [==============================] - 1s 3ms/step - loss: 1.2205 - accuracy: 0.5259 - val_loss: 1.2526 - val_accuracy: 0.5334\n",
            "Epoch 17/50\n",
            "194/194 [==============================] - 0s 2ms/step - loss: 1.2349 - accuracy: 0.5251 - val_loss: 1.2678 - val_accuracy: 0.5213\n",
            "Epoch 18/50\n",
            "194/194 [==============================] - 0s 2ms/step - loss: 1.2210 - accuracy: 0.5245 - val_loss: 1.3731 - val_accuracy: 0.4958\n",
            "Epoch 19/50\n",
            "194/194 [==============================] - 0s 2ms/step - loss: 1.2356 - accuracy: 0.5313 - val_loss: 1.2678 - val_accuracy: 0.5341\n",
            "Epoch 20/50\n",
            "194/194 [==============================] - 1s 3ms/step - loss: 1.1922 - accuracy: 0.5330 - val_loss: 1.2663 - val_accuracy: 0.5353\n",
            "Epoch 21/50\n",
            "194/194 [==============================] - 0s 2ms/step - loss: 1.1823 - accuracy: 0.5365 - val_loss: 1.2927 - val_accuracy: 0.5085\n",
            "Epoch 22/50\n",
            "194/194 [==============================] - 1s 3ms/step - loss: 1.1907 - accuracy: 0.5369 - val_loss: 1.3250 - val_accuracy: 0.5163\n",
            "Epoch 23/50\n",
            "194/194 [==============================] - 1s 3ms/step - loss: 1.2079 - accuracy: 0.5365 - val_loss: 1.3781 - val_accuracy: 0.4540\n",
            "Epoch 24/50\n",
            "194/194 [==============================] - 0s 2ms/step - loss: 1.1818 - accuracy: 0.5434 - val_loss: 1.3086 - val_accuracy: 0.5281\n",
            "Epoch 25/50\n",
            "194/194 [==============================] - 1s 3ms/step - loss: 1.1849 - accuracy: 0.5360 - val_loss: 1.2967 - val_accuracy: 0.5164\n",
            "Epoch 26/50\n",
            "194/194 [==============================] - 0s 2ms/step - loss: 1.1665 - accuracy: 0.5439 - val_loss: 1.2644 - val_accuracy: 0.5495\n",
            "Epoch 27/50\n",
            "194/194 [==============================] - 1s 3ms/step - loss: 1.1746 - accuracy: 0.5437 - val_loss: 1.2383 - val_accuracy: 0.5282\n",
            "Epoch 28/50\n",
            "194/194 [==============================] - 0s 2ms/step - loss: 1.1662 - accuracy: 0.5502 - val_loss: 1.2776 - val_accuracy: 0.5343\n",
            "Epoch 29/50\n",
            "194/194 [==============================] - 0s 2ms/step - loss: 1.1519 - accuracy: 0.5543 - val_loss: 1.3263 - val_accuracy: 0.4735\n",
            "Epoch 30/50\n",
            "194/194 [==============================] - 0s 2ms/step - loss: 1.1747 - accuracy: 0.5522 - val_loss: 1.2576 - val_accuracy: 0.5470\n",
            "Epoch 31/50\n",
            "194/194 [==============================] - 0s 2ms/step - loss: 1.1489 - accuracy: 0.5540 - val_loss: 1.3565 - val_accuracy: 0.4800\n",
            "Epoch 32/50\n",
            "194/194 [==============================] - 1s 3ms/step - loss: 1.1470 - accuracy: 0.5574 - val_loss: 1.3425 - val_accuracy: 0.4620\n",
            "Epoch 33/50\n",
            "194/194 [==============================] - 0s 2ms/step - loss: 1.1535 - accuracy: 0.5545 - val_loss: 1.3140 - val_accuracy: 0.5093\n",
            "Epoch 34/50\n",
            "194/194 [==============================] - 0s 2ms/step - loss: 1.1407 - accuracy: 0.5603 - val_loss: 1.3845 - val_accuracy: 0.4768\n",
            "Epoch 35/50\n",
            "194/194 [==============================] - 0s 2ms/step - loss: 1.1381 - accuracy: 0.5600 - val_loss: 1.3353 - val_accuracy: 0.5000\n",
            "Epoch 36/50\n",
            "194/194 [==============================] - 0s 2ms/step - loss: 1.1491 - accuracy: 0.5529 - val_loss: 1.3671 - val_accuracy: 0.5033\n",
            "Epoch 37/50\n",
            "194/194 [==============================] - 0s 2ms/step - loss: 1.1549 - accuracy: 0.5513 - val_loss: 1.3114 - val_accuracy: 0.4954\n",
            "Epoch 38/50\n",
            "194/194 [==============================] - 1s 3ms/step - loss: 1.1199 - accuracy: 0.5623 - val_loss: 1.3849 - val_accuracy: 0.5089\n",
            "Epoch 39/50\n",
            "194/194 [==============================] - 1s 3ms/step - loss: 1.1368 - accuracy: 0.5544 - val_loss: 1.2984 - val_accuracy: 0.5432\n",
            "Epoch 40/50\n",
            "194/194 [==============================] - 0s 2ms/step - loss: 1.1530 - accuracy: 0.5602 - val_loss: 1.3573 - val_accuracy: 0.4788\n",
            "Epoch 41/50\n",
            "194/194 [==============================] - 1s 3ms/step - loss: 1.1283 - accuracy: 0.5666 - val_loss: 1.2837 - val_accuracy: 0.5166\n",
            "Epoch 42/50\n",
            "194/194 [==============================] - 0s 2ms/step - loss: 1.1232 - accuracy: 0.5635 - val_loss: 1.3629 - val_accuracy: 0.5066\n",
            "Epoch 43/50\n",
            "194/194 [==============================] - 0s 2ms/step - loss: 1.1152 - accuracy: 0.5674 - val_loss: 1.3794 - val_accuracy: 0.4819\n",
            "Epoch 44/50\n",
            "194/194 [==============================] - 0s 2ms/step - loss: 1.1227 - accuracy: 0.5616 - val_loss: 1.3677 - val_accuracy: 0.4614\n",
            "Epoch 45/50\n",
            "194/194 [==============================] - 0s 2ms/step - loss: 1.1097 - accuracy: 0.5716 - val_loss: 1.3723 - val_accuracy: 0.4843\n",
            "Epoch 46/50\n",
            "194/194 [==============================] - 0s 2ms/step - loss: 1.1175 - accuracy: 0.5636 - val_loss: 1.4529 - val_accuracy: 0.4605\n",
            "Epoch 47/50\n",
            "194/194 [==============================] - 0s 3ms/step - loss: 1.1294 - accuracy: 0.5663 - val_loss: 1.3919 - val_accuracy: 0.5003\n",
            "Epoch 48/50\n",
            "194/194 [==============================] - 1s 3ms/step - loss: 1.1104 - accuracy: 0.5718 - val_loss: 1.3652 - val_accuracy: 0.4643\n",
            "Epoch 49/50\n",
            "194/194 [==============================] - 0s 2ms/step - loss: 1.1072 - accuracy: 0.5703 - val_loss: 1.3390 - val_accuracy: 0.5168\n",
            "Epoch 50/50\n",
            "194/194 [==============================] - 0s 2ms/step - loss: 1.0923 - accuracy: 0.5741 - val_loss: 1.3705 - val_accuracy: 0.5115\n"
          ],
          "name": "stdout"
        }
      ]
    },
    {
      "cell_type": "markdown",
      "metadata": {
        "id": "b7wDeVitsAE-"
      },
      "source": [
        "# Evaluate Model on Test Data"
      ]
    },
    {
      "cell_type": "code",
      "metadata": {
        "colab": {
          "base_uri": "https://localhost:8080/"
        },
        "id": "6Ew4p3YooK3m",
        "outputId": "899ca903-8c72-4a92-ca15-38396862a73f"
      },
      "source": [
        "# evaluate the model\n",
        "test_loss, test_acc = model.evaluate(x_test, y_test)\n",
        "\n",
        "print(\"Test accuracy\", test_acc)\n",
        "print(\"Test loss\", test_loss)"
      ],
      "execution_count": 12,
      "outputs": [
        {
          "output_type": "stream",
          "text": [
            "156/156 [==============================] - 0s 2ms/step - loss: 1.5724 - accuracy: 0.4333\n",
            "Test accuracy 0.4333266615867615\n",
            "Test loss 1.5724313259124756\n"
          ],
          "name": "stdout"
        }
      ]
    },
    {
      "cell_type": "code",
      "metadata": {
        "colab": {
          "base_uri": "https://localhost:8080/",
          "height": 573
        },
        "id": "EfMvpYkxYYU4",
        "outputId": "583f0a5d-916d-405a-93a9-ac4dde59be39"
      },
      "source": [
        "# summarize history for accuracy\n",
        "plt.plot(history.history['accuracy'])\n",
        "plt.plot(history.history['val_accuracy'])\n",
        "plt.title('model accuracy')\n",
        "plt.ylabel('accuracy')\n",
        "plt.xlabel('epoch')\n",
        "plt.legend(['train', 'validation'], loc='upper left')\n",
        "plt.show()\n",
        "# summarize history for loss\n",
        "plt.plot(history.history['loss'])\n",
        "plt.plot(history.history['val_loss'])\n",
        "plt.title('model loss')\n",
        "plt.ylabel('loss')\n",
        "plt.xlabel('epoch')\n",
        "plt.legend(['train', 'validation'], loc='upper left')\n",
        "plt.show()"
      ],
      "execution_count": 13,
      "outputs": [
        {
          "output_type": "display_data",
          "data": {
            "image/png": "[encoded data removed]",
            "text/plain": [
              "<Figure size 432x288 with 1 Axes>"
            ]
          },
          "metadata": {
            "tags": [],
            "needs_background": "light"
          }
        },
        {
          "output_type": "display_data",
          "data": {
            "image/png": "[encoded data removed]",
            "text/plain": [
              "<Figure size 432x288 with 1 Axes>"
            ]
          },
          "metadata": {
            "tags": [],
            "needs_background": "light"
          }
        }
      ]
    },
    {
      "cell_type": "markdown",
      "metadata": {
        "id": "8Nxau1E-x3gN"
      },
      "source": [
        "Confusion Matrix"
      ]
    },
    {
      "cell_type": "code",
      "metadata": {
        "id": "Otmx1tX8jli6"
      },
      "source": [
        "predictions = history.model.predict(x_test)"
      ],
      "execution_count": 14,
      "outputs": []
    },
    {
      "cell_type": "code",
      "metadata": {
        "id": "R-DL4ZbCnS0s",
        "colab": {
          "base_uri": "https://localhost:8080/",
          "height": 561
        },
        "outputId": "7cb90283-c8ef-413e-f6b6-67ffcbc6e638"
      },
      "source": [
        "guess = 0\n",
        "\n",
        "to_predict = len(y_test)\n",
        "\n",
        "for index in range(to_predict):\n",
        "    if np.argmax(predictions[index]) == np.argmax(y_test[index]):\n",
        "        guess += 1\n",
        "\n",
        "# np.argmax(predictions[index]), np.argmax(y_test[index])\n",
        "print(\"Guessed: {:.2f}%\".format(guess/to_predict*100))"
      ],
      "execution_count": 15,
      "outputs": [
        {
          "output_type": "error",
          "ename": "KeyError",
          "evalue": "ignored",
          "traceback": [
            "\u001b[0;31m---------------------------------------------------------------------------\u001b[0m",
            "\u001b[0;31mKeyError\u001b[0m                                  Traceback (most recent call last)",
            "\u001b[0;32m/usr/local/lib/python3.7/dist-packages/pandas/core/indexes/base.py\u001b[0m in \u001b[0;36mget_loc\u001b[0;34m(self, key, method, tolerance)\u001b[0m\n\u001b[1;32m   2897\u001b[0m             \u001b[0;32mtry\u001b[0m\u001b[0;34m:\u001b[0m\u001b[0;34m\u001b[0m\u001b[0;34m\u001b[0m\u001b[0m\n\u001b[0;32m-> 2898\u001b[0;31m                 \u001b[0;32mreturn\u001b[0m \u001b[0mself\u001b[0m\u001b[0;34m.\u001b[0m\u001b[0m_engine\u001b[0m\u001b[0;34m.\u001b[0m\u001b[0mget_loc\u001b[0m\u001b[0;34m(\u001b[0m\u001b[0mcasted_key\u001b[0m\u001b[0;34m)\u001b[0m\u001b[0;34m\u001b[0m\u001b[0;34m\u001b[0m\u001b[0m\n\u001b[0m\u001b[1;32m   2899\u001b[0m             \u001b[0;32mexcept\u001b[0m \u001b[0mKeyError\u001b[0m \u001b[0;32mas\u001b[0m \u001b[0merr\u001b[0m\u001b[0;34m:\u001b[0m\u001b[0;34m\u001b[0m\u001b[0;34m\u001b[0m\u001b[0m\n",
            "\u001b[0;32mpandas/_libs/index.pyx\u001b[0m in \u001b[0;36mpandas._libs.index.IndexEngine.get_loc\u001b[0;34m()\u001b[0m\n",
            "\u001b[0;32mpandas/_libs/index.pyx\u001b[0m in \u001b[0;36mpandas._libs.index.IndexEngine.get_loc\u001b[0;34m()\u001b[0m\n",
            "\u001b[0;32mpandas/_libs/hashtable_class_helper.pxi\u001b[0m in \u001b[0;36mpandas._libs.hashtable.Int64HashTable.get_item\u001b[0;34m()\u001b[0m\n",
            "\u001b[0;32mpandas/_libs/hashtable_class_helper.pxi\u001b[0m in \u001b[0;36mpandas._libs.hashtable.Int64HashTable.get_item\u001b[0;34m()\u001b[0m\n",
            "\u001b[0;31mKeyError\u001b[0m: 0",
            "\nThe above exception was the direct cause of the following exception:\n",
            "\u001b[0;31mKeyError\u001b[0m                                  Traceback (most recent call last)",
            "\u001b[0;32m<ipython-input-15-6c850b5cb6b4>\u001b[0m in \u001b[0;36m<module>\u001b[0;34m()\u001b[0m\n\u001b[1;32m      4\u001b[0m \u001b[0;34m\u001b[0m\u001b[0m\n\u001b[1;32m      5\u001b[0m \u001b[0;32mfor\u001b[0m \u001b[0mindex\u001b[0m \u001b[0;32min\u001b[0m \u001b[0mrange\u001b[0m\u001b[0;34m(\u001b[0m\u001b[0mto_predict\u001b[0m\u001b[0;34m)\u001b[0m\u001b[0;34m:\u001b[0m\u001b[0;34m\u001b[0m\u001b[0;34m\u001b[0m\u001b[0m\n\u001b[0;32m----> 6\u001b[0;31m     \u001b[0;32mif\u001b[0m \u001b[0mnp\u001b[0m\u001b[0;34m.\u001b[0m\u001b[0margmax\u001b[0m\u001b[0;34m(\u001b[0m\u001b[0mpredictions\u001b[0m\u001b[0;34m[\u001b[0m\u001b[0mindex\u001b[0m\u001b[0;34m]\u001b[0m\u001b[0;34m)\u001b[0m \u001b[0;34m==\u001b[0m \u001b[0mnp\u001b[0m\u001b[0;34m.\u001b[0m\u001b[0margmax\u001b[0m\u001b[0;34m(\u001b[0m\u001b[0my_test\u001b[0m\u001b[0;34m[\u001b[0m\u001b[0mindex\u001b[0m\u001b[0;34m]\u001b[0m\u001b[0;34m)\u001b[0m\u001b[0;34m:\u001b[0m\u001b[0;34m\u001b[0m\u001b[0;34m\u001b[0m\u001b[0m\n\u001b[0m\u001b[1;32m      7\u001b[0m         \u001b[0mguess\u001b[0m \u001b[0;34m+=\u001b[0m \u001b[0;36m1\u001b[0m\u001b[0;34m\u001b[0m\u001b[0;34m\u001b[0m\u001b[0m\n\u001b[1;32m      8\u001b[0m \u001b[0;34m\u001b[0m\u001b[0m\n",
            "\u001b[0;32m/usr/local/lib/python3.7/dist-packages/pandas/core/series.py\u001b[0m in \u001b[0;36m__getitem__\u001b[0;34m(self, key)\u001b[0m\n\u001b[1;32m    880\u001b[0m \u001b[0;34m\u001b[0m\u001b[0m\n\u001b[1;32m    881\u001b[0m         \u001b[0;32melif\u001b[0m \u001b[0mkey_is_scalar\u001b[0m\u001b[0;34m:\u001b[0m\u001b[0;34m\u001b[0m\u001b[0;34m\u001b[0m\u001b[0m\n\u001b[0;32m--> 882\u001b[0;31m             \u001b[0;32mreturn\u001b[0m \u001b[0mself\u001b[0m\u001b[0;34m.\u001b[0m\u001b[0m_get_value\u001b[0m\u001b[0;34m(\u001b[0m\u001b[0mkey\u001b[0m\u001b[0;34m)\u001b[0m\u001b[0;34m\u001b[0m\u001b[0;34m\u001b[0m\u001b[0m\n\u001b[0m\u001b[1;32m    883\u001b[0m \u001b[0;34m\u001b[0m\u001b[0m\n\u001b[1;32m    884\u001b[0m         \u001b[0;32mif\u001b[0m \u001b[0mis_hashable\u001b[0m\u001b[0;34m(\u001b[0m\u001b[0mkey\u001b[0m\u001b[0;34m)\u001b[0m\u001b[0;34m:\u001b[0m\u001b[0;34m\u001b[0m\u001b[0;34m\u001b[0m\u001b[0m\n",
            "\u001b[0;32m/usr/local/lib/python3.7/dist-packages/pandas/core/series.py\u001b[0m in \u001b[0;36m_get_value\u001b[0;34m(self, label, takeable)\u001b[0m\n\u001b[1;32m    988\u001b[0m \u001b[0;34m\u001b[0m\u001b[0m\n\u001b[1;32m    989\u001b[0m         \u001b[0;31m# Similar to Index.get_value, but we do not fall back to positional\u001b[0m\u001b[0;34m\u001b[0m\u001b[0;34m\u001b[0m\u001b[0;34m\u001b[0m\u001b[0m\n\u001b[0;32m--> 990\u001b[0;31m         \u001b[0mloc\u001b[0m \u001b[0;34m=\u001b[0m \u001b[0mself\u001b[0m\u001b[0;34m.\u001b[0m\u001b[0mindex\u001b[0m\u001b[0;34m.\u001b[0m\u001b[0mget_loc\u001b[0m\u001b[0;34m(\u001b[0m\u001b[0mlabel\u001b[0m\u001b[0;34m)\u001b[0m\u001b[0;34m\u001b[0m\u001b[0;34m\u001b[0m\u001b[0m\n\u001b[0m\u001b[1;32m    991\u001b[0m         \u001b[0;32mreturn\u001b[0m \u001b[0mself\u001b[0m\u001b[0;34m.\u001b[0m\u001b[0mindex\u001b[0m\u001b[0;34m.\u001b[0m\u001b[0m_get_values_for_loc\u001b[0m\u001b[0;34m(\u001b[0m\u001b[0mself\u001b[0m\u001b[0;34m,\u001b[0m \u001b[0mloc\u001b[0m\u001b[0;34m,\u001b[0m \u001b[0mlabel\u001b[0m\u001b[0;34m)\u001b[0m\u001b[0;34m\u001b[0m\u001b[0;34m\u001b[0m\u001b[0m\n\u001b[1;32m    992\u001b[0m \u001b[0;34m\u001b[0m\u001b[0m\n",
            "\u001b[0;32m/usr/local/lib/python3.7/dist-packages/pandas/core/indexes/base.py\u001b[0m in \u001b[0;36mget_loc\u001b[0;34m(self, key, method, tolerance)\u001b[0m\n\u001b[1;32m   2898\u001b[0m                 \u001b[0;32mreturn\u001b[0m \u001b[0mself\u001b[0m\u001b[0;34m.\u001b[0m\u001b[0m_engine\u001b[0m\u001b[0;34m.\u001b[0m\u001b[0mget_loc\u001b[0m\u001b[0;34m(\u001b[0m\u001b[0mcasted_key\u001b[0m\u001b[0;34m)\u001b[0m\u001b[0;34m\u001b[0m\u001b[0;34m\u001b[0m\u001b[0m\n\u001b[1;32m   2899\u001b[0m             \u001b[0;32mexcept\u001b[0m \u001b[0mKeyError\u001b[0m \u001b[0;32mas\u001b[0m \u001b[0merr\u001b[0m\u001b[0;34m:\u001b[0m\u001b[0;34m\u001b[0m\u001b[0;34m\u001b[0m\u001b[0m\n\u001b[0;32m-> 2900\u001b[0;31m                 \u001b[0;32mraise\u001b[0m \u001b[0mKeyError\u001b[0m\u001b[0;34m(\u001b[0m\u001b[0mkey\u001b[0m\u001b[0;34m)\u001b[0m \u001b[0;32mfrom\u001b[0m \u001b[0merr\u001b[0m\u001b[0;34m\u001b[0m\u001b[0;34m\u001b[0m\u001b[0m\n\u001b[0m\u001b[1;32m   2901\u001b[0m \u001b[0;34m\u001b[0m\u001b[0m\n\u001b[1;32m   2902\u001b[0m         \u001b[0;32mif\u001b[0m \u001b[0mtolerance\u001b[0m \u001b[0;32mis\u001b[0m \u001b[0;32mnot\u001b[0m \u001b[0;32mNone\u001b[0m\u001b[0;34m:\u001b[0m\u001b[0;34m\u001b[0m\u001b[0;34m\u001b[0m\u001b[0m\n",
            "\u001b[0;31mKeyError\u001b[0m: 0"
          ]
        }
      ]
    },
    {
      "cell_type": "code",
      "metadata": {
        "id": "WQvwXcUWu5qY"
      },
      "source": [
        "def show_confusion_matrix(validations, predictions):\n",
        "\n",
        "    matrix = metrics.confusion_matrix(validations, predictions)\n",
        "    plt.figure(figsize=(6, 4))\n",
        "    sns.heatmap(matrix,\n",
        "                cmap='coolwarm',\n",
        "                linecolor='white',\n",
        "                linewidths=1,\n",
        "                #xticklabels=LABELS,\n",
        "                #yticklabels='0','1','2',\n",
        "                annot=True,\n",
        "                fmt='d')\n",
        "    plt.title('Confusion Matrix')\n",
        "    plt.ylabel('True Label')\n",
        "    plt.xlabel('Predicted Label')\n",
        "    plt.show()"
      ],
      "execution_count": 16,
      "outputs": []
    },
    {
      "cell_type": "code",
      "metadata": {
        "colab": {
          "base_uri": "https://localhost:8080/",
          "height": 374
        },
        "id": "pOuDDvS2u-cd",
        "outputId": "4b411763-b02b-46fc-8273-fd5663aaba59"
      },
      "source": [
        "y_pred_test = model.predict(x_test)\n",
        "# Take the class with the highest probability from the test predictions\n",
        "max_y_pred_test = np.argmax(y_pred_test, axis=1)\n",
        "max_y_test = np.argmax(y_test, axis=1)\n",
        "\n",
        "show_confusion_matrix(max_y_test, max_y_pred_test)\n",
        "\n",
        "print(classification_report(max_y_test, max_y_pred_test))"
      ],
      "execution_count": 17,
      "outputs": [
        {
          "output_type": "error",
          "ename": "ValueError",
          "evalue": "ignored",
          "traceback": [
            "\u001b[0;31m---------------------------------------------------------------------------\u001b[0m",
            "\u001b[0;31mValueError\u001b[0m                                Traceback (most recent call last)",
            "\u001b[0;32m<ipython-input-17-8f06de224faf>\u001b[0m in \u001b[0;36m<module>\u001b[0;34m()\u001b[0m\n\u001b[1;32m      2\u001b[0m \u001b[0;31m# Take the class with the highest probability from the test predictions\u001b[0m\u001b[0;34m\u001b[0m\u001b[0;34m\u001b[0m\u001b[0;34m\u001b[0m\u001b[0m\n\u001b[1;32m      3\u001b[0m \u001b[0mmax_y_pred_test\u001b[0m \u001b[0;34m=\u001b[0m \u001b[0mnp\u001b[0m\u001b[0;34m.\u001b[0m\u001b[0margmax\u001b[0m\u001b[0;34m(\u001b[0m\u001b[0my_pred_test\u001b[0m\u001b[0;34m,\u001b[0m \u001b[0maxis\u001b[0m\u001b[0;34m=\u001b[0m\u001b[0;36m1\u001b[0m\u001b[0;34m)\u001b[0m\u001b[0;34m\u001b[0m\u001b[0;34m\u001b[0m\u001b[0m\n\u001b[0;32m----> 4\u001b[0;31m \u001b[0mmax_y_test\u001b[0m \u001b[0;34m=\u001b[0m \u001b[0mnp\u001b[0m\u001b[0;34m.\u001b[0m\u001b[0margmax\u001b[0m\u001b[0;34m(\u001b[0m\u001b[0my_test\u001b[0m\u001b[0;34m,\u001b[0m \u001b[0maxis\u001b[0m\u001b[0;34m=\u001b[0m\u001b[0;36m1\u001b[0m\u001b[0;34m)\u001b[0m\u001b[0;34m\u001b[0m\u001b[0;34m\u001b[0m\u001b[0m\n\u001b[0m\u001b[1;32m      5\u001b[0m \u001b[0;34m\u001b[0m\u001b[0m\n\u001b[1;32m      6\u001b[0m \u001b[0mshow_confusion_matrix\u001b[0m\u001b[0;34m(\u001b[0m\u001b[0mmax_y_test\u001b[0m\u001b[0;34m,\u001b[0m \u001b[0mmax_y_pred_test\u001b[0m\u001b[0;34m)\u001b[0m\u001b[0;34m\u001b[0m\u001b[0;34m\u001b[0m\u001b[0m\n",
            "\u001b[0;32m<__array_function__ internals>\u001b[0m in \u001b[0;36margmax\u001b[0;34m(*args, **kwargs)\u001b[0m\n",
            "\u001b[0;32m/usr/local/lib/python3.7/dist-packages/numpy/core/fromnumeric.py\u001b[0m in \u001b[0;36margmax\u001b[0;34m(a, axis, out)\u001b[0m\n\u001b[1;32m   1186\u001b[0m \u001b[0;34m\u001b[0m\u001b[0m\n\u001b[1;32m   1187\u001b[0m     \"\"\"\n\u001b[0;32m-> 1188\u001b[0;31m     \u001b[0;32mreturn\u001b[0m \u001b[0m_wrapfunc\u001b[0m\u001b[0;34m(\u001b[0m\u001b[0ma\u001b[0m\u001b[0;34m,\u001b[0m \u001b[0;34m'argmax'\u001b[0m\u001b[0;34m,\u001b[0m \u001b[0maxis\u001b[0m\u001b[0;34m=\u001b[0m\u001b[0maxis\u001b[0m\u001b[0;34m,\u001b[0m \u001b[0mout\u001b[0m\u001b[0;34m=\u001b[0m\u001b[0mout\u001b[0m\u001b[0;34m)\u001b[0m\u001b[0;34m\u001b[0m\u001b[0;34m\u001b[0m\u001b[0m\n\u001b[0m\u001b[1;32m   1189\u001b[0m \u001b[0;34m\u001b[0m\u001b[0m\n\u001b[1;32m   1190\u001b[0m \u001b[0;34m\u001b[0m\u001b[0m\n",
            "\u001b[0;32m/usr/local/lib/python3.7/dist-packages/numpy/core/fromnumeric.py\u001b[0m in \u001b[0;36m_wrapfunc\u001b[0;34m(obj, method, *args, **kwds)\u001b[0m\n\u001b[1;32m     56\u001b[0m \u001b[0;34m\u001b[0m\u001b[0m\n\u001b[1;32m     57\u001b[0m     \u001b[0;32mtry\u001b[0m\u001b[0;34m:\u001b[0m\u001b[0;34m\u001b[0m\u001b[0;34m\u001b[0m\u001b[0m\n\u001b[0;32m---> 58\u001b[0;31m         \u001b[0;32mreturn\u001b[0m \u001b[0mbound\u001b[0m\u001b[0;34m(\u001b[0m\u001b[0;34m*\u001b[0m\u001b[0margs\u001b[0m\u001b[0;34m,\u001b[0m \u001b[0;34m**\u001b[0m\u001b[0mkwds\u001b[0m\u001b[0;34m)\u001b[0m\u001b[0;34m\u001b[0m\u001b[0;34m\u001b[0m\u001b[0m\n\u001b[0m\u001b[1;32m     59\u001b[0m     \u001b[0;32mexcept\u001b[0m \u001b[0mTypeError\u001b[0m\u001b[0;34m:\u001b[0m\u001b[0;34m\u001b[0m\u001b[0;34m\u001b[0m\u001b[0m\n\u001b[1;32m     60\u001b[0m         \u001b[0;31m# A TypeError occurs if the object does have such a method in its\u001b[0m\u001b[0;34m\u001b[0m\u001b[0;34m\u001b[0m\u001b[0;34m\u001b[0m\u001b[0m\n",
            "\u001b[0;32m/usr/local/lib/python3.7/dist-packages/pandas/core/base.py\u001b[0m in \u001b[0;36margmax\u001b[0;34m(self, axis, skipna, *args, **kwargs)\u001b[0m\n\u001b[1;32m    952\u001b[0m         \u001b[0msince\u001b[0m \u001b[0mseries\u001b[0m \u001b[0;32mis\u001b[0m \u001b[0mzero\u001b[0m\u001b[0;34m-\u001b[0m\u001b[0mindexed\u001b[0m\u001b[0;34m.\u001b[0m\u001b[0;34m\u001b[0m\u001b[0;34m\u001b[0m\u001b[0m\n\u001b[1;32m    953\u001b[0m         \"\"\"\n\u001b[0;32m--> 954\u001b[0;31m         \u001b[0mnv\u001b[0m\u001b[0;34m.\u001b[0m\u001b[0mvalidate_minmax_axis\u001b[0m\u001b[0;34m(\u001b[0m\u001b[0maxis\u001b[0m\u001b[0;34m)\u001b[0m\u001b[0;34m\u001b[0m\u001b[0;34m\u001b[0m\u001b[0m\n\u001b[0m\u001b[1;32m    955\u001b[0m         \u001b[0mnv\u001b[0m\u001b[0;34m.\u001b[0m\u001b[0mvalidate_argmax_with_skipna\u001b[0m\u001b[0;34m(\u001b[0m\u001b[0mskipna\u001b[0m\u001b[0;34m,\u001b[0m \u001b[0margs\u001b[0m\u001b[0;34m,\u001b[0m \u001b[0mkwargs\u001b[0m\u001b[0;34m)\u001b[0m\u001b[0;34m\u001b[0m\u001b[0;34m\u001b[0m\u001b[0m\n\u001b[1;32m    956\u001b[0m         \u001b[0;32mreturn\u001b[0m \u001b[0mnanops\u001b[0m\u001b[0;34m.\u001b[0m\u001b[0mnanargmax\u001b[0m\u001b[0;34m(\u001b[0m\u001b[0mself\u001b[0m\u001b[0;34m.\u001b[0m\u001b[0m_values\u001b[0m\u001b[0;34m,\u001b[0m \u001b[0mskipna\u001b[0m\u001b[0;34m=\u001b[0m\u001b[0mskipna\u001b[0m\u001b[0;34m)\u001b[0m\u001b[0;34m\u001b[0m\u001b[0;34m\u001b[0m\u001b[0m\n",
            "\u001b[0;32m/usr/local/lib/python3.7/dist-packages/pandas/compat/numpy/function.py\u001b[0m in \u001b[0;36mvalidate_minmax_axis\u001b[0;34m(axis)\u001b[0m\n\u001b[1;32m    415\u001b[0m         \u001b[0;32mreturn\u001b[0m\u001b[0;34m\u001b[0m\u001b[0;34m\u001b[0m\u001b[0m\n\u001b[1;32m    416\u001b[0m     \u001b[0;32mif\u001b[0m \u001b[0maxis\u001b[0m \u001b[0;34m>=\u001b[0m \u001b[0mndim\u001b[0m \u001b[0;32mor\u001b[0m \u001b[0;34m(\u001b[0m\u001b[0maxis\u001b[0m \u001b[0;34m<\u001b[0m \u001b[0;36m0\u001b[0m \u001b[0;32mand\u001b[0m \u001b[0mndim\u001b[0m \u001b[0;34m+\u001b[0m \u001b[0maxis\u001b[0m \u001b[0;34m<\u001b[0m \u001b[0;36m0\u001b[0m\u001b[0;34m)\u001b[0m\u001b[0;34m:\u001b[0m\u001b[0;34m\u001b[0m\u001b[0;34m\u001b[0m\u001b[0m\n\u001b[0;32m--> 417\u001b[0;31m         \u001b[0;32mraise\u001b[0m \u001b[0mValueError\u001b[0m\u001b[0;34m(\u001b[0m\u001b[0;34mf\"`axis` must be fewer than the number of dimensions ({ndim})\"\u001b[0m\u001b[0;34m)\u001b[0m\u001b[0;34m\u001b[0m\u001b[0;34m\u001b[0m\u001b[0m\n\u001b[0m",
            "\u001b[0;31mValueError\u001b[0m: `axis` must be fewer than the number of dimensions (1)"
          ]
        }
      ]
    },
    {
      "cell_type": "markdown",
      "metadata": {
        "id": "Bm_F9L2umUnx"
      },
      "source": [
        "# Predictions"
      ]
    },
    {
      "cell_type": "code",
      "metadata": {
        "id": "-3AwFe0E7aPG"
      },
      "source": [
        "# test the trained model with the full x_test\n",
        "predictions = model.predict(x_test)"
      ],
      "execution_count": null,
      "outputs": []
    },
    {
      "cell_type": "code",
      "metadata": {
        "colab": {
          "base_uri": "https://localhost:8080/"
        },
        "id": "frOwP6RL7ghF",
        "outputId": "2912a708-caef-429a-fc54-ee6ab0f7af00"
      },
      "source": [
        "predictions[0], y_test[0]"
      ],
      "execution_count": null,
      "outputs": [
        {
          "output_type": "execute_result",
          "data": {
            "text/plain": [
              "(array([0.02846027, 0.89990205, 0.07163768], dtype=float32),\n",
              " array([0., 1., 0.], dtype=float32))"
            ]
          },
          "metadata": {
            "tags": []
          },
          "execution_count": 74
        }
      ]
    },
    {
      "cell_type": "code",
      "metadata": {
        "colab": {
          "base_uri": "https://localhost:8080/"
        },
        "id": "Tnjgb73S7yDd",
        "outputId": "b3e7e996-b9cb-43c2-88b9-6ccb62a7b194"
      },
      "source": [
        "predictions[500], y_test[500]"
      ],
      "execution_count": null,
      "outputs": [
        {
          "output_type": "execute_result",
          "data": {
            "text/plain": [
              "(array([0.05969261, 0.7548642 , 0.18544324], dtype=float32),\n",
              " array([0., 1., 0.], dtype=float32))"
            ]
          },
          "metadata": {
            "tags": []
          },
          "execution_count": 75
        }
      ]
    },
    {
      "cell_type": "code",
      "metadata": {
        "colab": {
          "base_uri": "https://localhost:8080/"
        },
        "id": "gi4CQeJA707J",
        "outputId": "2f731027-9cca-432b-d998-100fab265aad"
      },
      "source": [
        "predictions[800], y_test[800]"
      ],
      "execution_count": null,
      "outputs": [
        {
          "output_type": "execute_result",
          "data": {
            "text/plain": [
              "(array([0.06639516, 0.5557858 , 0.37781912], dtype=float32),\n",
              " array([0., 1., 0.], dtype=float32))"
            ]
          },
          "metadata": {
            "tags": []
          },
          "execution_count": 76
        }
      ]
    },
    {
      "cell_type": "code",
      "metadata": {
        "colab": {
          "base_uri": "https://localhost:8080/"
        },
        "id": "9KWU4Uyi723q",
        "outputId": "2a9cb662-403f-40e2-9f39-fcaa7668db56"
      },
      "source": [
        "predictions[1200], y_test[1200]"
      ],
      "execution_count": null,
      "outputs": [
        {
          "output_type": "execute_result",
          "data": {
            "text/plain": [
              "(array([0.04926674, 0.74609387, 0.20463938], dtype=float32),\n",
              " array([0., 1., 0.], dtype=float32))"
            ]
          },
          "metadata": {
            "tags": []
          },
          "execution_count": 77
        }
      ]
    },
    {
      "cell_type": "code",
      "metadata": {
        "colab": {
          "base_uri": "https://localhost:8080/",
          "height": 171
        },
        "id": "LevQdew074E-",
        "outputId": "2fc1b41c-16ce-4fb6-c2bd-5bbcddf127e6"
      },
      "source": [
        "predictions[2000], y_test[2000] # bad prediction"
      ],
      "execution_count": null,
      "outputs": [
        {
          "output_type": "error",
          "ename": "NameError",
          "evalue": "ignored",
          "traceback": [
            "\u001b[0;31m---------------------------------------------------------------------------\u001b[0m",
            "\u001b[0;31mNameError\u001b[0m                                 Traceback (most recent call last)",
            "\u001b[0;32m<ipython-input-51-fbaca9589ac0>\u001b[0m in \u001b[0;36m<module>\u001b[0;34m()\u001b[0m\n\u001b[0;32m----> 1\u001b[0;31m \u001b[0mpredictions\u001b[0m\u001b[0;34m[\u001b[0m\u001b[0;36m2000\u001b[0m\u001b[0;34m]\u001b[0m\u001b[0;34m,\u001b[0m \u001b[0my_test\u001b[0m\u001b[0;34m[\u001b[0m\u001b[0;36m2000\u001b[0m\u001b[0;34m]\u001b[0m \u001b[0;31m# bad prediction\u001b[0m\u001b[0;34m\u001b[0m\u001b[0;34m\u001b[0m\u001b[0m\n\u001b[0m",
            "\u001b[0;31mNameError\u001b[0m: name 'predictions' is not defined"
          ]
        }
      ]
    },
    {
      "cell_type": "code",
      "metadata": {
        "colab": {
          "base_uri": "https://localhost:8080/"
        },
        "id": "qMCdP_Dk8GXX",
        "outputId": "5daf39d5-766e-4949-e3ac-9a0c783a738a"
      },
      "source": [
        "predictions[2400], y_test[2400]"
      ],
      "execution_count": null,
      "outputs": [
        {
          "output_type": "execute_result",
          "data": {
            "text/plain": [
              "(array([0.05789682, 0.83688635, 0.10521688], dtype=float32),\n",
              " array([0., 1., 0.], dtype=float32))"
            ]
          },
          "metadata": {
            "tags": []
          },
          "execution_count": 85
        }
      ]
    },
    {
      "cell_type": "code",
      "metadata": {
        "colab": {
          "base_uri": "https://localhost:8080/",
          "height": 189
        },
        "id": "pssKjwnzT2Kw",
        "outputId": "16efa001-9da0-487b-cef5-3361833263f1"
      },
      "source": [
        "for i in range(2000):\n",
        "    predictions[i]"
      ],
      "execution_count": null,
      "outputs": [
        {
          "output_type": "error",
          "ename": "NameError",
          "evalue": "ignored",
          "traceback": [
            "\u001b[0;31m---------------------------------------------------------------------------\u001b[0m",
            "\u001b[0;31mNameError\u001b[0m                                 Traceback (most recent call last)",
            "\u001b[0;32m<ipython-input-44-e6c2fb9ef533>\u001b[0m in \u001b[0;36m<module>\u001b[0;34m()\u001b[0m\n\u001b[1;32m      1\u001b[0m \u001b[0;32mfor\u001b[0m \u001b[0mi\u001b[0m \u001b[0;32min\u001b[0m \u001b[0mrange\u001b[0m\u001b[0;34m(\u001b[0m\u001b[0;36m2000\u001b[0m\u001b[0;34m)\u001b[0m\u001b[0;34m:\u001b[0m\u001b[0;34m\u001b[0m\u001b[0;34m\u001b[0m\u001b[0m\n\u001b[0;32m----> 2\u001b[0;31m     \u001b[0mpredictions\u001b[0m\u001b[0;34m[\u001b[0m\u001b[0mi\u001b[0m\u001b[0;34m]\u001b[0m\u001b[0;34m\u001b[0m\u001b[0;34m\u001b[0m\u001b[0m\n\u001b[0m",
            "\u001b[0;31mNameError\u001b[0m: name 'predictions' is not defined"
          ]
        }
      ]
    }
  ]
}