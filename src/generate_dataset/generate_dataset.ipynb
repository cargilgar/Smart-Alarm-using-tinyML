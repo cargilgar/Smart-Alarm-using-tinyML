{
 "cells": [
  {
   "cell_type": "code",
   "execution_count": null,
   "id": "1pH40itHTdra",
   "metadata": {
    "id": "1pH40itHTdra"
   },
   "outputs": [],
   "source": [
    "# Licensed under the Apache License, Version 2.0 (the \"License\");\n",
    "# you may not use this file except in compliance with the License.\n",
    "# You may obtain a copy of the License at\n",
    "#\n",
    "# https://www.apache.org/licenses/LICENSE-2.0\n",
    "#\n",
    "# Unless required by applicable law or agreed to in writing, software\n",
    "# distributed under the License is distributed on an \"AS IS\" BASIS,\n",
    "# WITHOUT WARRANTIES OR CONDITIONS OF ANY KIND, either express or implied.\n",
    "# See the License for the specific language governing permissions and\n",
    "# limitations under the License."
   ]
  },
  {
   "cell_type": "code",
   "execution_count": null,
   "id": "88Ve2wbXTfNL",
   "metadata": {
    "id": "88Ve2wbXTfNL"
   },
   "outputs": [],
   "source": [
    "# from google.colab import drive\n",
    "# drive.mount('/content/drive')"
   ]
  },
  {
   "cell_type": "code",
   "execution_count": 1,
   "id": "PS7-hk5PTbUU",
   "metadata": {
    "colab": {
     "base_uri": "https://localhost:8080/"
    },
    "executionInfo": {
     "elapsed": 324857,
     "status": "ok",
     "timestamp": 1622616077044,
     "user": {
      "displayName": "Carlos Gil",
      "photoUrl": "",
      "userId": "12309568779801871703"
     },
     "user_tz": -120
    },
    "id": "PS7-hk5PTbUU",
    "outputId": "6138d216-acfd-4aca-a02b-52398024b479"
   },
   "outputs": [
    {
     "name": "stdout",
     "output_type": "stream",
     "text": [
      "Reading package lists... Done\n",
      "Building dependency tree       \n",
      "Reading state information... Done\n",
      "wget is already the newest version (1.19.4-1ubuntu2.2).\n",
      "The following package was automatically installed and is no longer required:\n",
      "  libnvidia-common-460\n",
      "Use 'sudo apt autoremove' to remove it.\n",
      "0 upgraded, 0 newly installed, 0 to remove and 34 not upgraded.\n",
      "Last-modified header missing -- time-stamps turned off.\n",
      "2021-06-02 06:36:01 URL:https://physionet.org/files/sleep-accel/1.0.0/ [925] -> \"physionet.org/files/sleep-accel/1.0.0/index.html\" [1]\n",
      "2021-06-02 06:36:01 URL:https://physionet.org/robots.txt [22/22] -> \"physionet.org/robots.txt\" [1]\n",
      "Last-modified header missing -- time-stamps turned off.\n",
      "2021-06-02 06:36:01 URL:https://physionet.org/files/sleep-accel/1.0.0/heart_rate/ [4162] -> \"physionet.org/files/sleep-accel/1.0.0/heart_rate/index.html\" [1]\n",
      "Last-modified header missing -- time-stamps turned off.\n",
      "2021-06-02 06:36:01 URL:https://physionet.org/files/sleep-accel/1.0.0/labels/ [4278] -> \"physionet.org/files/sleep-accel/1.0.0/labels/index.html\" [1]\n",
      "Last-modified header missing -- time-stamps turned off.\n",
      "2021-06-02 06:36:01 URL:https://physionet.org/files/sleep-accel/1.0.0/motion/ [4247] -> \"physionet.org/files/sleep-accel/1.0.0/motion/index.html\" [1]\n",
      "Last-modified header missing -- time-stamps turned off.\n",
      "2021-06-02 06:36:01 URL:https://physionet.org/files/sleep-accel/1.0.0/steps/ [4028] -> \"physionet.org/files/sleep-accel/1.0.0/steps/index.html\" [1]\n",
      "2021-06-02 06:36:02 URL:https://physionet.org/files/sleep-accel/1.0.0/LICENSE.txt [20402/20402] -> \"physionet.org/files/sleep-accel/1.0.0/LICENSE.txt\" [1]\n",
      "2021-06-02 06:36:02 URL:https://physionet.org/files/sleep-accel/1.0.0/SHA256SUMS.txt [11899/11899] -> \"physionet.org/files/sleep-accel/1.0.0/SHA256SUMS.txt\" [1]\n",
      "2021-06-02 06:36:02 URL:https://physionet.org/files/sleep-accel/1.0.0/heart_rate/1066528_heartrate.txt [276120/276120] -> \"physionet.org/files/sleep-accel/1.0.0/heart_rate/1066528_heartrate.txt\" [1]\n",
      "2021-06-02 06:36:02 URL:https://physionet.org/files/sleep-accel/1.0.0/heart_rate/1360686_heartrate.txt [114860/114860] -> \"physionet.org/files/sleep-accel/1.0.0/heart_rate/1360686_heartrate.txt\" [1]\n",
      "2021-06-02 06:36:02 URL:https://physionet.org/files/sleep-accel/1.0.0/heart_rate/1449548_heartrate.txt [215078/215078] -> \"physionet.org/files/sleep-accel/1.0.0/heart_rate/1449548_heartrate.txt\" [1]\n",
      "2021-06-02 06:36:02 URL:https://physionet.org/files/sleep-accel/1.0.0/heart_rate/1455390_heartrate.txt [114160/114160] -> \"physionet.org/files/sleep-accel/1.0.0/heart_rate/1455390_heartrate.txt\" [1]\n",
      "2021-06-02 06:36:02 URL:https://physionet.org/files/sleep-accel/1.0.0/heart_rate/1818471_heartrate.txt [120310/120310] -> \"physionet.org/files/sleep-accel/1.0.0/heart_rate/1818471_heartrate.txt\" [1]\n",
      "2021-06-02 06:36:02 URL:https://physionet.org/files/sleep-accel/1.0.0/heart_rate/2598705_heartrate.txt [113042/113042] -> \"physionet.org/files/sleep-accel/1.0.0/heart_rate/2598705_heartrate.txt\" [1]\n",
      "2021-06-02 06:36:02 URL:https://physionet.org/files/sleep-accel/1.0.0/heart_rate/2638030_heartrate.txt [117527/117527] -> \"physionet.org/files/sleep-accel/1.0.0/heart_rate/2638030_heartrate.txt\" [1]\n",
      "2021-06-02 06:36:02 URL:https://physionet.org/files/sleep-accel/1.0.0/heart_rate/3509524_heartrate.txt [65234/65234] -> \"physionet.org/files/sleep-accel/1.0.0/heart_rate/3509524_heartrate.txt\" [1]\n",
      "2021-06-02 06:36:02 URL:https://physionet.org/files/sleep-accel/1.0.0/heart_rate/3997827_heartrate.txt [135169/135169] -> \"physionet.org/files/sleep-accel/1.0.0/heart_rate/3997827_heartrate.txt\" [1]\n",
      "2021-06-02 06:36:02 URL:https://physionet.org/files/sleep-accel/1.0.0/heart_rate/4018081_heartrate.txt [84717/84717] -> \"physionet.org/files/sleep-accel/1.0.0/heart_rate/4018081_heartrate.txt\" [1]\n",
      "2021-06-02 06:36:02 URL:https://physionet.org/files/sleep-accel/1.0.0/heart_rate/4314139_heartrate.txt [185676/185676] -> \"physionet.org/files/sleep-accel/1.0.0/heart_rate/4314139_heartrate.txt\" [1]\n",
      "2021-06-02 06:36:02 URL:https://physionet.org/files/sleep-accel/1.0.0/heart_rate/4426783_heartrate.txt [274961/274961] -> \"physionet.org/files/sleep-accel/1.0.0/heart_rate/4426783_heartrate.txt\" [1]\n",
      "2021-06-02 06:36:02 URL:https://physionet.org/files/sleep-accel/1.0.0/heart_rate/46343_heartrate.txt [82703/82703] -> \"physionet.org/files/sleep-accel/1.0.0/heart_rate/46343_heartrate.txt\" [1]\n",
      "2021-06-02 06:36:02 URL:https://physionet.org/files/sleep-accel/1.0.0/heart_rate/5132496_heartrate.txt [72217/72217] -> \"physionet.org/files/sleep-accel/1.0.0/heart_rate/5132496_heartrate.txt\" [1]\n",
      "2021-06-02 06:36:03 URL:https://physionet.org/files/sleep-accel/1.0.0/heart_rate/5383425_heartrate.txt [92313/92313] -> \"physionet.org/files/sleep-accel/1.0.0/heart_rate/5383425_heartrate.txt\" [1]\n",
      "2021-06-02 06:36:03 URL:https://physionet.org/files/sleep-accel/1.0.0/heart_rate/5498603_heartrate.txt [135063/135063] -> \"physionet.org/files/sleep-accel/1.0.0/heart_rate/5498603_heartrate.txt\" [1]\n",
      "2021-06-02 06:36:03 URL:https://physionet.org/files/sleep-accel/1.0.0/heart_rate/5797046_heartrate.txt [206064/206064] -> \"physionet.org/files/sleep-accel/1.0.0/heart_rate/5797046_heartrate.txt\" [1]\n",
      "2021-06-02 06:36:03 URL:https://physionet.org/files/sleep-accel/1.0.0/heart_rate/6220552_heartrate.txt [116983/116983] -> \"physionet.org/files/sleep-accel/1.0.0/heart_rate/6220552_heartrate.txt\" [1]\n",
      "2021-06-02 06:36:03 URL:https://physionet.org/files/sleep-accel/1.0.0/heart_rate/759667_heartrate.txt [73625/73625] -> \"physionet.org/files/sleep-accel/1.0.0/heart_rate/759667_heartrate.txt\" [1]\n",
      "2021-06-02 06:36:03 URL:https://physionet.org/files/sleep-accel/1.0.0/heart_rate/7749105_heartrate.txt [40356/40356] -> \"physionet.org/files/sleep-accel/1.0.0/heart_rate/7749105_heartrate.txt\" [1]\n",
      "2021-06-02 06:36:03 URL:https://physionet.org/files/sleep-accel/1.0.0/heart_rate/781756_heartrate.txt [300404/300404] -> \"physionet.org/files/sleep-accel/1.0.0/heart_rate/781756_heartrate.txt\" [1]\n",
      "2021-06-02 06:36:03 URL:https://physionet.org/files/sleep-accel/1.0.0/heart_rate/8000685_heartrate.txt [114746/114746] -> \"physionet.org/files/sleep-accel/1.0.0/heart_rate/8000685_heartrate.txt\" [1]\n",
      "2021-06-02 06:36:03 URL:https://physionet.org/files/sleep-accel/1.0.0/heart_rate/8173033_heartrate.txt [96978/96978] -> \"physionet.org/files/sleep-accel/1.0.0/heart_rate/8173033_heartrate.txt\" [1]\n",
      "2021-06-02 06:36:03 URL:https://physionet.org/files/sleep-accel/1.0.0/heart_rate/8258170_heartrate.txt [105155/105155] -> \"physionet.org/files/sleep-accel/1.0.0/heart_rate/8258170_heartrate.txt\" [1]\n",
      "2021-06-02 06:36:03 URL:https://physionet.org/files/sleep-accel/1.0.0/heart_rate/844359_heartrate.txt [117893/117893] -> \"physionet.org/files/sleep-accel/1.0.0/heart_rate/844359_heartrate.txt\" [1]\n",
      "2021-06-02 06:36:03 URL:https://physionet.org/files/sleep-accel/1.0.0/heart_rate/8530312_heartrate.txt [117518/117518] -> \"physionet.org/files/sleep-accel/1.0.0/heart_rate/8530312_heartrate.txt\" [1]\n",
      "2021-06-02 06:36:03 URL:https://physionet.org/files/sleep-accel/1.0.0/heart_rate/8686948_heartrate.txt [110181/110181] -> \"physionet.org/files/sleep-accel/1.0.0/heart_rate/8686948_heartrate.txt\" [1]\n",
      "2021-06-02 06:36:03 URL:https://physionet.org/files/sleep-accel/1.0.0/heart_rate/8692923_heartrate.txt [124856/124856] -> \"physionet.org/files/sleep-accel/1.0.0/heart_rate/8692923_heartrate.txt\" [1]\n",
      "2021-06-02 06:36:03 URL:https://physionet.org/files/sleep-accel/1.0.0/heart_rate/9106476_heartrate.txt [131510/131510] -> \"physionet.org/files/sleep-accel/1.0.0/heart_rate/9106476_heartrate.txt\" [1]\n",
      "2021-06-02 06:36:03 URL:https://physionet.org/files/sleep-accel/1.0.0/heart_rate/9618981_heartrate.txt [102430/102430] -> \"physionet.org/files/sleep-accel/1.0.0/heart_rate/9618981_heartrate.txt\" [1]\n",
      "2021-06-02 06:36:03 URL:https://physionet.org/files/sleep-accel/1.0.0/heart_rate/9961348_heartrate.txt [258613/258613] -> \"physionet.org/files/sleep-accel/1.0.0/heart_rate/9961348_heartrate.txt\" [1]\n",
      "2021-06-02 06:36:03 URL:https://physionet.org/files/sleep-accel/1.0.0/labels/1066528_labeled_sleep.txt [7243/7243] -> \"physionet.org/files/sleep-accel/1.0.0/labels/1066528_labeled_sleep.txt\" [1]\n",
      "2021-06-02 06:36:04 URL:https://physionet.org/files/sleep-accel/1.0.0/labels/1360686_labeled_sleep.txt [7391/7391] -> \"physionet.org/files/sleep-accel/1.0.0/labels/1360686_labeled_sleep.txt\" [1]\n",
      "2021-06-02 06:36:04 URL:https://physionet.org/files/sleep-accel/1.0.0/labels/1449548_labeled_sleep.txt [7359/7359] -> \"physionet.org/files/sleep-accel/1.0.0/labels/1449548_labeled_sleep.txt\" [1]\n",
      "2021-06-02 06:36:04 URL:https://physionet.org/files/sleep-accel/1.0.0/labels/1455390_labeled_sleep.txt [7582/7582] -> \"physionet.org/files/sleep-accel/1.0.0/labels/1455390_labeled_sleep.txt\" [1]\n",
      "2021-06-02 06:36:04 URL:https://physionet.org/files/sleep-accel/1.0.0/labels/1818471_labeled_sleep.txt [7561/7561] -> \"physionet.org/files/sleep-accel/1.0.0/labels/1818471_labeled_sleep.txt\" [1]\n",
      "2021-06-02 06:36:04 URL:https://physionet.org/files/sleep-accel/1.0.0/labels/2598705_labeled_sleep.txt [7520/7520] -> \"physionet.org/files/sleep-accel/1.0.0/labels/2598705_labeled_sleep.txt\" [1]\n",
      "2021-06-02 06:36:04 URL:https://physionet.org/files/sleep-accel/1.0.0/labels/2638030_labeled_sleep.txt [7400/7400] -> \"physionet.org/files/sleep-accel/1.0.0/labels/2638030_labeled_sleep.txt\" [1]\n",
      "2021-06-02 06:36:04 URL:https://physionet.org/files/sleep-accel/1.0.0/labels/3509524_labeled_sleep.txt [2963/2963] -> \"physionet.org/files/sleep-accel/1.0.0/labels/3509524_labeled_sleep.txt\" [1]\n",
      "2021-06-02 06:36:04 URL:https://physionet.org/files/sleep-accel/1.0.0/labels/3997827_labeled_sleep.txt [7462/7462] -> \"physionet.org/files/sleep-accel/1.0.0/labels/3997827_labeled_sleep.txt\" [1]\n",
      "2021-06-02 06:36:04 URL:https://physionet.org/files/sleep-accel/1.0.0/labels/4018081_labeled_sleep.txt [3707/3707] -> \"physionet.org/files/sleep-accel/1.0.0/labels/4018081_labeled_sleep.txt\" [1]\n",
      "2021-06-02 06:36:04 URL:https://physionet.org/files/sleep-accel/1.0.0/labels/4314139_labeled_sleep.txt [7396/7396] -> \"physionet.org/files/sleep-accel/1.0.0/labels/4314139_labeled_sleep.txt\" [1]\n",
      "2021-06-02 06:36:04 URL:https://physionet.org/files/sleep-accel/1.0.0/labels/4426783_labeled_sleep.txt [7467/7467] -> \"physionet.org/files/sleep-accel/1.0.0/labels/4426783_labeled_sleep.txt\" [1]\n",
      "2021-06-02 06:36:04 URL:https://physionet.org/files/sleep-accel/1.0.0/labels/46343_labeled_sleep.txt [4176/4176] -> \"physionet.org/files/sleep-accel/1.0.0/labels/46343_labeled_sleep.txt\" [1]\n",
      "2021-06-02 06:36:04 URL:https://physionet.org/files/sleep-accel/1.0.0/labels/5132496_labeled_sleep.txt [3347/3347] -> \"physionet.org/files/sleep-accel/1.0.0/labels/5132496_labeled_sleep.txt\" [1]\n",
      "2021-06-02 06:36:04 URL:https://physionet.org/files/sleep-accel/1.0.0/labels/5383425_labeled_sleep.txt [7453/7453] -> \"physionet.org/files/sleep-accel/1.0.0/labels/5383425_labeled_sleep.txt\" [1]\n",
      "2021-06-02 06:36:04 URL:https://physionet.org/files/sleep-accel/1.0.0/labels/5498603_labeled_sleep.txt [5714/5714] -> \"physionet.org/files/sleep-accel/1.0.0/labels/5498603_labeled_sleep.txt\" [1]\n",
      "2021-06-02 06:36:04 URL:https://physionet.org/files/sleep-accel/1.0.0/labels/5797046_labeled_sleep.txt [7346/7346] -> \"physionet.org/files/sleep-accel/1.0.0/labels/5797046_labeled_sleep.txt\" [1]\n",
      "2021-06-02 06:36:04 URL:https://physionet.org/files/sleep-accel/1.0.0/labels/6220552_labeled_sleep.txt [7510/7510] -> \"physionet.org/files/sleep-accel/1.0.0/labels/6220552_labeled_sleep.txt\" [1]\n",
      "2021-06-02 06:36:04 URL:https://physionet.org/files/sleep-accel/1.0.0/labels/759667_labeled_sleep.txt [3427/3427] -> \"physionet.org/files/sleep-accel/1.0.0/labels/759667_labeled_sleep.txt\" [1]\n",
      "2021-06-02 06:36:04 URL:https://physionet.org/files/sleep-accel/1.0.0/labels/7749105_labeled_sleep.txt [7322/7322] -> \"physionet.org/files/sleep-accel/1.0.0/labels/7749105_labeled_sleep.txt\" [1]\n",
      "2021-06-02 06:36:05 URL:https://physionet.org/files/sleep-accel/1.0.0/labels/781756_labeled_sleep.txt [7475/7475] -> \"physionet.org/files/sleep-accel/1.0.0/labels/781756_labeled_sleep.txt\" [1]\n",
      "2021-06-02 06:36:05 URL:https://physionet.org/files/sleep-accel/1.0.0/labels/8000685_labeled_sleep.txt [7355/7355] -> \"physionet.org/files/sleep-accel/1.0.0/labels/8000685_labeled_sleep.txt\" [1]\n",
      "2021-06-02 06:36:05 URL:https://physionet.org/files/sleep-accel/1.0.0/labels/8173033_labeled_sleep.txt [7537/7537] -> \"physionet.org/files/sleep-accel/1.0.0/labels/8173033_labeled_sleep.txt\" [1]\n",
      "2021-06-02 06:36:05 URL:https://physionet.org/files/sleep-accel/1.0.0/labels/8258170_labeled_sleep.txt [7403/7403] -> \"physionet.org/files/sleep-accel/1.0.0/labels/8258170_labeled_sleep.txt\" [1]\n",
      "2021-06-02 06:36:05 URL:https://physionet.org/files/sleep-accel/1.0.0/labels/844359_labeled_sleep.txt [7271/7271] -> \"physionet.org/files/sleep-accel/1.0.0/labels/844359_labeled_sleep.txt\" [1]\n",
      "2021-06-02 06:36:05 URL:https://physionet.org/files/sleep-accel/1.0.0/labels/8530312_labeled_sleep.txt [7374/7374] -> \"physionet.org/files/sleep-accel/1.0.0/labels/8530312_labeled_sleep.txt\" [1]\n",
      "2021-06-02 06:36:05 URL:https://physionet.org/files/sleep-accel/1.0.0/labels/8686948_labeled_sleep.txt [7411/7411] -> \"physionet.org/files/sleep-accel/1.0.0/labels/8686948_labeled_sleep.txt\" [1]\n",
      "2021-06-02 06:36:05 URL:https://physionet.org/files/sleep-accel/1.0.0/labels/8692923_labeled_sleep.txt [7376/7376] -> \"physionet.org/files/sleep-accel/1.0.0/labels/8692923_labeled_sleep.txt\" [1]\n",
      "2021-06-02 06:36:05 URL:https://physionet.org/files/sleep-accel/1.0.0/labels/9106476_labeled_sleep.txt [7441/7441] -> \"physionet.org/files/sleep-accel/1.0.0/labels/9106476_labeled_sleep.txt\" [1]\n",
      "2021-06-02 06:36:05 URL:https://physionet.org/files/sleep-accel/1.0.0/labels/9618981_labeled_sleep.txt [7187/7187] -> \"physionet.org/files/sleep-accel/1.0.0/labels/9618981_labeled_sleep.txt\" [1]\n",
      "2021-06-02 06:36:05 URL:https://physionet.org/files/sleep-accel/1.0.0/labels/9961348_labeled_sleep.txt [5387/5387] -> \"physionet.org/files/sleep-accel/1.0.0/labels/9961348_labeled_sleep.txt\" [1]\n",
      "2021-06-02 06:36:08 URL:https://physionet.org/files/sleep-accel/1.0.0/motion/1066528_acceleration.txt [57331743/57331743] -> \"physionet.org/files/sleep-accel/1.0.0/motion/1066528_acceleration.txt\" [1]\n",
      "2021-06-02 06:36:13 URL:https://physionet.org/files/sleep-accel/1.0.0/motion/1360686_acceleration.txt [70567885/70567885] -> \"physionet.org/files/sleep-accel/1.0.0/motion/1360686_acceleration.txt\" [1]\n",
      "2021-06-02 06:36:24 URL:https://physionet.org/files/sleep-accel/1.0.0/motion/1449548_acceleration.txt [81544632/81544632] -> \"physionet.org/files/sleep-accel/1.0.0/motion/1449548_acceleration.txt\" [1]\n",
      "2021-06-02 06:36:32 URL:https://physionet.org/files/sleep-accel/1.0.0/motion/1455390_acceleration.txt [72218151/72218151] -> \"physionet.org/files/sleep-accel/1.0.0/motion/1455390_acceleration.txt\" [1]\n",
      "2021-06-02 06:36:40 URL:https://physionet.org/files/sleep-accel/1.0.0/motion/1818471_acceleration.txt [74671017/74671017] -> \"physionet.org/files/sleep-accel/1.0.0/motion/1818471_acceleration.txt\" [1]\n",
      "2021-06-02 06:36:48 URL:https://physionet.org/files/sleep-accel/1.0.0/motion/2598705_acceleration.txt [72350296/72350296] -> \"physionet.org/files/sleep-accel/1.0.0/motion/2598705_acceleration.txt\" [1]\n",
      "2021-06-02 06:37:01 URL:https://physionet.org/files/sleep-accel/1.0.0/motion/2638030_acceleration.txt [89545927/89545927] -> \"physionet.org/files/sleep-accel/1.0.0/motion/2638030_acceleration.txt\" [1]\n",
      "2021-06-02 06:37:08 URL:https://physionet.org/files/sleep-accel/1.0.0/motion/3509524_acceleration.txt [50611367/50611367] -> \"physionet.org/files/sleep-accel/1.0.0/motion/3509524_acceleration.txt\" [1]\n",
      "2021-06-02 06:37:24 URL:https://physionet.org/files/sleep-accel/1.0.0/motion/3997827_acceleration.txt [82170857/82170857] -> \"physionet.org/files/sleep-accel/1.0.0/motion/3997827_acceleration.txt\" [1]\n",
      "2021-06-02 06:37:33 URL:https://physionet.org/files/sleep-accel/1.0.0/motion/4018081_acceleration.txt [50337704/50337704] -> \"physionet.org/files/sleep-accel/1.0.0/motion/4018081_acceleration.txt\" [1]\n",
      "2021-06-02 06:37:38 URL:https://physionet.org/files/sleep-accel/1.0.0/motion/4314139_acceleration.txt [68646164/68646164] -> \"physionet.org/files/sleep-accel/1.0.0/motion/4314139_acceleration.txt\" [1]\n",
      "2021-06-02 06:37:43 URL:https://physionet.org/files/sleep-accel/1.0.0/motion/4426783_acceleration.txt [79547090/79547090] -> \"physionet.org/files/sleep-accel/1.0.0/motion/4426783_acceleration.txt\" [1]\n",
      "2021-06-02 06:37:49 URL:https://physionet.org/files/sleep-accel/1.0.0/motion/46343_acceleration.txt [44656043/44656043] -> \"physionet.org/files/sleep-accel/1.0.0/motion/46343_acceleration.txt\" [1]\n",
      "2021-06-02 06:37:55 URL:https://physionet.org/files/sleep-accel/1.0.0/motion/5132496_acceleration.txt [55329450/55329450] -> \"physionet.org/files/sleep-accel/1.0.0/motion/5132496_acceleration.txt\" [1]\n",
      "2021-06-02 06:37:57 URL:https://physionet.org/files/sleep-accel/1.0.0/motion/5383425_acceleration.txt [13456185/13456185] -> \"physionet.org/files/sleep-accel/1.0.0/motion/5383425_acceleration.txt\" [1]\n",
      "2021-06-02 06:38:04 URL:https://physionet.org/files/sleep-accel/1.0.0/motion/5498603_acceleration.txt [61629219/61629219] -> \"physionet.org/files/sleep-accel/1.0.0/motion/5498603_acceleration.txt\" [1]\n",
      "2021-06-02 06:38:13 URL:https://physionet.org/files/sleep-accel/1.0.0/motion/5797046_acceleration.txt [84493260/84493260] -> \"physionet.org/files/sleep-accel/1.0.0/motion/5797046_acceleration.txt\" [1]\n",
      "2021-06-02 06:38:22 URL:https://physionet.org/files/sleep-accel/1.0.0/motion/6220552_acceleration.txt [82908418/82908418] -> \"physionet.org/files/sleep-accel/1.0.0/motion/6220552_acceleration.txt\" [1]\n",
      "2021-06-02 06:38:30 URL:https://physionet.org/files/sleep-accel/1.0.0/motion/759667_acceleration.txt [54002660/54002660] -> \"physionet.org/files/sleep-accel/1.0.0/motion/759667_acceleration.txt\" [1]\n",
      "2021-06-02 06:38:33 URL:https://physionet.org/files/sleep-accel/1.0.0/motion/7749105_acceleration.txt [19010882/19010882] -> \"physionet.org/files/sleep-accel/1.0.0/motion/7749105_acceleration.txt\" [1]\n",
      "2021-06-02 06:38:44 URL:https://physionet.org/files/sleep-accel/1.0.0/motion/781756_acceleration.txt [71677656/71677656] -> \"physionet.org/files/sleep-accel/1.0.0/motion/781756_acceleration.txt\" [1]\n",
      "2021-06-02 06:38:57 URL:https://physionet.org/files/sleep-accel/1.0.0/motion/8000685_acceleration.txt [74991095/74991095] -> \"physionet.org/files/sleep-accel/1.0.0/motion/8000685_acceleration.txt\" [1]\n",
      "2021-06-02 06:39:10 URL:https://physionet.org/files/sleep-accel/1.0.0/motion/8173033_acceleration.txt [71773746/71773746] -> \"physionet.org/files/sleep-accel/1.0.0/motion/8173033_acceleration.txt\" [1]\n",
      "2021-06-02 06:39:12 URL:https://physionet.org/files/sleep-accel/1.0.0/motion/8258170_acceleration.txt [13531879/13531879] -> \"physionet.org/files/sleep-accel/1.0.0/motion/8258170_acceleration.txt\" [1]\n",
      "2021-06-02 06:39:21 URL:https://physionet.org/files/sleep-accel/1.0.0/motion/844359_acceleration.txt [65794299/65794299] -> \"physionet.org/files/sleep-accel/1.0.0/motion/844359_acceleration.txt\" [1]\n",
      "2021-06-02 06:39:36 URL:https://physionet.org/files/sleep-accel/1.0.0/motion/8530312_acceleration.txt [75983447/75983447] -> \"physionet.org/files/sleep-accel/1.0.0/motion/8530312_acceleration.txt\" [1]\n",
      "2021-06-02 06:39:46 URL:https://physionet.org/files/sleep-accel/1.0.0/motion/8686948_acceleration.txt [69982123/69982123] -> \"physionet.org/files/sleep-accel/1.0.0/motion/8686948_acceleration.txt\" [1]\n",
      "2021-06-02 06:39:57 URL:https://physionet.org/files/sleep-accel/1.0.0/motion/8692923_acceleration.txt [82610017/82610017] -> \"physionet.org/files/sleep-accel/1.0.0/motion/8692923_acceleration.txt\" [1]\n",
      "2021-06-02 06:40:07 URL:https://physionet.org/files/sleep-accel/1.0.0/motion/9106476_acceleration.txt [74566327/74566327] -> \"physionet.org/files/sleep-accel/1.0.0/motion/9106476_acceleration.txt\" [1]\n",
      "2021-06-02 06:41:04 URL:https://physionet.org/files/sleep-accel/1.0.0/motion/9618981_acceleration.txt [399418975/399418975] -> \"physionet.org/files/sleep-accel/1.0.0/motion/9618981_acceleration.txt\" [1]\n",
      "2021-06-02 06:41:19 URL:https://physionet.org/files/sleep-accel/1.0.0/motion/9961348_acceleration.txt [77983706/77983706] -> \"physionet.org/files/sleep-accel/1.0.0/motion/9961348_acceleration.txt\" [1]\n",
      "2021-06-02 06:41:19 URL:https://physionet.org/files/sleep-accel/1.0.0/steps/1066528_steps.txt [4122/4122] -> \"physionet.org/files/sleep-accel/1.0.0/steps/1066528_steps.txt\" [1]\n",
      "2021-06-02 06:41:19 URL:https://physionet.org/files/sleep-accel/1.0.0/steps/1360686_steps.txt [10716/10716] -> \"physionet.org/files/sleep-accel/1.0.0/steps/1360686_steps.txt\" [1]\n",
      "2021-06-02 06:41:19 URL:https://physionet.org/files/sleep-accel/1.0.0/steps/1449548_steps.txt [10693/10693] -> \"physionet.org/files/sleep-accel/1.0.0/steps/1449548_steps.txt\" [1]\n",
      "2021-06-02 06:41:19 URL:https://physionet.org/files/sleep-accel/1.0.0/steps/1455390_steps.txt [10775/10775] -> \"physionet.org/files/sleep-accel/1.0.0/steps/1455390_steps.txt\" [1]\n",
      "2021-06-02 06:41:19 URL:https://physionet.org/files/sleep-accel/1.0.0/steps/1818471_steps.txt [10824/10824] -> \"physionet.org/files/sleep-accel/1.0.0/steps/1818471_steps.txt\" [1]\n",
      "2021-06-02 06:41:19 URL:https://physionet.org/files/sleep-accel/1.0.0/steps/2598705_steps.txt [12647/12647] -> \"physionet.org/files/sleep-accel/1.0.0/steps/2598705_steps.txt\" [1]\n",
      "2021-06-02 06:41:19 URL:https://physionet.org/files/sleep-accel/1.0.0/steps/2638030_steps.txt [19802/19802] -> \"physionet.org/files/sleep-accel/1.0.0/steps/2638030_steps.txt\" [1]\n",
      "2021-06-02 06:41:19 URL:https://physionet.org/files/sleep-accel/1.0.0/steps/3509524_steps.txt [10546/10546] -> \"physionet.org/files/sleep-accel/1.0.0/steps/3509524_steps.txt\" [1]\n",
      "2021-06-02 06:41:19 URL:https://physionet.org/files/sleep-accel/1.0.0/steps/3997827_steps.txt [10917/10917] -> \"physionet.org/files/sleep-accel/1.0.0/steps/3997827_steps.txt\" [1]\n",
      "2021-06-02 06:41:19 URL:https://physionet.org/files/sleep-accel/1.0.0/steps/4018081_steps.txt [10986/10986] -> \"physionet.org/files/sleep-accel/1.0.0/steps/4018081_steps.txt\" [1]\n",
      "2021-06-02 06:41:19 URL:https://physionet.org/files/sleep-accel/1.0.0/steps/4314139_steps.txt [11146/11146] -> \"physionet.org/files/sleep-accel/1.0.0/steps/4314139_steps.txt\" [1]\n",
      "2021-06-02 06:41:19 URL:https://physionet.org/files/sleep-accel/1.0.0/steps/4426783_steps.txt [8008/8008] -> \"physionet.org/files/sleep-accel/1.0.0/steps/4426783_steps.txt\" [1]\n",
      "2021-06-02 06:41:19 URL:https://physionet.org/files/sleep-accel/1.0.0/steps/46343_steps.txt [13785/13785] -> \"physionet.org/files/sleep-accel/1.0.0/steps/46343_steps.txt\" [1]\n",
      "2021-06-02 06:41:19 URL:https://physionet.org/files/sleep-accel/1.0.0/steps/5132496_steps.txt [10277/10277] -> \"physionet.org/files/sleep-accel/1.0.0/steps/5132496_steps.txt\" [1]\n",
      "2021-06-02 06:41:19 URL:https://physionet.org/files/sleep-accel/1.0.0/steps/5383425_steps.txt [19404/19404] -> \"physionet.org/files/sleep-accel/1.0.0/steps/5383425_steps.txt\" [1]\n",
      "2021-06-02 06:41:20 URL:https://physionet.org/files/sleep-accel/1.0.0/steps/5498603_steps.txt [10749/10749] -> \"physionet.org/files/sleep-accel/1.0.0/steps/5498603_steps.txt\" [1]\n",
      "2021-06-02 06:41:20 URL:https://physionet.org/files/sleep-accel/1.0.0/steps/5797046_steps.txt [10546/10546] -> \"physionet.org/files/sleep-accel/1.0.0/steps/5797046_steps.txt\" [1]\n",
      "2021-06-02 06:41:20 URL:https://physionet.org/files/sleep-accel/1.0.0/steps/6220552_steps.txt [10884/10884] -> \"physionet.org/files/sleep-accel/1.0.0/steps/6220552_steps.txt\" [1]\n",
      "2021-06-02 06:41:20 URL:https://physionet.org/files/sleep-accel/1.0.0/steps/759667_steps.txt [10206/10206] -> \"physionet.org/files/sleep-accel/1.0.0/steps/759667_steps.txt\" [1]\n",
      "2021-06-02 06:41:20 URL:https://physionet.org/files/sleep-accel/1.0.0/steps/7749105_steps.txt [13841/13841] -> \"physionet.org/files/sleep-accel/1.0.0/steps/7749105_steps.txt\" [1]\n",
      "2021-06-02 06:41:20 URL:https://physionet.org/files/sleep-accel/1.0.0/steps/781756_steps.txt [7759/7759] -> \"physionet.org/files/sleep-accel/1.0.0/steps/781756_steps.txt\" [1]\n",
      "2021-06-02 06:41:20 URL:https://physionet.org/files/sleep-accel/1.0.0/steps/8000685_steps.txt [12287/12287] -> \"physionet.org/files/sleep-accel/1.0.0/steps/8000685_steps.txt\" [1]\n",
      "2021-06-02 06:41:20 URL:https://physionet.org/files/sleep-accel/1.0.0/steps/8173033_steps.txt [13179/13179] -> \"physionet.org/files/sleep-accel/1.0.0/steps/8173033_steps.txt\" [1]\n",
      "2021-06-02 06:41:20 URL:https://physionet.org/files/sleep-accel/1.0.0/steps/8258170_steps.txt [2447/2447] -> \"physionet.org/files/sleep-accel/1.0.0/steps/8258170_steps.txt\" [1]\n",
      "2021-06-02 06:41:20 URL:https://physionet.org/files/sleep-accel/1.0.0/steps/844359_steps.txt [13625/13625] -> \"physionet.org/files/sleep-accel/1.0.0/steps/844359_steps.txt\" [1]\n",
      "2021-06-02 06:41:20 URL:https://physionet.org/files/sleep-accel/1.0.0/steps/8530312_steps.txt [10687/10687] -> \"physionet.org/files/sleep-accel/1.0.0/steps/8530312_steps.txt\" [1]\n",
      "2021-06-02 06:41:20 URL:https://physionet.org/files/sleep-accel/1.0.0/steps/8686948_steps.txt [10775/10775] -> \"physionet.org/files/sleep-accel/1.0.0/steps/8686948_steps.txt\" [1]\n",
      "2021-06-02 06:41:20 URL:https://physionet.org/files/sleep-accel/1.0.0/steps/8692923_steps.txt [10516/10516] -> \"physionet.org/files/sleep-accel/1.0.0/steps/8692923_steps.txt\" [1]\n",
      "2021-06-02 06:41:20 URL:https://physionet.org/files/sleep-accel/1.0.0/steps/9106476_steps.txt [10843/10843] -> \"physionet.org/files/sleep-accel/1.0.0/steps/9106476_steps.txt\" [1]\n",
      "2021-06-02 06:41:20 URL:https://physionet.org/files/sleep-accel/1.0.0/steps/9618981_steps.txt [5871/5871] -> \"physionet.org/files/sleep-accel/1.0.0/steps/9618981_steps.txt\" [1]\n",
      "2021-06-02 06:41:20 URL:https://physionet.org/files/sleep-accel/1.0.0/steps/9961348_steps.txt [10419/10419] -> \"physionet.org/files/sleep-accel/1.0.0/steps/9961348_steps.txt\" [1]\n",
      "FINISHED --2021-06-02 06:41:20--\n",
      "Total wall clock time: 5m 20s\n",
      "Downloaded: 132 files, 2.2G in 5m 12s (7.18 MB/s)\n"
     ]
    }
   ],
   "source": [
    "!sudo apt-get install wget\n",
    "\n",
    "!wget -r -nv -N -c -np https://physionet.org/files/sleep-accel/1.0.0/\n",
    "\n",
    "!mkdir ./dataset\n",
    "\n",
    "!mv ./physionet.org/files/sleep-accel/1.0.0/* dataset\n",
    "\n",
    "!rm -r ./physionet.org/\n",
    "\n",
    "!find ./dataset -name \"*.html\" -type f -delete"
   ]
  },
  {
   "cell_type": "markdown",
   "id": "stylish-wages",
   "metadata": {
    "id": "stylish-wages"
   },
   "source": [
    "Steps:\n",
    "\n",
    "- Download and unzip the dataset\n",
    "- Load the files\n",
    "- Pre-process the loaded files (crop to keep the part of interest)\n",
    "- Merge files from each user selecting a specific window time frame.\n",
    "- Export the resulting file to `.csv`.\n",
    "- Repeat the process for all the users."
   ]
  },
  {
   "cell_type": "code",
   "execution_count": 1,
   "id": "forbidden-forty",
   "metadata": {
    "executionInfo": {
     "elapsed": 19,
     "status": "ok",
     "timestamp": 1622616077046,
     "user": {
      "displayName": "Carlos Gil",
      "photoUrl": "",
      "userId": "12309568779801871703"
     },
     "user_tz": -120
    },
    "id": "forbidden-forty"
   },
   "outputs": [],
   "source": [
    "import pandas as pd\n",
    "import numpy as np\n",
    "import os\n",
    "import re"
   ]
  },
  {
   "cell_type": "code",
   "execution_count": 2,
   "id": "qmXPkoZWyyEm",
   "metadata": {
    "executionInfo": {
     "elapsed": 15,
     "status": "ok",
     "timestamp": 1622616077047,
     "user": {
      "displayName": "Carlos Gil",
      "photoUrl": "",
      "userId": "12309568779801871703"
     },
     "user_tz": -120
    },
    "id": "qmXPkoZWyyEm"
   },
   "outputs": [],
   "source": [
    "from enum import Enum\n",
    "\n",
    "class Error(Enum):\n",
    "    match_number_users = \"[Error]: number of users in list does not match\"\n",
    "    match_user_id = \"[Error]: user id does not match between lists\"\n",
    "    match_length_arrays = \"[Error]: the length of the lists does not match\"\n",
    "    match_index = \"[Error]: indexes are mismatched\"\n",
    "    generic_error = \"[Error]\""
   ]
  },
  {
   "cell_type": "code",
   "execution_count": 3,
   "id": "expanded-flood",
   "metadata": {
    "executionInfo": {
     "elapsed": 14,
     "status": "ok",
     "timestamp": 1622616077048,
     "user": {
      "displayName": "Carlos Gil",
      "photoUrl": "",
      "userId": "12309568779801871703"
     },
     "user_tz": -120
    },
    "id": "expanded-flood"
   },
   "outputs": [],
   "source": [
    "# Preparing paths\n",
    "data_path = \"C:\\dev\\DATA\\MRH\"\n",
    "# data_path = os.path.join(os.getcwd(), \"dataset/\")\n",
    "\n",
    "motion_path = os.path.join(data_path, \"motion\")\n",
    "\n",
    "heart_rate_path = os.path.join(data_path, \"heart_rate\")\n",
    "\n",
    "labels_path = os.path.join(data_path, \"labels\")\n",
    "\n",
    "# Obtaining ordered lists with all users\n",
    "motion_list = sorted(os.listdir(motion_path))\n",
    "heart_rate_list = sorted(os.listdir(heart_rate_path))\n",
    "labels_list = sorted(os.listdir(labels_path))\n",
    "\n",
    "# Checking that we have data of the 31 users in all the lists created\n",
    "assert len(motion_list) == 31, Error.match_number_users.value\n",
    "assert len(heart_rate_list) == 31, Error.match_number_users.value\n",
    "assert len(labels_list) == 31, Error.match_number_users.value\n",
    "\n",
    "# Checking that the user ids match in order accross the three lists\n",
    "for item in range(len(motion_list)):\n",
    "    user_motion_id = re.search(\"\\d*\", motion_list[item])\n",
    "    user_heart_rate_id = re.search(\"\\d*\", heart_rate_list[item])\n",
    "    user_labels_id = re.search(\"\\d*\", labels_list[item])\n",
    "\n",
    "    assert user_motion_id.group(0) == user_heart_rate_id.group(0), Error.match_user_id.value\n",
    "    assert user_motion_id.group(0) == user_labels_id.group(0), Error.match_user_id.value\n"
   ]
  },
  {
   "cell_type": "code",
   "execution_count": 4,
   "id": "hungry-worker",
   "metadata": {
    "colab": {
     "base_uri": "https://localhost:8080/"
    },
    "executionInfo": {
     "elapsed": 277,
     "status": "ok",
     "timestamp": 1622616077820,
     "user": {
      "displayName": "Carlos Gil",
      "photoUrl": "",
      "userId": "12309568779801871703"
     },
     "user_tz": -120
    },
    "id": "hungry-worker",
    "outputId": "675019e9-1692-4269-93cc-b1a83d42089f"
   },
   "outputs": [
    {
     "data": {
      "text/plain": [
       "('1066528_acceleration.txt',\n",
       " '1066528_heartrate.txt',\n",
       " '1066528_labeled_sleep.txt')"
      ]
     },
     "execution_count": 4,
     "metadata": {},
     "output_type": "execute_result"
    }
   ],
   "source": [
    "motion_list[0], heart_rate_list[0], labels_list[0]"
   ]
  },
  {
   "cell_type": "code",
   "execution_count": 21,
   "id": "known-welding",
   "metadata": {
    "colab": {
     "base_uri": "https://localhost:8080/"
    },
    "executionInfo": {
     "elapsed": 11826,
     "status": "ok",
     "timestamp": 1622617056909,
     "user": {
      "displayName": "Carlos Gil",
      "photoUrl": "",
      "userId": "12309568779801871703"
     },
     "user_tz": -120
    },
    "id": "known-welding",
    "outputId": "bb88a3c5-0789-4bdd-98e0-4631ad89b7d6"
   },
   "outputs": [
    {
     "data": {
      "text/plain": [
       "array([[-2.16848465e+04,  7.08010000e-03,  6.40900000e-04,\n",
       "        -9.87594600e-01],\n",
       "       [-2.16848171e+04,  4.15040000e-03,  6.25600000e-04,\n",
       "        -9.90554800e-01],\n",
       "       [-2.16848079e+04,  4.15040000e-03,  1.11390000e-03,\n",
       "        -9.90081800e-01],\n",
       "       ...,\n",
       "       [ 2.86265419e+04, -5.52734400e-01, -2.99988000e-02,\n",
       "        -8.10440100e-01],\n",
       "       [ 2.86265428e+04, -5.53710900e-01, -3.05023000e-02,\n",
       "        -8.11431900e-01],\n",
       "       [ 2.86265436e+04, -5.54718000e-01, -2.99988000e-02,\n",
       "        -8.09021000e-01]])"
      ]
     },
     "execution_count": 21,
     "metadata": {
      "tags": []
     },
     "output_type": "execute_result"
    }
   ],
   "source": [
    "user_1_motion = np.loadtxt(os.path.join(motion_path, motion_list[0]))\n",
    "\n",
    "user_1_motion"
   ]
  },
  {
   "cell_type": "code",
   "execution_count": 22,
   "id": "terminal-conviction",
   "metadata": {
    "colab": {
     "base_uri": "https://localhost:8080/"
    },
    "executionInfo": {
     "elapsed": 50,
     "status": "ok",
     "timestamp": 1622617056910,
     "user": {
      "displayName": "Carlos Gil",
      "photoUrl": "",
      "userId": "12309568779801871703"
     },
     "user_tz": -120
    },
    "id": "terminal-conviction",
    "outputId": "f989fc57-57bf-4f53-dbdb-b1735c081aea"
   },
   "outputs": [
    {
     "data": {
      "text/plain": [
       "array([[-3.55241740e+05,  8.60000000e+01],\n",
       "       [-3.51407999e+05,  6.70000000e+01],\n",
       "       [-3.51277368e+05,  1.41000000e+02],\n",
       "       ...,\n",
       "       [ 2.91101643e+04,  7.50000000e+01],\n",
       "       [ 3.43346538e+04,  8.10000000e+01],\n",
       "       [ 3.44911535e+04,  6.50000000e+01]])"
      ]
     },
     "execution_count": 22,
     "metadata": {
      "tags": []
     },
     "output_type": "execute_result"
    }
   ],
   "source": [
    "user_1_heart_rate = np.loadtxt(os.path.join(heart_rate_path, heart_rate_list[0]), delimiter=',')\n",
    "\n",
    "user_1_heart_rate"
   ]
  },
  {
   "cell_type": "code",
   "execution_count": 23,
   "id": "random-conflict",
   "metadata": {
    "colab": {
     "base_uri": "https://localhost:8080/"
    },
    "executionInfo": {
     "elapsed": 44,
     "status": "ok",
     "timestamp": 1622617056911,
     "user": {
      "displayName": "Carlos Gil",
      "photoUrl": "",
      "userId": "12309568779801871703"
     },
     "user_tz": -120
    },
    "id": "random-conflict",
    "outputId": "7c11f639-9123-434a-8ac9-54f066911df4"
   },
   "outputs": [
    {
     "data": {
      "text/plain": [
       "array([[    0.,     0.],\n",
       "       [   30.,     0.],\n",
       "       [   60.,     0.],\n",
       "       ...,\n",
       "       [28470.,     0.],\n",
       "       [28500.,     0.],\n",
       "       [28530.,     0.]])"
      ]
     },
     "execution_count": 23,
     "metadata": {
      "tags": []
     },
     "output_type": "execute_result"
    }
   ],
   "source": [
    "user_1_labels = np.loadtxt(os.path.join(labels_path, labels_list[0]))\n",
    "\n",
    "user_1_labels"
   ]
  },
  {
   "cell_type": "code",
   "execution_count": 7,
   "id": "earlier-contractor",
   "metadata": {
    "executionInfo": {
     "elapsed": 4,
     "status": "ok",
     "timestamp": 1622617057608,
     "user": {
      "displayName": "Carlos Gil",
      "photoUrl": "",
      "userId": "12309568779801871703"
     },
     "user_tz": -120
    },
    "id": "earlier-contractor"
   },
   "outputs": [],
   "source": [
    "def generate_dataset(motion_user, heart_rate_user, labels_user, interval_peak=1, interval_epoch=30):\n",
    "\n",
    "    '''\n",
    "    It accepts three filenames from one user to generate the dataset. Interval stands for the time in seconds of windowing.\n",
    "    '''\n",
    "    \n",
    "    # --- Loading the txt files\n",
    "    motion = np.loadtxt(motion_user)\n",
    "    heart_rate = np.loadtxt(heart_rate_user, delimiter=',')\n",
    "    labels = np.loadtxt(labels_user)\n",
    "\n",
    "    \n",
    "    # --- Cropping to match the labelled list\n",
    "    motion = crop_to_offset(motion, labels)    \n",
    "    heart_rate = crop_to_offset(heart_rate, labels)\n",
    "    \n",
    "    # --- Pre-processing and merging\n",
    "    motion = get_summary_count(motion, interval_peak, interval_epoch)\n",
    "    \n",
    "    merged_arrays = merge_arrays(motion, heart_rate, labels)\n",
    "    \n",
    "  \n",
    "  \n",
    "    \n",
    "    # OLD:\n",
    "    # Extending smaller arrays to have the same size as the biggest array so as to be merged\n",
    "    # It returns one dimensional array (time column skipped since it has been matched in the extending process)\n",
    "    # heart_rate = extend_array(heart_rate, motion)\n",
    "    # labels = extend_array(labels, motion)\n",
    "    \n",
    "    # Merging three arrays into one data frame\n",
    "    # data_frame = pd.DataFrame(motion, columns=['Time', 'X', 'Y', 'Z'])\n",
    "    \n",
    "    # heart_rate_column = pd.Series(heart_rate)\n",
    "    # data_frame[\"Heart Rate\"] = heart_rate_column\n",
    "    \n",
    "    # labels_column = pd.Series(labels)\n",
    "    # data_frame[\"Labels\"] = labels_column\n",
    "    \n",
    "    # return data_frame\n",
    "    return 1"
   ]
  },
  {
   "cell_type": "markdown",
   "id": "touched-zimbabwe",
   "metadata": {
    "id": "touched-zimbabwe"
   },
   "source": [
    "The raw data recorded with the Apple Watch (motion and heart rate) contains continiuous and uninterrumped measurements of one or more days, including the last night.\n",
    "\n",
    "Since the data corresponding to the last night underwent a proper labelling from the PSG results, it is necessary to crop the raw data only to that night (i.e. the list with labels). Anything else, will not be part of the generated dataset and will therefore be disregarded.\n",
    "\n",
    "This is handled by the function `crop_to_offset()`. This function carries out two tasks:\n",
    "\n",
    "1. It finds the last night measured within the array passed.\n",
    "2. For the last night, it finds the boundaries corresponding to the start and end of the labelled list.\n",
    "\n",
    "Then, the function returns the indexes where the array needs to be sliced."
   ]
  },
  {
   "cell_type": "code",
   "execution_count": 35,
   "id": "diagnostic-cooperative",
   "metadata": {
    "executionInfo": {
     "elapsed": 210,
     "status": "ok",
     "timestamp": 1622617324966,
     "user": {
      "displayName": "Carlos Gil",
      "photoUrl": "",
      "userId": "12309568779801871703"
     },
     "user_tz": -120
    },
    "id": "diagnostic-cooperative"
   },
   "outputs": [],
   "source": [
    "def crop_to_offset(array_to_crop, array_ref):\n",
    "    '''\n",
    "    This function takes two arrays, the first is the one to be cropped and the second one the reference to where to crop.\n",
    "    It returs a new array starting and ending where the indexes matched with the reference array.\n",
    "    '''\n",
    "\n",
    "    start_index, end_index = 0, 0\n",
    "    array_size = np.size(array_to_crop, 0)\n",
    "    cropped_array = []\n",
    "    \n",
    "    # --- Find the boundaries corresponding to the labelled list\n",
    "    first_item = array_ref[0][0]\n",
    "    last_item = array_ref[-1][0]\n",
    "    \n",
    "    last_item_found = False\n",
    "    \n",
    "    for item in range(array_size - 1, -1, -1):        \n",
    "        # find end index\n",
    "        if not last_item_found:\n",
    "            if array_to_crop[item][0] < last_item:\n",
    "                end_index = item + 1\n",
    "                last_item_found = True\n",
    "        \n",
    "        # find start index\n",
    "        if array_to_crop[item][0] < first_item:\n",
    "            start_index = item\n",
    "            break  # No more iteration is needed after finding end_index and start_index.\n",
    "    \n",
    "    \n",
    "    # return (start_index, end_index)\n",
    "    cropped_array = array_to_crop[start_index:end_index]\n",
    "        \n",
    "    return cropped_array"
   ]
  },
  {
   "cell_type": "markdown",
   "id": "hUP-MlGNFCWg",
   "metadata": {
    "id": "hUP-MlGNFCWg"
   },
   "source": [
    "In order to compress the vast amount of data gathered from the IMU sensor, some pre-processing is required. Tipically, these types of sensors record at a high frequencies resulting in hundreds of measurements every single second. Research suggest that changes among sleep cycles tend to occur gradually within a few minutes. This also applies to the shift between NREM and REM, which is the variable of interest that is the focus of this application.\n",
    "\n",
    "Therefore, the time resolution in the raw dataset is too accurate and the function `get_summary_count()` will handle this. All this function does is first finds the peak values within a user-defined time interval (we are most interested in peak values from the accelerometer that contribute to more valuable information) and sum all the spikes that take place within a window or time (epoch), also defined by the user.\n",
    "\n",
    "An example might be that the function finds the spike that occur in every second and then sums all the spikes found within a window of 15 seconds. This process then is repeated until completion."
   ]
  },
  {
   "cell_type": "code",
   "execution_count": 27,
   "id": "aSTcpB_WDxOV",
   "metadata": {
    "executionInfo": {
     "elapsed": 204,
     "status": "ok",
     "timestamp": 1622617065884,
     "user": {
      "displayName": "Carlos Gil",
      "photoUrl": "",
      "userId": "12309568779801871703"
     },
     "user_tz": -120
    },
    "id": "aSTcpB_WDxOV"
   },
   "outputs": [],
   "source": [
    "def get_summary_count(array, peak_interval, sum_window):\n",
    "    '''\n",
    "    This function first finds the peak value for every peak_interval (s) of the passed array.\n",
    "    It then sums all the peak values within sum_window (s) and adds the sum to a new array.\n",
    "    It returns the resulting processed array back.\n",
    "    '''\n",
    "\n",
    "    array_size = np.size(array, 0)\n",
    "    peak_values_x, sum_peak_values_x = [], []\n",
    "    peak_values_y, sum_peak_values_y = [], []\n",
    "    peak_values_z, sum_peak_values_z = [], []\n",
    "    \n",
    "    # missing_indices = np.empty((0, 3), dtype=float)\n",
    "    max_value_x, max_value_y, max_value_z = 0, 0, 0\n",
    "    time_accumulate = []\n",
    "    accumulate = 0\n",
    "    last_interval = 0\n",
    "    count = 0\n",
    "\n",
    "    for item in range(array_size):\n",
    "        if (array[item][0] - last_interval) < peak_interval:\n",
    "            if abs(array[item][1]) > abs(max_value_x):  # New peak value found at x\n",
    "                max_value_x = abs(array[item][1])\n",
    "\n",
    "            if abs(array[item][2]) > abs(max_value_y):  # New peak value found at y\n",
    "                max_value_y = abs(array[item][2])\n",
    "\n",
    "            if abs(array[item][3]) > abs(max_value_z):  # New peak value found at z\n",
    "                max_value_z = abs(array[item][3])\n",
    "\n",
    "        # Gap found, do not continue with current window\n",
    "        elif (array[item][0] - last_interval) > (peak_interval*1.5):\n",
    "            # print(\"============================================\")\n",
    "            # print(f\"[{array[item-1][0]}, {array[item][0]}]: {(array[item][0] - last_interval)}\")\n",
    "            # print(\"============================================\")\n",
    "                       \n",
    "            # missing indices gets the time values of the gap between the missing data happened\n",
    "            # new_interval = np.array([[array[item-1][0], array[item][0], (array[item][0] - array[item-1][0])]])\n",
    "            # missing_indices = np.append(missing_indices, new_interval, axis=0)\n",
    "            \n",
    "            # update ,to the new time\n",
    "            # print(\"acc: \", accumulate)\n",
    "            accumulate = np.around(accumulate + (np.around(array[item][0], decimals=0) - array[item-1][0]) + count, decimals=0)\n",
    "            # print(\"acc after: \", accumulate)\n",
    "            # print(\"count: \", count)\n",
    "\n",
    "            # reset for a new window time. Current unfinished window invalid.\n",
    "            # if count < sum_window:              \n",
    "            peak_values_x = []\n",
    "            peak_values_y = []\n",
    "            peak_values_z = []\n",
    "            count = 0\n",
    "            \n",
    "            last_interval = np.floor(array[item][0])\n",
    "            max_value_x = 0\n",
    "            max_value_y = 0\n",
    "            max_value_z = 0\n",
    "            \n",
    "        else:\n",
    "            # end of peak interval\n",
    "            peak_values_x.append(max_value_x)\n",
    "            peak_values_y.append(max_value_y)\n",
    "            peak_values_z.append(max_value_z)\n",
    "\n",
    "            # reset interval values and increment count\n",
    "            last_interval = np.floor(array[item][0])\n",
    "            max_value_x = 0\n",
    "            max_value_y = 0\n",
    "            max_value_z = 0\n",
    "            count += 1\n",
    "\n",
    "        if count == sum_window:\n",
    "            sum_peak_values_x.append(np.sum(peak_values_x))\n",
    "            sum_peak_values_y.append(np.sum(peak_values_y))\n",
    "            sum_peak_values_z.append(np.sum(peak_values_z))\n",
    "            \n",
    "            accumulate = np.around(accumulate + sum_window, decimals=0)\n",
    "\n",
    "            # print(\"====== acc:\", accumulate, \"val:\", np.around(array[item][0]), \"diff:\", (accumulate - array[item][0]))\n",
    "            \n",
    "            # Ensure that the current accumulated time matches the arrays' time\n",
    "            assert abs(accumulate - np.around(array[item][0])) < 3, Error.match_index.value\n",
    "\n",
    "            # time_accumulate.append(time_accumulate[-1] + sum_window)\n",
    "            time_accumulate.append(accumulate)\n",
    "\n",
    "            # reset for a new window time\n",
    "            peak_values_x = []\n",
    "            peak_values_y = []\n",
    "            peak_values_z = []\n",
    "            count = 0\n",
    "       \n",
    "\n",
    "    \n",
    "    assert len(time_accumulate) == len(sum_peak_values_x), Error.match_length_arrays.value\n",
    "    assert len(time_accumulate) == len(sum_peak_values_y), Error.match_length_arrays.value\n",
    "    assert len(time_accumulate) == len(sum_peak_values_z), Error.match_length_arrays.value\n",
    "    \n",
    "    # return time_accumulate\n",
    "    \n",
    "    return np.column_stack((time_accumulate, sum_peak_values_x, sum_peak_values_y, sum_peak_values_z))"
   ]
  },
  {
   "cell_type": "code",
   "execution_count": 44,
   "id": "6270mnO5fegg",
   "metadata": {
    "executionInfo": {
     "elapsed": 367,
     "status": "ok",
     "timestamp": 1622618683488,
     "user": {
      "displayName": "Carlos Gil",
      "photoUrl": "",
      "userId": "12309568779801871703"
     },
     "user_tz": -120
    },
    "id": "6270mnO5fegg"
   },
   "outputs": [],
   "source": [
    "# user_1_motion = crop_to_offset(user_1_motion, user_1_labels)\n",
    "# user_1_heart_rate = crop_to_offset(user_1_heart_rate, user_1_labels)\n",
    "\n",
    "# fname = \"cropped_\" + motion_list[0]\n",
    "# np.savetxt(fname, user_1_motion, fmt='%.18e', delimiter=' ', newline='\\n', header='', footer='', comments='# ', encoding=None)\n",
    "\n",
    "# from google.colab import files\n",
    "# files.download('cropped_1066528_acceleration.txt') "
   ]
  },
  {
   "cell_type": "code",
   "execution_count": 37,
   "id": "arctic-spider",
   "metadata": {
    "colab": {
     "base_uri": "https://localhost:8080/"
    },
    "executionInfo": {
     "elapsed": 4010,
     "status": "ok",
     "timestamp": 1622617377595,
     "user": {
      "displayName": "Carlos Gil",
      "photoUrl": "",
      "userId": "12309568779801871703"
     },
     "user_tz": -120
    },
    "id": "arctic-spider",
    "outputId": "b4af4f9a-0228-4433-f8e2-f8311ba0a926",
    "scrolled": true
   },
   "outputs": [
    {
     "data": {
      "text/plain": [
       "array([[1.50000000e+01, 6.12944040e+00, 6.76710490e+00, 1.20081636e+01],\n",
       "       [3.00000000e+01, 6.11120610e+00, 6.92994680e+00, 1.19629060e+01],\n",
       "       [4.50000000e+01, 6.09844980e+00, 6.90870630e+00, 1.19256594e+01],\n",
       "       ...,\n",
       "       [2.77820000e+04, 4.15765380e+00, 1.43766631e+01, 7.25236530e+00],\n",
       "       [2.83730000e+04, 3.75987240e+00, 1.45188444e+01, 4.36595140e+00],\n",
       "       [2.83880000e+04, 8.03883330e+00, 1.27173921e+01, 7.98275750e+00]])"
      ]
     },
     "execution_count": 37,
     "metadata": {
      "tags": []
     },
     "output_type": "execute_result"
    }
   ],
   "source": [
    "# [time.prev, time.next, diff]\n",
    "summary = get_summary_count(user_1_motion, 1, 15)\n",
    "\n",
    "summary"
   ]
  },
  {
   "cell_type": "markdown",
   "id": "growing-buyer",
   "metadata": {},
   "source": [
    "Last step is merging the already pre-processed motion dataset with the heart rate and labels datasets corresponding to each user. \n",
    "\n",
    "For the heart rate dataset the following approach is taken. For each window from the motion time interval, gather all the heart rate values that were measured within that interval and get the mean value of all of them. If no heart rate value was measured within a window interval, the last known value will be taken. If there is a time gap bigger than the actual window's size, then discard that data up to the next available one.\n",
    "\n",
    "For the labels a simpler approach is taken. Since the time windows are meant to be always smaller or equal than the time interval of labels recorded, the label value will be unique. It can be either one that corresponds to that time window or the last one if missing in that interval. \n",
    "\n",
    "All the above-mentioned operations are carried out in the `merge_arrays()` method."
   ]
  },
  {
   "cell_type": "code",
   "execution_count": 6,
   "id": "invalid-difference",
   "metadata": {
    "executionInfo": {
     "elapsed": 173,
     "status": "ok",
     "timestamp": 1622622715276,
     "user": {
      "displayName": "Carlos Gil",
      "photoUrl": "",
      "userId": "12309568779801871703"
     },
     "user_tz": -120
    },
    "id": "invalid-difference"
   },
   "outputs": [],
   "source": [
    "def merge_arrays(motion, heart_rate, labels):\n",
    "    array_size = max(np.size(motion, 0), np.size(heart_rate, 0), np.size(labels, 0))\n",
    "    # Checking that the biggest arrray to iterate through at this point is heart_rate\n",
    "    assert array_size == np.size(heart_rate, 0), Error.match_length_arrays\n",
    "\n",
    "    heart_rate_mean = []\n",
    "    heart_rate_acc = []\n",
    "    labels_acc = []\n",
    "    inc = 0\n",
    "\n",
    "    for item in range(array_size):\n",
    "        \n",
    "        \n",
    "        # Heart Rate pre-processing\n",
    "        if heart_rate[item][0] < motion[inc][0]:\n",
    "            heart_rate_acc.append(heart_rate[item][1])\n",
    "        # elif heart_rate[item][0] - heart_rate[item - 1][0] > 15:\n",
    "        #     heart_rate_mean.append()\n",
    "        else:\n",
    "            # print(f\"[{motion[inc][0]}, {heart_rate[item][0]}]: \")\n",
    "            # heart_rate_mean = heart_rate_acc/len(heart_rate_acc)\n",
    "            # new_heart_rate.append(heart_rate_mean)\n",
    "            heart_rate_mean.append(sum(heart_rate_acc)/len(heart_rate_acc))\n",
    "\n",
    "            #if heart_rate[item][0] - motion[inc][0] > 15:\n",
    "            #    heart_rate_mean.append(heart_rate[item][1])\n",
    "\n",
    "            heart_rate_acc = [heart_rate[item][1]] # include first item that gave the condition too\n",
    "            inc += 1\n",
    "        \n",
    "        # Labels pre-processing\n",
    "        \n",
    "        \n",
    "        \n",
    "    \n",
    "    # Removing exceding data of motion that is not available in heart rate.\n",
    "    if len(heart_rate_mean) < np.size(motion, 0):\n",
    "        diff = abs(len(heart_rate_mean) - np.size(motion, 0)) #3\n",
    "        last_row = np.size(motion, 0)\n",
    "        start = last_row - diff\n",
    "\n",
    "        subarray = np.arange(start, last_row)\n",
    "\n",
    "        motion = np.delete(motion, subarray, axis=0)\n",
    "    \n",
    "\n",
    "    print(len(heart_rate_mean))\n",
    "    print(np.size(motion, 0))\n",
    "\n",
    "    \n",
    "    return heart_rate_mean"
   ]
  },
  {
   "cell_type": "code",
   "execution_count": 112,
   "id": "0XbhkHDBvUAr",
   "metadata": {
    "colab": {
     "base_uri": "https://localhost:8080/"
    },
    "executionInfo": {
     "elapsed": 6,
     "status": "ok",
     "timestamp": 1622622715947,
     "user": {
      "displayName": "Carlos Gil",
      "photoUrl": "",
      "userId": "12309568779801871703"
     },
     "user_tz": -120
    },
    "id": "0XbhkHDBvUAr",
    "outputId": "1f6fca65-e97c-452b-f6b5-bba196d6889b"
   },
   "outputs": [
    {
     "name": "stdout",
     "output_type": "stream",
     "text": [
      "3\n",
      "1559\n",
      "1559\n"
     ]
    }
   ],
   "source": [
    "arr = merge_arrays(summary, user_1_heart_rate, user_1_labels)\n",
    "\n",
    "# np.size(summary, 0), len(arr)"
   ]
  },
  {
   "cell_type": "code",
   "execution_count": 96,
   "id": "D_gncx05yisY",
   "metadata": {
    "colab": {
     "base_uri": "https://localhost:8080/"
    },
    "executionInfo": {
     "elapsed": 168,
     "status": "ok",
     "timestamp": 1622622202283,
     "user": {
      "displayName": "Carlos Gil",
      "photoUrl": "",
      "userId": "12309568779801871703"
     },
     "user_tz": -120
    },
    "id": "D_gncx05yisY",
    "outputId": "81a40c64-306e-43d1-e628-d48dff247a6b"
   },
   "outputs": [
    {
     "name": "stdout",
     "output_type": "stream",
     "text": [
      "7\n",
      "4\n"
     ]
    },
    {
     "data": {
      "text/plain": [
       "array([[ 1,  2,  3],\n",
       "       [ 4,  5,  6],\n",
       "       [ 7,  8,  9],\n",
       "       [10, 11, 12]])"
      ]
     },
     "execution_count": 96,
     "metadata": {
      "tags": []
     },
     "output_type": "execute_result"
    }
   ],
   "source": [
    "arr1 = np.array([(1, 2, 3), (4, 5, 6), (7, 8, 9), (10, 11, 12), (13, 14, 15), (16, 17, 18), (50, 51, 52)])\n",
    "\n",
    "diff = 3\n",
    "last_row = np.size(arr1, 0)\n",
    "print(last_row)\n",
    "start = last_row - diff\n",
    "print(start)\n",
    "\n",
    "a = np.arange(start, last_row)\n",
    "\n",
    "np.delete(arr1, a, axis=0)"
   ]
  },
  {
   "cell_type": "code",
   "execution_count": 66,
   "id": "qlSFaf5KlRIJ",
   "metadata": {
    "colab": {
     "base_uri": "https://localhost:8080/"
    },
    "executionInfo": {
     "elapsed": 213,
     "status": "ok",
     "timestamp": 1622620436317,
     "user": {
      "displayName": "Carlos Gil",
      "photoUrl": "",
      "userId": "12309568779801871703"
     },
     "user_tz": -120
    },
    "id": "qlSFaf5KlRIJ",
    "outputId": "550d2cde-5fdf-4603-b0f4-ed2f62a67075"
   },
   "outputs": [
    {
     "name": "stdout",
     "output_type": "stream",
     "text": [
      "3386.1731801 3401.20835996\n",
      "5712.87800002 5731.87800002\n",
      "9734.31342006 9799.92673993\n",
      "11673.9735799 11738.8798599\n",
      "13322.02246 13341.8583701\n",
      "15168.7177401 15195.5771501\n",
      "17260.17623 17277.1761999\n",
      "22938.1772201 22954.1772201\n",
      "26092.6721699 26134.6679599\n",
      "26134.6679599 26399.6651599\n",
      "26399.6651599 27258.16594\n",
      "27258.16594 27572.54024\n",
      "27572.54024 27948.91412\n",
      "27948.91412 28319.41471\n",
      "28319.41471 28483.91471\n"
     ]
    }
   ],
   "source": [
    "SIZE = np.size(user_1_heart_rate, 0)\n",
    "for i in range(SIZE):\n",
    "\n",
    "    if i ==  SIZE - 1:\n",
    "        break\n",
    "    if user_1_heart_rate[i+1][0] - user_1_heart_rate[i][0] > 15:\n",
    "        print(user_1_heart_rate[i][0], user_1_heart_rate[i+1][0])"
   ]
  },
  {
   "cell_type": "code",
   "execution_count": 62,
   "id": "aUi8nhKurzEH",
   "metadata": {
    "colab": {
     "base_uri": "https://localhost:8080/"
    },
    "executionInfo": {
     "elapsed": 211,
     "status": "ok",
     "timestamp": 1622619989160,
     "user": {
      "displayName": "Carlos Gil",
      "photoUrl": "",
      "userId": "12309568779801871703"
     },
     "user_tz": -120
    },
    "id": "aUi8nhKurzEH",
    "outputId": "91260fba-31b2-4a76-ff5a-3510f5b88c5a"
   },
   "outputs": [
    {
     "data": {
      "text/plain": [
       "67.0"
      ]
     },
     "execution_count": 62,
     "metadata": {
      "tags": []
     },
     "output_type": "execute_result"
    }
   ],
   "source": [
    "arr[-1]"
   ]
  },
  {
   "cell_type": "code",
   "execution_count": 51,
   "id": "2qf6WPchpuAd",
   "metadata": {
    "colab": {
     "base_uri": "https://localhost:8080/"
    },
    "executionInfo": {
     "elapsed": 180,
     "status": "ok",
     "timestamp": 1622619394051,
     "user": {
      "displayName": "Carlos Gil",
      "photoUrl": "",
      "userId": "12309568779801871703"
     },
     "user_tz": -120
    },
    "id": "2qf6WPchpuAd",
    "outputId": "910c6d7e-ddb1-4b93-dcb7-efc4edf67425"
   },
   "outputs": [
    {
     "data": {
      "text/plain": [
       "(1559, 1562)"
      ]
     },
     "execution_count": 51,
     "metadata": {
      "tags": []
     },
     "output_type": "execute_result"
    }
   ],
   "source": [
    "len(arr), len(summary)"
   ]
  },
  {
   "cell_type": "code",
   "execution_count": null,
   "id": "unnecessary-kentucky",
   "metadata": {
    "id": "unnecessary-kentucky"
   },
   "outputs": [],
   "source": [
    "def extend_array(array_to_extend, array_ref):\n",
    "    '''\n",
    "    This function takes two arrays, the first is the one to be extended and the second one the reference.\n",
    "    It returns the new array which is 1D, being the time column skipped since it has been taken into accountin the processs. \n",
    "    '''\n",
    "    \n",
    "    array_size = np.size(array_ref, 0)\n",
    "    new_array = []\n",
    "    count = 0\n",
    "    \n",
    "    for i in range(array_size):\n",
    "\n",
    "        if array_ref[i][0] > array_to_extend[count][0]:\n",
    "            new_array.append(array_to_extend[count][1])\n",
    "            count += 1\n",
    "        else:\n",
    "            new_array.append(-999)  # For the \"missing values\" it appends -999.\n",
    "    \n",
    "    return np.array(new_array)"
   ]
  },
  {
   "cell_type": "code",
   "execution_count": null,
   "id": "vocational-aluminum",
   "metadata": {
    "id": "vocational-aluminum",
    "outputId": "0c7c3814-20b6-4c14-f32c-40ec4c47e73e"
   },
   "outputs": [
    {
     "name": "stdout",
     "output_type": "stream",
     "text": [
      "1187904\n",
      "4965\n",
      "952\n"
     ]
    }
   ],
   "source": [
    "df = generate_dataset(os.path.join(motion_path, motion_list[0]), \n",
    "                 os.path.join(heart_rate_path, heart_rate_list[0]), \n",
    "                 os.path.join(labels_path, labels_list[0]))"
   ]
  },
  {
   "cell_type": "code",
   "execution_count": null,
   "id": "virtual-forth",
   "metadata": {
    "id": "virtual-forth",
    "outputId": "e92dc46e-2465-4f59-a656-cfd06122ef87"
   },
   "outputs": [
    {
     "data": {
      "text/html": [
       "<div>\n",
       "<style scoped>\n",
       "    .dataframe tbody tr th:only-of-type {\n",
       "        vertical-align: middle;\n",
       "    }\n",
       "\n",
       "    .dataframe tbody tr th {\n",
       "        vertical-align: top;\n",
       "    }\n",
       "\n",
       "    .dataframe thead th {\n",
       "        text-align: right;\n",
       "    }\n",
       "</style>\n",
       "<table border=\"1\" class=\"dataframe\">\n",
       "  <thead>\n",
       "    <tr style=\"text-align: right;\">\n",
       "      <th></th>\n",
       "      <th>Time</th>\n",
       "      <th>X</th>\n",
       "      <th>Y</th>\n",
       "      <th>Z</th>\n",
       "      <th>Heart Rate</th>\n",
       "      <th>Labels</th>\n",
       "    </tr>\n",
       "  </thead>\n",
       "  <tbody>\n",
       "    <tr>\n",
       "      <th>1150608</th>\n",
       "      <td>25530.003946</td>\n",
       "      <td>0.133011</td>\n",
       "      <td>-0.976974</td>\n",
       "      <td>0.162323</td>\n",
       "      <td>-999.0</td>\n",
       "      <td>2.0</td>\n",
       "    </tr>\n",
       "    <tr>\n",
       "      <th>1152107</th>\n",
       "      <td>25560.011476</td>\n",
       "      <td>0.132507</td>\n",
       "      <td>-0.975006</td>\n",
       "      <td>0.163269</td>\n",
       "      <td>-999.0</td>\n",
       "      <td>2.0</td>\n",
       "    </tr>\n",
       "    <tr>\n",
       "      <th>1153606</th>\n",
       "      <td>25590.017736</td>\n",
       "      <td>0.130524</td>\n",
       "      <td>-0.974991</td>\n",
       "      <td>0.165192</td>\n",
       "      <td>-999.0</td>\n",
       "      <td>2.0</td>\n",
       "    </tr>\n",
       "    <tr>\n",
       "      <th>1155104</th>\n",
       "      <td>25620.008041</td>\n",
       "      <td>0.133987</td>\n",
       "      <td>-0.975983</td>\n",
       "      <td>0.163788</td>\n",
       "      <td>-999.0</td>\n",
       "      <td>2.0</td>\n",
       "    </tr>\n",
       "    <tr>\n",
       "      <th>1156603</th>\n",
       "      <td>25650.013869</td>\n",
       "      <td>0.131546</td>\n",
       "      <td>-0.976486</td>\n",
       "      <td>0.161316</td>\n",
       "      <td>-999.0</td>\n",
       "      <td>2.0</td>\n",
       "    </tr>\n",
       "    <tr>\n",
       "      <th>1158101</th>\n",
       "      <td>25680.002878</td>\n",
       "      <td>0.133026</td>\n",
       "      <td>-0.976486</td>\n",
       "      <td>0.160858</td>\n",
       "      <td>-999.0</td>\n",
       "      <td>2.0</td>\n",
       "    </tr>\n",
       "    <tr>\n",
       "      <th>1159600</th>\n",
       "      <td>25710.008974</td>\n",
       "      <td>0.131531</td>\n",
       "      <td>-0.974518</td>\n",
       "      <td>0.163254</td>\n",
       "      <td>-999.0</td>\n",
       "      <td>2.0</td>\n",
       "    </tr>\n",
       "    <tr>\n",
       "      <th>1161099</th>\n",
       "      <td>25740.017955</td>\n",
       "      <td>0.132019</td>\n",
       "      <td>-0.974518</td>\n",
       "      <td>0.163254</td>\n",
       "      <td>-999.0</td>\n",
       "      <td>2.0</td>\n",
       "    </tr>\n",
       "    <tr>\n",
       "      <th>1162597</th>\n",
       "      <td>25770.002792</td>\n",
       "      <td>0.132980</td>\n",
       "      <td>-0.975479</td>\n",
       "      <td>0.165222</td>\n",
       "      <td>-999.0</td>\n",
       "      <td>2.0</td>\n",
       "    </tr>\n",
       "    <tr>\n",
       "      <th>1164096</th>\n",
       "      <td>25800.010575</td>\n",
       "      <td>0.130081</td>\n",
       "      <td>-0.977966</td>\n",
       "      <td>0.160812</td>\n",
       "      <td>-999.0</td>\n",
       "      <td>2.0</td>\n",
       "    </tr>\n",
       "    <tr>\n",
       "      <th>1167093</th>\n",
       "      <td>25860.019480</td>\n",
       "      <td>0.263855</td>\n",
       "      <td>1.263306</td>\n",
       "      <td>0.121704</td>\n",
       "      <td>-999.0</td>\n",
       "      <td>1.0</td>\n",
       "    </tr>\n",
       "    <tr>\n",
       "      <th>1168591</th>\n",
       "      <td>25890.016651</td>\n",
       "      <td>0.198242</td>\n",
       "      <td>0.927002</td>\n",
       "      <td>0.338501</td>\n",
       "      <td>-999.0</td>\n",
       "      <td>1.0</td>\n",
       "    </tr>\n",
       "    <tr>\n",
       "      <th>1178037</th>\n",
       "      <td>27356.335354</td>\n",
       "      <td>-0.036804</td>\n",
       "      <td>0.059677</td>\n",
       "      <td>-0.988281</td>\n",
       "      <td>60.0</td>\n",
       "      <td>1.0</td>\n",
       "    </tr>\n",
       "    <tr>\n",
       "      <th>1178038</th>\n",
       "      <td>27356.341649</td>\n",
       "      <td>-0.038269</td>\n",
       "      <td>0.057709</td>\n",
       "      <td>-0.989273</td>\n",
       "      <td>59.0</td>\n",
       "      <td>1.0</td>\n",
       "    </tr>\n",
       "    <tr>\n",
       "      <th>1178039</th>\n",
       "      <td>27356.376896</td>\n",
       "      <td>-0.037323</td>\n",
       "      <td>0.056747</td>\n",
       "      <td>-0.984863</td>\n",
       "      <td>-999.0</td>\n",
       "      <td>5.0</td>\n",
       "    </tr>\n",
       "    <tr>\n",
       "      <th>1178040</th>\n",
       "      <td>27356.377824</td>\n",
       "      <td>-0.038788</td>\n",
       "      <td>0.056732</td>\n",
       "      <td>-0.986832</td>\n",
       "      <td>-999.0</td>\n",
       "      <td>5.0</td>\n",
       "    </tr>\n",
       "    <tr>\n",
       "      <th>1178041</th>\n",
       "      <td>27356.398863</td>\n",
       "      <td>-0.037323</td>\n",
       "      <td>0.056747</td>\n",
       "      <td>-0.984375</td>\n",
       "      <td>-999.0</td>\n",
       "      <td>2.0</td>\n",
       "    </tr>\n",
       "    <tr>\n",
       "      <th>1178042</th>\n",
       "      <td>27356.401757</td>\n",
       "      <td>-0.035828</td>\n",
       "      <td>0.058212</td>\n",
       "      <td>-0.987289</td>\n",
       "      <td>-999.0</td>\n",
       "      <td>5.0</td>\n",
       "    </tr>\n",
       "    <tr>\n",
       "      <th>1178043</th>\n",
       "      <td>27356.403478</td>\n",
       "      <td>-0.036804</td>\n",
       "      <td>0.058701</td>\n",
       "      <td>-0.988281</td>\n",
       "      <td>-999.0</td>\n",
       "      <td>5.0</td>\n",
       "    </tr>\n",
       "    <tr>\n",
       "      <th>1178044</th>\n",
       "      <td>27356.404345</td>\n",
       "      <td>-0.037766</td>\n",
       "      <td>0.056229</td>\n",
       "      <td>-0.989731</td>\n",
       "      <td>-999.0</td>\n",
       "      <td>5.0</td>\n",
       "    </tr>\n",
       "    <tr>\n",
       "      <th>1178045</th>\n",
       "      <td>27356.408534</td>\n",
       "      <td>-0.035812</td>\n",
       "      <td>0.056229</td>\n",
       "      <td>-0.988739</td>\n",
       "      <td>-999.0</td>\n",
       "      <td>2.0</td>\n",
       "    </tr>\n",
       "    <tr>\n",
       "      <th>1178046</th>\n",
       "      <td>27356.409394</td>\n",
       "      <td>-0.038269</td>\n",
       "      <td>0.056732</td>\n",
       "      <td>-0.988769</td>\n",
       "      <td>-999.0</td>\n",
       "      <td>2.0</td>\n",
       "    </tr>\n",
       "    <tr>\n",
       "      <th>1178047</th>\n",
       "      <td>27356.410206</td>\n",
       "      <td>-0.038300</td>\n",
       "      <td>0.057724</td>\n",
       "      <td>-0.986832</td>\n",
       "      <td>-999.0</td>\n",
       "      <td>2.0</td>\n",
       "    </tr>\n",
       "    <tr>\n",
       "      <th>1178048</th>\n",
       "      <td>27356.411039</td>\n",
       "      <td>-0.037323</td>\n",
       "      <td>0.059204</td>\n",
       "      <td>-0.985367</td>\n",
       "      <td>-999.0</td>\n",
       "      <td>2.0</td>\n",
       "    </tr>\n",
       "    <tr>\n",
       "      <th>1178049</th>\n",
       "      <td>27356.411889</td>\n",
       "      <td>-0.036316</td>\n",
       "      <td>0.057724</td>\n",
       "      <td>-0.987289</td>\n",
       "      <td>-999.0</td>\n",
       "      <td>2.0</td>\n",
       "    </tr>\n",
       "    <tr>\n",
       "      <th>1178050</th>\n",
       "      <td>27356.412898</td>\n",
       "      <td>-0.037796</td>\n",
       "      <td>0.057236</td>\n",
       "      <td>-0.986343</td>\n",
       "      <td>-999.0</td>\n",
       "      <td>2.0</td>\n",
       "    </tr>\n",
       "    <tr>\n",
       "      <th>1178052</th>\n",
       "      <td>27356.414609</td>\n",
       "      <td>-0.038788</td>\n",
       "      <td>0.058212</td>\n",
       "      <td>-0.985870</td>\n",
       "      <td>-999.0</td>\n",
       "      <td>1.0</td>\n",
       "    </tr>\n",
       "    <tr>\n",
       "      <th>1178053</th>\n",
       "      <td>27356.415388</td>\n",
       "      <td>-0.037796</td>\n",
       "      <td>0.056244</td>\n",
       "      <td>-0.986328</td>\n",
       "      <td>-999.0</td>\n",
       "      <td>2.0</td>\n",
       "    </tr>\n",
       "    <tr>\n",
       "      <th>1178054</th>\n",
       "      <td>27356.417310</td>\n",
       "      <td>-0.036819</td>\n",
       "      <td>0.057724</td>\n",
       "      <td>-0.987305</td>\n",
       "      <td>-999.0</td>\n",
       "      <td>2.0</td>\n",
       "    </tr>\n",
       "    <tr>\n",
       "      <th>1178055</th>\n",
       "      <td>27356.424157</td>\n",
       "      <td>-0.035812</td>\n",
       "      <td>0.057221</td>\n",
       "      <td>-0.988739</td>\n",
       "      <td>-999.0</td>\n",
       "      <td>1.0</td>\n",
       "    </tr>\n",
       "    <tr>\n",
       "      <th>1178056</th>\n",
       "      <td>27356.425011</td>\n",
       "      <td>-0.037308</td>\n",
       "      <td>0.057236</td>\n",
       "      <td>-0.986816</td>\n",
       "      <td>-999.0</td>\n",
       "      <td>2.0</td>\n",
       "    </tr>\n",
       "    <tr>\n",
       "      <th>1178057</th>\n",
       "      <td>27356.427350</td>\n",
       "      <td>-0.037811</td>\n",
       "      <td>0.057724</td>\n",
       "      <td>-0.986343</td>\n",
       "      <td>-999.0</td>\n",
       "      <td>2.0</td>\n",
       "    </tr>\n",
       "    <tr>\n",
       "      <th>1178058</th>\n",
       "      <td>27356.428203</td>\n",
       "      <td>-0.036331</td>\n",
       "      <td>0.057724</td>\n",
       "      <td>-0.986313</td>\n",
       "      <td>-999.0</td>\n",
       "      <td>1.0</td>\n",
       "    </tr>\n",
       "    <tr>\n",
       "      <th>1178059</th>\n",
       "      <td>27356.428997</td>\n",
       "      <td>-0.035812</td>\n",
       "      <td>0.057221</td>\n",
       "      <td>-0.988251</td>\n",
       "      <td>-999.0</td>\n",
       "      <td>2.0</td>\n",
       "    </tr>\n",
       "    <tr>\n",
       "      <th>1178060</th>\n",
       "      <td>27356.430246</td>\n",
       "      <td>-0.037811</td>\n",
       "      <td>0.057236</td>\n",
       "      <td>-0.985855</td>\n",
       "      <td>-999.0</td>\n",
       "      <td>2.0</td>\n",
       "    </tr>\n",
       "    <tr>\n",
       "      <th>1178061</th>\n",
       "      <td>27356.431063</td>\n",
       "      <td>-0.036331</td>\n",
       "      <td>0.055756</td>\n",
       "      <td>-0.985809</td>\n",
       "      <td>-999.0</td>\n",
       "      <td>1.0</td>\n",
       "    </tr>\n",
       "    <tr>\n",
       "      <th>1178062</th>\n",
       "      <td>27356.431826</td>\n",
       "      <td>-0.037292</td>\n",
       "      <td>0.055756</td>\n",
       "      <td>-0.987289</td>\n",
       "      <td>-999.0</td>\n",
       "      <td>2.0</td>\n",
       "    </tr>\n",
       "    <tr>\n",
       "      <th>1178064</th>\n",
       "      <td>27356.433871</td>\n",
       "      <td>-0.037796</td>\n",
       "      <td>0.057236</td>\n",
       "      <td>-0.986832</td>\n",
       "      <td>-999.0</td>\n",
       "      <td>1.0</td>\n",
       "    </tr>\n",
       "    <tr>\n",
       "      <th>1178065</th>\n",
       "      <td>27356.434719</td>\n",
       "      <td>-0.037308</td>\n",
       "      <td>0.057724</td>\n",
       "      <td>-0.986328</td>\n",
       "      <td>-999.0</td>\n",
       "      <td>1.0</td>\n",
       "    </tr>\n",
       "    <tr>\n",
       "      <th>1178066</th>\n",
       "      <td>27356.435928</td>\n",
       "      <td>-0.036316</td>\n",
       "      <td>0.056732</td>\n",
       "      <td>-0.987289</td>\n",
       "      <td>-999.0</td>\n",
       "      <td>1.0</td>\n",
       "    </tr>\n",
       "    <tr>\n",
       "      <th>1178067</th>\n",
       "      <td>27356.447586</td>\n",
       "      <td>-0.036819</td>\n",
       "      <td>0.058701</td>\n",
       "      <td>-0.986816</td>\n",
       "      <td>-999.0</td>\n",
       "      <td>1.0</td>\n",
       "    </tr>\n",
       "    <tr>\n",
       "      <th>1178068</th>\n",
       "      <td>27356.448449</td>\n",
       "      <td>-0.036819</td>\n",
       "      <td>0.056747</td>\n",
       "      <td>-0.985825</td>\n",
       "      <td>-999.0</td>\n",
       "      <td>1.0</td>\n",
       "    </tr>\n",
       "    <tr>\n",
       "      <th>1178069</th>\n",
       "      <td>27356.449269</td>\n",
       "      <td>-0.036331</td>\n",
       "      <td>0.055756</td>\n",
       "      <td>-0.985809</td>\n",
       "      <td>-999.0</td>\n",
       "      <td>2.0</td>\n",
       "    </tr>\n",
       "    <tr>\n",
       "      <th>1178070</th>\n",
       "      <td>27356.450106</td>\n",
       "      <td>-0.035339</td>\n",
       "      <td>0.056732</td>\n",
       "      <td>-0.986786</td>\n",
       "      <td>-999.0</td>\n",
       "      <td>2.0</td>\n",
       "    </tr>\n",
       "    <tr>\n",
       "      <th>1178071</th>\n",
       "      <td>27356.450928</td>\n",
       "      <td>-0.038284</td>\n",
       "      <td>0.057221</td>\n",
       "      <td>-0.987320</td>\n",
       "      <td>-999.0</td>\n",
       "      <td>2.0</td>\n",
       "    </tr>\n",
       "    <tr>\n",
       "      <th>1178072</th>\n",
       "      <td>27356.451748</td>\n",
       "      <td>-0.037781</td>\n",
       "      <td>0.055252</td>\n",
       "      <td>-0.989243</td>\n",
       "      <td>-999.0</td>\n",
       "      <td>2.0</td>\n",
       "    </tr>\n",
       "    <tr>\n",
       "      <th>1178073</th>\n",
       "      <td>27356.452570</td>\n",
       "      <td>-0.037796</td>\n",
       "      <td>0.057724</td>\n",
       "      <td>-0.987320</td>\n",
       "      <td>-999.0</td>\n",
       "      <td>2.0</td>\n",
       "    </tr>\n",
       "    <tr>\n",
       "      <th>1178074</th>\n",
       "      <td>27356.453401</td>\n",
       "      <td>-0.039261</td>\n",
       "      <td>0.055252</td>\n",
       "      <td>-0.987808</td>\n",
       "      <td>-999.0</td>\n",
       "      <td>1.0</td>\n",
       "    </tr>\n",
       "    <tr>\n",
       "      <th>1178667</th>\n",
       "      <td>27360.008037</td>\n",
       "      <td>0.026413</td>\n",
       "      <td>0.134613</td>\n",
       "      <td>-0.981049</td>\n",
       "      <td>-999.0</td>\n",
       "      <td>2.0</td>\n",
       "    </tr>\n",
       "    <tr>\n",
       "      <th>1179117</th>\n",
       "      <td>27690.656066</td>\n",
       "      <td>0.024475</td>\n",
       "      <td>0.133133</td>\n",
       "      <td>-0.983505</td>\n",
       "      <td>69.0</td>\n",
       "      <td>2.0</td>\n",
       "    </tr>\n",
       "  </tbody>\n",
       "</table>\n",
       "</div>"
      ],
      "text/plain": [
       "                 Time         X         Y         Z  Heart Rate  Labels\n",
       "1150608  25530.003946  0.133011 -0.976974  0.162323      -999.0     2.0\n",
       "1152107  25560.011476  0.132507 -0.975006  0.163269      -999.0     2.0\n",
       "1153606  25590.017736  0.130524 -0.974991  0.165192      -999.0     2.0\n",
       "1155104  25620.008041  0.133987 -0.975983  0.163788      -999.0     2.0\n",
       "1156603  25650.013869  0.131546 -0.976486  0.161316      -999.0     2.0\n",
       "1158101  25680.002878  0.133026 -0.976486  0.160858      -999.0     2.0\n",
       "1159600  25710.008974  0.131531 -0.974518  0.163254      -999.0     2.0\n",
       "1161099  25740.017955  0.132019 -0.974518  0.163254      -999.0     2.0\n",
       "1162597  25770.002792  0.132980 -0.975479  0.165222      -999.0     2.0\n",
       "1164096  25800.010575  0.130081 -0.977966  0.160812      -999.0     2.0\n",
       "1167093  25860.019480  0.263855  1.263306  0.121704      -999.0     1.0\n",
       "1168591  25890.016651  0.198242  0.927002  0.338501      -999.0     1.0\n",
       "1178037  27356.335354 -0.036804  0.059677 -0.988281        60.0     1.0\n",
       "1178038  27356.341649 -0.038269  0.057709 -0.989273        59.0     1.0\n",
       "1178039  27356.376896 -0.037323  0.056747 -0.984863      -999.0     5.0\n",
       "1178040  27356.377824 -0.038788  0.056732 -0.986832      -999.0     5.0\n",
       "1178041  27356.398863 -0.037323  0.056747 -0.984375      -999.0     2.0\n",
       "1178042  27356.401757 -0.035828  0.058212 -0.987289      -999.0     5.0\n",
       "1178043  27356.403478 -0.036804  0.058701 -0.988281      -999.0     5.0\n",
       "1178044  27356.404345 -0.037766  0.056229 -0.989731      -999.0     5.0\n",
       "1178045  27356.408534 -0.035812  0.056229 -0.988739      -999.0     2.0\n",
       "1178046  27356.409394 -0.038269  0.056732 -0.988769      -999.0     2.0\n",
       "1178047  27356.410206 -0.038300  0.057724 -0.986832      -999.0     2.0\n",
       "1178048  27356.411039 -0.037323  0.059204 -0.985367      -999.0     2.0\n",
       "1178049  27356.411889 -0.036316  0.057724 -0.987289      -999.0     2.0\n",
       "1178050  27356.412898 -0.037796  0.057236 -0.986343      -999.0     2.0\n",
       "1178052  27356.414609 -0.038788  0.058212 -0.985870      -999.0     1.0\n",
       "1178053  27356.415388 -0.037796  0.056244 -0.986328      -999.0     2.0\n",
       "1178054  27356.417310 -0.036819  0.057724 -0.987305      -999.0     2.0\n",
       "1178055  27356.424157 -0.035812  0.057221 -0.988739      -999.0     1.0\n",
       "1178056  27356.425011 -0.037308  0.057236 -0.986816      -999.0     2.0\n",
       "1178057  27356.427350 -0.037811  0.057724 -0.986343      -999.0     2.0\n",
       "1178058  27356.428203 -0.036331  0.057724 -0.986313      -999.0     1.0\n",
       "1178059  27356.428997 -0.035812  0.057221 -0.988251      -999.0     2.0\n",
       "1178060  27356.430246 -0.037811  0.057236 -0.985855      -999.0     2.0\n",
       "1178061  27356.431063 -0.036331  0.055756 -0.985809      -999.0     1.0\n",
       "1178062  27356.431826 -0.037292  0.055756 -0.987289      -999.0     2.0\n",
       "1178064  27356.433871 -0.037796  0.057236 -0.986832      -999.0     1.0\n",
       "1178065  27356.434719 -0.037308  0.057724 -0.986328      -999.0     1.0\n",
       "1178066  27356.435928 -0.036316  0.056732 -0.987289      -999.0     1.0\n",
       "1178067  27356.447586 -0.036819  0.058701 -0.986816      -999.0     1.0\n",
       "1178068  27356.448449 -0.036819  0.056747 -0.985825      -999.0     1.0\n",
       "1178069  27356.449269 -0.036331  0.055756 -0.985809      -999.0     2.0\n",
       "1178070  27356.450106 -0.035339  0.056732 -0.986786      -999.0     2.0\n",
       "1178071  27356.450928 -0.038284  0.057221 -0.987320      -999.0     2.0\n",
       "1178072  27356.451748 -0.037781  0.055252 -0.989243      -999.0     2.0\n",
       "1178073  27356.452570 -0.037796  0.057724 -0.987320      -999.0     2.0\n",
       "1178074  27356.453401 -0.039261  0.055252 -0.987808      -999.0     1.0\n",
       "1178667  27360.008037  0.026413  0.134613 -0.981049      -999.0     2.0\n",
       "1179117  27690.656066  0.024475  0.133133 -0.983505        69.0     2.0"
      ]
     },
     "execution_count": 121,
     "metadata": {
      "tags": []
     },
     "output_type": "execute_result"
    }
   ],
   "source": [
    "# check Time: 25890.016651\t27356.335354\n",
    "df[df[\"Labels\"] > -1].tail(50)"
   ]
  },
  {
   "cell_type": "code",
   "execution_count": null,
   "id": "homeless-biotechnology",
   "metadata": {
    "id": "homeless-biotechnology",
    "outputId": "fdb45b9f-b227-428d-c25e-55e1c8087809",
    "scrolled": false
   },
   "outputs": [
    {
     "data": {
      "text/plain": [
       "' \\nTo do next:\\n    decision making: what to do with the missing inervals in the motion dataset\\n    divide within interval of time.\\n    \\n'"
      ]
     },
     "execution_count": 122,
     "metadata": {
      "tags": []
     },
     "output_type": "execute_result"
    }
   ],
   "source": [
    "''' \n",
    "To do next:\n",
    "    decision making: what to do with the missing inervals in the motion dataset\n",
    "    divide within interval of time.\n",
    "    \n",
    "'''"
   ]
  },
  {
   "cell_type": "markdown",
   "id": "academic-butler",
   "metadata": {
    "id": "academic-butler"
   },
   "source": [
    "###### Testing DataFrame"
   ]
  },
  {
   "cell_type": "code",
   "execution_count": null,
   "id": "accessory-governor",
   "metadata": {
    "id": "accessory-governor"
   },
   "outputs": [],
   "source": [
    "# Cropping\n",
    "\n",
    "(start, end) = crop_to_offset(user_1_heart_rate, user_1_labels)\n",
    "user_1_heart_rate = user_1_heart_rate[start-1:end]\n",
    "\n",
    "(start, end) = crop_to_offset(user_1_motion, user_1_labels)\n",
    "user_1_motion = user_1_motion[start-1:end]"
   ]
  },
  {
   "cell_type": "code",
   "execution_count": null,
   "id": "finnish-learning",
   "metadata": {
    "id": "finnish-learning",
    "outputId": "e478eb87-5280-4489-c7d3-bb104f828923"
   },
   "outputs": [
    {
     "data": {
      "text/html": [
       "<div>\n",
       "<style scoped>\n",
       "    .dataframe tbody tr th:only-of-type {\n",
       "        vertical-align: middle;\n",
       "    }\n",
       "\n",
       "    .dataframe tbody tr th {\n",
       "        vertical-align: top;\n",
       "    }\n",
       "\n",
       "    .dataframe thead th {\n",
       "        text-align: right;\n",
       "    }\n",
       "</style>\n",
       "<table border=\"1\" class=\"dataframe\">\n",
       "  <thead>\n",
       "    <tr style=\"text-align: right;\">\n",
       "      <th></th>\n",
       "      <th>Time</th>\n",
       "      <th>X</th>\n",
       "      <th>Y</th>\n",
       "      <th>Z</th>\n",
       "      <th>heart rate</th>\n",
       "      <th>labels</th>\n",
       "    </tr>\n",
       "  </thead>\n",
       "  <tbody>\n",
       "    <tr>\n",
       "      <th>0</th>\n",
       "      <td>-0.004037</td>\n",
       "      <td>0.404434</td>\n",
       "      <td>0.446549</td>\n",
       "      <td>-0.796829</td>\n",
       "      <td>50.0</td>\n",
       "      <td>-1.0</td>\n",
       "    </tr>\n",
       "    <tr>\n",
       "      <th>1</th>\n",
       "      <td>0.015948</td>\n",
       "      <td>0.403931</td>\n",
       "      <td>0.449005</td>\n",
       "      <td>-0.796860</td>\n",
       "      <td>-1.0</td>\n",
       "      <td>0.0</td>\n",
       "    </tr>\n",
       "    <tr>\n",
       "      <th>2</th>\n",
       "      <td>0.036006</td>\n",
       "      <td>0.403915</td>\n",
       "      <td>0.448029</td>\n",
       "      <td>-0.795395</td>\n",
       "      <td>-1.0</td>\n",
       "      <td>-1.0</td>\n",
       "    </tr>\n",
       "    <tr>\n",
       "      <th>3</th>\n",
       "      <td>0.055885</td>\n",
       "      <td>0.404907</td>\n",
       "      <td>0.446549</td>\n",
       "      <td>-0.795853</td>\n",
       "      <td>-1.0</td>\n",
       "      <td>-1.0</td>\n",
       "    </tr>\n",
       "    <tr>\n",
       "      <th>4</th>\n",
       "      <td>0.075883</td>\n",
       "      <td>0.408356</td>\n",
       "      <td>0.447525</td>\n",
       "      <td>-0.796768</td>\n",
       "      <td>-1.0</td>\n",
       "      <td>-1.0</td>\n",
       "    </tr>\n",
       "    <tr>\n",
       "      <th>...</th>\n",
       "      <td>...</td>\n",
       "      <td>...</td>\n",
       "      <td>...</td>\n",
       "      <td>...</td>\n",
       "      <td>...</td>\n",
       "      <td>...</td>\n",
       "    </tr>\n",
       "    <tr>\n",
       "      <th>1187899</th>\n",
       "      <td>28394.149736</td>\n",
       "      <td>-0.601166</td>\n",
       "      <td>-0.075180</td>\n",
       "      <td>-0.774841</td>\n",
       "      <td>-1.0</td>\n",
       "      <td>-1.0</td>\n",
       "    </tr>\n",
       "    <tr>\n",
       "      <th>1187900</th>\n",
       "      <td>28394.169696</td>\n",
       "      <td>-0.600189</td>\n",
       "      <td>-0.071228</td>\n",
       "      <td>-0.774857</td>\n",
       "      <td>-1.0</td>\n",
       "      <td>-1.0</td>\n",
       "    </tr>\n",
       "    <tr>\n",
       "      <th>1187901</th>\n",
       "      <td>28394.189770</td>\n",
       "      <td>-0.599213</td>\n",
       "      <td>-0.069260</td>\n",
       "      <td>-0.773880</td>\n",
       "      <td>-1.0</td>\n",
       "      <td>-1.0</td>\n",
       "    </tr>\n",
       "    <tr>\n",
       "      <th>1187902</th>\n",
       "      <td>28394.209753</td>\n",
       "      <td>-0.597260</td>\n",
       "      <td>-0.072205</td>\n",
       "      <td>-0.771393</td>\n",
       "      <td>-1.0</td>\n",
       "      <td>-1.0</td>\n",
       "    </tr>\n",
       "    <tr>\n",
       "      <th>1187903</th>\n",
       "      <td>28394.229658</td>\n",
       "      <td>-0.596283</td>\n",
       "      <td>-0.074173</td>\n",
       "      <td>-0.770874</td>\n",
       "      <td>NaN</td>\n",
       "      <td>NaN</td>\n",
       "    </tr>\n",
       "  </tbody>\n",
       "</table>\n",
       "<p>1187904 rows × 6 columns</p>\n",
       "</div>"
      ],
      "text/plain": [
       "                 Time         X         Y         Z  heart rate  labels\n",
       "0           -0.004037  0.404434  0.446549 -0.796829        50.0    -1.0\n",
       "1            0.015948  0.403931  0.449005 -0.796860        -1.0     0.0\n",
       "2            0.036006  0.403915  0.448029 -0.795395        -1.0    -1.0\n",
       "3            0.055885  0.404907  0.446549 -0.795853        -1.0    -1.0\n",
       "4            0.075883  0.408356  0.447525 -0.796768        -1.0    -1.0\n",
       "...               ...       ...       ...       ...         ...     ...\n",
       "1187899  28394.149736 -0.601166 -0.075180 -0.774841        -1.0    -1.0\n",
       "1187900  28394.169696 -0.600189 -0.071228 -0.774857        -1.0    -1.0\n",
       "1187901  28394.189770 -0.599213 -0.069260 -0.773880        -1.0    -1.0\n",
       "1187902  28394.209753 -0.597260 -0.072205 -0.771393        -1.0    -1.0\n",
       "1187903  28394.229658 -0.596283 -0.074173 -0.770874         NaN     NaN\n",
       "\n",
       "[1187904 rows x 6 columns]"
      ]
     },
     "execution_count": 78,
     "metadata": {
      "tags": []
     },
     "output_type": "execute_result"
    }
   ],
   "source": [
    "# extending\n",
    "\n",
    "array_size = np.size(user_1_motion, 0)\n",
    "expanded_heart_rate = []\n",
    "count_heart_rate = 0\n",
    "expanded_labels = []\n",
    "count_labels = 0\n",
    "\n",
    "for i in range(array_size):\n",
    "    \n",
    "    # heart rate\n",
    "    if user_1_motion[i][0] > user_1_heart_rate[count_heart_rate][0]:\n",
    "        expanded_heart_rate.append(user_1_heart_rate[count_heart_rate][1])\n",
    "        count_heart_rate += 1\n",
    "    else:\n",
    "        expanded_heart_rate.append(-999)\n",
    "    \n",
    "    # labels\n",
    "    if user_1_motion[i][0] > user_1_labels[count_labels][0]:\n",
    "        expanded_labels.append(user_1_labels[count_labels][1])\n",
    "        count_labels += 1\n",
    "    else:\n",
    "        expanded_labels.append(-999)"
   ]
  },
  {
   "cell_type": "code",
   "execution_count": null,
   "id": "exempt-biodiversity",
   "metadata": {
    "id": "exempt-biodiversity"
   },
   "outputs": [],
   "source": [
    "# creating dataframe and adding hr and lb to dataframe as columns\n",
    "\n",
    "d = pd.DataFrame(user_1_motion, columns=['Time', 'X', 'Y', 'Z'])\n",
    "\n",
    "hr = pd.Series(new_heart_rate)\n",
    "d[\"Heart Rate\"] = hr\n",
    "lb = pd.Series(new_labels)\n",
    "d[\"Labels\"] = lb\n",
    "\n",
    "d"
   ]
  },
  {
   "cell_type": "code",
   "execution_count": null,
   "id": "accepting-brother",
   "metadata": {
    "id": "accepting-brother",
    "outputId": "5bcaac96-1f94-4326-d6eb-66a716f63797"
   },
   "outputs": [
    {
     "data": {
      "text/plain": [
       "4965"
      ]
     },
     "execution_count": 69,
     "metadata": {
      "tags": []
     },
     "output_type": "execute_result"
    }
   ],
   "source": [
    "np.size(user_1_heart_rate, 0), np.size(user_1_labels, 0)"
   ]
  },
  {
   "cell_type": "code",
   "execution_count": null,
   "id": "electronic-desire",
   "metadata": {
    "id": "electronic-desire",
    "outputId": "dbba72c3-2772-4e58-8d56-8294c3738e85"
   },
   "outputs": [
    {
     "data": {
      "text/html": [
       "<div>\n",
       "<style scoped>\n",
       "    .dataframe tbody tr th:only-of-type {\n",
       "        vertical-align: middle;\n",
       "    }\n",
       "\n",
       "    .dataframe tbody tr th {\n",
       "        vertical-align: top;\n",
       "    }\n",
       "\n",
       "    .dataframe thead th {\n",
       "        text-align: right;\n",
       "    }\n",
       "</style>\n",
       "<table border=\"1\" class=\"dataframe\">\n",
       "  <thead>\n",
       "    <tr style=\"text-align: right;\">\n",
       "      <th></th>\n",
       "      <th>Time</th>\n",
       "      <th>X</th>\n",
       "      <th>Y</th>\n",
       "      <th>Z</th>\n",
       "      <th>heart rate</th>\n",
       "      <th>labels</th>\n",
       "    </tr>\n",
       "  </thead>\n",
       "  <tbody>\n",
       "    <tr>\n",
       "      <th>1152107</th>\n",
       "      <td>25560.011476</td>\n",
       "      <td>0.132507</td>\n",
       "      <td>-0.975006</td>\n",
       "      <td>0.163269</td>\n",
       "      <td>-1.0</td>\n",
       "      <td>2.0</td>\n",
       "    </tr>\n",
       "    <tr>\n",
       "      <th>1153606</th>\n",
       "      <td>25590.017736</td>\n",
       "      <td>0.130524</td>\n",
       "      <td>-0.974991</td>\n",
       "      <td>0.165192</td>\n",
       "      <td>-1.0</td>\n",
       "      <td>2.0</td>\n",
       "    </tr>\n",
       "  </tbody>\n",
       "</table>\n",
       "</div>"
      ],
      "text/plain": [
       "                 Time         X         Y         Z  heart rate  labels\n",
       "1152107  25560.011476  0.132507 -0.975006  0.163269        -1.0     2.0\n",
       "1153606  25590.017736  0.130524 -0.974991  0.165192        -1.0     2.0"
      ]
     },
     "execution_count": 87,
     "metadata": {
      "tags": []
     },
     "output_type": "execute_result"
    }
   ],
   "source": [
    "a = d[(d[\"Time\"] > 25559) & (d[\"Time\"] < 25591)]\n",
    "a[a[\"labels\"] > -1]"
   ]
  },
  {
   "cell_type": "markdown",
   "id": "chief-foundation",
   "metadata": {
    "id": "chief-foundation"
   },
   "source": [
    "## To do\n",
    "\n",
    "- Get spike values for motion\n",
    "- Get average \n",
    "- parameters variables, spike interval, interval epoch, choose types of median"
   ]
  }
 ],
 "metadata": {
  "colab": {
   "collapsed_sections": [],
   "name": "generate_dataset.ipynb",
   "provenance": [],
   "toc_visible": true
  },
  "kernelspec": {
   "display_name": "Python 3",
   "language": "python",
   "name": "python3"
  },
  "language_info": {
   "codemirror_mode": {
    "name": "ipython",
    "version": 3
   },
   "file_extension": ".py",
   "mimetype": "text/x-python",
   "name": "python",
   "nbconvert_exporter": "python",
   "pygments_lexer": "ipython3",
   "version": "3.8.5"
  }
 },
 "nbformat": 4,
 "nbformat_minor": 5
}
