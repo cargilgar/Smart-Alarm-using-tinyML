{
 "cells": [
  {
   "cell_type": "code",
   "execution_count": null,
   "metadata": {
    "id": "5iB8fV6iWeQs"
   },
   "outputs": [],
   "source": [
    "%tensorflow_version 2.x\n",
    "import tensorflow as tf\n",
    "\n",
    "import os\n",
    "import glob\n",
    "import datetime\n",
    "import pandas as pd\n",
    "import numpy as np\n",
    "import matplotlib.pyplot as plt\n",
    "import seaborn as sns\n",
    "from keras.utils.np_utils import to_categorical\n",
    "from sklearn import metrics\n",
    "from sklearn.metrics import classification_report\n",
    "\n",
    "!pip install autofeat\n",
    "from autofeat import FeatureSelector, AutoFeatRegressor"
   ]
  },
  {
   "cell_type": "code",
   "execution_count": null,
   "metadata": {
    "id": "QELdntL8wlAu"
   },
   "outputs": [],
   "source": [
    "# Check for GPU availability\n",
    "device_name = tf.test.gpu_device_name()\n",
    "if device_name != '/device:GPU:0':\n",
    "    raise SystemError('GPU device not found')\n",
    "\n",
    "print('Found GPU at: {}'.format(device_name))"
   ]
  },
  {
   "cell_type": "markdown",
   "metadata": {
    "id": "1R0wTJdcZzA9"
   },
   "source": [
    "# Load Dataset\n",
    "\n",
    "Load `.csv` files, concatenate them into one dataset and count rows and columns"
   ]
  },
  {
   "cell_type": "code",
   "execution_count": null,
   "metadata": {
    "id": "uge8UaRLVvuT"
   },
   "outputs": [],
   "source": [
    "!wget 'https://github.com/cargilgar/Smart-Alarm-using-tinyML/raw/main/data/dataset/datasets.zip'\n",
    "\n",
    "!unzip datasets.zip"
   ]
  },
  {
   "cell_type": "code",
   "execution_count": 3,
   "metadata": {
    "colab": {
     "base_uri": "https://localhost:8080/",
     "height": 450
    },
    "executionInfo": {
     "elapsed": 633,
     "status": "ok",
     "timestamp": 1630169341572,
     "user": {
      "displayName": "Carlos Gil",
      "photoUrl": "",
      "userId": "12309568779801871703"
     },
     "user_tz": -120
    },
    "id": "q_LRVocyimd2",
    "outputId": "f8e2fdc7-de12-4b28-88e7-a3a40228ce15",
    "scrolled": true
   },
   "outputs": [
    {
     "name": "stdout",
     "output_type": "stream",
     "text": [
      "Number of Rows:  772295\n",
      "Number of Columns:  6\n"
     ]
    },
    {
     "data": {
      "text/html": [
       "<div>\n",
       "<style scoped>\n",
       "    .dataframe tbody tr th:only-of-type {\n",
       "        vertical-align: middle;\n",
       "    }\n",
       "\n",
       "    .dataframe tbody tr th {\n",
       "        vertical-align: top;\n",
       "    }\n",
       "\n",
       "    .dataframe thead th {\n",
       "        text-align: right;\n",
       "    }\n",
       "</style>\n",
       "<table border=\"1\" class=\"dataframe\">\n",
       "  <thead>\n",
       "    <tr style=\"text-align: right;\">\n",
       "      <th></th>\n",
       "      <th>Time</th>\n",
       "      <th>X</th>\n",
       "      <th>Y</th>\n",
       "      <th>Z</th>\n",
       "      <th>Heart Rate</th>\n",
       "      <th>Labels</th>\n",
       "    </tr>\n",
       "  </thead>\n",
       "  <tbody>\n",
       "    <tr>\n",
       "      <th>0</th>\n",
       "      <td>1.0</td>\n",
       "      <td>0.173477</td>\n",
       "      <td>0.037720</td>\n",
       "      <td>0.987289</td>\n",
       "      <td>71.0</td>\n",
       "      <td>0.0</td>\n",
       "    </tr>\n",
       "    <tr>\n",
       "      <th>1</th>\n",
       "      <td>2.0</td>\n",
       "      <td>0.181351</td>\n",
       "      <td>0.042587</td>\n",
       "      <td>0.990738</td>\n",
       "      <td>71.0</td>\n",
       "      <td>0.0</td>\n",
       "    </tr>\n",
       "    <tr>\n",
       "      <th>2</th>\n",
       "      <td>3.0</td>\n",
       "      <td>0.199982</td>\n",
       "      <td>0.039688</td>\n",
       "      <td>1.020813</td>\n",
       "      <td>71.0</td>\n",
       "      <td>0.0</td>\n",
       "    </tr>\n",
       "    <tr>\n",
       "      <th>3</th>\n",
       "      <td>4.0</td>\n",
       "      <td>0.199005</td>\n",
       "      <td>0.026444</td>\n",
       "      <td>1.004486</td>\n",
       "      <td>71.0</td>\n",
       "      <td>0.0</td>\n",
       "    </tr>\n",
       "    <tr>\n",
       "      <th>4</th>\n",
       "      <td>5.0</td>\n",
       "      <td>0.198181</td>\n",
       "      <td>0.022995</td>\n",
       "      <td>0.984344</td>\n",
       "      <td>71.0</td>\n",
       "      <td>0.0</td>\n",
       "    </tr>\n",
       "    <tr>\n",
       "      <th>...</th>\n",
       "      <td>...</td>\n",
       "      <td>...</td>\n",
       "      <td>...</td>\n",
       "      <td>...</td>\n",
       "      <td>...</td>\n",
       "      <td>...</td>\n",
       "    </tr>\n",
       "    <tr>\n",
       "      <th>772290</th>\n",
       "      <td>28435.0</td>\n",
       "      <td>0.314224</td>\n",
       "      <td>0.354416</td>\n",
       "      <td>0.879440</td>\n",
       "      <td>74.0</td>\n",
       "      <td>-1.0</td>\n",
       "    </tr>\n",
       "    <tr>\n",
       "      <th>772291</th>\n",
       "      <td>28436.0</td>\n",
       "      <td>0.314682</td>\n",
       "      <td>0.353943</td>\n",
       "      <td>0.879440</td>\n",
       "      <td>74.0</td>\n",
       "      <td>-1.0</td>\n",
       "    </tr>\n",
       "    <tr>\n",
       "      <th>772292</th>\n",
       "      <td>28437.0</td>\n",
       "      <td>0.314728</td>\n",
       "      <td>0.354904</td>\n",
       "      <td>0.878937</td>\n",
       "      <td>74.0</td>\n",
       "      <td>-1.0</td>\n",
       "    </tr>\n",
       "    <tr>\n",
       "      <th>772293</th>\n",
       "      <td>28438.0</td>\n",
       "      <td>0.314713</td>\n",
       "      <td>0.354919</td>\n",
       "      <td>0.878967</td>\n",
       "      <td>74.0</td>\n",
       "      <td>-1.0</td>\n",
       "    </tr>\n",
       "    <tr>\n",
       "      <th>772294</th>\n",
       "      <td>28439.0</td>\n",
       "      <td>0.314713</td>\n",
       "      <td>0.354431</td>\n",
       "      <td>0.879913</td>\n",
       "      <td>73.0</td>\n",
       "      <td>-1.0</td>\n",
       "    </tr>\n",
       "  </tbody>\n",
       "</table>\n",
       "<p>772295 rows × 6 columns</p>\n",
       "</div>"
      ],
      "text/plain": [
       "           Time         X         Y         Z  Heart Rate  Labels\n",
       "0           1.0  0.173477  0.037720  0.987289        71.0     0.0\n",
       "1           2.0  0.181351  0.042587  0.990738        71.0     0.0\n",
       "2           3.0  0.199982  0.039688  1.020813        71.0     0.0\n",
       "3           4.0  0.199005  0.026444  1.004486        71.0     0.0\n",
       "4           5.0  0.198181  0.022995  0.984344        71.0     0.0\n",
       "...         ...       ...       ...       ...         ...     ...\n",
       "772290  28435.0  0.314224  0.354416  0.879440        74.0    -1.0\n",
       "772291  28436.0  0.314682  0.353943  0.879440        74.0    -1.0\n",
       "772292  28437.0  0.314728  0.354904  0.878937        74.0    -1.0\n",
       "772293  28438.0  0.314713  0.354919  0.878967        74.0    -1.0\n",
       "772294  28439.0  0.314713  0.354431  0.879913        73.0    -1.0\n",
       "\n",
       "[772295 rows x 6 columns]"
      ]
     },
     "execution_count": 3,
     "metadata": {},
     "output_type": "execute_result"
    }
   ],
   "source": [
    "# Create full dataframe with all subject csv's concatenated\n",
    "path = r'content/output/'\n",
    "all_files = glob.glob(path + '/*.csv')\n",
    "\n",
    "li = []\n",
    "acc_rows = 0\n",
    "\n",
    "for filename in all_files:\n",
    "    subject_csv = pd.read_csv(filename, index_col=False)\n",
    "    acc_rows += len(subject_csv.axes[0])\n",
    "\n",
    "    li.append(subject_csv)\n",
    "\n",
    "df = pd.concat(li, axis=0, ignore_index=True)\n",
    "\n",
    "\n",
    "# Rows and Columns\n",
    "total_rows = len(df.axes[0])\n",
    "total_cols = len(df.axes[1])\n",
    "print('Number of Rows: ', total_rows)\n",
    "print('Number of Columns: ', total_cols)\n",
    "\n",
    "assert total_rows == acc_rows, 'Number of rows does not match'\n",
    "\n",
    "df"
   ]
  },
  {
   "cell_type": "markdown",
   "metadata": {
    "id": "t_EonknWqZmr"
   },
   "source": [
    "# Preparing the data\n",
    "\n",
    "Removing `Time` column, since a strict time series approach did not yield the best results. More information in the [Model used for this project](README.md#Model-used-for-this-project) section."
   ]
  },
  {
   "cell_type": "code",
   "execution_count": null,
   "metadata": {
    "id": "VfF67zWlHKH5"
   },
   "outputs": [],
   "source": [
    "df = df.drop('Time', axis=1)"
   ]
  },
  {
   "cell_type": "markdown",
   "metadata": {
    "id": "00jGhBmxqSXE"
   },
   "source": [
    "Preparing labels\n",
    "\n",
    "* Initial stages (0-5, wake = 0, N1 = 1, N2 = 2, N3 = 3, REM = 5)\n",
    "\n",
    "* Relabeled stages (0-4, wake = 0, N1 = 1, N2 = 2, N3 = 3, REM = 4)"
   ]
  },
  {
   "cell_type": "code",
   "execution_count": null,
   "metadata": {
    "id": "bDfDpd_kHFb7"
   },
   "outputs": [],
   "source": [
    "# Delete non-labeled Rows\n",
    "df.dropna(inplace=True)\n",
    "\n",
    "df['Labels'] = df['Labels'].astype(int)\n",
    "\n",
    "df = df.drop(df.index[(df.Labels < 0) | (df.Labels == 4)])\n",
    "\n",
    "# Same labels will be reused throughout the program\n",
    "df['Labels'] = df['Labels'].map({0:0,1:1,2:2,3:3,5:4,}, na_action=None)"
   ]
  },
  {
   "cell_type": "markdown",
   "metadata": {
    "id": "CtZo1KmbpU6R"
   },
   "source": [
    "## EDA"
   ]
  },
  {
   "cell_type": "code",
   "execution_count": null,
   "metadata": {
    "colab": {
     "base_uri": "https://localhost:8080/",
     "height": 295
    },
    "executionInfo": {
     "elapsed": 268,
     "status": "ok",
     "timestamp": 1628434136146,
     "user": {
      "displayName": "Carlos Gil",
      "photoUrl": "",
      "userId": "12309568779801871703"
     },
     "user_tz": -120
    },
    "id": "MnuMHsMMvNVv",
    "outputId": "2bfad651-df05-4c21-cca5-be162691efed"
   },
   "outputs": [
    {
     "data": {
      "text/plain": [
       "<matplotlib.axes._subplots.AxesSubplot at 0x7f35949eab90>"
      ]
     },
     "execution_count": 75,
     "metadata": {
      "tags": []
     },
     "output_type": "execute_result"
    },
    {
     "data": {
      "image/png": "[encoded data removed]",
      "text/plain": [
       "<Figure size 432x288 with 1 Axes>"
      ]
     },
     "metadata": {
      "needs_background": "light",
      "tags": []
     },
     "output_type": "display_data"
    }
   ],
   "source": [
    "# Labels Distribution\n",
    "df['Labels'].value_counts().plot(kind='bar', title ='Labels Distribution')"
   ]
  },
  {
   "cell_type": "markdown",
   "metadata": {
    "id": "3j0HlZ6BTdZa"
   },
   "source": [
    "## Balancing the dataset\n",
    "Based on the unbalanced distribution of the dataset, let's even it out by applying undersampling (i.e. reducing the number of samples of all of the biggest classes down to the size of the smallest one). \n",
    "\n",
    "In the case the resulting dataset is too small, a more advanced approach of combining undersampling and oversampling might be taken. This approach would take a class with the closest size to the average size as a reference threshold, undersample the bigger classes and oversample the smaller ones. this would guarantee a bigger perfectly balanced dataset."
   ]
  },
  {
   "cell_type": "code",
   "execution_count": null,
   "metadata": {
    "colab": {
     "base_uri": "https://localhost:8080/",
     "height": 340
    },
    "executionInfo": {
     "elapsed": 863,
     "status": "ok",
     "timestamp": 1628435337946,
     "user": {
      "displayName": "Carlos Gil",
      "photoUrl": "",
      "userId": "12309568779801871703"
     },
     "user_tz": -120
    },
    "id": "sAY76Na0CZgM",
    "outputId": "0e98226c-8595-4ac2-ec07-6563cfc916d1"
   },
   "outputs": [
    {
     "name": "stderr",
     "output_type": "stream",
     "text": [
      "/usr/local/lib/python3.7/dist-packages/sklearn/utils/deprecation.py:87: FutureWarning: Function safe_indexing is deprecated; safe_indexing is deprecated in version 0.22 and will be removed in version 0.24.\n",
      "  warnings.warn(msg, category=FutureWarning)\n"
     ]
    },
    {
     "data": {
      "text/plain": [
       "<matplotlib.axes._subplots.AxesSubplot at 0x7f35996726d0>"
      ]
     },
     "execution_count": 87,
     "metadata": {
      "tags": []
     },
     "output_type": "execute_result"
    },
    {
     "data": {
      "image/png": "[encoded data removed]",
      "text/plain": [
       "<Figure size 432x288 with 1 Axes>"
      ]
     },
     "metadata": {
      "needs_background": "light",
      "tags": []
     },
     "output_type": "display_data"
    }
   ],
   "source": [
    "from imblearn.under_sampling import RandomUnderSampler\n",
    "\n",
    "under_sampler = RandomUnderSampler(random_state=42)\n",
    "X_under, y_under = under_sampler.fit_resample(df, df[\"Labels\"])\n",
    "\n",
    "df = pd.DataFrame(X_under, columns=df.columns)\n",
    "\n",
    "df['Labels'].value_counts().plot(kind='bar', title ='Labels Distribution')"
   ]
  },
  {
   "cell_type": "markdown",
   "metadata": {
    "id": "GaLmStW-8JrN"
   },
   "source": [
    "As expected, undersampling has brought about a considerable decrease in the dataset's size. However, it is still large enough and we will extract additional features from the existing data, so it might suffice for training a model."
   ]
  },
  {
   "cell_type": "markdown",
   "metadata": {
    "id": "dqDXcORDGYDM"
   },
   "source": [
    "### Exploring feature's distribution and outliers"
   ]
  },
  {
   "cell_type": "code",
   "execution_count": null,
   "metadata": {
    "colab": {
     "base_uri": "https://localhost:8080/",
     "height": 609
    },
    "executionInfo": {
     "elapsed": 467,
     "status": "ok",
     "timestamp": 1628155734387,
     "user": {
      "displayName": "Carlos Gil",
      "photoUrl": "",
      "userId": "12309568779801871703"
     },
     "user_tz": -120
    },
    "id": "ZdBsAkimo0c2",
    "outputId": "46de705b-9b86-4d3c-81cb-b02fe022488f"
   },
   "outputs": [
    {
     "data": {
      "text/plain": [
       "<matplotlib.axes._subplots.AxesSubplot at 0x7f04ded92f50>"
      ]
     },
     "metadata": {
      "tags": []
     },
     "output_type": "display_data"
    },
    {
     "data": {
      "image/png": "[encoded data removed]",
      "text/plain": [
       "<Figure size 1080x720 with 1 Axes>"
      ]
     },
     "metadata": {
      "needs_background": "light",
      "tags": []
     },
     "output_type": "display_data"
    }
   ],
   "source": [
    "fig, ax = plt.subplots()\n",
    "fig.set_size_inches(15, 10)\n",
    "ax = sns.boxplot(data=df[['X', 'Y', 'Z']], orient='h')\n",
    "display(ax)"
   ]
  },
  {
   "cell_type": "markdown",
   "metadata": {
    "id": "PodbU485qZm4"
   },
   "source": [
    "We can note here that there are some outliers in our data sample, but they do not necessarily have to be measurement errors, as the numbers are not too large to be able to conclude this. These outliers may be due to some physical activity of the user or a sudden movement of the hand. Later on we will conclude whether this data is of value or not, as we will correlate it with the heart rate."
   ]
  },
  {
   "cell_type": "code",
   "execution_count": null,
   "metadata": {
    "colab": {
     "base_uri": "https://localhost:8080/",
     "height": 609
    },
    "executionInfo": {
     "elapsed": 257,
     "status": "ok",
     "timestamp": 1628155734634,
     "user": {
      "displayName": "Carlos Gil",
      "photoUrl": "",
      "userId": "12309568779801871703"
     },
     "user_tz": -120
    },
    "id": "FzQwl1uJVwIN",
    "outputId": "31fc40a1-e9f2-41a3-90cf-4d5ae7b7cf60"
   },
   "outputs": [
    {
     "data": {
      "text/plain": [
       "<matplotlib.axes._subplots.AxesSubplot at 0x7f04ded0c890>"
      ]
     },
     "metadata": {
      "tags": []
     },
     "output_type": "display_data"
    },
    {
     "data": {
      "image/png": "[encoded data removed]",
      "text/plain": [
       "<Figure size 1080x720 with 1 Axes>"
      ]
     },
     "metadata": {
      "needs_background": "light",
      "tags": []
     },
     "output_type": "display_data"
    }
   ],
   "source": [
    "fig, ax = plt.subplots()\n",
    "fig.set_size_inches(15,10)\n",
    "ax = sns.boxplot(data=df[['Heart Rate']],orient='h')\n",
    "display(ax)"
   ]
  },
  {
   "cell_type": "markdown",
   "metadata": {
    "id": "nzM57jTwqZm5"
   },
   "source": [
    "From the heart rate data samples, we can see there are some outliers above 120 bpm. According to the [American Heart Association](https://www.heart.org/en/healthy-living/fitness/fitness-basics/target-heart-rates#.WmeyWKinGUn \"AHA\"), a healthy resting heart rate would be approximately 60–100 bpm for most adults. These outliers are not extraordinarily disproportionate as these might be due to medication, stress, anxiety, hormones and average physical activity of the user.\n",
    "\n",
    "#### Plotting pairwise relationships"
   ]
  },
  {
   "cell_type": "code",
   "execution_count": null,
   "metadata": {
    "colab": {
     "base_uri": "https://localhost:8080/",
     "height": 885
    },
    "executionInfo": {
     "elapsed": 11941,
     "status": "ok",
     "timestamp": 1628155746572,
     "user": {
      "displayName": "Carlos Gil",
      "photoUrl": "",
      "userId": "12309568779801871703"
     },
     "user_tz": -120
    },
    "id": "A5Jfjy33CwqC",
    "outputId": "bdc52389-d1f2-43e7-dfbf-8b9a15fdd920",
    "scrolled": true
   },
   "outputs": [
    {
     "data": {
      "text/plain": [
       "<seaborn.axisgrid.PairGrid at 0x7f04e1f1aa10>"
      ]
     },
     "execution_count": 20,
     "metadata": {
      "tags": []
     },
     "output_type": "execute_result"
    },
    {
     "data": {
      "image/png": "[encoded data removed]",
      "text/plain": [
       "<Figure size 864x864 with 12 Axes>"
      ]
     },
     "metadata": {
      "needs_background": "light",
      "tags": []
     },
     "output_type": "display_data"
    }
   ],
   "source": [
    "sns.pairplot(df[['X', 'Y', 'Z']], kind=\"scatter\", diag_kind= 'kde', height=4)"
   ]
  },
  {
   "cell_type": "markdown",
   "metadata": {
    "id": "uFi7fAdUqZm7"
   },
   "source": [
    "## Data processing\n",
    "\n",
    "After exploring how the dataset is distributed, we then proceed to process our data and add some meaningful derived features. It is worth noting at this point, that we have tried several approaches to extract the best features for our dataset. We have used some open source libraries to help us extract these features, such as [AutoFeat](https://arxiv.org/abs/1901.07329), [TsFresh](https://tsfresh.readthedocs.io/) and [FeatureTools](https://www.featuretools.com/). Each of which has delivered different results to our dataset. After thorough heuristic experiments we concluded with the additional features shown in the snippet of code below, which have provided us the best training results to the neural network. \n",
    "\n",
    "**Important note**: due to time constraints for the deadline competition, we could not spend as much time as we wished to perform more effective feature engineering. Even though the results obtained from this generated dataset are fairly acceptable — especially for a microcontroller making inferences based upon sensor data — we are perfectly aware that a more elaborate dataset would help achieve even better results. We will save this task for future work after the competition, which is listed in the [Future work](../../../README.md#Future-work) section of the project description."
   ]
  },
  {
   "cell_type": "code",
   "execution_count": null,
   "metadata": {
    "id": "F3a_rpHjPEf6"
   },
   "outputs": [],
   "source": [
    "# Calculating the jerks of each axis and the respective moduli.\n",
    "df['movement_x'] = df['X'] - df['X'].shift()\n",
    "df['movement_y'] = df['Y'] - df['Y'].shift()\n",
    "df['movement_z'] = df['Z'] - df['Z'].shift()\n",
    "df['modulo'] = (df['X']**2 + df['Y']**2 + df['Z']**2)**0.5\n",
    "df['modulo_movement'] = (df['movement_x']**2 + df['movement_y']**2 + df['movement_z']**2)**0.5\n",
    "\n",
    "# Adding derived Features\n",
    "df['X**3'] = df['X'] **3\n",
    "df['movement_x**2'] = df['movement_x']**2\n",
    "df['movement_z**2'] = df['movement_z']**2\n",
    "df['modulo_movement**2'] = df['modulo_movement']**2\n",
    "df['exp_movement_x'] = np.exp(df['movement_x'])\n",
    "\n",
    "df"
   ]
  },
  {
   "cell_type": "markdown",
   "metadata": {
    "id": "d0fpFoRKhMKH"
   },
   "source": [
    "## Autofeat (automatic feature generator)"
   ]
  },
  {
   "cell_type": "code",
   "execution_count": null,
   "metadata": {
    "colab": {
     "base_uri": "https://localhost:8080/",
     "height": 1000
    },
    "executionInfo": {
     "elapsed": 172870,
     "status": "ok",
     "timestamp": 1628435518760,
     "user": {
      "displayName": "Carlos Gil",
      "photoUrl": "",
      "userId": "12309568779801871703"
     },
     "user_tz": -120
    },
    "id": "qym0IUFtzAI7",
    "outputId": "57826b18-db8d-4bd1-c7d2-ccbed541ecfb"
   },
   "outputs": [
    {
     "name": "stdout",
     "output_type": "stream",
     "text": [
      "### AutoFeat with 0 feateng_steps\n",
      "[AutoFeat] The 0 step feature engineering process could generate up to 14 features.\n",
      "[AutoFeat] With 262295 data points this new feature matrix would use about 0.01 gb of space.\n",
      "[feateng] Warning: no features generated for max_steps < 1.\n",
      "[featsel] Scaling data...done.\n",
      "[featsel] Feature selection run 1/5\n",
      "[featsel] Feature selection run 2/5\n",
      "[featsel] Feature selection run 3/5\n",
      "[featsel] Feature selection run 4/5\n",
      "[featsel] Feature selection run 5/5\n",
      "[featsel] 13 features after 5 feature selection runs\n",
      "[featsel] 13 features after correlation filtering\n",
      "[featsel] 0 features after noise filtering\n",
      "[featsel] WARNING: Not a single good features was found...\n",
      "[AutoFeat] Final dataframe with 14 feature columns (0 new).\n",
      "[AutoFeat] Training final regression model.\n",
      "[AutoFeat] Trained model: largest coefficients:\n",
      "2.0\n",
      "[AutoFeat] Final score: 0.0000\n",
      "## Final R^2: 0.0000\n",
      "### AutoFeat with 1 feateng_steps\n",
      "[AutoFeat] The 1 step feature engineering process could generate up to 98 features.\n",
      "[AutoFeat] With 262295 data points this new feature matrix would use about 0.10 gb of space.\n",
      "[feateng] Step 1: transformation of original features\n",
      "[feateng] Generated 59 transformed features from 14 original features - done.\n",
      "[feateng] Generated altogether 64 new features in 1 steps\n",
      "[feateng] Removing correlated features, as well as additions at the highest level\n",
      "[feateng] Generated a total of 45 additional features\n",
      "[featsel] Scaling data...done.\n",
      "[featsel] Feature selection run 1/5\n",
      "[featsel] Feature selection run 2/5\n",
      "[featsel] Feature selection run 3/5\n",
      "[featsel] Feature selection run 4/5\n",
      "[featsel] Feature selection run 5/5\n",
      "[featsel] 41 features after 5 feature selection runs\n",
      "[featsel] 33 features after correlation filtering\n",
      "[featsel] 0 features after noise filtering\n",
      "[featsel] WARNING: Not a single good features was found...\n",
      "[AutoFeat] Final dataframe with 14 feature columns (0 new).\n",
      "[AutoFeat] Training final regression model.\n",
      "[AutoFeat] Trained model: largest coefficients:\n",
      "2.0\n",
      "[AutoFeat] Final score: 0.0000\n",
      "## Final R^2: 0.0000\n"
     ]
    },
    {
     "data": {
      "text/html": [
       "<div>\n",
       "<style scoped>\n",
       "    .dataframe tbody tr th:only-of-type {\n",
       "        vertical-align: middle;\n",
       "    }\n",
       "\n",
       "    .dataframe tbody tr th {\n",
       "        vertical-align: top;\n",
       "    }\n",
       "\n",
       "    .dataframe thead th {\n",
       "        text-align: right;\n",
       "    }\n",
       "</style>\n",
       "<table border=\"1\" class=\"dataframe\">\n",
       "  <thead>\n",
       "    <tr style=\"text-align: right;\">\n",
       "      <th></th>\n",
       "      <th>X</th>\n",
       "      <th>Y</th>\n",
       "      <th>Z</th>\n",
       "      <th>Heart Rate</th>\n",
       "      <th>movement_x</th>\n",
       "      <th>movement_y</th>\n",
       "      <th>movement_z</th>\n",
       "      <th>modulo</th>\n",
       "      <th>modulo_movement</th>\n",
       "      <th>X**3</th>\n",
       "      <th>movement_x**2</th>\n",
       "      <th>movement_z**2</th>\n",
       "      <th>modulo_movement**2</th>\n",
       "      <th>exp_movement_x</th>\n",
       "      <th>Labels</th>\n",
       "    </tr>\n",
       "  </thead>\n",
       "  <tbody>\n",
       "    <tr>\n",
       "      <th>0</th>\n",
       "      <td>0.369568</td>\n",
       "      <td>0.061432</td>\n",
       "      <td>0.922989</td>\n",
       "      <td>52.0</td>\n",
       "      <td>0.000000</td>\n",
       "      <td>0.000000</td>\n",
       "      <td>0.000000</td>\n",
       "      <td>0.996124</td>\n",
       "      <td>0.000000</td>\n",
       "      <td>0.050476</td>\n",
       "      <td>0.000000</td>\n",
       "      <td>0.000000</td>\n",
       "      <td>0.000000</td>\n",
       "      <td>0.000000</td>\n",
       "      <td>0.0</td>\n",
       "    </tr>\n",
       "    <tr>\n",
       "      <th>1</th>\n",
       "      <td>0.626755</td>\n",
       "      <td>0.372574</td>\n",
       "      <td>0.909332</td>\n",
       "      <td>81.0</td>\n",
       "      <td>0.257187</td>\n",
       "      <td>0.311142</td>\n",
       "      <td>-0.013657</td>\n",
       "      <td>1.165555</td>\n",
       "      <td>0.403907</td>\n",
       "      <td>0.246203</td>\n",
       "      <td>0.066145</td>\n",
       "      <td>0.000187</td>\n",
       "      <td>0.163141</td>\n",
       "      <td>1.293287</td>\n",
       "      <td>0.0</td>\n",
       "    </tr>\n",
       "    <tr>\n",
       "      <th>2</th>\n",
       "      <td>0.412994</td>\n",
       "      <td>0.244675</td>\n",
       "      <td>0.884964</td>\n",
       "      <td>77.0</td>\n",
       "      <td>-0.213760</td>\n",
       "      <td>-0.127899</td>\n",
       "      <td>-0.024368</td>\n",
       "      <td>1.006773</td>\n",
       "      <td>0.250291</td>\n",
       "      <td>0.070442</td>\n",
       "      <td>0.045694</td>\n",
       "      <td>0.000594</td>\n",
       "      <td>0.062646</td>\n",
       "      <td>0.807542</td>\n",
       "      <td>0.0</td>\n",
       "    </tr>\n",
       "    <tr>\n",
       "      <th>3</th>\n",
       "      <td>0.553223</td>\n",
       "      <td>0.156952</td>\n",
       "      <td>0.824646</td>\n",
       "      <td>65.0</td>\n",
       "      <td>0.140228</td>\n",
       "      <td>-0.087723</td>\n",
       "      <td>-0.060318</td>\n",
       "      <td>1.005351</td>\n",
       "      <td>0.176061</td>\n",
       "      <td>0.169317</td>\n",
       "      <td>0.019664</td>\n",
       "      <td>0.003638</td>\n",
       "      <td>0.030998</td>\n",
       "      <td>1.150536</td>\n",
       "      <td>0.0</td>\n",
       "    </tr>\n",
       "    <tr>\n",
       "      <th>4</th>\n",
       "      <td>0.670242</td>\n",
       "      <td>0.471481</td>\n",
       "      <td>0.585983</td>\n",
       "      <td>83.0</td>\n",
       "      <td>0.117020</td>\n",
       "      <td>0.314529</td>\n",
       "      <td>-0.238663</td>\n",
       "      <td>1.007420</td>\n",
       "      <td>0.411804</td>\n",
       "      <td>0.301089</td>\n",
       "      <td>0.013694</td>\n",
       "      <td>0.056960</td>\n",
       "      <td>0.169582</td>\n",
       "      <td>1.124141</td>\n",
       "      <td>0.0</td>\n",
       "    </tr>\n",
       "    <tr>\n",
       "      <th>...</th>\n",
       "      <td>...</td>\n",
       "      <td>...</td>\n",
       "      <td>...</td>\n",
       "      <td>...</td>\n",
       "      <td>...</td>\n",
       "      <td>...</td>\n",
       "      <td>...</td>\n",
       "      <td>...</td>\n",
       "      <td>...</td>\n",
       "      <td>...</td>\n",
       "      <td>...</td>\n",
       "      <td>...</td>\n",
       "      <td>...</td>\n",
       "      <td>...</td>\n",
       "      <td>...</td>\n",
       "    </tr>\n",
       "    <tr>\n",
       "      <th>262290</th>\n",
       "      <td>0.325638</td>\n",
       "      <td>0.123169</td>\n",
       "      <td>0.947433</td>\n",
       "      <td>53.0</td>\n",
       "      <td>-0.039261</td>\n",
       "      <td>-0.051605</td>\n",
       "      <td>0.033783</td>\n",
       "      <td>1.009376</td>\n",
       "      <td>0.073115</td>\n",
       "      <td>0.034531</td>\n",
       "      <td>0.001541</td>\n",
       "      <td>0.001141</td>\n",
       "      <td>0.005346</td>\n",
       "      <td>0.961500</td>\n",
       "      <td>4.0</td>\n",
       "    </tr>\n",
       "    <tr>\n",
       "      <th>262291</th>\n",
       "      <td>0.338287</td>\n",
       "      <td>0.290955</td>\n",
       "      <td>0.893051</td>\n",
       "      <td>58.0</td>\n",
       "      <td>0.012650</td>\n",
       "      <td>0.167786</td>\n",
       "      <td>-0.054382</td>\n",
       "      <td>0.998315</td>\n",
       "      <td>0.176832</td>\n",
       "      <td>0.038713</td>\n",
       "      <td>0.000160</td>\n",
       "      <td>0.002957</td>\n",
       "      <td>0.031269</td>\n",
       "      <td>1.012730</td>\n",
       "      <td>4.0</td>\n",
       "    </tr>\n",
       "    <tr>\n",
       "      <th>262292</th>\n",
       "      <td>0.570755</td>\n",
       "      <td>0.384750</td>\n",
       "      <td>0.749130</td>\n",
       "      <td>77.0</td>\n",
       "      <td>0.232468</td>\n",
       "      <td>0.093796</td>\n",
       "      <td>-0.143921</td>\n",
       "      <td>1.017345</td>\n",
       "      <td>0.289054</td>\n",
       "      <td>0.185930</td>\n",
       "      <td>0.054041</td>\n",
       "      <td>0.020713</td>\n",
       "      <td>0.083552</td>\n",
       "      <td>1.261710</td>\n",
       "      <td>4.0</td>\n",
       "    </tr>\n",
       "    <tr>\n",
       "      <th>262293</th>\n",
       "      <td>0.020538</td>\n",
       "      <td>0.721848</td>\n",
       "      <td>0.703278</td>\n",
       "      <td>72.0</td>\n",
       "      <td>-0.550217</td>\n",
       "      <td>0.337097</td>\n",
       "      <td>-0.045853</td>\n",
       "      <td>1.008010</td>\n",
       "      <td>0.646897</td>\n",
       "      <td>0.000009</td>\n",
       "      <td>0.302738</td>\n",
       "      <td>0.002102</td>\n",
       "      <td>0.418475</td>\n",
       "      <td>0.576825</td>\n",
       "      <td>4.0</td>\n",
       "    </tr>\n",
       "    <tr>\n",
       "      <th>262294</th>\n",
       "      <td>0.097519</td>\n",
       "      <td>0.880402</td>\n",
       "      <td>0.456970</td>\n",
       "      <td>74.0</td>\n",
       "      <td>0.076981</td>\n",
       "      <td>0.158554</td>\n",
       "      <td>-0.246307</td>\n",
       "      <td>0.996714</td>\n",
       "      <td>0.302874</td>\n",
       "      <td>0.000927</td>\n",
       "      <td>0.005926</td>\n",
       "      <td>0.060667</td>\n",
       "      <td>0.091733</td>\n",
       "      <td>1.080021</td>\n",
       "      <td>4.0</td>\n",
       "    </tr>\n",
       "  </tbody>\n",
       "</table>\n",
       "<p>262295 rows × 15 columns</p>\n",
       "</div>"
      ],
      "text/plain": [
       "               X         Y  ...  exp_movement_x  Labels\n",
       "0       0.369568  0.061432  ...        0.000000     0.0\n",
       "1       0.626755  0.372574  ...        1.293287     0.0\n",
       "2       0.412994  0.244675  ...        0.807542     0.0\n",
       "3       0.553223  0.156952  ...        1.150536     0.0\n",
       "4       0.670242  0.471481  ...        1.124141     0.0\n",
       "...          ...       ...  ...             ...     ...\n",
       "262290  0.325638  0.123169  ...        0.961500     4.0\n",
       "262291  0.338287  0.290955  ...        1.012730     4.0\n",
       "262292  0.570755  0.384750  ...        1.261710     4.0\n",
       "262293  0.020538  0.721848  ...        0.576825     4.0\n",
       "262294  0.097519  0.880402  ...        1.080021     4.0\n",
       "\n",
       "[262295 rows x 15 columns]"
      ]
     },
     "execution_count": 89,
     "metadata": {
      "tags": []
     },
     "output_type": "execute_result"
    }
   ],
   "source": [
    "labels = df['Labels']\n",
    "\n",
    "df_features = df.drop('Labels', axis=1).fillna(0)\n",
    "target = labels\n",
    "\n",
    "for steps in range(2):\n",
    "    print(\"### AutoFeat with %i feateng_steps\" % steps)\n",
    "    afreg = AutoFeatRegressor(verbose=1, feateng_steps=steps)\n",
    "    df = afreg.fit_transform(df_features, target)\n",
    "    r2 = afreg.score(df_features, target)\n",
    "    print(\"## Final R^2: %.4f\" % r2)\n",
    "    \n",
    "# Reindex Labels Column\n",
    "df['Labels'] = labels\n",
    "\n",
    "# Final processed dataset\n",
    "df"
   ]
  },
  {
   "cell_type": "markdown",
   "metadata": {
    "id": "ZFLniYeveeSk"
   },
   "source": [
    "## Normalizing dataset\n",
    "\n",
    "Last step to get the data ready to be fed into an ML model is normalization. This will modify the different features to a common scale, helping gradients reduce large back-and-forth oscillation steps in the learning process.\n",
    "\n",
    "Each feature in our dataset offers different ranges, with heart rate being the most notable. After some experiments, we found that the best learning results were obtained with **all the features normalized** within their respective ranges.\n",
    "\n",
    "However, it is important to note that this process may vary from dataset to dataset and this approach could be different. \n",
    "\n",
    "<ins>Side note:</ins> if the model is trained with normalized data, it is important that we follow the same process in the microcontroller unit (MCU) when making inferences from the data measured by the sensors. It is therefore crucial to save the normalization ranges of each feature to later apply them in the device."
   ]
  },
  {
   "cell_type": "code",
   "execution_count": null,
   "metadata": {
    "colab": {
     "base_uri": "https://localhost:8080/",
     "height": 414
    },
    "executionInfo": {
     "elapsed": 286,
     "status": "ok",
     "timestamp": 1628436038916,
     "user": {
      "displayName": "Carlos Gil",
      "photoUrl": "",
      "userId": "12309568779801871703"
     },
     "user_tz": -120
    },
    "id": "_HuqLTBNjWhZ",
    "outputId": "2f4968f7-fd89-43b0-e07e-de5527af6aa3"
   },
   "outputs": [
    {
     "data": {
      "text/html": [
       "<div>\n",
       "<style scoped>\n",
       "    .dataframe tbody tr th:only-of-type {\n",
       "        vertical-align: middle;\n",
       "    }\n",
       "\n",
       "    .dataframe tbody tr th {\n",
       "        vertical-align: top;\n",
       "    }\n",
       "\n",
       "    .dataframe thead th {\n",
       "        text-align: right;\n",
       "    }\n",
       "</style>\n",
       "<table border=\"1\" class=\"dataframe\">\n",
       "  <thead>\n",
       "    <tr style=\"text-align: right;\">\n",
       "      <th></th>\n",
       "      <th>X</th>\n",
       "      <th>Y</th>\n",
       "      <th>Z</th>\n",
       "      <th>Heart Rate</th>\n",
       "      <th>movement_x</th>\n",
       "      <th>movement_y</th>\n",
       "      <th>movement_z</th>\n",
       "      <th>modulo</th>\n",
       "      <th>modulo_movement</th>\n",
       "      <th>X**3</th>\n",
       "      <th>movement_x**2</th>\n",
       "      <th>movement_z**2</th>\n",
       "      <th>modulo_movement**2</th>\n",
       "      <th>exp_movement_x</th>\n",
       "      <th>Labels</th>\n",
       "    </tr>\n",
       "  </thead>\n",
       "  <tbody>\n",
       "    <tr>\n",
       "      <th>0</th>\n",
       "      <td>0.0991</td>\n",
       "      <td>0.0143</td>\n",
       "      <td>0.2385</td>\n",
       "      <td>0.1236</td>\n",
       "      <td>0.4553</td>\n",
       "      <td>0.5133</td>\n",
       "      <td>0.5076</td>\n",
       "      <td>0.0018</td>\n",
       "      <td>0.0000</td>\n",
       "      <td>0.0010</td>\n",
       "      <td>0.0000</td>\n",
       "      <td>0.0000</td>\n",
       "      <td>0.0000</td>\n",
       "      <td>0.0000</td>\n",
       "      <td>0.0</td>\n",
       "    </tr>\n",
       "    <tr>\n",
       "      <th>1</th>\n",
       "      <td>0.1682</td>\n",
       "      <td>0.0880</td>\n",
       "      <td>0.2350</td>\n",
       "      <td>0.4494</td>\n",
       "      <td>0.4943</td>\n",
       "      <td>0.5521</td>\n",
       "      <td>0.5053</td>\n",
       "      <td>0.0365</td>\n",
       "      <td>0.0792</td>\n",
       "      <td>0.0048</td>\n",
       "      <td>0.0051</td>\n",
       "      <td>0.0000</td>\n",
       "      <td>0.0063</td>\n",
       "      <td>0.0356</td>\n",
       "      <td>0.0</td>\n",
       "    </tr>\n",
       "    <tr>\n",
       "      <th>2</th>\n",
       "      <td>0.1107</td>\n",
       "      <td>0.0577</td>\n",
       "      <td>0.2287</td>\n",
       "      <td>0.4045</td>\n",
       "      <td>0.4230</td>\n",
       "      <td>0.4973</td>\n",
       "      <td>0.5035</td>\n",
       "      <td>0.0040</td>\n",
       "      <td>0.0491</td>\n",
       "      <td>0.0014</td>\n",
       "      <td>0.0035</td>\n",
       "      <td>0.0001</td>\n",
       "      <td>0.0024</td>\n",
       "      <td>0.0222</td>\n",
       "      <td>0.0</td>\n",
       "    </tr>\n",
       "    <tr>\n",
       "      <th>3</th>\n",
       "      <td>0.1484</td>\n",
       "      <td>0.0369</td>\n",
       "      <td>0.2131</td>\n",
       "      <td>0.2697</td>\n",
       "      <td>0.4766</td>\n",
       "      <td>0.5023</td>\n",
       "      <td>0.4975</td>\n",
       "      <td>0.0037</td>\n",
       "      <td>0.0345</td>\n",
       "      <td>0.0033</td>\n",
       "      <td>0.0015</td>\n",
       "      <td>0.0004</td>\n",
       "      <td>0.0012</td>\n",
       "      <td>0.0316</td>\n",
       "      <td>0.0</td>\n",
       "    </tr>\n",
       "    <tr>\n",
       "      <th>4</th>\n",
       "      <td>0.1799</td>\n",
       "      <td>0.1114</td>\n",
       "      <td>0.1514</td>\n",
       "      <td>0.4719</td>\n",
       "      <td>0.4731</td>\n",
       "      <td>0.5525</td>\n",
       "      <td>0.4678</td>\n",
       "      <td>0.0041</td>\n",
       "      <td>0.0807</td>\n",
       "      <td>0.0058</td>\n",
       "      <td>0.0011</td>\n",
       "      <td>0.0062</td>\n",
       "      <td>0.0065</td>\n",
       "      <td>0.0309</td>\n",
       "      <td>0.0</td>\n",
       "    </tr>\n",
       "    <tr>\n",
       "      <th>...</th>\n",
       "      <td>...</td>\n",
       "      <td>...</td>\n",
       "      <td>...</td>\n",
       "      <td>...</td>\n",
       "      <td>...</td>\n",
       "      <td>...</td>\n",
       "      <td>...</td>\n",
       "      <td>...</td>\n",
       "      <td>...</td>\n",
       "      <td>...</td>\n",
       "      <td>...</td>\n",
       "      <td>...</td>\n",
       "      <td>...</td>\n",
       "      <td>...</td>\n",
       "      <td>...</td>\n",
       "    </tr>\n",
       "    <tr>\n",
       "      <th>262290</th>\n",
       "      <td>0.0873</td>\n",
       "      <td>0.0289</td>\n",
       "      <td>0.2449</td>\n",
       "      <td>0.1348</td>\n",
       "      <td>0.4494</td>\n",
       "      <td>0.5069</td>\n",
       "      <td>0.5132</td>\n",
       "      <td>0.0045</td>\n",
       "      <td>0.0143</td>\n",
       "      <td>0.0007</td>\n",
       "      <td>0.0001</td>\n",
       "      <td>0.0001</td>\n",
       "      <td>0.0002</td>\n",
       "      <td>0.0264</td>\n",
       "      <td>4.0</td>\n",
       "    </tr>\n",
       "    <tr>\n",
       "      <th>262291</th>\n",
       "      <td>0.0907</td>\n",
       "      <td>0.0686</td>\n",
       "      <td>0.2308</td>\n",
       "      <td>0.1910</td>\n",
       "      <td>0.4573</td>\n",
       "      <td>0.5342</td>\n",
       "      <td>0.4985</td>\n",
       "      <td>0.0023</td>\n",
       "      <td>0.0347</td>\n",
       "      <td>0.0008</td>\n",
       "      <td>0.0000</td>\n",
       "      <td>0.0003</td>\n",
       "      <td>0.0012</td>\n",
       "      <td>0.0278</td>\n",
       "      <td>4.0</td>\n",
       "    </tr>\n",
       "    <tr>\n",
       "      <th>262292</th>\n",
       "      <td>0.1532</td>\n",
       "      <td>0.0909</td>\n",
       "      <td>0.1936</td>\n",
       "      <td>0.4045</td>\n",
       "      <td>0.4906</td>\n",
       "      <td>0.5250</td>\n",
       "      <td>0.4836</td>\n",
       "      <td>0.0062</td>\n",
       "      <td>0.0566</td>\n",
       "      <td>0.0036</td>\n",
       "      <td>0.0042</td>\n",
       "      <td>0.0022</td>\n",
       "      <td>0.0032</td>\n",
       "      <td>0.0347</td>\n",
       "      <td>4.0</td>\n",
       "    </tr>\n",
       "    <tr>\n",
       "      <th>262293</th>\n",
       "      <td>0.0053</td>\n",
       "      <td>0.1707</td>\n",
       "      <td>0.1817</td>\n",
       "      <td>0.3483</td>\n",
       "      <td>0.3720</td>\n",
       "      <td>0.5553</td>\n",
       "      <td>0.4999</td>\n",
       "      <td>0.0042</td>\n",
       "      <td>0.1268</td>\n",
       "      <td>0.0000</td>\n",
       "      <td>0.0234</td>\n",
       "      <td>0.0002</td>\n",
       "      <td>0.0161</td>\n",
       "      <td>0.0159</td>\n",
       "      <td>4.0</td>\n",
       "    </tr>\n",
       "    <tr>\n",
       "      <th>262294</th>\n",
       "      <td>0.0260</td>\n",
       "      <td>0.2083</td>\n",
       "      <td>0.1180</td>\n",
       "      <td>0.3708</td>\n",
       "      <td>0.4670</td>\n",
       "      <td>0.5331</td>\n",
       "      <td>0.4665</td>\n",
       "      <td>0.0019</td>\n",
       "      <td>0.0594</td>\n",
       "      <td>0.0000</td>\n",
       "      <td>0.0005</td>\n",
       "      <td>0.0066</td>\n",
       "      <td>0.0035</td>\n",
       "      <td>0.0297</td>\n",
       "      <td>4.0</td>\n",
       "    </tr>\n",
       "  </tbody>\n",
       "</table>\n",
       "<p>262295 rows × 15 columns</p>\n",
       "</div>"
      ],
      "text/plain": [
       "             X       Y       Z  ...  modulo_movement**2  exp_movement_x  Labels\n",
       "0       0.0991  0.0143  0.2385  ...              0.0000          0.0000     0.0\n",
       "1       0.1682  0.0880  0.2350  ...              0.0063          0.0356     0.0\n",
       "2       0.1107  0.0577  0.2287  ...              0.0024          0.0222     0.0\n",
       "3       0.1484  0.0369  0.2131  ...              0.0012          0.0316     0.0\n",
       "4       0.1799  0.1114  0.1514  ...              0.0065          0.0309     0.0\n",
       "...        ...     ...     ...  ...                 ...             ...     ...\n",
       "262290  0.0873  0.0289  0.2449  ...              0.0002          0.0264     4.0\n",
       "262291  0.0907  0.0686  0.2308  ...              0.0012          0.0278     4.0\n",
       "262292  0.1532  0.0909  0.1936  ...              0.0032          0.0347     4.0\n",
       "262293  0.0053  0.1707  0.1817  ...              0.0161          0.0159     4.0\n",
       "262294  0.0260  0.2083  0.1180  ...              0.0035          0.0297     4.0\n",
       "\n",
       "[262295 rows x 15 columns]"
      ]
     },
     "execution_count": 95,
     "metadata": {
      "tags": []
     },
     "output_type": "execute_result"
    }
   ],
   "source": [
    "# Directory to store files containing essential information necessary for the the Arduino sketch.\n",
    "mcu_dir = 'mcu'\n",
    "\n",
    "if not os.path.exists(mcu_dir):\n",
    "    os.mkdir(mcu_dir)\n",
    "\n",
    "norm_ranges_filename = os.path.join(mcu_dir, \"normalization_ranges.txt\")\n",
    "\n",
    "# Storing ranges in a C-style format to write it in file\n",
    "norm_rang_text = \"const float normalization_ranges[features*2]{\\n\\t\"\n",
    "\n",
    "# Normalizing all features\n",
    "for count, feature_name in enumerate(df.loc[:, df.columns != 'Labels']):\n",
    "    \n",
    "    max_value = df[feature_name].max()\n",
    "    min_value = df[feature_name].min()\n",
    "\n",
    "    # Appending the values in standard notation and with 6 decimals\n",
    "    norm_rang_text += str(\"%.6f\" % min_value) + \", \" + str(\"%.6f\" % max_value) + \",\\n\\t\"\n",
    "\n",
    "    # Apply normalization to column and round to 4 decimals\n",
    "    df[feature_name] = (df[feature_name] - min_value) / (max_value - min_value)\n",
    "\n",
    "    df[feature_name] = df[feature_name].round(4)\n",
    "\n",
    "norm_rang_text = norm_rang_text[:-3]\n",
    "norm_rang_text += \"\\n};\"\n",
    "\n",
    "# Save normalization ranges into file\n",
    "with open(norm_ranges_filename, \"w\") as file:\n",
    "    file.write(norm_rang_text)\n",
    "    \n",
    "# Save the final processed dataset\n",
    "df.to_csv(\"dataset.csv\")\n",
    "\n",
    "df"
   ]
  },
  {
   "cell_type": "markdown",
   "metadata": {
    "id": "oC7ObCbBZ_1-"
   },
   "source": [
    "## Splitting the dataset\n",
    "\n",
    "We will use a (70%, 20%, 10%) split for the training, validation, and test sets, respectively. Note that the data is not being randomly shuffled before splitting. This is for two reasons:\n",
    "\n",
    "* It ensures that chopping the data into windows of consecutive samples is still possible.\n",
    "* It ensures that the validation/test results are more realistic, being evaluated on data collected after the model was trained."
   ]
  },
  {
   "cell_type": "code",
   "execution_count": null,
   "metadata": {
    "id": "Kg14HBtM92rm"
   },
   "outputs": [],
   "source": [
    "def split_dataset(df, percentage_train, percentage_val, seed=42):\n",
    "\n",
    "    assert percentage_train + percentage_val < 1, 'Percentage given to split not correct'\n",
    "\n",
    "    np.random.seed(seed)\n",
    "    perm = np.random.permutation(df.index)\n",
    "    total_rows = len(df.index)\n",
    "\n",
    "    train_end = int(percentage_train * total_rows)\n",
    "    validate_end = int(percentage_val * total_rows) + train_end\n",
    "\n",
    "    train = df.iloc[perm[:train_end]]\n",
    "    validate = df.iloc[perm[train_end:validate_end]]\n",
    "    test = df.iloc[perm[validate_end:]]\n",
    "\n",
    "    return train, validate, test"
   ]
  },
  {
   "cell_type": "code",
   "execution_count": null,
   "metadata": {
    "id": "DUcpsQLZaKOE"
   },
   "outputs": [],
   "source": [
    "train_df, val_df, test_df = split_dataset(df, 0.7, 0.2)\n",
    "\n",
    "assert len(train_df) + len(val_df) + len(test_df) == df.shape[0], 'The split does not match'"
   ]
  },
  {
   "cell_type": "markdown",
   "metadata": {
    "id": "aYGO3D4b7btV"
   },
   "source": [
    "## Reshaping data into segments and prepare for Keras\n",
    "\n",
    "The dataframe is not ready to be fed into a neural network yet. Therefore, we need to modify it into an adequate shape."
   ]
  },
  {
   "cell_type": "code",
   "execution_count": null,
   "metadata": {
    "id": "2jOMBw867eW2"
   },
   "outputs": [],
   "source": [
    "def create_segments_and_labels(dataframe):\n",
    "\n",
    "    labels = dataframe.iloc[:,-1:]\n",
    "    segments = dataframe.iloc[:,:-1]\n",
    "\n",
    "    return segments, labels"
   ]
  },
  {
   "cell_type": "code",
   "execution_count": null,
   "metadata": {
    "id": "ODyG2FBGAGd6"
   },
   "outputs": [],
   "source": [
    "x_train, y_train = create_segments_and_labels(train_df)\n",
    "x_val, y_val = create_segments_and_labels(val_df)\n",
    "x_test, y_test = create_segments_and_labels(test_df)\n",
    "\n",
    "assert x_train.shape[0] == len(y_train)\n",
    "assert x_val.shape[0] == len(y_val)\n",
    "assert x_test.shape[0] == len(y_test)"
   ]
  },
  {
   "cell_type": "code",
   "execution_count": null,
   "metadata": {
    "id": "KJ5ywCqflQi0"
   },
   "outputs": [],
   "source": [
    "# Preparing labels data (Needed ONLY for categorical_crossentropy loss function)\n",
    "y_train = to_categorical(y_train)\n",
    "y_val = to_categorical(y_val)\n",
    "y_test = to_categorical(y_test)  "
   ]
  },
  {
   "cell_type": "markdown",
   "metadata": {
    "id": "mCXw2xaUJQ_l"
   },
   "source": [
    "# Building the model\n",
    "\n",
    "For this project, we have decided to create a Deep Neural Network Model using the Keras API, which allows us an easy conversion later to a suitable format for running in microcontrollers.\n",
    "\n",
    "While very wide shallow networks are very good at memorization, multiple-layer networks are much better at generalizing, since they learn all the intermediate features. Having this in mind, for our model architecture we have taken an intermediate approach between both extremes, which we think can work better for this type of application."
   ]
  },
  {
   "cell_type": "code",
   "execution_count": null,
   "metadata": {
    "colab": {
     "base_uri": "https://localhost:8080/"
    },
    "executionInfo": {
     "elapsed": 23,
     "status": "ok",
     "timestamp": 1628155893427,
     "user": {
      "displayName": "Carlos Gil",
      "photoUrl": "",
      "userId": "12309568779801871703"
     },
     "user_tz": -120
    },
    "id": "-DyMELaTeUqD",
    "outputId": "bc65a95d-9fd3-4b7b-f28c-bcea9281623d"
   },
   "outputs": [
    {
     "name": "stdout",
     "output_type": "stream",
     "text": [
      "Model: \"sequential\"\n",
      "_________________________________________________________________\n",
      "Layer (type)                 Output Shape              Param #   \n",
      "=================================================================\n",
      "dense (Dense)                (None, 32)                480       \n",
      "_________________________________________________________________\n",
      "dense_1 (Dense)              (None, 64)                2112      \n",
      "_________________________________________________________________\n",
      "dense_2 (Dense)              (None, 128)               8320      \n",
      "_________________________________________________________________\n",
      "dense_3 (Dense)              (None, 64)                8256      \n",
      "_________________________________________________________________\n",
      "dropout (Dropout)            (None, 64)                0         \n",
      "_________________________________________________________________\n",
      "dense_4 (Dense)              (None, 5)                 325       \n",
      "=================================================================\n",
      "Total params: 19,493\n",
      "Trainable params: 19,493\n",
      "Non-trainable params: 0\n",
      "_________________________________________________________________\n"
     ]
    }
   ],
   "source": [
    "num_classes = 5\n",
    "\n",
    "model = tf.keras.Sequential([\n",
    "    tf.keras.layers.Dense(32, input_dim=x_train.shape[1], activation='relu'),\n",
    "    tf.keras.layers.Dense(64, activation='relu'),\n",
    "    tf.keras.layers.Dense(128, activation='relu'),\n",
    "    tf.keras.layers.Dense(64, activation='relu'),\n",
    "    tf.keras.layers.Dropout(0.2),\n",
    "    tf.keras.layers.Dense(num_classes, activation='softmax')\n",
    "])\n",
    "\n",
    "model.compile(loss='categorical_crossentropy', optimizer='adam', metrics=['accuracy'])\n",
    "\n",
    "model.summary()"
   ]
  },
  {
   "cell_type": "markdown",
   "metadata": {
    "id": "wT6elfplTwOt"
   },
   "source": [
    "## Creating callbacks\n",
    "\n",
    "* Early stopping for preventing the model from training for too long and potentially overfitting.\n",
    "* TensorBoard for tracking the model progress.\n",
    "\n"
   ]
  },
  {
   "cell_type": "code",
   "execution_count": null,
   "metadata": {
    "id": "cfYz82pAThxg"
   },
   "outputs": [],
   "source": [
    "early_stopping = tf.keras.callbacks.EarlyStopping(monitor=\"val_accuracy\", patience=15)"
   ]
  },
  {
   "cell_type": "code",
   "execution_count": null,
   "metadata": {
    "id": "KK-hBvpVUc3M"
   },
   "outputs": [],
   "source": [
    "%load_ext tensorboard\n",
    "\n",
    "log_path = \"/content/\"\n",
    "log_folder = \"log\"\n",
    "\n",
    "log_dir = os.path.join(log_path, log_folder)\n",
    "\n",
    "if not os.path.exists(log_dir):\n",
    "    os.makedirs(log_dir)\n",
    "\n",
    "log_dir = os.path.join(log_dir, datetime.datetime.now().strftime(\"%Y-%m-%d, %H:%M\"))\n",
    "\n",
    "tensorboard = tf.keras.callbacks.TensorBoard(log_dir=log_dir, histogram_freq=1)"
   ]
  },
  {
   "cell_type": "code",
   "execution_count": null,
   "metadata": {
    "id": "sROzfxBUW4P7"
   },
   "outputs": [],
   "source": [
    "%tensorboard --logdir /content/log"
   ]
  },
  {
   "cell_type": "markdown",
   "metadata": {
    "id": "z7L-f61Kr9Qm"
   },
   "source": [
    "# Training the model and evaluating results"
   ]
  },
  {
   "cell_type": "code",
   "execution_count": null,
   "metadata": {
    "id": "ozJ8cL6TTibb"
   },
   "outputs": [],
   "source": [
    "NUM_EPOCHS = 1000 #@param {type:\"slider\", min:10, max:1000, step:10}"
   ]
  },
  {
   "cell_type": "code",
   "execution_count": null,
   "metadata": {
    "id": "O1byX-NigRhU"
   },
   "outputs": [],
   "source": [
    "history = model.fit(\n",
    "    x_train, \n",
    "    y_train, \n",
    "    validation_data=(x_val, y_val), \n",
    "    epochs=NUM_EPOCHS, \n",
    "    batch_size=180, \n",
    "    verbose=1, \n",
    "    callbacks=[tensorboard, early_stopping]\n",
    ")"
   ]
  },
  {
   "cell_type": "markdown",
   "metadata": {
    "id": "b7wDeVitsAE-"
   },
   "source": [
    "## Evaluating on test data"
   ]
  },
  {
   "cell_type": "code",
   "execution_count": null,
   "metadata": {
    "colab": {
     "base_uri": "https://localhost:8080/"
    },
    "executionInfo": {
     "elapsed": 17271,
     "status": "ok",
     "timestamp": 1628156397153,
     "user": {
      "displayName": "Carlos Gil",
      "photoUrl": "",
      "userId": "12309568779801871703"
     },
     "user_tz": -120
    },
    "id": "6Ew4p3YooK3m",
    "outputId": "4cf6e437-4adc-414b-d094-bffc63a7aaae"
   },
   "outputs": [
    {
     "name": "stdout",
     "output_type": "stream",
     "text": [
      "820/820 [==============================] - 1s 1ms/step - loss: 0.5275 - accuracy: 0.8030\n",
      "Test accuracy 0.8029736876487732\n",
      "Test loss 0.5275435447692871\n"
     ]
    }
   ],
   "source": [
    "test_loss, test_acc = model.evaluate(x_test, y_test)\n",
    "\n",
    "print(\"Test accuracy\", test_acc)\n",
    "print(\"Test loss\", test_loss)"
   ]
  },
  {
   "cell_type": "code",
   "execution_count": null,
   "metadata": {
    "colab": {
     "base_uri": "https://localhost:8080/",
     "height": 573
    },
    "executionInfo": {
     "elapsed": 823,
     "status": "ok",
     "timestamp": 1628156397953,
     "user": {
      "displayName": "Carlos Gil",
      "photoUrl": "",
      "userId": "12309568779801871703"
     },
     "user_tz": -120
    },
    "id": "EfMvpYkxYYU4",
    "outputId": "fac8f2c0-478e-4e0e-eed2-cf2e490d64ff"
   },
   "outputs": [
    {
     "data": {
      "image/png": "[encoded data removed]",
      "text/plain": [
       "<Figure size 432x288 with 1 Axes>"
      ]
     },
     "metadata": {
      "needs_background": "light",
      "tags": []
     },
     "output_type": "display_data"
    },
    {
     "data": {
      "image/png": "[encoded data removed]",
      "text/plain": [
       "<Figure size 432x288 with 1 Axes>"
      ]
     },
     "metadata": {
      "needs_background": "light",
      "tags": []
     },
     "output_type": "display_data"
    }
   ],
   "source": [
    "# Summarize history for accuracy\n",
    "plt.plot(history.history['accuracy'])\n",
    "plt.plot(history.history['val_accuracy'])\n",
    "plt.title('model accuracy')\n",
    "plt.ylabel('accuracy')\n",
    "plt.xlabel('epoch')\n",
    "plt.legend(['train', 'validation'], loc='upper left')\n",
    "plt.show()\n",
    "\n",
    "# Summarize history for loss\n",
    "plt.plot(history.history['loss'])\n",
    "plt.plot(history.history['val_loss'])\n",
    "plt.title('model loss')\n",
    "plt.ylabel('loss')\n",
    "plt.xlabel('epoch')\n",
    "plt.legend(['train', 'validation'], loc='upper left')\n",
    "plt.show()"
   ]
  },
  {
   "cell_type": "markdown",
   "metadata": {
    "id": "8Nxau1E-x3gN"
   },
   "source": [
    "### Confusion Matrix"
   ]
  },
  {
   "cell_type": "code",
   "execution_count": null,
   "metadata": {
    "id": "Otmx1tX8jli6"
   },
   "outputs": [],
   "source": [
    "predictions = history.model.predict(x_test)"
   ]
  },
  {
   "cell_type": "code",
   "execution_count": null,
   "metadata": {
    "colab": {
     "base_uri": "https://localhost:8080/"
    },
    "executionInfo": {
     "elapsed": 17,
     "status": "ok",
     "timestamp": 1628156398598,
     "user": {
      "displayName": "Carlos Gil",
      "photoUrl": "",
      "userId": "12309568779801871703"
     },
     "user_tz": -120
    },
    "id": "R-DL4ZbCnS0s",
    "outputId": "d894cd54-af01-4c0e-d373-4fba06730dc4"
   },
   "outputs": [
    {
     "name": "stdout",
     "output_type": "stream",
     "text": [
      "Guessed: 80.30%\n"
     ]
    }
   ],
   "source": [
    "guess = 0\n",
    "\n",
    "to_predict = len(y_test)\n",
    "\n",
    "for index in range(to_predict):\n",
    "    if np.argmax(predictions[index]) == np.argmax(y_test[index]):\n",
    "        guess += 1\n",
    "\n",
    "print(\"Guessed: {:.2f}%\".format(guess/to_predict*100))"
   ]
  },
  {
   "cell_type": "code",
   "execution_count": null,
   "metadata": {
    "id": "WQvwXcUWu5qY"
   },
   "outputs": [],
   "source": [
    "def show_confusion_matrix(validations, predictions):\n",
    "\n",
    "    matrix = metrics.confusion_matrix(validations, predictions)\n",
    "    plt.figure(figsize=(6, 4))\n",
    "    sns.heatmap(matrix,\n",
    "                cmap='coolwarm',\n",
    "                linecolor='white',\n",
    "                linewidths=1,\n",
    "                annot=True,\n",
    "                fmt='d')\n",
    "    plt.title('Confusion Matrix')\n",
    "    plt.ylabel('True Label')\n",
    "    plt.xlabel('Predicted Label')\n",
    "    plt.show()"
   ]
  },
  {
   "cell_type": "code",
   "execution_count": null,
   "metadata": {
    "colab": {
     "base_uri": "https://localhost:8080/",
     "height": 497
    },
    "executionInfo": {
     "elapsed": 1173,
     "status": "ok",
     "timestamp": 1628156399764,
     "user": {
      "displayName": "Carlos Gil",
      "photoUrl": "",
      "userId": "12309568779801871703"
     },
     "user_tz": -120
    },
    "id": "pOuDDvS2u-cd",
    "outputId": "99812f47-65f2-47c3-afc9-3771a10df6fd"
   },
   "outputs": [
    {
     "data": {
      "image/png": "[encoded data removed]",
      "text/plain": [
       "<Figure size 432x288 with 2 Axes>"
      ]
     },
     "metadata": {
      "needs_background": "light",
      "tags": []
     },
     "output_type": "display_data"
    },
    {
     "name": "stdout",
     "output_type": "stream",
     "text": [
      "              precision    recall  f1-score   support\n",
      "\n",
      "           0       0.76      0.76      0.76      5316\n",
      "           1       0.97      0.97      0.97      5203\n",
      "           2       0.72      0.63      0.67      5321\n",
      "           3       0.82      0.93      0.87      5170\n",
      "           4       0.74      0.74      0.74      5220\n",
      "\n",
      "    accuracy                           0.80     26230\n",
      "   macro avg       0.80      0.80      0.80     26230\n",
      "weighted avg       0.80      0.80      0.80     26230\n",
      "\n"
     ]
    }
   ],
   "source": [
    "y_pred_test = model.predict(x_test)\n",
    "\n",
    "max_y_pred_test = np.argmax(y_pred_test, axis=1)\n",
    "max_y_test = np.argmax(y_test, axis=1)\n",
    "\n",
    "show_confusion_matrix(max_y_test, max_y_pred_test)\n",
    "\n",
    "print(classification_report(max_y_test, max_y_pred_test))"
   ]
  },
  {
   "cell_type": "markdown",
   "metadata": {
    "id": "Bm_F9L2umUnx"
   },
   "source": [
    "# Model conversion\n",
    "\n",
    "As illustrated in the confusion matrix, the results obtained appear to be sufficiently convincing for deployment and see how well it performs on the microcontroller. \n",
    "\n",
    "## Generate TensorFlow Lite Model"
   ]
  },
  {
   "cell_type": "code",
   "execution_count": null,
   "metadata": {
    "id": "I6hIrOk3-KcM"
   },
   "outputs": [],
   "source": [
    "# Prepare name files for saving models\n",
    "models_dir = 'models'\n",
    "if not os.path.exists(models_dir):\n",
    "    os.mkdir(models_dir)\n",
    "\n",
    "saved_model_filename = os.path.join(models_dir, \"tf_model\")\n",
    "\n",
    "tflite_models_dir = os.path.join(models_dir, \"tflite\")\n",
    "if not os.path.exists(tflite_models_dir):\n",
    "    os.mkdir(tflite_models_dir)\n",
    "\n",
    "tflite_micro_models_dir = os.path.join(models_dir, \"tflite_micro\")\n",
    "if not os.path.exists(tflite_micro_models_dir):\n",
    "    os.mkdir(tflite_micro_models_dir)\n",
    "\n",
    "float_32_tfl_model_filename = os.path.join(tflite_models_dir, \"float_32.tfl\")\n",
    "float_16_tfl_model_filename = os.path.join(tflite_models_dir, \"float_16.tfl\")\n",
    "quantized_no_aware_tfl_model_filename = os.path.join(tflite_models_dir, \"quantized_no_aware.tfl\")\n",
    "tfl_cc_model_filename = os.path.join(tflite_micro_models_dir, \"model.cc\")\n",
    "\n",
    "# Save the trained model\n",
    "model.save(saved_model_filename)"
   ]
  },
  {
   "cell_type": "markdown",
   "metadata": {
    "id": "nBtnZqmJ2F2l"
   },
   "source": [
    "## Post-training quantization\n",
    "\n",
    "The accuracy attained by the model is fairly decent and fulfils the requirements set at the beginning of the project (~80%). Although there is still room for experimentation to perform more Hyperparameter Tuning to enhance the overall model metrics, it is fair to say that the model seems to be ready for deployment in order to carry out some real-life tests. \n",
    "\n",
    "As a first step, let's apply post-training quantization (PTQ) which can easily give us a first sight of how well we can shrink the model down, gaining an improvement in size and latency reduction at the cost of some accuracy loss.\n",
    "\n",
    "If after PTQ the drop in accuracy is not within acceptable limits, we will explore other techniques to help the model *recover* its accuracy."
   ]
  },
  {
   "cell_type": "code",
   "execution_count": null,
   "metadata": {
    "id": "8_epn7Df3FkI"
   },
   "outputs": [],
   "source": [
    "def convert_and_save_model(original_model_filename, output_filename, \n",
    "                           optimize=False, integer_only=False):\n",
    "\n",
    "    converter = tf.lite.TFLiteConverter.from_saved_model(original_model_filename)\n",
    "\n",
    "    if optimize:\n",
    "        converter.optimizations = [tf.lite.Optimize.DEFAULT]\n",
    "\n",
    "        if integer_only:\n",
    "            converter.inference_input_type = tf.int8\n",
    "            converter.inference_output_type = tf.int8\n",
    "            converter.target_spec.supported_ops = [tf.lite.OpsSet.TFLITE_BUILTINS_INT8]\n",
    "       \n",
    "            DATA_SAMPLE_SIZE = 100\n",
    "\n",
    "            # Small chunk of dataset for model input, activations and model output calibration\n",
    "            def representative_data_gen():\n",
    "                df_sample = np.array(df.sample(DATA_SAMPLE_SIZE), dtype=np.float32)\n",
    "\n",
    "                for row in range(DATA_SAMPLE_SIZE):\n",
    "                    ret = df_sample[row][:-1]  # take all the columns except for labels\n",
    "                    yield [ret.reshape(1, ret.shape[0])]  # the input must be 1 \n",
    "\n",
    "\n",
    "            converter.representative_dataset = representative_data_gen\n",
    "\n",
    "        else:\n",
    "            # It reduces model size by up to half, causing minimal loss in accuracy at the cost of not reduction in latency\n",
    "            converter.target_spec.supported_types = [tf.float16]\n",
    "            \n",
    "\n",
    "    model_tflite = converter.convert()\n",
    "\n",
    "    # Save the model to disk\n",
    "    open(output_filename, \"wb\").write(model_tflite)"
   ]
  },
  {
   "cell_type": "code",
   "execution_count": null,
   "metadata": {
    "id": "CkgVoMBZA-Qn"
   },
   "outputs": [],
   "source": [
    "convert_and_save_model(saved_model_filename, float_32_tfl_model_filename)\n",
    "convert_and_save_model(saved_model_filename, quantized_no_aware_tfl_model_filename, optimize=True, integer_only=True)\n",
    "convert_and_save_model(saved_model_filename, float_16_tfl_model_filename, optimize=True)"
   ]
  },
  {
   "cell_type": "markdown",
   "metadata": {
    "id": "O9vIj8gL2c-7"
   },
   "source": [
    "The generated `quantized model` depicts a **x4** times reduction in size compared to the `float model` (orginial version).\n",
    "\n",
    "So far so good. Let's see how much the penalty has been for the accuracy metric."
   ]
  },
  {
   "cell_type": "markdown",
   "metadata": {
    "id": "tXz8aBRpsy4Y"
   },
   "source": [
    "### Testing the accuracy after Quantization\n",
    "\n",
    "Verify that the model we have exported is still accurate, using the TF Lite Python API and our test set."
   ]
  },
  {
   "cell_type": "code",
   "execution_count": null,
   "metadata": {
    "id": "zeAGJmwzsz7U"
   },
   "outputs": [],
   "source": [
    "# Helper function to run inference\n",
    "def run_tflite_inference_test(tflite_model_path, model_type=\"Float\", verbose=True):\n",
    "    \n",
    "    # --- Load test data    \n",
    "    SAMPLES = 10000\n",
    "    test_data = np.array(test_df.sample(SAMPLES)).reshape(SAMPLES, test_df.shape[1])\n",
    "    \n",
    "    test_samples = np.zeros((SAMPLES, test_data.shape[1]-1), dtype=np.float32)\n",
    "    test_labels = np.zeros((SAMPLES, 1), dtype=np.float32)\n",
    "    \n",
    "    for row in range(SAMPLES):\n",
    "        test_labels[row] = test_data[row][-1:]\n",
    "        test_samples[row] = test_data[row][:-1]\n",
    "\n",
    "    test_samples = np.expand_dims(test_samples, axis=1).astype(np.float32)\n",
    "    \n",
    "    # --- Initialize the interpreter\n",
    "    interpreter = tf.lite.Interpreter(tflite_model_path)\n",
    "    interpreter.allocate_tensors()\n",
    "    input_details = interpreter.get_input_details()[0]\n",
    "    output_details = interpreter.get_output_details()[0]\n",
    "    \n",
    "    \n",
    "    # --- For quantized models, manually quantize the input data from float to integer    \n",
    "    if model_type == \"Quantized\":\n",
    "        input_scale, input_zero_point = input_details[\"quantization\"]\n",
    "        test_samples = test_samples / input_scale + input_zero_point\n",
    "        test_samples = test_samples.astype(input_details[\"dtype\"])\n",
    "\n",
    "    \n",
    "    # --- Evaluate the predictions    \n",
    "    correct_predictions = 0\n",
    "    for i in range(len(test_samples)):\n",
    "        interpreter.set_tensor(input_details[\"index\"], test_samples[i])\n",
    "        interpreter.invoke()\n",
    "        output = interpreter.get_tensor(output_details[\"index\"])[0]\n",
    "        top_prediction = output.argmax()\n",
    "        correct_predictions += (top_prediction == test_labels[i])\n",
    "\n",
    "    acc = ((correct_predictions * 100) / len(test_samples))[0]\n",
    "    \n",
    "    if verbose:\n",
    "        print(f'{model_type} model accuracy is {acc:.2f} % after {len(test_samples)} test samples')\n",
    "\n",
    "    return acc"
   ]
  },
  {
   "cell_type": "code",
   "execution_count": null,
   "metadata": {
    "colab": {
     "base_uri": "https://localhost:8080/"
    },
    "executionInfo": {
     "elapsed": 523,
     "status": "ok",
     "timestamp": 1628156403156,
     "user": {
      "displayName": "Carlos Gil",
      "photoUrl": "",
      "userId": "12309568779801871703"
     },
     "user_tz": -120
    },
    "id": "Iu5Rv26ps4yO",
    "outputId": "b9ab2ac3-d8c1-4715-c9de-79120464ab61"
   },
   "outputs": [
    {
     "name": "stdout",
     "output_type": "stream",
     "text": [
      "Float model accuracy is 80.69 % after 10000 test samples\n",
      "Quantized model accuracy is 47.57 % after 10000 test samples\n",
      "Float model accuracy is 80.28 % after 10000 test samples\n"
     ]
    },
    {
     "data": {
      "text/plain": [
       "80.28"
      ]
     },
     "execution_count": 48,
     "metadata": {
      "tags": []
     },
     "output_type": "execute_result"
    }
   ],
   "source": [
    "# Compute float model accuracy\n",
    "run_tflite_inference_test(float_32_tfl_model_filename)\n",
    "\n",
    "# Compute quantized model accuracy\n",
    "run_tflite_inference_test(quantized_no_aware_tfl_model_filename, model_type='Quantized')\n",
    "\n",
    "# Compute quantized model accuracy\n",
    "run_tflite_inference_test(float_16_tfl_model_filename)"
   ]
  },
  {
   "cell_type": "markdown",
   "metadata": {
    "id": "hyZQkAj41ulM"
   },
   "source": [
    "We can see the quantized model has decreased accuracy significantly. Let's display these results more neatly in a comparative table."
   ]
  },
  {
   "cell_type": "code",
   "execution_count": null,
   "metadata": {
    "id": "bPTwuvsV2TNd"
   },
   "outputs": [],
   "source": [
    "def draw_comparative_table(*models_to_compare):\n",
    "\n",
    "    model_name = []\n",
    "    model_size = []\n",
    "    model_acc = []\n",
    "    rows = []\n",
    "\n",
    "    for i, model in enumerate(models_to_compare):\n",
    "\n",
    "        model_name.append(os.path.basename(model))\n",
    "        model_size.append(os.path.getsize(model))\n",
    "\n",
    "        model_type = 'Quantized' if model_name[i].startswith('q') else 'Float'\n",
    "        \n",
    "        model_acc.append(run_tflite_inference_test(model, model_type=model_type, verbose=False))\n",
    "\n",
    "\n",
    "    for model in range(len(models_to_compare)):\n",
    "        rows.append(\n",
    "            [model_name[model], f\"{model_size[model]} bytes\", f'{model_acc[model]} %']\n",
    "        )\n",
    "    \n",
    "    return pd.DataFrame.from_records(rows, columns = [\"Model\", \"Size\", \"Accuracy\"])"
   ]
  },
  {
   "cell_type": "code",
   "execution_count": null,
   "metadata": {
    "colab": {
     "base_uri": "https://localhost:8080/",
     "height": 142
    },
    "executionInfo": {
     "elapsed": 799,
     "status": "ok",
     "timestamp": 1628161575808,
     "user": {
      "displayName": "Carlos Gil",
      "photoUrl": "",
      "userId": "12309568779801871703"
     },
     "user_tz": -120
    },
    "id": "Vp7YtCmN-igb",
    "outputId": "e4cf460a-5301-4656-8356-2a73d6400ff7"
   },
   "outputs": [
    {
     "data": {
      "text/html": [
       "<div>\n",
       "<style scoped>\n",
       "    .dataframe tbody tr th:only-of-type {\n",
       "        vertical-align: middle;\n",
       "    }\n",
       "\n",
       "    .dataframe tbody tr th {\n",
       "        vertical-align: top;\n",
       "    }\n",
       "\n",
       "    .dataframe thead th {\n",
       "        text-align: right;\n",
       "    }\n",
       "</style>\n",
       "<table border=\"1\" class=\"dataframe\">\n",
       "  <thead>\n",
       "    <tr style=\"text-align: right;\">\n",
       "      <th></th>\n",
       "      <th>Model</th>\n",
       "      <th>Size</th>\n",
       "      <th>Accuracy</th>\n",
       "    </tr>\n",
       "  </thead>\n",
       "  <tbody>\n",
       "    <tr>\n",
       "      <th>0</th>\n",
       "      <td>float_32.tfl</td>\n",
       "      <td>80532 bytes</td>\n",
       "      <td>79.95 %</td>\n",
       "    </tr>\n",
       "    <tr>\n",
       "      <th>1</th>\n",
       "      <td>quantized_no_aware.tfl</td>\n",
       "      <td>23400 bytes</td>\n",
       "      <td>46.87 %</td>\n",
       "    </tr>\n",
       "    <tr>\n",
       "      <th>2</th>\n",
       "      <td>float_16.tfl</td>\n",
       "      <td>42768 bytes</td>\n",
       "      <td>80.58 %</td>\n",
       "    </tr>\n",
       "  </tbody>\n",
       "</table>\n",
       "</div>"
      ],
      "text/plain": [
       "                    Model         Size Accuracy\n",
       "0            float_32.tfl  80532 bytes  79.95 %\n",
       "1  quantized_no_aware.tfl  23400 bytes  46.87 %\n",
       "2            float_16.tfl  42768 bytes  80.58 %"
      ]
     },
     "execution_count": 106,
     "metadata": {
      "tags": []
     },
     "output_type": "execute_result"
    }
   ],
   "source": [
    "draw_comparative_table(\n",
    "    float_32_tfl_model_filename, \n",
    "    quantized_no_aware_tfl_model_filename, \n",
    "    float_16_tfl_model_filename\n",
    ")"
   ]
  },
  {
   "cell_type": "markdown",
   "metadata": {
    "id": "0IPeTN-vza9C"
   },
   "source": [
    "There are some key points to note here from these results. \n",
    "\n",
    "The size reduction for both optimized models is not far from what was expected: **x4** times for the fully quantized model (conversion from 32 to 8 bits) and **x2** times for the 16-bit floating point model (conversion from 32 to 16 bits).\n",
    "\n",
    "Conversely, the accuracy results show some notable changes. While the 16-bit model keeps the accuracy high, the fully quantized model shows an undesirable drop in accuracy.\n",
    "\n",
    "At this point, it is worth trying to shrink the model's size as much as we can, since the x4 reduction of the full quantized model is still appealing. If reducing more does not help keeping accuracy reasonably high, we will then retain the 16 bit model."
   ]
  },
  {
   "cell_type": "markdown",
   "metadata": {
    "id": "wAUi42m91yp2"
   },
   "source": [
    "## Applying Quantization Aware Training\n",
    "\n",
    "As applying only PTQ has affected negatively the model metrics, we now proceed to apply Quantization Aware Training (QAT). This will require making a copy of the original model's structure and training it again but emulating inference-time quantization beforehand. This will raise the RNN's awareness of an upcoming quantization after training."
   ]
  },
  {
   "cell_type": "code",
   "execution_count": null,
   "metadata": {
    "id": "9gPrLSJdMC_y"
   },
   "outputs": [],
   "source": [
    "!pip install --upgrade tensorflow-model-optimization\n",
    "import tensorflow_model_optimization as tfmot"
   ]
  },
  {
   "cell_type": "code",
   "execution_count": null,
   "metadata": {
    "colab": {
     "base_uri": "https://localhost:8080/"
    },
    "executionInfo": {
     "elapsed": 221,
     "status": "ok",
     "timestamp": 1628158444582,
     "user": {
      "displayName": "Carlos Gil",
      "photoUrl": "",
      "userId": "12309568779801871703"
     },
     "user_tz": -120
    },
    "id": "bm0oyUv41x-8",
    "outputId": "0a192114-b5b3-4c33-c1de-ed95ad96b144"
   },
   "outputs": [
    {
     "name": "stdout",
     "output_type": "stream",
     "text": [
      "Model: \"sequential\"\n",
      "_________________________________________________________________\n",
      "Layer (type)                 Output Shape              Param #   \n",
      "=================================================================\n",
      "quantize_layer_1 (QuantizeLa (None, 14)                3         \n",
      "_________________________________________________________________\n",
      "quant_dense (QuantizeWrapper (None, 32)                485       \n",
      "_________________________________________________________________\n",
      "quant_dense_1 (QuantizeWrapp (None, 64)                2117      \n",
      "_________________________________________________________________\n",
      "quant_dense_2 (QuantizeWrapp (None, 128)               8325      \n",
      "_________________________________________________________________\n",
      "quant_dense_3 (QuantizeWrapp (None, 64)                8261      \n",
      "_________________________________________________________________\n",
      "quant_dropout (QuantizeWrapp (None, 64)                1         \n",
      "_________________________________________________________________\n",
      "quant_dense_4 (QuantizeWrapp (None, 5)                 330       \n",
      "=================================================================\n",
      "Total params: 19,522\n",
      "Trainable params: 19,493\n",
      "Non-trainable params: 29\n",
      "_________________________________________________________________\n"
     ]
    }
   ],
   "source": [
    "q_aware_model = tf.keras.models.clone_model(model)\n",
    "\n",
    "q_aware_model = tfmot.quantization.keras.quantize_model(q_aware_model)\n",
    "\n",
    "q_aware_model.compile(loss='categorical_crossentropy', optimizer='adam', metrics=['accuracy'])\n",
    "\n",
    "q_aware_model.summary()"
   ]
  },
  {
   "cell_type": "code",
   "execution_count": null,
   "metadata": {
    "id": "hawVwqBDAVA2"
   },
   "outputs": [],
   "source": [
    "q_aware_model.fit(\n",
    "    x_train, \n",
    "    y_train, \n",
    "    validation_data=(x_val, y_val), \n",
    "    epochs=NUM_EPOCHS, \n",
    "    batch_size=180, \n",
    "    verbose=1, \n",
    "    callbacks=[early_stopping]\n",
    ")"
   ]
  },
  {
   "cell_type": "code",
   "execution_count": null,
   "metadata": {
    "colab": {
     "base_uri": "https://localhost:8080/",
     "height": 573
    },
    "executionInfo": {
     "elapsed": 14064,
     "status": "ok",
     "timestamp": 1628156732484,
     "user": {
      "displayName": "Carlos Gil",
      "photoUrl": "",
      "userId": "12309568779801871703"
     },
     "user_tz": -120
    },
    "id": "cM-mAd0yDhfn",
    "outputId": "20fe6666-78e9-4e17-bdd1-1296ae103c24"
   },
   "outputs": [
    {
     "data": {
      "image/png": "[encoded data removed]",
      "text/plain": [
       "<Figure size 432x288 with 1 Axes>"
      ]
     },
     "metadata": {
      "needs_background": "light",
      "tags": []
     },
     "output_type": "display_data"
    },
    {
     "data": {
      "image/png": "[encoded data removed]",
      "text/plain": [
       "<Figure size 432x288 with 1 Axes>"
      ]
     },
     "metadata": {
      "needs_background": "light",
      "tags": []
     },
     "output_type": "display_data"
    }
   ],
   "source": [
    "# Summarize history for accuracy\n",
    "plt.plot(history.history['accuracy'])\n",
    "plt.plot(history.history['val_accuracy'])\n",
    "plt.title('q_aware_model accuracy')\n",
    "plt.ylabel('accuracy')\n",
    "plt.xlabel('epoch')\n",
    "plt.legend(['train', 'validation'], loc='upper left')\n",
    "plt.show()\n",
    "\n",
    "# Summarize history for loss\n",
    "plt.plot(history.history['loss'])\n",
    "plt.plot(history.history['val_loss'])\n",
    "plt.title('q_aware_model loss')\n",
    "plt.ylabel('loss')\n",
    "plt.xlabel('epoch')\n",
    "plt.legend(['train', 'validation'], loc='upper left')\n",
    "plt.show()"
   ]
  },
  {
   "cell_type": "code",
   "execution_count": null,
   "metadata": {
    "colab": {
     "base_uri": "https://localhost:8080/"
    },
    "executionInfo": {
     "elapsed": 4280,
     "status": "ok",
     "timestamp": 1628159080194,
     "user": {
      "displayName": "Carlos Gil",
      "photoUrl": "",
      "userId": "12309568779801871703"
     },
     "user_tz": -120
    },
    "id": "1mmud-JCD1Zc",
    "outputId": "135731ec-de9a-4230-c65e-ead92649f510"
   },
   "outputs": [
    {
     "name": "stderr",
     "output_type": "stream",
     "text": [
      "WARNING:absl:Found untraced functions such as dense_layer_call_fn, dense_layer_call_and_return_conditional_losses, dense_1_layer_call_fn, dense_1_layer_call_and_return_conditional_losses, dense_2_layer_call_fn while saving (showing 5 of 30). These functions will not be directly callable after loading.\n"
     ]
    },
    {
     "name": "stdout",
     "output_type": "stream",
     "text": [
      "INFO:tensorflow:Assets written to: models/tf_aware_model/assets\n"
     ]
    },
    {
     "name": "stderr",
     "output_type": "stream",
     "text": [
      "INFO:tensorflow:Assets written to: models/tf_aware_model/assets\n"
     ]
    },
    {
     "name": "stdout",
     "output_type": "stream",
     "text": [
      "Quantized model accuracy is 65.17 % after 10000 test samples\n"
     ]
    },
    {
     "data": {
      "text/plain": [
       "65.17"
      ]
     },
     "execution_count": 70,
     "metadata": {
      "tags": []
     },
     "output_type": "execute_result"
    }
   ],
   "source": [
    "saved_aware_model_filename = os.path.join(models_dir, \"tf_aware_model\")\n",
    "q_aware_model.save(saved_aware_model_filename)\n",
    "\n",
    "quantized_tfl_model_filename = os.path.join(tflite_models_dir, \"quantized.tfl\")\n",
    "convert_and_save_model(saved_aware_model_filename, quantized_tfl_model_filename, optimize=True, integer_only=True)\n",
    "\n",
    "run_tflite_inference_test(quantized_tfl_model_filename, model_type='Quantized')"
   ]
  },
  {
   "cell_type": "markdown",
   "metadata": {
    "id": "KKWFG1fDMbiW"
   },
   "source": [
    "As we can see, QAT has helped make the model resilient before applying post-training quantization. This accuracy looks very promising for a model x4 times smaller than the original one."
   ]
  },
  {
   "cell_type": "markdown",
   "metadata": {
    "id": "pbdkKI8NWjqR"
   },
   "source": [
    "## Model comparison\n",
    "Displaying all the created models thus far for comparison between size and accuracy."
   ]
  },
  {
   "cell_type": "code",
   "execution_count": null,
   "metadata": {
    "colab": {
     "base_uri": "https://localhost:8080/",
     "height": 172
    },
    "executionInfo": {
     "elapsed": 1027,
     "status": "ok",
     "timestamp": 1628161581576,
     "user": {
      "displayName": "Carlos Gil",
      "photoUrl": "",
      "userId": "12309568779801871703"
     },
     "user_tz": -120
    },
    "id": "Dv8uaGVd8Ugm",
    "outputId": "27759782-864f-4f68-9edc-dcf9970397c9"
   },
   "outputs": [
    {
     "data": {
      "text/html": [
       "<div>\n",
       "<style scoped>\n",
       "    .dataframe tbody tr th:only-of-type {\n",
       "        vertical-align: middle;\n",
       "    }\n",
       "\n",
       "    .dataframe tbody tr th {\n",
       "        vertical-align: top;\n",
       "    }\n",
       "\n",
       "    .dataframe thead th {\n",
       "        text-align: right;\n",
       "    }\n",
       "</style>\n",
       "<table border=\"1\" class=\"dataframe\">\n",
       "  <thead>\n",
       "    <tr style=\"text-align: right;\">\n",
       "      <th></th>\n",
       "      <th>Model</th>\n",
       "      <th>Size</th>\n",
       "      <th>Accuracy</th>\n",
       "    </tr>\n",
       "  </thead>\n",
       "  <tbody>\n",
       "    <tr>\n",
       "      <th>0</th>\n",
       "      <td>float_32.tfl</td>\n",
       "      <td>80532 bytes</td>\n",
       "      <td>80.81 %</td>\n",
       "    </tr>\n",
       "    <tr>\n",
       "      <th>1</th>\n",
       "      <td>float_16.tfl</td>\n",
       "      <td>42768 bytes</td>\n",
       "      <td>80.23 %</td>\n",
       "    </tr>\n",
       "    <tr>\n",
       "      <th>2</th>\n",
       "      <td>quantized_no_aware.tfl</td>\n",
       "      <td>23400 bytes</td>\n",
       "      <td>47.58 %</td>\n",
       "    </tr>\n",
       "    <tr>\n",
       "      <th>3</th>\n",
       "      <td>quantized.tfl</td>\n",
       "      <td>23816 bytes</td>\n",
       "      <td>65.88 %</td>\n",
       "    </tr>\n",
       "  </tbody>\n",
       "</table>\n",
       "</div>"
      ],
      "text/plain": [
       "                    Model         Size Accuracy\n",
       "0            float_32.tfl  80532 bytes  80.81 %\n",
       "1            float_16.tfl  42768 bytes  80.23 %\n",
       "2  quantized_no_aware.tfl  23400 bytes  47.58 %\n",
       "3           quantized.tfl  23816 bytes  65.88 %"
      ]
     },
     "execution_count": 107,
     "metadata": {
      "tags": []
     },
     "output_type": "execute_result"
    }
   ],
   "source": [
    "draw_comparative_table(\n",
    "    float_32_tfl_model_filename, \n",
    "    float_16_tfl_model_filename, \n",
    "    quantized_no_aware_tfl_model_filename, \n",
    "    quantized_tfl_model_filename)"
   ]
  },
  {
   "cell_type": "markdown",
   "metadata": {
    "id": "q5oPig6uElSo"
   },
   "source": [
    "Taking this into account, we can assure that QAT proves to be an essential component for our model, contributing to a significant increase in accuracy while keeping its size tiny.\n",
    "\n",
    "The model then is ready to be deployed into a microcontroller and start making inferences!"
   ]
  },
  {
   "cell_type": "markdown",
   "metadata": {
    "id": "u7PsJxCTrS-i"
   },
   "source": [
    "## Generate TensorFlow Lite for Microcontrollers Model\n",
    "Using the ```xxd``` tool to convert the ```.tflite``` TensorFlow Lite quantized model into a ```.cc``` C source file, that can be loaded by TensorFlow Lite for Microcontrollers on the Arduino."
   ]
  },
  {
   "cell_type": "code",
   "execution_count": null,
   "metadata": {
    "id": "r6MKIgEJc0Jq"
   },
   "outputs": [],
   "source": [
    "!apt-get update && apt-get -qq install xxd"
   ]
  },
  {
   "cell_type": "code",
   "execution_count": null,
   "metadata": {
    "id": "jVpJKLoyrSip"
   },
   "outputs": [],
   "source": [
    "# Convert to a C source file, i.e, a TensorFlow Lite for Microcontrollers model\n",
    "!xxd -i {quantized_tfl_model_filename} > {tfl_cc_model_filename}\n",
    "\n",
    "# Update variable names\n",
    "REPLACE_TEXT = quantized_tfl_model_filename.replace('/', '_').replace('.', '_')\n",
    "!sed -i 's/'{REPLACE_TEXT}'/smart_alarm_model/g' {tfl_cc_model_filename}"
   ]
  },
  {
   "cell_type": "code",
   "execution_count": null,
   "metadata": {
    "id": "WmbQDJGD1gyw"
   },
   "outputs": [],
   "source": [
    "# save all models created in a zip\n",
    "!zip -r models.zip ./models/"
   ]
  },
  {
   "cell_type": "code",
   "execution_count": null,
   "metadata": {
    "id": "5nIaGoslqZnM"
   },
   "outputs": [],
   "source": [
    "# Save the C source file in mcu directory to include in Arduino sketch\n",
    "!cat {tfl_cc_model_filename} > ./mcu/smart_alarm_model.txt"
   ]
  },
  {
   "cell_type": "markdown",
   "metadata": {
    "id": "vWAY-cecQpL4"
   },
   "source": [
    "###### Generate samples for microcontroller\n",
    "\n",
    "The following cell only needs to be run for test purposes in the microcontroller.\n",
    "\n",
    "Extracting a random number of samples from the dataset in a C++ syntax-format to test how well the model infers once deployed in the microcontroller. The generated file is meant to be used in the `test_smart_alarm.ino`. \n",
    "\n",
    "For more information about this file and where it is used, refer to the corresponding [directory](https://github.com/cargilgar/Smart-Alarm-using-tinyML/tree/main/src/arduino/test_smart_alarm)."
   ]
  },
  {
   "cell_type": "code",
   "execution_count": null,
   "metadata": {
    "id": "wzowZQDuQpL4"
   },
   "outputs": [],
   "source": [
    "# The saved test file (data_samples.txt) should be copied to data_sample.h array. \n",
    "\n",
    "DATA_SAMPLE_SIZE = 1000\n",
    "\n",
    "df_sample = np.array(df.sample(DATA_SAMPLE_SIZE), dtype=np.float32)\n",
    "\n",
    "data_samples_filename = os.path.join(mcu_dir, 'data_samples.txt')\n",
    "\n",
    "with open(data_samples_filename, 'w') as file:\n",
    "\n",
    "    columns_header = \"/* \" + str(df.columns) + \" */\\n\\n\"\n",
    "    file.write(columns_header)\n",
    "\n",
    "    text = \"float samples[number_of_samples]{\\n\\t\"\n",
    "\n",
    "    for row in range(DATA_SAMPLE_SIZE):\n",
    "        ret = df_sample[row]\n",
    "\n",
    "        for column in range(ret.shape[0]-1):\n",
    "            \n",
    "            # Convert it to string in standard notation (not scientific) and with 4 decimals.            \n",
    "            text += str(\"%.4f\" % ret[column]) + \", \"\n",
    "\n",
    "        else:\n",
    "            # Append label without decimals\n",
    "            string_value = str(ret[14])           \n",
    "            text += string_value[:-2] + \",\\n\\t\"\n",
    "\n",
    "    text = text[:-3]\n",
    "\n",
    "    text += \"\\n};\\n\\n uint32_t number_of_samples = \" + str(DATA_SAMPLE_SIZE*df.shape[1]) + \";\"\n",
    "\n",
    "    file.write(text)\n",
    "\n",
    "\n",
    "# Or print it in the output cell if you wish, by uncommenting this line below.    \n",
    "# !cat ./mcu/data_samples.txt"
   ]
  }
 ],
 "metadata": {
  "colab": {
   "collapsed_sections": [],
   "name": "tflite_model_training_DNN.ipynb",
   "provenance": []
  },
  "kernelspec": {
   "display_name": "Python 3",
   "language": "python",
   "name": "python3"
  },
  "language_info": {
   "codemirror_mode": {
    "name": "ipython",
    "version": 3
   },
   "file_extension": ".py",
   "mimetype": "text/x-python",
   "name": "python",
   "nbconvert_exporter": "python",
   "pygments_lexer": "ipython3",
   "version": "3.8.5"
  }
 },
 "nbformat": 4,
 "nbformat_minor": 1
}
