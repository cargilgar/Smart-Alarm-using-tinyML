{
 "cells": [
  {
   "cell_type": "code",
   "execution_count": 16,
   "id": "forbidden-forty",
   "metadata": {},
   "outputs": [],
   "source": [
    "import pandas as pd\n",
    "import matplotlib.pyplot as plt\n",
    "import numpy as np\n",
    "import os"
   ]
  },
  {
   "cell_type": "code",
   "execution_count": 22,
   "id": "expanded-flood",
   "metadata": {},
   "outputs": [],
   "source": [
    "# Preparing paths\n",
    "data_path = \"C:\\dev\\DATA\\MRH\"\n",
    "\n",
    "heart_rate_path = os.path.join(data_path, \"heart_rate\")\n",
    "\n",
    "motion_path = os.path.join(data_path, \"motion\")\n",
    "\n",
    "labels_path = os.path.join(data_path, \"labels\")\n",
    "\n",
    "# Obtaining a list with all users\n",
    "heart_rate_list = os.listdir(heart_rate_path)\n",
    "motion_list = os.listdir(motion_path)\n",
    "labels_list = os.listdir(labels_path)\n",
    "\n",
    "# Checking that we have data of the 31 users in all the lists created\n",
    "assert len(heart_rate_list) == 31, \"Error, missing users in heart rate list\"\n",
    "assert len(motion_list) == 31, \"Error, missing users in motion list\"\n",
    "assert len(labels_list) == 31, \"Error, missing users in labels list\""
   ]
  },
  {
   "cell_type": "code",
   "execution_count": 40,
   "id": "hungry-worker",
   "metadata": {},
   "outputs": [
    {
     "data": {
      "text/plain": [
       "('1066528_labeled_sleep.txt',\n",
       " '1066528_acceleration.txt',\n",
       " '1066528_heartrate.txt')"
      ]
     },
     "execution_count": 40,
     "metadata": {},
     "output_type": "execute_result"
    }
   ],
   "source": [
    "labels_list[0], motion_list[0], heart_rate_list[0]"
   ]
  },
  {
   "cell_type": "code",
   "execution_count": 29,
   "id": "random-conflict",
   "metadata": {},
   "outputs": [
    {
     "data": {
      "text/plain": [
       "array([[    0.,     0.],\n",
       "       [   30.,     0.],\n",
       "       [   60.,     0.],\n",
       "       ...,\n",
       "       [28470.,     0.],\n",
       "       [28500.,     0.],\n",
       "       [28530.,     0.]])"
      ]
     },
     "execution_count": 29,
     "metadata": {},
     "output_type": "execute_result"
    }
   ],
   "source": [
    "user_1_labels = np.loadtxt(os.path.join(labels_path, labels_list[0]))\n",
    "\n",
    "user_1_labels"
   ]
  },
  {
   "cell_type": "code",
   "execution_count": 39,
   "id": "known-welding",
   "metadata": {},
   "outputs": [
    {
     "data": {
      "text/plain": [
       "array([[-2.16848465e+04,  7.08010000e-03,  6.40900000e-04,\n",
       "        -9.87594600e-01],\n",
       "       [-2.16848171e+04,  4.15040000e-03,  6.25600000e-04,\n",
       "        -9.90554800e-01],\n",
       "       [-2.16848079e+04,  4.15040000e-03,  1.11390000e-03,\n",
       "        -9.90081800e-01],\n",
       "       ...,\n",
       "       [ 2.86265419e+04, -5.52734400e-01, -2.99988000e-02,\n",
       "        -8.10440100e-01],\n",
       "       [ 2.86265428e+04, -5.53710900e-01, -3.05023000e-02,\n",
       "        -8.11431900e-01],\n",
       "       [ 2.86265436e+04, -5.54718000e-01, -2.99988000e-02,\n",
       "        -8.09021000e-01]])"
      ]
     },
     "execution_count": 39,
     "metadata": {},
     "output_type": "execute_result"
    }
   ],
   "source": [
    "user_1_motion = np.loadtxt(os.path.join(motion_path, motion_list[0]))\n",
    "\n",
    "user_1_motion"
   ]
  },
  {
   "cell_type": "code",
   "execution_count": 38,
   "id": "terminal-conviction",
   "metadata": {},
   "outputs": [
    {
     "data": {
      "text/plain": [
       "array([[-3.55241740e+05,  8.60000000e+01],\n",
       "       [-3.51407999e+05,  6.70000000e+01],\n",
       "       [-3.51277368e+05,  1.41000000e+02],\n",
       "       ...,\n",
       "       [ 2.91101643e+04,  7.50000000e+01],\n",
       "       [ 3.43346538e+04,  8.10000000e+01],\n",
       "       [ 3.44911535e+04,  6.50000000e+01]])"
      ]
     },
     "execution_count": 38,
     "metadata": {},
     "output_type": "execute_result"
    }
   ],
   "source": [
    "user_1_heart_rate = np.loadtxt(os.path.join(heart_rate_path, heart_rate_list[0]), delimiter=',')\n",
    "\n",
    "user_1_heart_rate"
   ]
  }
 ],
 "metadata": {
  "kernelspec": {
   "display_name": "Python 3",
   "language": "python",
   "name": "python3"
  },
  "language_info": {
   "codemirror_mode": {
    "name": "ipython",
    "version": 3
   },
   "file_extension": ".py",
   "mimetype": "text/x-python",
   "name": "python",
   "nbconvert_exporter": "python",
   "pygments_lexer": "ipython3",
   "version": "3.8.5"
  }
 },
 "nbformat": 4,
 "nbformat_minor": 5
}
