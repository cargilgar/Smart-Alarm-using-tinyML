{
 "cells": [
  {
   "cell_type": "code",
   "execution_count": 1,
   "id": "forbidden-forty",
   "metadata": {},
   "outputs": [],
   "source": [
    "import pandas as pd\n",
    "import matplotlib.pyplot as plt\n",
    "import numpy as np\n",
    "import os"
   ]
  },
  {
   "cell_type": "markdown",
   "id": "stylish-wages",
   "metadata": {},
   "source": [
    "Steps:\n",
    "\n",
    "- Download and unzip the dataset\n",
    "- Load the files\n",
    "- Pre-process the loaded files (crop to keep the part of interest)\n",
    "- Merge files from each user selecting a specific window time frame.\n",
    "- Export the resulting file to `.csv`.\n",
    "- Repeat the process for all the users."
   ]
  },
  {
   "cell_type": "code",
   "execution_count": 2,
   "id": "expanded-flood",
   "metadata": {},
   "outputs": [],
   "source": [
    "def load_files(path):\n",
    "    # Preparing paths\n",
    "    data_path = \"C:\\dev\\DATA\\MRH\"\n",
    "\n",
    "    motion_path = os.path.join(data_path, \"motion\")\n",
    "\n",
    "    heart_rate_path = os.path.join(data_path, \"heart_rate\")\n",
    "\n",
    "    labels_path = os.path.join(data_path, \"labels\")\n",
    "\n",
    "    # Obtaining a list with all users\n",
    "    motion_list = os.listdir(motion_path)\n",
    "    heart_rate_list = os.listdir(heart_rate_path)\n",
    "    labels_list = os.listdir(labels_path)\n",
    "\n",
    "    # Checking that we have data of the 31 users in all the lists created\n",
    "    assert len(motion_list) == 31, \"Error, missing users in motion list\"\n",
    "    assert len(heart_rate_list) == 31, \"Error, missing users in heart rate list\"\n",
    "    assert len(labels_list) == 31, \"Error, missing users in labels list\""
   ]
  },
  {
   "cell_type": "code",
   "execution_count": 3,
   "id": "hungry-worker",
   "metadata": {},
   "outputs": [
    {
     "data": {
      "text/plain": [
       "('1066528_acceleration.txt',\n",
       " '1066528_heartrate.txt',\n",
       " '1066528_labeled_sleep.txt')"
      ]
     },
     "execution_count": 3,
     "metadata": {},
     "output_type": "execute_result"
    }
   ],
   "source": [
    "motion_list[0], heart_rate_list[0], labels_list[0]"
   ]
  },
  {
   "cell_type": "code",
   "execution_count": 98,
   "id": "known-welding",
   "metadata": {},
   "outputs": [
    {
     "data": {
      "text/plain": [
       "array([[-2.16848465e+04,  7.08010000e-03,  6.40900000e-04,\n",
       "        -9.87594600e-01],\n",
       "       [-2.16848171e+04,  4.15040000e-03,  6.25600000e-04,\n",
       "        -9.90554800e-01],\n",
       "       [-2.16848079e+04,  4.15040000e-03,  1.11390000e-03,\n",
       "        -9.90081800e-01],\n",
       "       ...,\n",
       "       [ 2.86265419e+04, -5.52734400e-01, -2.99988000e-02,\n",
       "        -8.10440100e-01],\n",
       "       [ 2.86265428e+04, -5.53710900e-01, -3.05023000e-02,\n",
       "        -8.11431900e-01],\n",
       "       [ 2.86265436e+04, -5.54718000e-01, -2.99988000e-02,\n",
       "        -8.09021000e-01]])"
      ]
     },
     "execution_count": 98,
     "metadata": {},
     "output_type": "execute_result"
    }
   ],
   "source": [
    "user_1_motion = np.loadtxt(os.path.join(motion_path, motion_list[0]))\n",
    "\n",
    "user_1_motion"
   ]
  },
  {
   "cell_type": "code",
   "execution_count": 99,
   "id": "terminal-conviction",
   "metadata": {},
   "outputs": [
    {
     "data": {
      "text/plain": [
       "array([[-3.55241740e+05,  8.60000000e+01],\n",
       "       [-3.51407999e+05,  6.70000000e+01],\n",
       "       [-3.51277368e+05,  1.41000000e+02],\n",
       "       ...,\n",
       "       [ 2.91101643e+04,  7.50000000e+01],\n",
       "       [ 3.43346538e+04,  8.10000000e+01],\n",
       "       [ 3.44911535e+04,  6.50000000e+01]])"
      ]
     },
     "execution_count": 99,
     "metadata": {},
     "output_type": "execute_result"
    }
   ],
   "source": [
    "user_1_heart_rate = np.loadtxt(os.path.join(heart_rate_path, heart_rate_list[0]), delimiter=',')\n",
    "\n",
    "user_1_heart_rate"
   ]
  },
  {
   "cell_type": "code",
   "execution_count": 121,
   "id": "random-conflict",
   "metadata": {},
   "outputs": [
    {
     "data": {
      "text/plain": [
       "array([[    0.,     0.],\n",
       "       [   30.,     0.],\n",
       "       [   60.,     0.],\n",
       "       ...,\n",
       "       [28470.,     0.],\n",
       "       [28500.,     0.],\n",
       "       [28530.,     0.]])"
      ]
     },
     "execution_count": 121,
     "metadata": {},
     "output_type": "execute_result"
    }
   ],
   "source": [
    "user_1_labels = np.loadtxt(os.path.join(labels_path, labels_list[0]))\n",
    "\n",
    "user_1_labels"
   ]
  },
  {
   "cell_type": "code",
   "execution_count": 124,
   "id": "earlier-contractor",
   "metadata": {},
   "outputs": [],
   "source": [
    "def generate_dataset(motion, heart_rate, labels, interval=5):\n",
    "    '''\n",
    "    It accepts the three lists to be merged into one. Interval stands for the time in seconds of windowing.\n",
    "    '''\n",
    "    \n",
    "    # Cropping the 3 lists to their initial offset\n",
    "    motion = np.delete(motion, crop_to_offset(motion), axis=0)\n",
    "    heart_rate = np.delete(heart_rate, crop_to_offset(heart_rate), axis=0)\n",
    "    labels = np.delete(labels, crop_to_offset(labels), axis=0) # labels do not need to be cropped, but just in case.\n",
    "    \n",
    "    print(np.size(motion, 0))\n",
    "    print(np.size(heart_rate, 0))\n",
    "    print(np.size(labels, 0))"
   ]
  },
  {
   "cell_type": "markdown",
   "id": "touched-zimbabwe",
   "metadata": {},
   "source": [
    "The raw data recorded from the Apple Watch contains continiuous measurements of one or more days, including the last night.\n",
    "\n",
    "Since the data corresponding to the last night underwent a proper labelling from the PSG results, it is necessary to crop the raw data only to that night (this applies to motion data and heart rate data).\n",
    "\n",
    "Therefore, the function `crop_to_offset()` will handle this. This function finds the last night measured within the array passed and returns another array holding the indexes which have to be removed from the original array. Next, the `np.delete()` function will take this returned array to perform the actual cropping."
   ]
  },
  {
   "cell_type": "code",
   "execution_count": 118,
   "id": "diagnostic-cooperative",
   "metadata": {},
   "outputs": [],
   "source": [
    "def crop_to_offset(array):\n",
    "    '''\n",
    "    This function accpets a numpy array and it performs the following tasks:\n",
    "     - It gets a reversed version of it.\n",
    "     - It iterates over the reversed array until finding the first negative from the column 0 (corresponding to time).\n",
    "     - It takes the index where it took place and relates it to where it is located in the non-reversed array.\n",
    "     - Returns back another array holding the values of all the indexes from 0 until the index found.\n",
    " \n",
    "    '''\n",
    "\n",
    "    array_size = np.size(array, 0)\n",
    "    reversed_array = array[::-1]\n",
    "    index_to_crop = 0\n",
    "    \n",
    "    for item in range(array_size):\n",
    "        if reversed_array[item][0] < 0:\n",
    "            # arr = np.delete(arr, index, axis=0)\n",
    "            # my_list.append(index)\n",
    "            index_to_crop = array_size - item\n",
    "            \n",
    "            # array = array[index_to_crop:]\n",
    "            \n",
    "            # array = np.delete(array, np.arange(0, index_to_crop), axis=0)\n",
    "            break\n",
    "    \n",
    "    return np.arange(0, index_to_crop)\n",
    "    # return index_to_crop"
   ]
  },
  {
   "cell_type": "code",
   "execution_count": 120,
   "id": "vocational-aluminum",
   "metadata": {},
   "outputs": [
    {
     "name": "stdout",
     "output_type": "stream",
     "text": [
      "1188331\n",
      "4968\n",
      "952\n"
     ]
    }
   ],
   "source": [
    "generate_dataset(user_1_motion, user_1_heart_rate, user_1_labels)"
   ]
  },
  {
   "cell_type": "code",
   "execution_count": 4,
   "id": "homeless-biotechnology",
   "metadata": {},
   "outputs": [
    {
     "data": {
      "text/plain": [
       "' \\nTo do next: \\n    change crop_to_offset to return the index values instead of an array.\\n    Crop to when the user finished sleeping??\\n    finish merge_lists()\\n    relate length of the smallest list to the other lists\\n    divide within interval of time. \\n    \\n'"
      ]
     },
     "execution_count": 4,
     "metadata": {},
     "output_type": "execute_result"
    }
   ],
   "source": [
    "''' \n",
    "To do next: \n",
    "    change crop_to_offset to return the index values instead of an array.\n",
    "    Crop to when the user finished sleeping??\n",
    "    finish merge_lists()\n",
    "    relate length of the smallest list to the other lists\n",
    "    divide within interval of time. \n",
    "    \n",
    "'''"
   ]
  }
 ],
 "metadata": {
  "kernelspec": {
   "display_name": "Python 3",
   "language": "python",
   "name": "python3"
  },
  "language_info": {
   "codemirror_mode": {
    "name": "ipython",
    "version": 3
   },
   "file_extension": ".py",
   "mimetype": "text/x-python",
   "name": "python",
   "nbconvert_exporter": "python",
   "pygments_lexer": "ipython3",
   "version": "3.8.5"
  }
 },
 "nbformat": 4,
 "nbformat_minor": 5
}
